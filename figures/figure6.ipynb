{
 "cells": [
  {
   "cell_type": "code",
   "execution_count": 1,
   "metadata": {},
   "outputs": [],
   "source": [
    "import sys\n",
    "import pandas as pd\n",
    "import altair as alt"
   ]
  },
  {
   "cell_type": "code",
   "execution_count": 2,
   "metadata": {},
   "outputs": [],
   "source": [
    "success_table=pd.read_csv(\"fig6_input.txt\", sep='\\t')\n",
    "RUN_TYPES = ['filtered_exomiser_default', 'noN_filtered_15_85_human_revel_mvp_alphaM_spliceAI_noWL']\n",
    "success_table=success_table.fillna(-20)\n"
   ]
  },
  {
   "cell_type": "code",
   "execution_count": null,
   "metadata": {},
   "outputs": [],
   "source": [
    "mapping = pd.read_csv('GS_ID_mapping.csv')\n",
    "mapped= []\n",
    "for i, row in success_table.iterrows():\n",
    "    ID = row['ID']\n",
    "    mapped_id = mapping[mapping['ID']==ID]['Dumb_ID'].item()\n",
    "    mapped.append(mapped_id)\n",
    "success_table['Dumb_ID'] = mapped"
   ]
  },
  {
   "cell_type": "code",
   "execution_count": 3,
   "metadata": {},
   "outputs": [],
   "source": [
    "def default_vs_fit(unfiltered_run_type, filtered_run_type, success_table, limit,domain):\n",
    "    data = []\n",
    "    to_plot = []\n",
    "    big_change=[]\n",
    "    plot3=[]\n",
    "    for i, patient_row in success_table.iterrows():\n",
    "        ID = patient_row['Dumb_ID']\n",
    "        unfiltered_rank = patient_row['Variant_Level_noMOI_rank_' + unfiltered_run_type]\n",
    "        filtered_rank = patient_row['Variant_Level_noMOI_rank_' + filtered_run_type]\n",
    "        if filtered_rank == 'N/A':\n",
    "            filtered_rank = 0\n",
    "        difference = abs(unfiltered_rank - filtered_rank)\n",
    "       \n",
    "        if unfiltered_rank > limit and filtered_rank <= limit and filtered_rank >0:\n",
    "           \n",
    "            to_plot.append(ID)\n",
    "                # if difference >30:\n",
    "                #     to_plot.append(ID)\n",
    "        if unfiltered_rank <0:\n",
    "            if unfiltered_rank != filtered_rank:\n",
    "                if filtered_rank <= limit and filtered_rank > 0:\n",
    "                    to_plot.append(ID)\n",
    "\n",
    "        # if unfiltered_rank < filtered_rank:\n",
    "        #     to_plot.append(ID)\n",
    "\n",
    "        data.append([ID, unfiltered_rank, difference, str(unfiltered_run_type)])\n",
    "        data.append([ID, filtered_rank, difference, str(filtered_run_type)])\n",
    "\n",
    "    df = pd.DataFrame(data, columns=['ID', 'Rank', 'Diff', 'RunType'])\n",
    "    print(len(to_plot) + len(big_change))\n",
    "\n",
    "\n",
    "    source = df[df['ID'].isin(to_plot)].sort_values(by=['Rank'], ascending=False)\n",
    "    order = list(source['ID'])\n",
    "    print(len(source)/2)\n",
    "    rank_changes = alt.Chart(source).mark_circle(size=100, filled=True, stroke='black',opacity=1, strokeWidth=1).encode(\n",
    "        x=alt.X('ID', sort=order,axis=alt.Axis(labelAngle=-60)),\n",
    "        y=alt.Y('Rank', title='Exomiser Rank of Causative Variant'),#, scale=alt.Scale(domain=[0,29.1])),\n",
    "        color=alt.Color('RunType',  scale=alt.Scale(scheme='set1', domain=domain), legend=alt.Legend(\n",
    "        orient='top',\n",
    "        direction='horizontal',\n",
    "        titleAnchor='middle')),\n",
    "        tooltip = ['RunType', 'ID', 'Rank', 'Diff']\n",
    "    ).properties(\n",
    "        height=250,\n",
    "        width=150\n",
    "    )\n",
    "\n",
    "    source = df[df['ID'].isin(plot3)].sort_values(by='Diff', ascending=False)\n",
    "    order = list(source['ID'])\n",
    "    print(len(source)/2)\n",
    "    \n",
    "\n",
    "    return df, to_plot, big_change, rank_changes\n",
    "\n"
   ]
  },
  {
   "cell_type": "code",
   "execution_count": 4,
   "metadata": {},
   "outputs": [
    {
     "name": "stdout",
     "output_type": "stream",
     "text": [
      "69\n",
      "70.0\n",
      "0.0\n"
     ]
    }
   ],
   "source": [
    "data = []\n",
    "to_plot = []\n",
    "domain = ['','filtered_exomiser_default','noN_filtered_15_85_human_revel_mvp_alphaM_spliceAI_noWL']\n",
    "\n",
    "unfiltered_run_type = 'filtered_exomiser_default'\n",
    "filtered_run_type = 'noN_filtered_15_85_human_revel_mvp_alphaM_spliceAI_noWL'\n",
    "df, to_plot, big_change,rank_changes_gs_exomiser = default_vs_fit(unfiltered_run_type,filtered_run_type,success_table,  10, domain)\n"
   ]
  },
  {
   "cell_type": "code",
   "execution_count": 5,
   "metadata": {},
   "outputs": [
    {
     "data": {
      "text/html": [
       "\n",
       "<style>\n",
       "  #altair-viz-7b6038a3feae43b9aa901126eef59136.vega-embed {\n",
       "    width: 100%;\n",
       "    display: flex;\n",
       "  }\n",
       "\n",
       "  #altair-viz-7b6038a3feae43b9aa901126eef59136.vega-embed details,\n",
       "  #altair-viz-7b6038a3feae43b9aa901126eef59136.vega-embed details summary {\n",
       "    position: relative;\n",
       "  }\n",
       "</style>\n",
       "<div id=\"altair-viz-7b6038a3feae43b9aa901126eef59136\"></div>\n",
       "<script type=\"text/javascript\">\n",
       "  var VEGA_DEBUG = (typeof VEGA_DEBUG == \"undefined\") ? {} : VEGA_DEBUG;\n",
       "  (function(spec, embedOpt){\n",
       "    let outputDiv = document.currentScript.previousElementSibling;\n",
       "    if (outputDiv.id !== \"altair-viz-7b6038a3feae43b9aa901126eef59136\") {\n",
       "      outputDiv = document.getElementById(\"altair-viz-7b6038a3feae43b9aa901126eef59136\");\n",
       "    }\n",
       "    const paths = {\n",
       "      \"vega\": \"https://cdn.jsdelivr.net/npm/vega@5?noext\",\n",
       "      \"vega-lib\": \"https://cdn.jsdelivr.net/npm/vega-lib?noext\",\n",
       "      \"vega-lite\": \"https://cdn.jsdelivr.net/npm/vega-lite@5.17.0?noext\",\n",
       "      \"vega-embed\": \"https://cdn.jsdelivr.net/npm/vega-embed@6?noext\",\n",
       "    };\n",
       "\n",
       "    function maybeLoadScript(lib, version) {\n",
       "      var key = `${lib.replace(\"-\", \"\")}_version`;\n",
       "      return (VEGA_DEBUG[key] == version) ?\n",
       "        Promise.resolve(paths[lib]) :\n",
       "        new Promise(function(resolve, reject) {\n",
       "          var s = document.createElement('script');\n",
       "          document.getElementsByTagName(\"head\")[0].appendChild(s);\n",
       "          s.async = true;\n",
       "          s.onload = () => {\n",
       "            VEGA_DEBUG[key] = version;\n",
       "            return resolve(paths[lib]);\n",
       "          };\n",
       "          s.onerror = () => reject(`Error loading script: ${paths[lib]}`);\n",
       "          s.src = paths[lib];\n",
       "        });\n",
       "    }\n",
       "\n",
       "    function showError(err) {\n",
       "      outputDiv.innerHTML = `<div class=\"error\" style=\"color:red;\">${err}</div>`;\n",
       "      throw err;\n",
       "    }\n",
       "\n",
       "    function displayChart(vegaEmbed) {\n",
       "      vegaEmbed(outputDiv, spec, embedOpt)\n",
       "        .catch(err => showError(`Javascript Error: ${err.message}<br>This usually means there's a typo in your chart specification. See the javascript console for the full traceback.`));\n",
       "    }\n",
       "\n",
       "    if(typeof define === \"function\" && define.amd) {\n",
       "      requirejs.config({paths});\n",
       "      require([\"vega-embed\"], displayChart, err => showError(`Error loading script: ${err.message}`));\n",
       "    } else {\n",
       "      maybeLoadScript(\"vega\", \"5\")\n",
       "        .then(() => maybeLoadScript(\"vega-lite\", \"5.17.0\"))\n",
       "        .then(() => maybeLoadScript(\"vega-embed\", \"6\"))\n",
       "        .catch(showError)\n",
       "        .then(() => displayChart(vegaEmbed));\n",
       "    }\n",
       "  })({\"config\": {\"view\": {\"continuousWidth\": 300, \"continuousHeight\": 300}}, \"data\": {\"name\": \"data-b38377cc04c0e6c998df869bb2bc89b7\"}, \"mark\": {\"type\": \"circle\", \"filled\": true, \"opacity\": 1, \"size\": 100, \"stroke\": \"black\", \"strokeWidth\": 1}, \"encoding\": {\"color\": {\"field\": \"RunType\", \"legend\": {\"direction\": \"horizontal\", \"orient\": \"top\", \"titleAnchor\": \"middle\"}, \"scale\": {\"domain\": [\"\", \"filtered_exomiser_default\", \"noN_filtered_15_85_human_revel_mvp_alphaM_spliceAI_noWL\"], \"scheme\": \"set1\"}, \"type\": \"nominal\"}, \"tooltip\": [{\"field\": \"RunType\", \"type\": \"nominal\"}, {\"field\": \"ID\", \"type\": \"nominal\"}, {\"field\": \"Rank\", \"type\": \"quantitative\"}, {\"field\": \"Diff\", \"type\": \"quantitative\"}], \"x\": {\"axis\": {\"labelAngle\": -60}, \"field\": \"ID\", \"sort\": [\"UDN38_VARS2\", \"UDN340_KMT2D\", \"UDN74_MORC2\", \"UDN60_COG4\", \"UDN249_IL6ST\", \"UDN82_FITM2\", \"UDN82_FITM2\", \"UDN249_IL6ST\", \"UDN47_TBCD\", \"UDN47_TBCD\", \"UDN207_CHD3\", \"UDN265_PARN\", \"UDN101_RHOBTB2\", \"UDN227_ENG\", \"UDN386_TTI1\", \"UDN386_TTI1\", \"UDN213_FLCN\", \"UDN380_RRAS2\", \"UDN185_MED12L\", \"UDN117_ZNF865\", \"UDN136_UGP2\", \"UDN108_ATP6V0A1\", \"UDN61_HTRA1\", \"UDN128_H4C5\", \"UDN48_TCIRG1\", \"UDN402_H4C5\", \"UDN349_MPEG1\", \"UDN346_PUS7\", \"UDN346_PUS7\", \"UDN50_PRPS1\", \"UDN145_LARP7\", \"UDN145_LARP7\", \"UDN194_ACOX1\", \"UDN260_TUBB4B\", \"UDN397_TNPO2\", \"UDN53_WARS2\", \"UDN53_WARS2\", \"UDN252_CLTC\", \"UDN20_FCSK\", \"UDN170_WARS2\", \"UDN170_WARS2\", \"UDN114_GABRG2\", \"UDN20_FCSK\", \"UDN186_WDR37\", \"UDN72_FAT4\", \"UDN72_FAT4\", \"UDN49_ANK3\", \"UDN49_ANK3\", \"UDN322_GDF11\", \"UDN339_VAMP2\", \"UDN396_VPS13D\", \"UDN396_VPS13D\", \"UDN12_KLF7\", \"UDN18_ABCA2\", \"UDN18_ABCA2\", \"UDN347_COX20\", \"UDN347_COX20\", \"UDN171_SEPSECS\", \"UDN171_SEPSECS\", \"UDN320_SGSH\", \"UDN320_SGSH\", \"UDN283_SPG7\", \"UDN354_PLS3\", \"UDN25_BARD1\", \"UDN168_PRDM16\", \"UDN312_C1R\", \"UDN213_FLCN\", \"UDN340_KMT2D\", \"UDN47_TBCD\", \"UDN47_TBCD\", \"UDN25_BARD1\", \"UDN128_H4C5\", \"UDN145_LARP7\", \"UDN12_KLF7\", \"UDN145_LARP7\", \"UDN117_ZNF865\", \"UDN170_WARS2\", \"UDN170_WARS2\", \"UDN38_VARS2\", \"UDN48_TCIRG1\", \"UDN171_SEPSECS\", \"UDN171_SEPSECS\", \"UDN348_ALG1\", \"UDN380_RRAS2\", \"UDN72_FAT4\", \"UDN72_FAT4\", \"UDN185_MED12L\", \"UDN168_PRDM16\", \"UDN49_ANK3\", \"UDN49_ANK3\", \"UDN82_FITM2\", \"UDN402_H4C5\", \"UDN82_FITM2\", \"UDN136_UGP2\", \"UDN50_PRPS1\", \"UDN260_TUBB4B\", \"UDN249_IL6ST\", \"UDN61_HTRA1\", \"UDN354_PLS3\", \"UDN227_ENG\", \"UDN20_FCSK\", \"UDN20_FCSK\", \"UDN108_ATP6V0A1\", \"UDN349_MPEG1\", \"UDN320_SGSH\", \"UDN320_SGSH\", \"UDN207_CHD3\", \"UDN386_TTI1\", \"UDN74_MORC2\", \"UDN60_COG4\", \"UDN312_C1R\", \"UDN18_ABCA2\", \"UDN322_GDF11\", \"UDN101_RHOBTB2\", \"UDN386_TTI1\", \"UDN396_VPS13D\", \"UDN252_CLTC\", \"UDN396_VPS13D\", \"UDN18_ABCA2\", \"UDN114_GABRG2\", \"UDN186_WDR37\", \"UDN397_TNPO2\", \"UDN290_SLC35A2\", \"UDN348_ALG1\", \"UDN348_ALG1\", \"UDN310_SCN8A\", \"UDN283_SPG7\", \"UDN265_PARN\", \"UDN339_VAMP2\", \"UDN194_ACOX1\", \"UDN53_WARS2\", \"UDN346_PUS7\", \"UDN53_WARS2\", \"UDN346_PUS7\", \"UDN347_COX20\", \"UDN249_IL6ST\", \"UDN347_COX20\", \"UDN290_SLC35A2\", \"UDN310_SCN8A\", \"UDN348_ALG1\"], \"type\": \"nominal\"}, \"y\": {\"field\": \"Rank\", \"title\": \"Exomiser Rank of Causative Variant\", \"type\": \"quantitative\"}}, \"height\": 300, \"width\": 800, \"$schema\": \"https://vega.github.io/schema/vega-lite/v5.17.0.json\", \"datasets\": {\"data-b38377cc04c0e6c998df869bb2bc89b7\": [{\"ID\": \"UDN38_VARS2\", \"Rank\": 125.0, \"Diff\": 118.0, \"RunType\": \"filtered_exomiser_default\"}, {\"ID\": \"UDN340_KMT2D\", \"Rank\": 117.0, \"Diff\": 108.0, \"RunType\": \"filtered_exomiser_default\"}, {\"ID\": \"UDN74_MORC2\", \"Rank\": 114.0, \"Diff\": 112.0, \"RunType\": \"filtered_exomiser_default\"}, {\"ID\": \"UDN60_COG4\", \"Rank\": 92.0, \"Diff\": 90.0, \"RunType\": \"filtered_exomiser_default\"}, {\"ID\": \"UDN249_IL6ST\", \"Rank\": 73.0, \"Diff\": 69.0, \"RunType\": \"filtered_exomiser_default\"}, {\"ID\": \"UDN82_FITM2\", \"Rank\": 70.0, \"Diff\": 65.0, \"RunType\": \"filtered_exomiser_default\"}, {\"ID\": \"UDN82_FITM2\", \"Rank\": 70.0, \"Diff\": 65.0, \"RunType\": \"filtered_exomiser_default\"}, {\"ID\": \"UDN249_IL6ST\", \"Rank\": 69.0, \"Diff\": 68.0, \"RunType\": \"filtered_exomiser_default\"}, {\"ID\": \"UDN47_TBCD\", \"Rank\": 57.0, \"Diff\": 49.0, \"RunType\": \"filtered_exomiser_default\"}, {\"ID\": \"UDN47_TBCD\", \"Rank\": 57.0, \"Diff\": 49.0, \"RunType\": \"filtered_exomiser_default\"}, {\"ID\": \"UDN207_CHD3\", \"Rank\": 55.0, \"Diff\": 52.0, \"RunType\": \"filtered_exomiser_default\"}, {\"ID\": \"UDN265_PARN\", \"Rank\": 52.0, \"Diff\": 51.0, \"RunType\": \"filtered_exomiser_default\"}, {\"ID\": \"UDN101_RHOBTB2\", \"Rank\": 48.0, \"Diff\": 46.0, \"RunType\": \"filtered_exomiser_default\"}, {\"ID\": \"UDN227_ENG\", \"Rank\": 47.0, \"Diff\": 44.0, \"RunType\": \"filtered_exomiser_default\"}, {\"ID\": \"UDN386_TTI1\", \"Rank\": 45.0, \"Diff\": 43.0, \"RunType\": \"filtered_exomiser_default\"}, {\"ID\": \"UDN386_TTI1\", \"Rank\": 45.0, \"Diff\": 43.0, \"RunType\": \"filtered_exomiser_default\"}, {\"ID\": \"UDN213_FLCN\", \"Rank\": 42.0, \"Diff\": 32.0, \"RunType\": \"filtered_exomiser_default\"}, {\"ID\": \"UDN380_RRAS2\", \"Rank\": 41.0, \"Diff\": 35.0, \"RunType\": \"filtered_exomiser_default\"}, {\"ID\": \"UDN185_MED12L\", \"Rank\": 41.0, \"Diff\": 35.0, \"RunType\": \"filtered_exomiser_default\"}, {\"ID\": \"UDN117_ZNF865\", \"Rank\": 37.0, \"Diff\": 30.0, \"RunType\": \"filtered_exomiser_default\"}, {\"ID\": \"UDN136_UGP2\", \"Rank\": 34.0, \"Diff\": 29.0, \"RunType\": \"filtered_exomiser_default\"}, {\"ID\": \"UDN108_ATP6V0A1\", \"Rank\": 34.0, \"Diff\": 31.0, \"RunType\": \"filtered_exomiser_default\"}, {\"ID\": \"UDN61_HTRA1\", \"Rank\": 34.0, \"Diff\": 30.0, \"RunType\": \"filtered_exomiser_default\"}, {\"ID\": \"UDN128_H4C5\", \"Rank\": 33.0, \"Diff\": 25.0, \"RunType\": \"filtered_exomiser_default\"}, {\"ID\": \"UDN48_TCIRG1\", \"Rank\": 29.0, \"Diff\": 23.0, \"RunType\": \"filtered_exomiser_default\"}, {\"ID\": \"UDN402_H4C5\", \"Rank\": 28.0, \"Diff\": 23.0, \"RunType\": \"filtered_exomiser_default\"}, {\"ID\": \"UDN349_MPEG1\", \"Rank\": 27.0, \"Diff\": 24.0, \"RunType\": \"filtered_exomiser_default\"}, {\"ID\": \"UDN346_PUS7\", \"Rank\": 26.0, \"Diff\": 25.0, \"RunType\": \"filtered_exomiser_default\"}, {\"ID\": \"UDN346_PUS7\", \"Rank\": 26.0, \"Diff\": 25.0, \"RunType\": \"filtered_exomiser_default\"}, {\"ID\": \"UDN50_PRPS1\", \"Rank\": 24.0, \"Diff\": 19.0, \"RunType\": \"filtered_exomiser_default\"}, {\"ID\": \"UDN145_LARP7\", \"Rank\": 24.0, \"Diff\": 16.0, \"RunType\": \"filtered_exomiser_default\"}, {\"ID\": \"UDN145_LARP7\", \"Rank\": 24.0, \"Diff\": 16.0, \"RunType\": \"filtered_exomiser_default\"}, {\"ID\": \"UDN194_ACOX1\", \"Rank\": 22.0, \"Diff\": 21.0, \"RunType\": \"filtered_exomiser_default\"}, {\"ID\": \"UDN260_TUBB4B\", \"Rank\": 21.0, \"Diff\": 17.0, \"RunType\": \"filtered_exomiser_default\"}, {\"ID\": \"UDN397_TNPO2\", \"Rank\": 20.0, \"Diff\": 19.0, \"RunType\": \"filtered_exomiser_default\"}, {\"ID\": \"UDN53_WARS2\", \"Rank\": 18.0, \"Diff\": 17.0, \"RunType\": \"filtered_exomiser_default\"}, {\"ID\": \"UDN53_WARS2\", \"Rank\": 18.0, \"Diff\": 17.0, \"RunType\": \"filtered_exomiser_default\"}, {\"ID\": \"UDN252_CLTC\", \"Rank\": 17.0, \"Diff\": 15.0, \"RunType\": \"filtered_exomiser_default\"}, {\"ID\": \"UDN20_FCSK\", \"Rank\": 17.0, \"Diff\": 14.0, \"RunType\": \"filtered_exomiser_default\"}, {\"ID\": \"UDN170_WARS2\", \"Rank\": 17.0, \"Diff\": 10.0, \"RunType\": \"filtered_exomiser_default\"}, {\"ID\": \"UDN170_WARS2\", \"Rank\": 17.0, \"Diff\": 10.0, \"RunType\": \"filtered_exomiser_default\"}, {\"ID\": \"UDN114_GABRG2\", \"Rank\": 17.0, \"Diff\": 16.0, \"RunType\": \"filtered_exomiser_default\"}, {\"ID\": \"UDN20_FCSK\", \"Rank\": 17.0, \"Diff\": 14.0, \"RunType\": \"filtered_exomiser_default\"}, {\"ID\": \"UDN186_WDR37\", \"Rank\": 17.0, \"Diff\": 16.0, \"RunType\": \"filtered_exomiser_default\"}, {\"ID\": \"UDN72_FAT4\", \"Rank\": 16.0, \"Diff\": 10.0, \"RunType\": \"filtered_exomiser_default\"}, {\"ID\": \"UDN72_FAT4\", \"Rank\": 16.0, \"Diff\": 10.0, \"RunType\": \"filtered_exomiser_default\"}, {\"ID\": \"UDN49_ANK3\", \"Rank\": 16.0, \"Diff\": 11.0, \"RunType\": \"filtered_exomiser_default\"}, {\"ID\": \"UDN49_ANK3\", \"Rank\": 16.0, \"Diff\": 11.0, \"RunType\": \"filtered_exomiser_default\"}, {\"ID\": \"UDN322_GDF11\", \"Rank\": 15.0, \"Diff\": 13.0, \"RunType\": \"filtered_exomiser_default\"}, {\"ID\": \"UDN339_VAMP2\", \"Rank\": 14.0, \"Diff\": 13.0, \"RunType\": \"filtered_exomiser_default\"}, {\"ID\": \"UDN396_VPS13D\", \"Rank\": 14.0, \"Diff\": 12.0, \"RunType\": \"filtered_exomiser_default\"}, {\"ID\": \"UDN396_VPS13D\", \"Rank\": 14.0, \"Diff\": 12.0, \"RunType\": \"filtered_exomiser_default\"}, {\"ID\": \"UDN12_KLF7\", \"Rank\": 14.0, \"Diff\": 6.0, \"RunType\": \"filtered_exomiser_default\"}, {\"ID\": \"UDN18_ABCA2\", \"Rank\": 14.0, \"Diff\": 12.0, \"RunType\": \"filtered_exomiser_default\"}, {\"ID\": \"UDN18_ABCA2\", \"Rank\": 14.0, \"Diff\": 12.0, \"RunType\": \"filtered_exomiser_default\"}, {\"ID\": \"UDN347_COX20\", \"Rank\": 13.0, \"Diff\": 12.0, \"RunType\": \"filtered_exomiser_default\"}, {\"ID\": \"UDN347_COX20\", \"Rank\": 13.0, \"Diff\": 12.0, \"RunType\": \"filtered_exomiser_default\"}, {\"ID\": \"UDN171_SEPSECS\", \"Rank\": 13.0, \"Diff\": 7.0, \"RunType\": \"filtered_exomiser_default\"}, {\"ID\": \"UDN171_SEPSECS\", \"Rank\": 13.0, \"Diff\": 7.0, \"RunType\": \"filtered_exomiser_default\"}, {\"ID\": \"UDN320_SGSH\", \"Rank\": 12.0, \"Diff\": 9.0, \"RunType\": \"filtered_exomiser_default\"}, {\"ID\": \"UDN320_SGSH\", \"Rank\": 12.0, \"Diff\": 9.0, \"RunType\": \"filtered_exomiser_default\"}, {\"ID\": \"UDN283_SPG7\", \"Rank\": 12.0, \"Diff\": 11.0, \"RunType\": \"filtered_exomiser_default\"}, {\"ID\": \"UDN354_PLS3\", \"Rank\": 12.0, \"Diff\": 9.0, \"RunType\": \"filtered_exomiser_default\"}, {\"ID\": \"UDN25_BARD1\", \"Rank\": 12.0, \"Diff\": 4.0, \"RunType\": \"filtered_exomiser_default\"}, {\"ID\": \"UDN168_PRDM16\", \"Rank\": 11.0, \"Diff\": 6.0, \"RunType\": \"filtered_exomiser_default\"}, {\"ID\": \"UDN312_C1R\", \"Rank\": 11.0, \"Diff\": 9.0, \"RunType\": \"filtered_exomiser_default\"}, {\"ID\": \"UDN213_FLCN\", \"Rank\": 10.0, \"Diff\": 32.0, \"RunType\": \"noN_filtered_15_85_human_revel_mvp_alphaM_spliceAI_noWL\"}, {\"ID\": \"UDN340_KMT2D\", \"Rank\": 9.0, \"Diff\": 108.0, \"RunType\": \"noN_filtered_15_85_human_revel_mvp_alphaM_spliceAI_noWL\"}, {\"ID\": \"UDN47_TBCD\", \"Rank\": 8.0, \"Diff\": 49.0, \"RunType\": \"noN_filtered_15_85_human_revel_mvp_alphaM_spliceAI_noWL\"}, {\"ID\": \"UDN47_TBCD\", \"Rank\": 8.0, \"Diff\": 49.0, \"RunType\": \"noN_filtered_15_85_human_revel_mvp_alphaM_spliceAI_noWL\"}, {\"ID\": \"UDN25_BARD1\", \"Rank\": 8.0, \"Diff\": 4.0, \"RunType\": \"noN_filtered_15_85_human_revel_mvp_alphaM_spliceAI_noWL\"}, {\"ID\": \"UDN128_H4C5\", \"Rank\": 8.0, \"Diff\": 25.0, \"RunType\": \"noN_filtered_15_85_human_revel_mvp_alphaM_spliceAI_noWL\"}, {\"ID\": \"UDN145_LARP7\", \"Rank\": 8.0, \"Diff\": 16.0, \"RunType\": \"noN_filtered_15_85_human_revel_mvp_alphaM_spliceAI_noWL\"}, {\"ID\": \"UDN12_KLF7\", \"Rank\": 8.0, \"Diff\": 6.0, \"RunType\": \"noN_filtered_15_85_human_revel_mvp_alphaM_spliceAI_noWL\"}, {\"ID\": \"UDN145_LARP7\", \"Rank\": 8.0, \"Diff\": 16.0, \"RunType\": \"noN_filtered_15_85_human_revel_mvp_alphaM_spliceAI_noWL\"}, {\"ID\": \"UDN117_ZNF865\", \"Rank\": 7.0, \"Diff\": 30.0, \"RunType\": \"noN_filtered_15_85_human_revel_mvp_alphaM_spliceAI_noWL\"}, {\"ID\": \"UDN170_WARS2\", \"Rank\": 7.0, \"Diff\": 10.0, \"RunType\": \"noN_filtered_15_85_human_revel_mvp_alphaM_spliceAI_noWL\"}, {\"ID\": \"UDN170_WARS2\", \"Rank\": 7.0, \"Diff\": 10.0, \"RunType\": \"noN_filtered_15_85_human_revel_mvp_alphaM_spliceAI_noWL\"}, {\"ID\": \"UDN38_VARS2\", \"Rank\": 7.0, \"Diff\": 118.0, \"RunType\": \"noN_filtered_15_85_human_revel_mvp_alphaM_spliceAI_noWL\"}, {\"ID\": \"UDN48_TCIRG1\", \"Rank\": 6.0, \"Diff\": 23.0, \"RunType\": \"noN_filtered_15_85_human_revel_mvp_alphaM_spliceAI_noWL\"}, {\"ID\": \"UDN171_SEPSECS\", \"Rank\": 6.0, \"Diff\": 7.0, \"RunType\": \"noN_filtered_15_85_human_revel_mvp_alphaM_spliceAI_noWL\"}, {\"ID\": \"UDN171_SEPSECS\", \"Rank\": 6.0, \"Diff\": 7.0, \"RunType\": \"noN_filtered_15_85_human_revel_mvp_alphaM_spliceAI_noWL\"}, {\"ID\": \"UDN348_ALG1\", \"Rank\": 6.0, \"Diff\": 5.0, \"RunType\": \"filtered_exomiser_default\"}, {\"ID\": \"UDN380_RRAS2\", \"Rank\": 6.0, \"Diff\": 35.0, \"RunType\": \"noN_filtered_15_85_human_revel_mvp_alphaM_spliceAI_noWL\"}, {\"ID\": \"UDN72_FAT4\", \"Rank\": 6.0, \"Diff\": 10.0, \"RunType\": \"noN_filtered_15_85_human_revel_mvp_alphaM_spliceAI_noWL\"}, {\"ID\": \"UDN72_FAT4\", \"Rank\": 6.0, \"Diff\": 10.0, \"RunType\": \"noN_filtered_15_85_human_revel_mvp_alphaM_spliceAI_noWL\"}, {\"ID\": \"UDN185_MED12L\", \"Rank\": 6.0, \"Diff\": 35.0, \"RunType\": \"noN_filtered_15_85_human_revel_mvp_alphaM_spliceAI_noWL\"}, {\"ID\": \"UDN168_PRDM16\", \"Rank\": 5.0, \"Diff\": 6.0, \"RunType\": \"noN_filtered_15_85_human_revel_mvp_alphaM_spliceAI_noWL\"}, {\"ID\": \"UDN49_ANK3\", \"Rank\": 5.0, \"Diff\": 11.0, \"RunType\": \"noN_filtered_15_85_human_revel_mvp_alphaM_spliceAI_noWL\"}, {\"ID\": \"UDN49_ANK3\", \"Rank\": 5.0, \"Diff\": 11.0, \"RunType\": \"noN_filtered_15_85_human_revel_mvp_alphaM_spliceAI_noWL\"}, {\"ID\": \"UDN82_FITM2\", \"Rank\": 5.0, \"Diff\": 65.0, \"RunType\": \"noN_filtered_15_85_human_revel_mvp_alphaM_spliceAI_noWL\"}, {\"ID\": \"UDN402_H4C5\", \"Rank\": 5.0, \"Diff\": 23.0, \"RunType\": \"noN_filtered_15_85_human_revel_mvp_alphaM_spliceAI_noWL\"}, {\"ID\": \"UDN82_FITM2\", \"Rank\": 5.0, \"Diff\": 65.0, \"RunType\": \"noN_filtered_15_85_human_revel_mvp_alphaM_spliceAI_noWL\"}, {\"ID\": \"UDN136_UGP2\", \"Rank\": 5.0, \"Diff\": 29.0, \"RunType\": \"noN_filtered_15_85_human_revel_mvp_alphaM_spliceAI_noWL\"}, {\"ID\": \"UDN50_PRPS1\", \"Rank\": 5.0, \"Diff\": 19.0, \"RunType\": \"noN_filtered_15_85_human_revel_mvp_alphaM_spliceAI_noWL\"}, {\"ID\": \"UDN260_TUBB4B\", \"Rank\": 4.0, \"Diff\": 17.0, \"RunType\": \"noN_filtered_15_85_human_revel_mvp_alphaM_spliceAI_noWL\"}, {\"ID\": \"UDN249_IL6ST\", \"Rank\": 4.0, \"Diff\": 69.0, \"RunType\": \"noN_filtered_15_85_human_revel_mvp_alphaM_spliceAI_noWL\"}, {\"ID\": \"UDN61_HTRA1\", \"Rank\": 4.0, \"Diff\": 30.0, \"RunType\": \"noN_filtered_15_85_human_revel_mvp_alphaM_spliceAI_noWL\"}, {\"ID\": \"UDN354_PLS3\", \"Rank\": 3.0, \"Diff\": 9.0, \"RunType\": \"noN_filtered_15_85_human_revel_mvp_alphaM_spliceAI_noWL\"}, {\"ID\": \"UDN227_ENG\", \"Rank\": 3.0, \"Diff\": 44.0, \"RunType\": \"noN_filtered_15_85_human_revel_mvp_alphaM_spliceAI_noWL\"}, {\"ID\": \"UDN20_FCSK\", \"Rank\": 3.0, \"Diff\": 14.0, \"RunType\": \"noN_filtered_15_85_human_revel_mvp_alphaM_spliceAI_noWL\"}, {\"ID\": \"UDN20_FCSK\", \"Rank\": 3.0, \"Diff\": 14.0, \"RunType\": \"noN_filtered_15_85_human_revel_mvp_alphaM_spliceAI_noWL\"}, {\"ID\": \"UDN108_ATP6V0A1\", \"Rank\": 3.0, \"Diff\": 31.0, \"RunType\": \"noN_filtered_15_85_human_revel_mvp_alphaM_spliceAI_noWL\"}, {\"ID\": \"UDN349_MPEG1\", \"Rank\": 3.0, \"Diff\": 24.0, \"RunType\": \"noN_filtered_15_85_human_revel_mvp_alphaM_spliceAI_noWL\"}, {\"ID\": \"UDN320_SGSH\", \"Rank\": 3.0, \"Diff\": 9.0, \"RunType\": \"noN_filtered_15_85_human_revel_mvp_alphaM_spliceAI_noWL\"}, {\"ID\": \"UDN320_SGSH\", \"Rank\": 3.0, \"Diff\": 9.0, \"RunType\": \"noN_filtered_15_85_human_revel_mvp_alphaM_spliceAI_noWL\"}, {\"ID\": \"UDN207_CHD3\", \"Rank\": 3.0, \"Diff\": 52.0, \"RunType\": \"noN_filtered_15_85_human_revel_mvp_alphaM_spliceAI_noWL\"}, {\"ID\": \"UDN386_TTI1\", \"Rank\": 2.0, \"Diff\": 43.0, \"RunType\": \"noN_filtered_15_85_human_revel_mvp_alphaM_spliceAI_noWL\"}, {\"ID\": \"UDN74_MORC2\", \"Rank\": 2.0, \"Diff\": 112.0, \"RunType\": \"noN_filtered_15_85_human_revel_mvp_alphaM_spliceAI_noWL\"}, {\"ID\": \"UDN60_COG4\", \"Rank\": 2.0, \"Diff\": 90.0, \"RunType\": \"noN_filtered_15_85_human_revel_mvp_alphaM_spliceAI_noWL\"}, {\"ID\": \"UDN312_C1R\", \"Rank\": 2.0, \"Diff\": 9.0, \"RunType\": \"noN_filtered_15_85_human_revel_mvp_alphaM_spliceAI_noWL\"}, {\"ID\": \"UDN18_ABCA2\", \"Rank\": 2.0, \"Diff\": 12.0, \"RunType\": \"noN_filtered_15_85_human_revel_mvp_alphaM_spliceAI_noWL\"}, {\"ID\": \"UDN322_GDF11\", \"Rank\": 2.0, \"Diff\": 13.0, \"RunType\": \"noN_filtered_15_85_human_revel_mvp_alphaM_spliceAI_noWL\"}, {\"ID\": \"UDN101_RHOBTB2\", \"Rank\": 2.0, \"Diff\": 46.0, \"RunType\": \"noN_filtered_15_85_human_revel_mvp_alphaM_spliceAI_noWL\"}, {\"ID\": \"UDN386_TTI1\", \"Rank\": 2.0, \"Diff\": 43.0, \"RunType\": \"noN_filtered_15_85_human_revel_mvp_alphaM_spliceAI_noWL\"}, {\"ID\": \"UDN396_VPS13D\", \"Rank\": 2.0, \"Diff\": 12.0, \"RunType\": \"noN_filtered_15_85_human_revel_mvp_alphaM_spliceAI_noWL\"}, {\"ID\": \"UDN252_CLTC\", \"Rank\": 2.0, \"Diff\": 15.0, \"RunType\": \"noN_filtered_15_85_human_revel_mvp_alphaM_spliceAI_noWL\"}, {\"ID\": \"UDN396_VPS13D\", \"Rank\": 2.0, \"Diff\": 12.0, \"RunType\": \"noN_filtered_15_85_human_revel_mvp_alphaM_spliceAI_noWL\"}, {\"ID\": \"UDN18_ABCA2\", \"Rank\": 2.0, \"Diff\": 12.0, \"RunType\": \"noN_filtered_15_85_human_revel_mvp_alphaM_spliceAI_noWL\"}, {\"ID\": \"UDN114_GABRG2\", \"Rank\": 1.0, \"Diff\": 16.0, \"RunType\": \"noN_filtered_15_85_human_revel_mvp_alphaM_spliceAI_noWL\"}, {\"ID\": \"UDN186_WDR37\", \"Rank\": 1.0, \"Diff\": 16.0, \"RunType\": \"noN_filtered_15_85_human_revel_mvp_alphaM_spliceAI_noWL\"}, {\"ID\": \"UDN397_TNPO2\", \"Rank\": 1.0, \"Diff\": 19.0, \"RunType\": \"noN_filtered_15_85_human_revel_mvp_alphaM_spliceAI_noWL\"}, {\"ID\": \"UDN290_SLC35A2\", \"Rank\": 1.0, \"Diff\": 21.0, \"RunType\": \"noN_filtered_15_85_human_revel_mvp_alphaM_spliceAI_noWL\"}, {\"ID\": \"UDN348_ALG1\", \"Rank\": 1.0, \"Diff\": 5.0, \"RunType\": \"noN_filtered_15_85_human_revel_mvp_alphaM_spliceAI_noWL\"}, {\"ID\": \"UDN348_ALG1\", \"Rank\": 1.0, \"Diff\": 21.0, \"RunType\": \"noN_filtered_15_85_human_revel_mvp_alphaM_spliceAI_noWL\"}, {\"ID\": \"UDN310_SCN8A\", \"Rank\": 1.0, \"Diff\": 21.0, \"RunType\": \"noN_filtered_15_85_human_revel_mvp_alphaM_spliceAI_noWL\"}, {\"ID\": \"UDN283_SPG7\", \"Rank\": 1.0, \"Diff\": 11.0, \"RunType\": \"noN_filtered_15_85_human_revel_mvp_alphaM_spliceAI_noWL\"}, {\"ID\": \"UDN265_PARN\", \"Rank\": 1.0, \"Diff\": 51.0, \"RunType\": \"noN_filtered_15_85_human_revel_mvp_alphaM_spliceAI_noWL\"}, {\"ID\": \"UDN339_VAMP2\", \"Rank\": 1.0, \"Diff\": 13.0, \"RunType\": \"noN_filtered_15_85_human_revel_mvp_alphaM_spliceAI_noWL\"}, {\"ID\": \"UDN194_ACOX1\", \"Rank\": 1.0, \"Diff\": 21.0, \"RunType\": \"noN_filtered_15_85_human_revel_mvp_alphaM_spliceAI_noWL\"}, {\"ID\": \"UDN53_WARS2\", \"Rank\": 1.0, \"Diff\": 17.0, \"RunType\": \"noN_filtered_15_85_human_revel_mvp_alphaM_spliceAI_noWL\"}, {\"ID\": \"UDN346_PUS7\", \"Rank\": 1.0, \"Diff\": 25.0, \"RunType\": \"noN_filtered_15_85_human_revel_mvp_alphaM_spliceAI_noWL\"}, {\"ID\": \"UDN53_WARS2\", \"Rank\": 1.0, \"Diff\": 17.0, \"RunType\": \"noN_filtered_15_85_human_revel_mvp_alphaM_spliceAI_noWL\"}, {\"ID\": \"UDN346_PUS7\", \"Rank\": 1.0, \"Diff\": 25.0, \"RunType\": \"noN_filtered_15_85_human_revel_mvp_alphaM_spliceAI_noWL\"}, {\"ID\": \"UDN347_COX20\", \"Rank\": 1.0, \"Diff\": 12.0, \"RunType\": \"noN_filtered_15_85_human_revel_mvp_alphaM_spliceAI_noWL\"}, {\"ID\": \"UDN249_IL6ST\", \"Rank\": 1.0, \"Diff\": 68.0, \"RunType\": \"noN_filtered_15_85_human_revel_mvp_alphaM_spliceAI_noWL\"}, {\"ID\": \"UDN347_COX20\", \"Rank\": 1.0, \"Diff\": 12.0, \"RunType\": \"noN_filtered_15_85_human_revel_mvp_alphaM_spliceAI_noWL\"}, {\"ID\": \"UDN290_SLC35A2\", \"Rank\": -20.0, \"Diff\": 21.0, \"RunType\": \"filtered_exomiser_default\"}, {\"ID\": \"UDN310_SCN8A\", \"Rank\": -20.0, \"Diff\": 21.0, \"RunType\": \"filtered_exomiser_default\"}, {\"ID\": \"UDN348_ALG1\", \"Rank\": -20.0, \"Diff\": 21.0, \"RunType\": \"filtered_exomiser_default\"}]}}, {\"mode\": \"vega-lite\"});\n",
       "</script>"
      ],
      "text/plain": [
       "alt.Chart(...)"
      ]
     },
     "execution_count": 5,
     "metadata": {},
     "output_type": "execute_result"
    }
   ],
   "source": [
    "rank_changes_gs_exomiser.properties(height=300,width=800)\n"
   ]
  },
  {
   "cell_type": "code",
   "execution_count": null,
   "metadata": {},
   "outputs": [],
   "source": []
  }
 ],
 "metadata": {
  "kernelspec": {
   "display_name": "base",
   "language": "python",
   "name": "python3"
  },
  "language_info": {
   "codemirror_mode": {
    "name": "ipython",
    "version": 3
   },
   "file_extension": ".py",
   "mimetype": "text/x-python",
   "name": "python",
   "nbconvert_exporter": "python",
   "pygments_lexer": "ipython3",
   "version": "3.12.2"
  }
 },
 "nbformat": 4,
 "nbformat_minor": 2
}
