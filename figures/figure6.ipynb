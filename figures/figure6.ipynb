{
 "cells": [
  {
   "cell_type": "code",
   "execution_count": null,
   "metadata": {},
   "outputs": [],
   "source": [
    "import pandas as pd\n",
    "import altair as alt\n",
    "import sys\n",
    "sys.path.append('figure_scripts/')\n",
    "import plot_scripts as ps"
   ]
  },
  {
   "cell_type": "code",
   "execution_count": null,
   "metadata": {},
   "outputs": [],
   "source": [
    "success_table = pd.read_csv('17_newly_diagnosed_results.tsv', sep='\\t')\n",
    "success_table\n",
    "\n",
    "id_list = list(set(success_table['UDN_ID']))\n",
    "\n",
    "print(len(set(success_table['UDN_ID'])), 'probands')\n",
    "print(len(set(success_table['ID'])), 'genes')\n",
    "print(len(success_table), 'variants')"
   ]
  },
  {
   "cell_type": "code",
   "execution_count": null,
   "metadata": {},
   "outputs": [],
   "source": [
    "mapping = pd.read_csv('GS_ID_mapping.csv')\n",
    "mapped= []\n",
    "for i, row in success_table.iterrows():\n",
    "    ID = row['ID']\n",
    "    mapped_id = mapping[mapping['ID']==ID]['Dumb_ID'].item()\n",
    "    mapped.append(mapped_id)\n",
    "success_table['Dumb_ID'] = mapped"
   ]
  },
  {
   "cell_type": "code",
   "execution_count": null,
   "metadata": {},
   "outputs": [],
   "source": [
    "RUN_TYPES = ['exomiser_default', 'filtered_exomiser_default','noN_filtered_15_85_human_revel_mvp_alphaM_spliceAI_noWL','noN_filtered_15_85_human_revel_mvp_noWL']"
   ]
  },
  {
   "cell_type": "code",
   "execution_count": null,
   "metadata": {},
   "outputs": [],
   "source": [
    "d_df,denom = ps.create_df(300, RUN_TYPES, success_table)\n",
    "plot = ps.create_plot(denom, d_df, RUN_TYPES, 'set1', False, RUN_TYPES).properties(height=200, width=300)\n",
    "plot"
   ]
  },
  {
   "cell_type": "code",
   "execution_count": null,
   "metadata": {},
   "outputs": [],
   "source": [
    "order = list(success_table.sort_values(by='Variant_Level_noMOI_rank_noN_filtered_15_85_human_revel_mvp_alphaM_spliceAI_noWL')['Dumb_ID'])\n",
    "optimized = alt.Chart(success_table).mark_point(filled=True, size=100, opacity=1, stroke='black', strokeWidth=1).encode(\n",
    "    x=alt.X('Dumb_ID', sort=order,axis=alt.Axis(labelAngle=-60)),\n",
    "    y='Variant_Level_noMOI_rank_noN_filtered_15_85_human_revel_mvp_alphaM_spliceAI_noWL',\n",
    "    color=alt.Color('Exclude?',scale=alt.Scale(scheme='category10', domain=['','b','No']))\n",
    ")\n",
    "\n",
    "default_filtered = alt.Chart(success_table).mark_point(filled=True, size=100, opacity=1, stroke='black', strokeWidth=1).encode(\n",
    "    x=alt.X('Dumb_ID', sort=order,axis=alt.Axis(labelAngle=-60)),\n",
    "    y='Variant_Level_noMOI_rank_filtered_exomiser_default',\n",
    "    color=alt.Color(scale=alt.Scale(scheme='category10'))\n",
    ")\n",
    "\n",
    "panel_b =alt.layer( default_filtered, optimized).properties(height=250, width=300).resolve_scale(color='independent')"
   ]
  },
  {
   "cell_type": "code",
   "execution_count": null,
   "metadata": {},
   "outputs": [],
   "source": [
    "alt.hconcat(plot, panel_b).configure_legend(labelLimit=0).configure_axis(\n",
    "        labelFontSize=13,\n",
    "        titleFontSize=13).configure_legend(labelLimit=0,labelFontSize=13, titleFontSize=12)"
   ]
  }
 ],
 "metadata": {
  "kernelspec": {
   "display_name": "base",
   "language": "python",
   "name": "python3"
  },
  "language_info": {
   "codemirror_mode": {
    "name": "ipython",
    "version": 3
   },
   "file_extension": ".py",
   "mimetype": "text/x-python",
   "name": "python",
   "nbconvert_exporter": "python",
   "pygments_lexer": "ipython3",
   "version": "3.12.2"
  }
 },
 "nbformat": 4,
 "nbformat_minor": 2
}
