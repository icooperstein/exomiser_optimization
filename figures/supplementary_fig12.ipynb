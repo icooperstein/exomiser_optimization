{
 "cells": [
  {
   "cell_type": "code",
   "execution_count": 1,
   "metadata": {},
   "outputs": [],
   "source": [
    "import pandas as pd \n",
    "import altair as alt\n",
    "import sys\n",
    "sys.path.append('figure_scripts/')\n",
    "\n",
    "import plot_scripts as ps"
   ]
  },
  {
   "cell_type": "code",
   "execution_count": 2,
   "metadata": {},
   "outputs": [
    {
     "name": "stdout",
     "output_type": "stream",
     "text": [
      "239 genes\n",
      "296 variants\n",
      "231 patients\n"
     ]
    }
   ],
   "source": [
    "success_table = pd.read_csv('../../02_exomiser_manuscript/supp_fig_10_12/supp_fig_10_input.tsv', sep='\\t')\n",
    "success_table['UDN_ID'] =[x.split('_')[0] for x in success_table['ID']]\n",
    "print(len(set(success_table['ID'])),'genes')\n",
    "print(len(success_table), 'variants')\n",
    "print(len(set(success_table['UDN_ID'])), 'patients')"
   ]
  },
  {
   "cell_type": "code",
   "execution_count": 11,
   "metadata": {},
   "outputs": [
    {
     "name": "stdout",
     "output_type": "stream",
     "text": [
      "212 genes\n",
      "267 variants\n",
      "207 patients\n"
     ]
    }
   ],
   "source": [
    "nonsingleton_success=success_table[success_table['Family_Type']!='singleton']\n",
    "print(len(set(nonsingleton_success['ID'])),'genes')\n",
    "print(len(nonsingleton_success), 'variants')\n",
    "print(len(set(nonsingleton_success['UDN_ID'])), 'patients')"
   ]
  },
  {
   "cell_type": "code",
   "execution_count": 10,
   "metadata": {},
   "outputs": [],
   "source": [
    "RUN_TYPES = [\n",
    "                'noN_filtered_15_85_human_revel_mvp_alphaM_spliceAI_noinheritance_noWL',\n",
    "                'noN_filtered_15_85_human_revel_mvp_alphaM_spliceAI_singleton_noWL',\n",
    "                'noN_filtered_15_85_human_revel_mvp_alphaM_spliceAI_noWL',\n",
    "                'noN_filtered_15_85_human_revel_mvp_alphaM_spliceAI_singleton_noinheritance_noWL',\n",
    "                ]\n",
    "domain = ['a', 'b','c','d','noN_filtered_15_85_human_revel_mvp_alphaM_spliceAI_noWL','f','g','noN_filtered_15_85_human_revel_mvp_alphaM_spliceAI_noinheritance_noWL','h','noN_filtered_15_85_human_revel_mvp_alphaM_spliceAI_singleton_noWL','noN_filtered_15_85_human_revel_mvp_alphaM_spliceAI_singleton_noinheritance_noWL']\n"
   ]
  },
  {
   "cell_type": "code",
   "execution_count": 12,
   "metadata": {},
   "outputs": [
    {
     "name": "stdout",
     "output_type": "stream",
     "text": [
      "noN_filtered_15_85_human_revel_mvp_alphaM_spliceAI_noinheritance_noWL highest rank: 347.0 max%: 78.27715355805243 209\n",
      "noN_filtered_15_85_human_revel_mvp_alphaM_spliceAI_singleton_noWL highest rank: 252.0 max%: 97.75280898876404 261\n",
      "noN_filtered_15_85_human_revel_mvp_alphaM_spliceAI_noWL highest rank: 78.0 max%: 97.75280898876404 261\n",
      "noN_filtered_15_85_human_revel_mvp_alphaM_spliceAI_singleton_noinheritance_noWL highest rank: 347.0 max%: 78.65168539325843 210\n"
     ]
    },
    {
     "data": {
      "text/html": [
       "\n",
       "<style>\n",
       "  #altair-viz-bb51356ab3354bf1a463f4c2b0349c44.vega-embed {\n",
       "    width: 100%;\n",
       "    display: flex;\n",
       "  }\n",
       "\n",
       "  #altair-viz-bb51356ab3354bf1a463f4c2b0349c44.vega-embed details,\n",
       "  #altair-viz-bb51356ab3354bf1a463f4c2b0349c44.vega-embed details summary {\n",
       "    position: relative;\n",
       "  }\n",
       "</style>\n",
       "<div id=\"altair-viz-bb51356ab3354bf1a463f4c2b0349c44\"></div>\n",
       "<script type=\"text/javascript\">\n",
       "  var VEGA_DEBUG = (typeof VEGA_DEBUG == \"undefined\") ? {} : VEGA_DEBUG;\n",
       "  (function(spec, embedOpt){\n",
       "    let outputDiv = document.currentScript.previousElementSibling;\n",
       "    if (outputDiv.id !== \"altair-viz-bb51356ab3354bf1a463f4c2b0349c44\") {\n",
       "      outputDiv = document.getElementById(\"altair-viz-bb51356ab3354bf1a463f4c2b0349c44\");\n",
       "    }\n",
       "    const paths = {\n",
       "      \"vega\": \"https://cdn.jsdelivr.net/npm/vega@5?noext\",\n",
       "      \"vega-lib\": \"https://cdn.jsdelivr.net/npm/vega-lib?noext\",\n",
       "      \"vega-lite\": \"https://cdn.jsdelivr.net/npm/vega-lite@5.17.0?noext\",\n",
       "      \"vega-embed\": \"https://cdn.jsdelivr.net/npm/vega-embed@6?noext\",\n",
       "    };\n",
       "\n",
       "    function maybeLoadScript(lib, version) {\n",
       "      var key = `${lib.replace(\"-\", \"\")}_version`;\n",
       "      return (VEGA_DEBUG[key] == version) ?\n",
       "        Promise.resolve(paths[lib]) :\n",
       "        new Promise(function(resolve, reject) {\n",
       "          var s = document.createElement('script');\n",
       "          document.getElementsByTagName(\"head\")[0].appendChild(s);\n",
       "          s.async = true;\n",
       "          s.onload = () => {\n",
       "            VEGA_DEBUG[key] = version;\n",
       "            return resolve(paths[lib]);\n",
       "          };\n",
       "          s.onerror = () => reject(`Error loading script: ${paths[lib]}`);\n",
       "          s.src = paths[lib];\n",
       "        });\n",
       "    }\n",
       "\n",
       "    function showError(err) {\n",
       "      outputDiv.innerHTML = `<div class=\"error\" style=\"color:red;\">${err}</div>`;\n",
       "      throw err;\n",
       "    }\n",
       "\n",
       "    function displayChart(vegaEmbed) {\n",
       "      vegaEmbed(outputDiv, spec, embedOpt)\n",
       "        .catch(err => showError(`Javascript Error: ${err.message}<br>This usually means there's a typo in your chart specification. See the javascript console for the full traceback.`));\n",
       "    }\n",
       "\n",
       "    if(typeof define === \"function\" && define.amd) {\n",
       "      requirejs.config({paths});\n",
       "      require([\"vega-embed\"], displayChart, err => showError(`Error loading script: ${err.message}`));\n",
       "    } else {\n",
       "      maybeLoadScript(\"vega\", \"5\")\n",
       "        .then(() => maybeLoadScript(\"vega-lite\", \"5.17.0\"))\n",
       "        .then(() => maybeLoadScript(\"vega-embed\", \"6\"))\n",
       "        .catch(showError)\n",
       "        .then(() => displayChart(vegaEmbed));\n",
       "    }\n",
       "  })({\"config\": {\"view\": {\"continuousWidth\": 300, \"continuousHeight\": 300}, \"axis\": {\"labelFontSize\": 15, \"titleFontSize\": 15}, \"legend\": {\"labelFontSize\": 15, \"labelLimit\": 0, \"titleFontSize\": 15}}, \"data\": {\"name\": \"data-b99d984dca2c9d5c06f3233149760edb\"}, \"mark\": {\"type\": \"line\", \"point\": {\"size\": 50}}, \"encoding\": {\"color\": {\"field\": \"Run_Type\", \"scale\": {\"domain\": [\"a\", \"b\", \"c\", \"d\", \"noN_filtered_15_85_human_revel_mvp_alphaM_spliceAI_noWL\", \"f\", \"g\", \"noN_filtered_15_85_human_revel_mvp_alphaM_spliceAI_noinheritance_noWL\", \"h\", \"noN_filtered_15_85_human_revel_mvp_alphaM_spliceAI_singleton_noWL\", \"noN_filtered_15_85_human_revel_mvp_alphaM_spliceAI_singleton_noinheritance_noWL\"], \"scheme\": \"category20\"}, \"sort\": [\"noN_filtered_15_85_human_revel_mvp_alphaM_spliceAI_noinheritance_noWL\", \"noN_filtered_15_85_human_revel_mvp_alphaM_spliceAI_singleton_noWL\", \"noN_filtered_15_85_human_revel_mvp_alphaM_spliceAI_noWL\", \"noN_filtered_15_85_human_revel_mvp_alphaM_spliceAI_singleton_noinheritance_noWL\"], \"type\": \"nominal\"}, \"tooltip\": [{\"field\": \"Rank\", \"type\": \"quantitative\"}, {\"field\": \"Percent_Variants\", \"type\": \"quantitative\"}, {\"field\": \"Run_Type\", \"type\": \"nominal\"}], \"x\": {\"field\": \"Rank\", \"title\": \"Exomiser Rank of Causal Variant\", \"type\": \"quantitative\"}, \"y\": {\"field\": \"Percent_Variants\", \"scale\": {\"domain\": [0, 100]}, \"title\": \"Percent of Causal Variants within Exomiser Rank\", \"type\": \"quantitative\"}}, \"height\": 350, \"title\": \"267Diagnostic Variants (Variant Level - no MOI requirement)\", \"width\": 400, \"$schema\": \"https://vega.github.io/schema/vega-lite/v5.17.0.json\", \"datasets\": {\"data-b99d984dca2c9d5c06f3233149760edb\": [{\"Rank\": 1, \"NumPatients\": 76, \"Percent_Variants\": 28.46441947565543, \"Run_Type\": \"noN_filtered_15_85_human_revel_mvp_alphaM_spliceAI_noinheritance_noWL\"}, {\"Rank\": 2, \"NumPatients\": 106, \"Percent_Variants\": 39.70037453183521, \"Run_Type\": \"noN_filtered_15_85_human_revel_mvp_alphaM_spliceAI_noinheritance_noWL\"}, {\"Rank\": 3, \"NumPatients\": 119, \"Percent_Variants\": 44.569288389513105, \"Run_Type\": \"noN_filtered_15_85_human_revel_mvp_alphaM_spliceAI_noinheritance_noWL\"}, {\"Rank\": 4, \"NumPatients\": 126, \"Percent_Variants\": 47.19101123595505, \"Run_Type\": \"noN_filtered_15_85_human_revel_mvp_alphaM_spliceAI_noinheritance_noWL\"}, {\"Rank\": 5, \"NumPatients\": 132, \"Percent_Variants\": 49.43820224719101, \"Run_Type\": \"noN_filtered_15_85_human_revel_mvp_alphaM_spliceAI_noinheritance_noWL\"}, {\"Rank\": 6, \"NumPatients\": 137, \"Percent_Variants\": 51.31086142322098, \"Run_Type\": \"noN_filtered_15_85_human_revel_mvp_alphaM_spliceAI_noinheritance_noWL\"}, {\"Rank\": 7, \"NumPatients\": 140, \"Percent_Variants\": 52.43445692883895, \"Run_Type\": \"noN_filtered_15_85_human_revel_mvp_alphaM_spliceAI_noinheritance_noWL\"}, {\"Rank\": 8, \"NumPatients\": 148, \"Percent_Variants\": 55.430711610486895, \"Run_Type\": \"noN_filtered_15_85_human_revel_mvp_alphaM_spliceAI_noinheritance_noWL\"}, {\"Rank\": 9, \"NumPatients\": 151, \"Percent_Variants\": 56.55430711610487, \"Run_Type\": \"noN_filtered_15_85_human_revel_mvp_alphaM_spliceAI_noinheritance_noWL\"}, {\"Rank\": 10, \"NumPatients\": 154, \"Percent_Variants\": 57.67790262172284, \"Run_Type\": \"noN_filtered_15_85_human_revel_mvp_alphaM_spliceAI_noinheritance_noWL\"}, {\"Rank\": 11, \"NumPatients\": 155, \"Percent_Variants\": 58.052434456928836, \"Run_Type\": \"noN_filtered_15_85_human_revel_mvp_alphaM_spliceAI_noinheritance_noWL\"}, {\"Rank\": 12, \"NumPatients\": 155, \"Percent_Variants\": 58.052434456928836, \"Run_Type\": \"noN_filtered_15_85_human_revel_mvp_alphaM_spliceAI_noinheritance_noWL\"}, {\"Rank\": 13, \"NumPatients\": 157, \"Percent_Variants\": 58.80149812734082, \"Run_Type\": \"noN_filtered_15_85_human_revel_mvp_alphaM_spliceAI_noinheritance_noWL\"}, {\"Rank\": 14, \"NumPatients\": 158, \"Percent_Variants\": 59.176029962546814, \"Run_Type\": \"noN_filtered_15_85_human_revel_mvp_alphaM_spliceAI_noinheritance_noWL\"}, {\"Rank\": 15, \"NumPatients\": 159, \"Percent_Variants\": 59.55056179775281, \"Run_Type\": \"noN_filtered_15_85_human_revel_mvp_alphaM_spliceAI_noinheritance_noWL\"}, {\"Rank\": 16, \"NumPatients\": 161, \"Percent_Variants\": 60.2996254681648, \"Run_Type\": \"noN_filtered_15_85_human_revel_mvp_alphaM_spliceAI_noinheritance_noWL\"}, {\"Rank\": 17, \"NumPatients\": 165, \"Percent_Variants\": 61.79775280898876, \"Run_Type\": \"noN_filtered_15_85_human_revel_mvp_alphaM_spliceAI_noinheritance_noWL\"}, {\"Rank\": 18, \"NumPatients\": 166, \"Percent_Variants\": 62.172284644194754, \"Run_Type\": \"noN_filtered_15_85_human_revel_mvp_alphaM_spliceAI_noinheritance_noWL\"}, {\"Rank\": 19, \"NumPatients\": 166, \"Percent_Variants\": 62.172284644194754, \"Run_Type\": \"noN_filtered_15_85_human_revel_mvp_alphaM_spliceAI_noinheritance_noWL\"}, {\"Rank\": 20, \"NumPatients\": 166, \"Percent_Variants\": 62.172284644194754, \"Run_Type\": \"noN_filtered_15_85_human_revel_mvp_alphaM_spliceAI_noinheritance_noWL\"}, {\"Rank\": 21, \"NumPatients\": 166, \"Percent_Variants\": 62.172284644194754, \"Run_Type\": \"noN_filtered_15_85_human_revel_mvp_alphaM_spliceAI_noinheritance_noWL\"}, {\"Rank\": 22, \"NumPatients\": 166, \"Percent_Variants\": 62.172284644194754, \"Run_Type\": \"noN_filtered_15_85_human_revel_mvp_alphaM_spliceAI_noinheritance_noWL\"}, {\"Rank\": 23, \"NumPatients\": 166, \"Percent_Variants\": 62.172284644194754, \"Run_Type\": \"noN_filtered_15_85_human_revel_mvp_alphaM_spliceAI_noinheritance_noWL\"}, {\"Rank\": 24, \"NumPatients\": 166, \"Percent_Variants\": 62.172284644194754, \"Run_Type\": \"noN_filtered_15_85_human_revel_mvp_alphaM_spliceAI_noinheritance_noWL\"}, {\"Rank\": 25, \"NumPatients\": 166, \"Percent_Variants\": 62.172284644194754, \"Run_Type\": \"noN_filtered_15_85_human_revel_mvp_alphaM_spliceAI_noinheritance_noWL\"}, {\"Rank\": 26, \"NumPatients\": 166, \"Percent_Variants\": 62.172284644194754, \"Run_Type\": \"noN_filtered_15_85_human_revel_mvp_alphaM_spliceAI_noinheritance_noWL\"}, {\"Rank\": 27, \"NumPatients\": 166, \"Percent_Variants\": 62.172284644194754, \"Run_Type\": \"noN_filtered_15_85_human_revel_mvp_alphaM_spliceAI_noinheritance_noWL\"}, {\"Rank\": 28, \"NumPatients\": 167, \"Percent_Variants\": 62.546816479400746, \"Run_Type\": \"noN_filtered_15_85_human_revel_mvp_alphaM_spliceAI_noinheritance_noWL\"}, {\"Rank\": 29, \"NumPatients\": 169, \"Percent_Variants\": 63.29588014981273, \"Run_Type\": \"noN_filtered_15_85_human_revel_mvp_alphaM_spliceAI_noinheritance_noWL\"}, {\"Rank\": 30, \"NumPatients\": 169, \"Percent_Variants\": 63.29588014981273, \"Run_Type\": \"noN_filtered_15_85_human_revel_mvp_alphaM_spliceAI_noinheritance_noWL\"}, {\"Rank\": 1, \"NumPatients\": 99, \"Percent_Variants\": 37.07865168539326, \"Run_Type\": \"noN_filtered_15_85_human_revel_mvp_alphaM_spliceAI_singleton_noWL\"}, {\"Rank\": 2, \"NumPatients\": 135, \"Percent_Variants\": 50.56179775280899, \"Run_Type\": \"noN_filtered_15_85_human_revel_mvp_alphaM_spliceAI_singleton_noWL\"}, {\"Rank\": 3, \"NumPatients\": 155, \"Percent_Variants\": 58.052434456928836, \"Run_Type\": \"noN_filtered_15_85_human_revel_mvp_alphaM_spliceAI_singleton_noWL\"}, {\"Rank\": 4, \"NumPatients\": 167, \"Percent_Variants\": 62.546816479400746, \"Run_Type\": \"noN_filtered_15_85_human_revel_mvp_alphaM_spliceAI_singleton_noWL\"}, {\"Rank\": 5, \"NumPatients\": 172, \"Percent_Variants\": 64.41947565543072, \"Run_Type\": \"noN_filtered_15_85_human_revel_mvp_alphaM_spliceAI_singleton_noWL\"}, {\"Rank\": 6, \"NumPatients\": 177, \"Percent_Variants\": 66.29213483146067, \"Run_Type\": \"noN_filtered_15_85_human_revel_mvp_alphaM_spliceAI_singleton_noWL\"}, {\"Rank\": 7, \"NumPatients\": 181, \"Percent_Variants\": 67.79026217228464, \"Run_Type\": \"noN_filtered_15_85_human_revel_mvp_alphaM_spliceAI_singleton_noWL\"}, {\"Rank\": 8, \"NumPatients\": 187, \"Percent_Variants\": 70.0374531835206, \"Run_Type\": \"noN_filtered_15_85_human_revel_mvp_alphaM_spliceAI_singleton_noWL\"}, {\"Rank\": 9, \"NumPatients\": 190, \"Percent_Variants\": 71.16104868913857, \"Run_Type\": \"noN_filtered_15_85_human_revel_mvp_alphaM_spliceAI_singleton_noWL\"}, {\"Rank\": 10, \"NumPatients\": 191, \"Percent_Variants\": 71.53558052434457, \"Run_Type\": \"noN_filtered_15_85_human_revel_mvp_alphaM_spliceAI_singleton_noWL\"}, {\"Rank\": 11, \"NumPatients\": 192, \"Percent_Variants\": 71.91011235955057, \"Run_Type\": \"noN_filtered_15_85_human_revel_mvp_alphaM_spliceAI_singleton_noWL\"}, {\"Rank\": 12, \"NumPatients\": 193, \"Percent_Variants\": 72.28464419475655, \"Run_Type\": \"noN_filtered_15_85_human_revel_mvp_alphaM_spliceAI_singleton_noWL\"}, {\"Rank\": 13, \"NumPatients\": 193, \"Percent_Variants\": 72.28464419475655, \"Run_Type\": \"noN_filtered_15_85_human_revel_mvp_alphaM_spliceAI_singleton_noWL\"}, {\"Rank\": 14, \"NumPatients\": 195, \"Percent_Variants\": 73.03370786516854, \"Run_Type\": \"noN_filtered_15_85_human_revel_mvp_alphaM_spliceAI_singleton_noWL\"}, {\"Rank\": 15, \"NumPatients\": 199, \"Percent_Variants\": 74.53183520599251, \"Run_Type\": \"noN_filtered_15_85_human_revel_mvp_alphaM_spliceAI_singleton_noWL\"}, {\"Rank\": 16, \"NumPatients\": 201, \"Percent_Variants\": 75.28089887640449, \"Run_Type\": \"noN_filtered_15_85_human_revel_mvp_alphaM_spliceAI_singleton_noWL\"}, {\"Rank\": 17, \"NumPatients\": 207, \"Percent_Variants\": 77.52808988764045, \"Run_Type\": \"noN_filtered_15_85_human_revel_mvp_alphaM_spliceAI_singleton_noWL\"}, {\"Rank\": 18, \"NumPatients\": 207, \"Percent_Variants\": 77.52808988764045, \"Run_Type\": \"noN_filtered_15_85_human_revel_mvp_alphaM_spliceAI_singleton_noWL\"}, {\"Rank\": 19, \"NumPatients\": 208, \"Percent_Variants\": 77.90262172284645, \"Run_Type\": \"noN_filtered_15_85_human_revel_mvp_alphaM_spliceAI_singleton_noWL\"}, {\"Rank\": 20, \"NumPatients\": 210, \"Percent_Variants\": 78.65168539325843, \"Run_Type\": \"noN_filtered_15_85_human_revel_mvp_alphaM_spliceAI_singleton_noWL\"}, {\"Rank\": 21, \"NumPatients\": 212, \"Percent_Variants\": 79.40074906367042, \"Run_Type\": \"noN_filtered_15_85_human_revel_mvp_alphaM_spliceAI_singleton_noWL\"}, {\"Rank\": 22, \"NumPatients\": 215, \"Percent_Variants\": 80.52434456928839, \"Run_Type\": \"noN_filtered_15_85_human_revel_mvp_alphaM_spliceAI_singleton_noWL\"}, {\"Rank\": 23, \"NumPatients\": 217, \"Percent_Variants\": 81.27340823970037, \"Run_Type\": \"noN_filtered_15_85_human_revel_mvp_alphaM_spliceAI_singleton_noWL\"}, {\"Rank\": 24, \"NumPatients\": 217, \"Percent_Variants\": 81.27340823970037, \"Run_Type\": \"noN_filtered_15_85_human_revel_mvp_alphaM_spliceAI_singleton_noWL\"}, {\"Rank\": 25, \"NumPatients\": 217, \"Percent_Variants\": 81.27340823970037, \"Run_Type\": \"noN_filtered_15_85_human_revel_mvp_alphaM_spliceAI_singleton_noWL\"}, {\"Rank\": 26, \"NumPatients\": 219, \"Percent_Variants\": 82.02247191011236, \"Run_Type\": \"noN_filtered_15_85_human_revel_mvp_alphaM_spliceAI_singleton_noWL\"}, {\"Rank\": 27, \"NumPatients\": 221, \"Percent_Variants\": 82.77153558052434, \"Run_Type\": \"noN_filtered_15_85_human_revel_mvp_alphaM_spliceAI_singleton_noWL\"}, {\"Rank\": 28, \"NumPatients\": 221, \"Percent_Variants\": 82.77153558052434, \"Run_Type\": \"noN_filtered_15_85_human_revel_mvp_alphaM_spliceAI_singleton_noWL\"}, {\"Rank\": 29, \"NumPatients\": 222, \"Percent_Variants\": 83.14606741573034, \"Run_Type\": \"noN_filtered_15_85_human_revel_mvp_alphaM_spliceAI_singleton_noWL\"}, {\"Rank\": 30, \"NumPatients\": 222, \"Percent_Variants\": 83.14606741573034, \"Run_Type\": \"noN_filtered_15_85_human_revel_mvp_alphaM_spliceAI_singleton_noWL\"}, {\"Rank\": 1, \"NumPatients\": 150, \"Percent_Variants\": 56.17977528089888, \"Run_Type\": \"noN_filtered_15_85_human_revel_mvp_alphaM_spliceAI_noWL\"}, {\"Rank\": 2, \"NumPatients\": 189, \"Percent_Variants\": 70.78651685393258, \"Run_Type\": \"noN_filtered_15_85_human_revel_mvp_alphaM_spliceAI_noWL\"}, {\"Rank\": 3, \"NumPatients\": 197, \"Percent_Variants\": 73.78277153558052, \"Run_Type\": \"noN_filtered_15_85_human_revel_mvp_alphaM_spliceAI_noWL\"}, {\"Rank\": 4, \"NumPatients\": 200, \"Percent_Variants\": 74.90636704119851, \"Run_Type\": \"noN_filtered_15_85_human_revel_mvp_alphaM_spliceAI_noWL\"}, {\"Rank\": 5, \"NumPatients\": 211, \"Percent_Variants\": 79.02621722846442, \"Run_Type\": \"noN_filtered_15_85_human_revel_mvp_alphaM_spliceAI_noWL\"}, {\"Rank\": 6, \"NumPatients\": 216, \"Percent_Variants\": 80.89887640449437, \"Run_Type\": \"noN_filtered_15_85_human_revel_mvp_alphaM_spliceAI_noWL\"}, {\"Rank\": 7, \"NumPatients\": 221, \"Percent_Variants\": 82.77153558052434, \"Run_Type\": \"noN_filtered_15_85_human_revel_mvp_alphaM_spliceAI_noWL\"}, {\"Rank\": 8, \"NumPatients\": 228, \"Percent_Variants\": 85.39325842696628, \"Run_Type\": \"noN_filtered_15_85_human_revel_mvp_alphaM_spliceAI_noWL\"}, {\"Rank\": 9, \"NumPatients\": 232, \"Percent_Variants\": 86.89138576779027, \"Run_Type\": \"noN_filtered_15_85_human_revel_mvp_alphaM_spliceAI_noWL\"}, {\"Rank\": 10, \"NumPatients\": 233, \"Percent_Variants\": 87.26591760299625, \"Run_Type\": \"noN_filtered_15_85_human_revel_mvp_alphaM_spliceAI_noWL\"}, {\"Rank\": 11, \"NumPatients\": 238, \"Percent_Variants\": 89.13857677902621, \"Run_Type\": \"noN_filtered_15_85_human_revel_mvp_alphaM_spliceAI_noWL\"}, {\"Rank\": 12, \"NumPatients\": 240, \"Percent_Variants\": 89.8876404494382, \"Run_Type\": \"noN_filtered_15_85_human_revel_mvp_alphaM_spliceAI_noWL\"}, {\"Rank\": 13, \"NumPatients\": 242, \"Percent_Variants\": 90.63670411985018, \"Run_Type\": \"noN_filtered_15_85_human_revel_mvp_alphaM_spliceAI_noWL\"}, {\"Rank\": 14, \"NumPatients\": 243, \"Percent_Variants\": 91.01123595505618, \"Run_Type\": \"noN_filtered_15_85_human_revel_mvp_alphaM_spliceAI_noWL\"}, {\"Rank\": 15, \"NumPatients\": 247, \"Percent_Variants\": 92.50936329588015, \"Run_Type\": \"noN_filtered_15_85_human_revel_mvp_alphaM_spliceAI_noWL\"}, {\"Rank\": 16, \"NumPatients\": 250, \"Percent_Variants\": 93.63295880149812, \"Run_Type\": \"noN_filtered_15_85_human_revel_mvp_alphaM_spliceAI_noWL\"}, {\"Rank\": 17, \"NumPatients\": 253, \"Percent_Variants\": 94.7565543071161, \"Run_Type\": \"noN_filtered_15_85_human_revel_mvp_alphaM_spliceAI_noWL\"}, {\"Rank\": 18, \"NumPatients\": 253, \"Percent_Variants\": 94.7565543071161, \"Run_Type\": \"noN_filtered_15_85_human_revel_mvp_alphaM_spliceAI_noWL\"}, {\"Rank\": 19, \"NumPatients\": 254, \"Percent_Variants\": 95.13108614232209, \"Run_Type\": \"noN_filtered_15_85_human_revel_mvp_alphaM_spliceAI_noWL\"}, {\"Rank\": 20, \"NumPatients\": 254, \"Percent_Variants\": 95.13108614232209, \"Run_Type\": \"noN_filtered_15_85_human_revel_mvp_alphaM_spliceAI_noWL\"}, {\"Rank\": 21, \"NumPatients\": 255, \"Percent_Variants\": 95.50561797752809, \"Run_Type\": \"noN_filtered_15_85_human_revel_mvp_alphaM_spliceAI_noWL\"}, {\"Rank\": 22, \"NumPatients\": 255, \"Percent_Variants\": 95.50561797752809, \"Run_Type\": \"noN_filtered_15_85_human_revel_mvp_alphaM_spliceAI_noWL\"}, {\"Rank\": 23, \"NumPatients\": 255, \"Percent_Variants\": 95.50561797752809, \"Run_Type\": \"noN_filtered_15_85_human_revel_mvp_alphaM_spliceAI_noWL\"}, {\"Rank\": 24, \"NumPatients\": 255, \"Percent_Variants\": 95.50561797752809, \"Run_Type\": \"noN_filtered_15_85_human_revel_mvp_alphaM_spliceAI_noWL\"}, {\"Rank\": 25, \"NumPatients\": 255, \"Percent_Variants\": 95.50561797752809, \"Run_Type\": \"noN_filtered_15_85_human_revel_mvp_alphaM_spliceAI_noWL\"}, {\"Rank\": 26, \"NumPatients\": 255, \"Percent_Variants\": 95.50561797752809, \"Run_Type\": \"noN_filtered_15_85_human_revel_mvp_alphaM_spliceAI_noWL\"}, {\"Rank\": 27, \"NumPatients\": 255, \"Percent_Variants\": 95.50561797752809, \"Run_Type\": \"noN_filtered_15_85_human_revel_mvp_alphaM_spliceAI_noWL\"}, {\"Rank\": 28, \"NumPatients\": 255, \"Percent_Variants\": 95.50561797752809, \"Run_Type\": \"noN_filtered_15_85_human_revel_mvp_alphaM_spliceAI_noWL\"}, {\"Rank\": 29, \"NumPatients\": 255, \"Percent_Variants\": 95.50561797752809, \"Run_Type\": \"noN_filtered_15_85_human_revel_mvp_alphaM_spliceAI_noWL\"}, {\"Rank\": 30, \"NumPatients\": 257, \"Percent_Variants\": 96.25468164794007, \"Run_Type\": \"noN_filtered_15_85_human_revel_mvp_alphaM_spliceAI_noWL\"}, {\"Rank\": 1, \"NumPatients\": 74, \"Percent_Variants\": 27.715355805243448, \"Run_Type\": \"noN_filtered_15_85_human_revel_mvp_alphaM_spliceAI_singleton_noinheritance_noWL\"}, {\"Rank\": 2, \"NumPatients\": 103, \"Percent_Variants\": 38.57677902621723, \"Run_Type\": \"noN_filtered_15_85_human_revel_mvp_alphaM_spliceAI_singleton_noinheritance_noWL\"}, {\"Rank\": 3, \"NumPatients\": 116, \"Percent_Variants\": 43.445692883895134, \"Run_Type\": \"noN_filtered_15_85_human_revel_mvp_alphaM_spliceAI_singleton_noinheritance_noWL\"}, {\"Rank\": 4, \"NumPatients\": 124, \"Percent_Variants\": 46.441947565543074, \"Run_Type\": \"noN_filtered_15_85_human_revel_mvp_alphaM_spliceAI_singleton_noinheritance_noWL\"}, {\"Rank\": 5, \"NumPatients\": 129, \"Percent_Variants\": 48.31460674157304, \"Run_Type\": \"noN_filtered_15_85_human_revel_mvp_alphaM_spliceAI_singleton_noinheritance_noWL\"}, {\"Rank\": 6, \"NumPatients\": 135, \"Percent_Variants\": 50.56179775280899, \"Run_Type\": \"noN_filtered_15_85_human_revel_mvp_alphaM_spliceAI_singleton_noinheritance_noWL\"}, {\"Rank\": 7, \"NumPatients\": 138, \"Percent_Variants\": 51.68539325842697, \"Run_Type\": \"noN_filtered_15_85_human_revel_mvp_alphaM_spliceAI_singleton_noinheritance_noWL\"}, {\"Rank\": 8, \"NumPatients\": 146, \"Percent_Variants\": 54.68164794007491, \"Run_Type\": \"noN_filtered_15_85_human_revel_mvp_alphaM_spliceAI_singleton_noinheritance_noWL\"}, {\"Rank\": 9, \"NumPatients\": 148, \"Percent_Variants\": 55.430711610486895, \"Run_Type\": \"noN_filtered_15_85_human_revel_mvp_alphaM_spliceAI_singleton_noinheritance_noWL\"}, {\"Rank\": 10, \"NumPatients\": 151, \"Percent_Variants\": 56.55430711610487, \"Run_Type\": \"noN_filtered_15_85_human_revel_mvp_alphaM_spliceAI_singleton_noinheritance_noWL\"}, {\"Rank\": 11, \"NumPatients\": 152, \"Percent_Variants\": 56.92883895131086, \"Run_Type\": \"noN_filtered_15_85_human_revel_mvp_alphaM_spliceAI_singleton_noinheritance_noWL\"}, {\"Rank\": 12, \"NumPatients\": 152, \"Percent_Variants\": 56.92883895131086, \"Run_Type\": \"noN_filtered_15_85_human_revel_mvp_alphaM_spliceAI_singleton_noinheritance_noWL\"}, {\"Rank\": 13, \"NumPatients\": 154, \"Percent_Variants\": 57.67790262172284, \"Run_Type\": \"noN_filtered_15_85_human_revel_mvp_alphaM_spliceAI_singleton_noinheritance_noWL\"}, {\"Rank\": 14, \"NumPatients\": 155, \"Percent_Variants\": 58.052434456928836, \"Run_Type\": \"noN_filtered_15_85_human_revel_mvp_alphaM_spliceAI_singleton_noinheritance_noWL\"}, {\"Rank\": 15, \"NumPatients\": 157, \"Percent_Variants\": 58.80149812734082, \"Run_Type\": \"noN_filtered_15_85_human_revel_mvp_alphaM_spliceAI_singleton_noinheritance_noWL\"}, {\"Rank\": 16, \"NumPatients\": 160, \"Percent_Variants\": 59.925093632958806, \"Run_Type\": \"noN_filtered_15_85_human_revel_mvp_alphaM_spliceAI_singleton_noinheritance_noWL\"}, {\"Rank\": 17, \"NumPatients\": 164, \"Percent_Variants\": 61.42322097378277, \"Run_Type\": \"noN_filtered_15_85_human_revel_mvp_alphaM_spliceAI_singleton_noinheritance_noWL\"}, {\"Rank\": 18, \"NumPatients\": 166, \"Percent_Variants\": 62.172284644194754, \"Run_Type\": \"noN_filtered_15_85_human_revel_mvp_alphaM_spliceAI_singleton_noinheritance_noWL\"}, {\"Rank\": 19, \"NumPatients\": 167, \"Percent_Variants\": 62.546816479400746, \"Run_Type\": \"noN_filtered_15_85_human_revel_mvp_alphaM_spliceAI_singleton_noinheritance_noWL\"}, {\"Rank\": 20, \"NumPatients\": 167, \"Percent_Variants\": 62.546816479400746, \"Run_Type\": \"noN_filtered_15_85_human_revel_mvp_alphaM_spliceAI_singleton_noinheritance_noWL\"}, {\"Rank\": 21, \"NumPatients\": 167, \"Percent_Variants\": 62.546816479400746, \"Run_Type\": \"noN_filtered_15_85_human_revel_mvp_alphaM_spliceAI_singleton_noinheritance_noWL\"}, {\"Rank\": 22, \"NumPatients\": 167, \"Percent_Variants\": 62.546816479400746, \"Run_Type\": \"noN_filtered_15_85_human_revel_mvp_alphaM_spliceAI_singleton_noinheritance_noWL\"}, {\"Rank\": 23, \"NumPatients\": 167, \"Percent_Variants\": 62.546816479400746, \"Run_Type\": \"noN_filtered_15_85_human_revel_mvp_alphaM_spliceAI_singleton_noinheritance_noWL\"}, {\"Rank\": 24, \"NumPatients\": 167, \"Percent_Variants\": 62.546816479400746, \"Run_Type\": \"noN_filtered_15_85_human_revel_mvp_alphaM_spliceAI_singleton_noinheritance_noWL\"}, {\"Rank\": 25, \"NumPatients\": 167, \"Percent_Variants\": 62.546816479400746, \"Run_Type\": \"noN_filtered_15_85_human_revel_mvp_alphaM_spliceAI_singleton_noinheritance_noWL\"}, {\"Rank\": 26, \"NumPatients\": 167, \"Percent_Variants\": 62.546816479400746, \"Run_Type\": \"noN_filtered_15_85_human_revel_mvp_alphaM_spliceAI_singleton_noinheritance_noWL\"}, {\"Rank\": 27, \"NumPatients\": 167, \"Percent_Variants\": 62.546816479400746, \"Run_Type\": \"noN_filtered_15_85_human_revel_mvp_alphaM_spliceAI_singleton_noinheritance_noWL\"}, {\"Rank\": 28, \"NumPatients\": 168, \"Percent_Variants\": 62.92134831460674, \"Run_Type\": \"noN_filtered_15_85_human_revel_mvp_alphaM_spliceAI_singleton_noinheritance_noWL\"}, {\"Rank\": 29, \"NumPatients\": 170, \"Percent_Variants\": 63.670411985018724, \"Run_Type\": \"noN_filtered_15_85_human_revel_mvp_alphaM_spliceAI_singleton_noinheritance_noWL\"}, {\"Rank\": 30, \"NumPatients\": 170, \"Percent_Variants\": 63.670411985018724, \"Run_Type\": \"noN_filtered_15_85_human_revel_mvp_alphaM_spliceAI_singleton_noinheritance_noWL\"}]}}, {\"mode\": \"vega-lite\"});\n",
       "</script>"
      ],
      "text/plain": [
       "alt.Chart(...)"
      ]
     },
     "execution_count": 12,
     "metadata": {},
     "output_type": "execute_result"
    }
   ],
   "source": [
    "\n",
    "df,denom = ps.create_df(350, RUN_TYPES, nonsingleton_success)\n",
    "plot = ps.create_plot(denom, df, RUN_TYPES, 'category20', False, domain).properties(height=350, width=400)\n",
    "\n",
    "plot.configure_legend(labelLimit=0).configure_axis(\n",
    "         labelFontSize=15,\n",
    "         titleFontSize=15).configure_legend(labelLimit=0,labelFontSize=15, titleFontSize=15)"
   ]
  },
  {
   "cell_type": "code",
   "execution_count": null,
   "metadata": {},
   "outputs": [],
   "source": []
  }
 ],
 "metadata": {
  "kernelspec": {
   "display_name": "base",
   "language": "python",
   "name": "python3"
  },
  "language_info": {
   "codemirror_mode": {
    "name": "ipython",
    "version": 3
   },
   "file_extension": ".py",
   "mimetype": "text/x-python",
   "name": "python",
   "nbconvert_exporter": "python",
   "pygments_lexer": "ipython3",
   "version": "3.12.2"
  }
 },
 "nbformat": 4,
 "nbformat_minor": 2
}
