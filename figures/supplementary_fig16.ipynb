{
 "cells": [
  {
   "cell_type": "code",
   "execution_count": 2,
   "metadata": {},
   "outputs": [],
   "source": [
    "import pandas as pd\n",
    "import altair as alt\n",
    "import sys\n",
    "sys.path.append('figure_scripts/')\n",
    "import plot_scripts as ps\n",
    "import random"
   ]
  },
  {
   "cell_type": "code",
   "execution_count": 13,
   "metadata": {},
   "outputs": [],
   "source": [
    "gs_exomiser_success_table = pd.read_csv('../../02_exomiser_manuscript/fig_03/GS_exomiser_fig3_input_7.21.25.tsv', sep='\\t')\n",
    "gs_genomiser_success_table = pd.read_csv('../../02_exomiser_manuscript/fig_03/GS_genomiser_fig5_input_12.19.24.tsv', sep='\\t')\n",
    "es_exomiser_success_table = pd.read_csv('../../02_exomiser_manuscript/fig_03/ES_genomiser_fig3_input_1.13.25.tsv', sep='\\t')\n"
   ]
  },
  {
   "cell_type": "code",
   "execution_count": 7,
   "metadata": {},
   "outputs": [
    {
     "name": "stdout",
     "output_type": "stream",
     "text": [
      "231\n",
      "39\n",
      "130 ES\n",
      "125\n",
      "386 total individuals\n"
     ]
    },
    {
     "data": {
      "text/plain": [
       "386"
      ]
     },
     "execution_count": 7,
     "metadata": {},
     "output_type": "execute_result"
    }
   ],
   "source": [
    "phenotype_data = pd.read_csv('../../UDN_2024/5.3.24_update/2644_AllUDN_Individuals_5.3.24.csv')\n",
    "\n",
    "## GS Exomiser\n",
    "variant_table = pd.read_csv('../../02_exomiser_manuscript/supp_fig_02/input.txt', sep='\\t')\n",
    "included_genes = variant_table[(variant_table['Exclude?']=='No') | (variant_table['Exclude?']=='NO_NEW')][['ID', 'Exclude?', 'Exclude_Reason', 'narrative', 'for_figure', 'UDN_ID']].drop_duplicates()\n",
    "included_genes['UDN_ID'] = [x.split('_')[0] for x in included_genes['ID']]\n",
    "included_ids = list(set(included_genes['UDN_ID']))\n",
    "print(len(included_ids))\n",
    "\n",
    "##GS Genomiser\n",
    "genomiser_subset = variant_table[(variant_table['Exclude?']=='GENOMISER')][['UDN_ID','ID', 'Exclude?', 'Exclude_Reason', 'Fig_Color','narrative', 'MOI', 'Family_Type', 'for_figure']].drop_duplicates()\n",
    "genomiser_subset['UDN_ID'] = [x.split('_')[0] for x in genomiser_subset['ID']]\n",
    "\n",
    "for_genomiser_ids = list(genomiser_subset['UDN_ID'])\n",
    "print(len(for_genomiser_ids))\n",
    "\n",
    "\n",
    "###ES Exomiser\n",
    "es_variant_table = pd.read_csv('../../UDN_2024/Exomiser_WES/229_variants_phenotips_data_10.01.24_HGVS.tsv', sep='\\t',encoding='unicode_escape')\n",
    "es_included_genes = es_variant_table[es_variant_table['Exclude?']=='No'][['ID', 'Exclude?',  'for_figure', 'UDN_ID']].drop_duplicates()\n",
    "print(len(es_included_genes), 'ES')\n",
    "es_included_ids = list(set(es_included_genes['UDN_ID']))\n",
    "print(len(es_included_ids))\n",
    "\n",
    "for_figure_ids = list(set(included_ids + for_genomiser_ids + es_included_ids))\n",
    "print(len(for_figure_ids), 'total individuals')\n",
    "\n",
    "phenotype_data = phenotype_data[phenotype_data['ID'].isin(for_figure_ids)]\n",
    "phenotype_data.columns\n",
    "#phenotype_data.to_csv('supp_fig1_input.csv', index=None)\n",
    "len(set(phenotype_data['ID']))\n",
    "\n",
    "all_ids = list(included_ids + es_included_ids + for_genomiser_ids)\n",
    "len(all_ids)\n",
    "len(set(all_ids))"
   ]
  },
  {
   "cell_type": "code",
   "execution_count": 8,
   "metadata": {},
   "outputs": [],
   "source": [
    "phenotype_data = pd.read_csv('../../02_exomiser_manuscript/supp_fig_03/supp_fig1_input.csv')\n",
    "phenotype_data=phenotype_data[phenotype_data['ID'].isin(for_figure_ids)]\n"
   ]
  },
  {
   "cell_type": "code",
   "execution_count": 9,
   "metadata": {},
   "outputs": [
    {
     "name": "stdout",
     "output_type": "stream",
     "text": [
      "194\n"
     ]
    },
    {
     "name": "stderr",
     "output_type": "stream",
     "text": [
      "/tmp/ipykernel_2834841/1561617278.py:5: SettingWithCopyWarning: \n",
      "A value is trying to be set on a copy of a slice from a DataFrame.\n",
      "Try using .loc[row_indexer,col_indexer] = value instead\n",
      "\n",
      "See the caveats in the documentation: https://pandas.pydata.org/pandas-docs/stable/user_guide/indexing.html#returning-a-view-versus-a-copy\n",
      "  neuro['ID'] = neuro['ID'] + '_' + neuro['Genes']\n",
      "/tmp/ipykernel_2834841/1561617278.py:6: SettingWithCopyWarning: \n",
      "A value is trying to be set on a copy of a slice from a DataFrame.\n",
      "Try using .loc[row_indexer,col_indexer] = value instead\n",
      "\n",
      "See the caveats in the documentation: https://pandas.pydata.org/pandas-docs/stable/user_guide/indexing.html#returning-a-view-versus-a-copy\n",
      "  multiple_congen['ID'] = multiple_congen['ID'] + '_' + multiple_congen['Genes']\n",
      "/tmp/ipykernel_2834841/1561617278.py:7: SettingWithCopyWarning: \n",
      "A value is trying to be set on a copy of a slice from a DataFrame.\n",
      "Try using .loc[row_indexer,col_indexer] = value instead\n",
      "\n",
      "See the caveats in the documentation: https://pandas.pydata.org/pandas-docs/stable/user_guide/indexing.html#returning-a-view-versus-a-copy\n",
      "  musculo['ID'] = musculo['ID'] + '_' + musculo['Genes']\n"
     ]
    }
   ],
   "source": [
    "neuro = phenotype_data[phenotype_data['Primary_Symptom_Category'].str.contains(\"Neuro\")]\n",
    "print(len(neuro))\n",
    "multiple_congen = phenotype_data[phenotype_data['Primary_Symptom_Category'].str.contains(\"Multiple\")]\n",
    "musculo = phenotype_data[phenotype_data['Primary_Symptom_Category'].str.contains(\"Musculo\")]\n",
    "neuro['ID'] = neuro['ID'] + '_' + neuro['Genes']\n",
    "multiple_congen['ID'] = multiple_congen['ID'] + '_' + multiple_congen['Genes']\n",
    "musculo['ID'] = musculo['ID'] + '_' + musculo['Genes']"
   ]
  },
  {
   "cell_type": "code",
   "execution_count": 15,
   "metadata": {},
   "outputs": [],
   "source": [
    "gs_exomiser_success_table['cohort'] = ['GS_Exomiser'] * len(gs_exomiser_success_table)\n",
    "gs_genomiser_success_table['cohort'] = ['GS_Genomiser'] * len(gs_genomiser_success_table)\n",
    "es_exomiser_success_table['cohort'] = ['ES_Exomiser'] * len(es_exomiser_success_table)\n",
    "\n",
    "gs_exomiser_table= gs_exomiser_success_table[['ID', 'Variant_Level_noMOI_noN_filtered_15_85_human_revel_mvp_alphaM_spliceAI_noWL','Variant_Level_noMOI_rank_noN_filtered_15_85_human_revel_mvp_alphaM_spliceAI_noWL', 'cohort', 'Variant_Level_noMOI_variant_noN_filtered_15_85_human_revel_mvp_alphaM_spliceAI_noWL','Variant_Level_noMOI_pheno_noN_filtered_15_85_human_revel_mvp_alphaM_spliceAI_noWL','Variant_Level_noMOI_combined_noN_filtered_15_85_human_revel_mvp_alphaM_spliceAI_noWL','Variant_Level_noMOI_p_noN_filtered_15_85_human_revel_mvp_alphaM_spliceAI_noWL']]\n",
    "gs_exomiser_table.columns=['ID', 'Success', 'Rank', 'cohort','Exomiser_Variant', 'Exomiser_Pheno', 'Exomiser_Combined', 'Exomiser_p']\n",
    "gs_genomiser_table = gs_genomiser_success_table[['ID','Variant_Level_noMOI_noN_filtered_15_18_human_REMM_revel_mvp_alphaM_spliceAI_PSF_501_reg_filter_noWL_genomiser', 'Variant_Level_noMOI_rank_noN_filtered_15_18_human_REMM_revel_mvp_alphaM_spliceAI_PSF_501_reg_filter_noWL_genomiser' ,'cohort','Variant_Level_noMOI_variant_noN_filtered_15_18_human_REMM_revel_mvp_alphaM_spliceAI_PSF_501_reg_filter_noWL_genomiser','Variant_Level_noMOI_pheno_noN_filtered_15_18_human_REMM_revel_mvp_alphaM_spliceAI_PSF_501_reg_filter_noWL_genomiser','Variant_Level_noMOI_combined_noN_filtered_15_18_human_REMM_revel_mvp_alphaM_spliceAI_PSF_501_reg_filter_noWL_genomiser','Variant_Level_noMOI_p_noN_filtered_15_18_human_REMM_revel_mvp_alphaM_spliceAI_PSF_501_reg_filter_noWL_genomiser']]\n",
    "gs_genomiser_table.columns=['ID', 'Success', 'Rank', 'cohort','Exomiser_Variant', 'Exomiser_Pheno', 'Exomiser_Combined', 'Exomiser_p']\n",
    "es_exomiser_table = es_exomiser_success_table[['ID', 'Variant_Level_noMOI_noN_filtered_15_85_human_revel_mvp_alphaM_spliceAI_noWL', 'Variant_Level_noMOI_rank_noN_filtered_15_85_human_revel_mvp_alphaM_spliceAI_noWL','cohort','Variant_Level_noMOI_variant_noN_filtered_15_85_human_revel_mvp_alphaM_spliceAI_noWL','Variant_Level_noMOI_pheno_noN_filtered_15_85_human_revel_mvp_alphaM_spliceAI_noWL','Variant_Level_noMOI_combined_noN_filtered_15_85_human_revel_mvp_alphaM_spliceAI_noWL','Variant_Level_noMOI_p_noN_filtered_15_85_human_revel_mvp_alphaM_spliceAI_noWL']]\n",
    "es_exomiser_table.columns=['ID', 'Success', 'Rank', 'cohort','Exomiser_Variant', 'Exomiser_Pheno', 'Exomiser_Combined', 'Exomiser_p']\n",
    "all_success_table = pd.concat([gs_exomiser_table, gs_genomiser_table, es_exomiser_table])\n"
   ]
  },
  {
   "cell_type": "code",
   "execution_count": 16,
   "metadata": {},
   "outputs": [],
   "source": [
    "def create_df(highest_rank, compare, successTable):\n",
    "    x = range(1,highest_rank)\n",
    "    # denom = len(successTable)\n",
    "    data=[]\n",
    "    for runtype in compare:\n",
    "        print(runtype, len(successTable[successTable['cohort']== runtype]))\n",
    "        success = successTable.loc[(successTable['Success']=='Variant_Present_noMOI') & (successTable['cohort']==runtype)]\n",
    "        denom = len(successTable[successTable['cohort']==runtype])\n",
    "        for i in x:\n",
    "            num = len(success.loc[success['Rank'] <= i])\n",
    "            data.append([i,num, (num/denom)*100, runtype])\n",
    "        try:\n",
    "            print(runtype,'highest rank:', max(success['Rank']), 'max%:', (num/denom)*100, num)\n",
    "        except:\n",
    "            print(runtype, '0 percent success')\n",
    "\n",
    "    df = pd.DataFrame(data, columns=['Rank', 'NumPatients', 'Percent_Variants', 'Run_Type'])\n",
    "    return df, denom\n"
   ]
  },
  {
   "cell_type": "code",
   "execution_count": 36,
   "metadata": {},
   "outputs": [],
   "source": [
    "cohorts = ['ES_Exomiser', 'GS_Genomiser' ,'GS_Exomiser']\n",
    "def create_cohorts_plots(cohort, cohorts, all_success_table):\n",
    "    d_df,denom = create_df(300, cohorts, all_success_table)\n",
    "    all_variants = ps.create_plot(denom, d_df, cohorts, 'set1', False, ['','b',cohort]).properties(height=200, width=300)\n",
    "    all_variants\n",
    "\n",
    "    neuro_success = all_success_table[all_success_table['ID'].isin(neuro['ID'])]\n",
    "    print('neuro',len(neuro_success))\n",
    "    d_df,denom = create_df(300, cohorts, neuro_success)\n",
    "    d_df['Run_Type'] = d_df['Run_Type'] + '_neuro'\n",
    "    neuro_plot=ps.create_plot(denom, d_df, cohorts, 'set2', False, ['','b','c',cohort+'_neuro']).properties(height=200, width=300)\n",
    "\n",
    "    multiple_congen_success = all_success_table[all_success_table['ID'].isin(multiple_congen['ID'])]\n",
    "    print('mca',len(multiple_congen_success))\n",
    "    d_df,denom = create_df(300, cohorts, multiple_congen_success)\n",
    "    d_df['Run_Type'] = d_df['Run_Type'] + '_MCA'\n",
    "    multiple_congen_plot=ps.create_plot(denom, d_df, cohorts, 'set2', False, ['','b',cohort+'_MCA']).properties(height=200, width=300)\n",
    "\n",
    "    musculo_success = all_success_table[all_success_table['ID'].isin(musculo['ID'])]\n",
    "    print('musculo',len(musculo_success))\n",
    "    d_df,denom = create_df(300, cohorts, musculo_success)\n",
    "    d_df['Run_Type'] = d_df['Run_Type'] + '_musculo'\n",
    "    musculo_plot=ps.create_plot(denom, d_df, cohorts, 'set2', False, ['',cohort+'_musculo']).properties(height=200, width=300)\n",
    "\n",
    "    final_plot = alt.layer(all_variants, neuro_plot, musculo_plot, multiple_congen_plot).resolve_scale(color='independent')\n",
    "\n",
    "    return final_plot"
   ]
  },
  {
   "cell_type": "code",
   "execution_count": 40,
   "metadata": {},
   "outputs": [
    {
     "name": "stdout",
     "output_type": "stream",
     "text": [
      "ES_Exomiser 153\n",
      "ES_Exomiser highest rank: 83.0 max%: 96.73202614379085 148\n",
      "GS_Genomiser 60\n",
      "GS_Genomiser highest rank: 448.0 max%: 65.0 39\n",
      "GS_Exomiser 296\n",
      "GS_Exomiser highest rank: 78.0 max%: 97.2972972972973 288\n",
      "neuro 238\n",
      "ES_Exomiser 68\n",
      "ES_Exomiser highest rank: 20.0 max%: 95.58823529411765 65\n",
      "GS_Genomiser 22\n",
      "GS_Genomiser highest rank: 448.0 max%: 90.9090909090909 20\n",
      "GS_Exomiser 148\n",
      "GS_Exomiser highest rank: 73.0 max%: 97.2972972972973 144\n",
      "mca 53\n",
      "ES_Exomiser 18\n",
      "ES_Exomiser highest rank: 46.0 max%: 100.0 18\n",
      "GS_Genomiser 10\n",
      "GS_Genomiser highest rank: 351.0 max%: 80.0 8\n",
      "GS_Exomiser 25\n",
      "GS_Exomiser highest rank: 66.0 max%: 100.0 25\n",
      "musculo 47\n",
      "ES_Exomiser 10\n",
      "ES_Exomiser highest rank: 53.0 max%: 100.0 10\n",
      "GS_Genomiser 10\n",
      "GS_Genomiser highest rank: 8.0 max%: 90.0 9\n",
      "GS_Exomiser 27\n",
      "GS_Exomiser highest rank: 17.0 max%: 100.0 27\n",
      "ES_Exomiser 153\n",
      "ES_Exomiser highest rank: 83.0 max%: 96.73202614379085 148\n",
      "GS_Genomiser 60\n",
      "GS_Genomiser highest rank: 448.0 max%: 65.0 39\n",
      "GS_Exomiser 296\n",
      "GS_Exomiser highest rank: 78.0 max%: 97.2972972972973 288\n",
      "neuro 238\n",
      "ES_Exomiser 68\n",
      "ES_Exomiser highest rank: 20.0 max%: 95.58823529411765 65\n",
      "GS_Genomiser 22\n",
      "GS_Genomiser highest rank: 448.0 max%: 90.9090909090909 20\n",
      "GS_Exomiser 148\n",
      "GS_Exomiser highest rank: 73.0 max%: 97.2972972972973 144\n",
      "mca 53\n",
      "ES_Exomiser 18\n",
      "ES_Exomiser highest rank: 46.0 max%: 100.0 18\n",
      "GS_Genomiser 10\n",
      "GS_Genomiser highest rank: 351.0 max%: 80.0 8\n",
      "GS_Exomiser 25\n",
      "GS_Exomiser highest rank: 66.0 max%: 100.0 25\n",
      "musculo 47\n",
      "ES_Exomiser 10\n",
      "ES_Exomiser highest rank: 53.0 max%: 100.0 10\n",
      "GS_Genomiser 10\n",
      "GS_Genomiser highest rank: 8.0 max%: 90.0 9\n",
      "GS_Exomiser 27\n",
      "GS_Exomiser highest rank: 17.0 max%: 100.0 27\n",
      "ES_Exomiser 153\n",
      "ES_Exomiser highest rank: 83.0 max%: 96.73202614379085 148\n",
      "GS_Genomiser 60\n",
      "GS_Genomiser highest rank: 448.0 max%: 65.0 39\n",
      "GS_Exomiser 296\n",
      "GS_Exomiser highest rank: 78.0 max%: 97.2972972972973 288\n",
      "neuro 238\n",
      "ES_Exomiser 68\n",
      "ES_Exomiser highest rank: 20.0 max%: 95.58823529411765 65\n",
      "GS_Genomiser 22\n",
      "GS_Genomiser highest rank: 448.0 max%: 90.9090909090909 20\n",
      "GS_Exomiser 148\n",
      "GS_Exomiser highest rank: 73.0 max%: 97.2972972972973 144\n",
      "mca 53\n",
      "ES_Exomiser 18\n",
      "ES_Exomiser highest rank: 46.0 max%: 100.0 18\n",
      "GS_Genomiser 10\n",
      "GS_Genomiser highest rank: 351.0 max%: 80.0 8\n",
      "GS_Exomiser 25\n",
      "GS_Exomiser highest rank: 66.0 max%: 100.0 25\n",
      "musculo 47\n",
      "ES_Exomiser 10\n",
      "ES_Exomiser highest rank: 53.0 max%: 100.0 10\n",
      "GS_Genomiser 10\n",
      "GS_Genomiser highest rank: 8.0 max%: 90.0 9\n",
      "GS_Exomiser 27\n",
      "GS_Exomiser highest rank: 17.0 max%: 100.0 27\n"
     ]
    },
    {
     "data": {
      "text/html": [
       "\n",
       "<style>\n",
       "  #altair-viz-a081a5e7f6e9455091eeea01ebb82253.vega-embed {\n",
       "    width: 100%;\n",
       "    display: flex;\n",
       "  }\n",
       "\n",
       "  #altair-viz-a081a5e7f6e9455091eeea01ebb82253.vega-embed details,\n",
       "  #altair-viz-a081a5e7f6e9455091eeea01ebb82253.vega-embed details summary {\n",
       "    position: relative;\n",
       "  }\n",
       "</style>\n",
       "<div id=\"altair-viz-a081a5e7f6e9455091eeea01ebb82253\"></div>\n",
       "<script type=\"text/javascript\">\n",
       "  var VEGA_DEBUG = (typeof VEGA_DEBUG == \"undefined\") ? {} : VEGA_DEBUG;\n",
       "  (function(spec, embedOpt){\n",
       "    let outputDiv = document.currentScript.previousElementSibling;\n",
       "    if (outputDiv.id !== \"altair-viz-a081a5e7f6e9455091eeea01ebb82253\") {\n",
       "      outputDiv = document.getElementById(\"altair-viz-a081a5e7f6e9455091eeea01ebb82253\");\n",
       "    }\n",
       "    const paths = {\n",
       "      \"vega\": \"https://cdn.jsdelivr.net/npm/vega@5?noext\",\n",
       "      \"vega-lib\": \"https://cdn.jsdelivr.net/npm/vega-lib?noext\",\n",
       "      \"vega-lite\": \"https://cdn.jsdelivr.net/npm/vega-lite@5.17.0?noext\",\n",
       "      \"vega-embed\": \"https://cdn.jsdelivr.net/npm/vega-embed@6?noext\",\n",
       "    };\n",
       "\n",
       "    function maybeLoadScript(lib, version) {\n",
       "      var key = `${lib.replace(\"-\", \"\")}_version`;\n",
       "      return (VEGA_DEBUG[key] == version) ?\n",
       "        Promise.resolve(paths[lib]) :\n",
       "        new Promise(function(resolve, reject) {\n",
       "          var s = document.createElement('script');\n",
       "          document.getElementsByTagName(\"head\")[0].appendChild(s);\n",
       "          s.async = true;\n",
       "          s.onload = () => {\n",
       "            VEGA_DEBUG[key] = version;\n",
       "            return resolve(paths[lib]);\n",
       "          };\n",
       "          s.onerror = () => reject(`Error loading script: ${paths[lib]}`);\n",
       "          s.src = paths[lib];\n",
       "        });\n",
       "    }\n",
       "\n",
       "    function showError(err) {\n",
       "      outputDiv.innerHTML = `<div class=\"error\" style=\"color:red;\">${err}</div>`;\n",
       "      throw err;\n",
       "    }\n",
       "\n",
       "    function displayChart(vegaEmbed) {\n",
       "      vegaEmbed(outputDiv, spec, embedOpt)\n",
       "        .catch(err => showError(`Javascript Error: ${err.message}<br>This usually means there's a typo in your chart specification. See the javascript console for the full traceback.`));\n",
       "    }\n",
       "\n",
       "    if(typeof define === \"function\" && define.amd) {\n",
       "      requirejs.config({paths});\n",
       "      require([\"vega-embed\"], displayChart, err => showError(`Error loading script: ${err.message}`));\n",
       "    } else {\n",
       "      maybeLoadScript(\"vega\", \"5\")\n",
       "        .then(() => maybeLoadScript(\"vega-lite\", \"5.17.0\"))\n",
       "        .then(() => maybeLoadScript(\"vega-embed\", \"6\"))\n",
       "        .catch(showError)\n",
       "        .then(() => displayChart(vegaEmbed));\n",
       "    }\n",
       "  })({\"config\": {\"view\": {\"continuousWidth\": 300, \"continuousHeight\": 300}, \"axis\": {\"labelFontSize\": 15, \"titleFontSize\": 15}, \"legend\": {\"labelFontSize\": 15, \"labelLimit\": 0, \"titleFontSize\": 15}}, \"vconcat\": [{\"layer\": [{\"data\": {\"name\": \"data-3772d47fb0d22e6994a4bb779481cb5b\"}, \"mark\": {\"type\": \"line\", \"point\": {\"size\": 50}}, \"encoding\": {\"color\": {\"field\": \"Run_Type\", \"scale\": {\"domain\": [\"\", \"b\", \"GS_Exomiser\"], \"scheme\": \"set1\"}, \"sort\": [\"ES_Exomiser\", \"GS_Genomiser\", \"GS_Exomiser\"], \"type\": \"nominal\"}, \"tooltip\": [{\"field\": \"Rank\", \"type\": \"quantitative\"}, {\"field\": \"Percent_Variants\", \"type\": \"quantitative\"}, {\"field\": \"Run_Type\", \"type\": \"nominal\"}], \"x\": {\"field\": \"Rank\", \"title\": \"Exomiser Rank of Causal Variant\", \"type\": \"quantitative\"}, \"y\": {\"field\": \"Percent_Variants\", \"scale\": {\"domain\": [0, 100]}, \"title\": \"Percent of Causal Variants within Exomiser Rank\", \"type\": \"quantitative\"}}, \"title\": \"296Diagnostic Variants (Variant Level - no MOI requirement)\"}, {\"data\": {\"name\": \"data-f2980bc0f9754bf6e96a2f58298dc60b\"}, \"mark\": {\"type\": \"line\", \"point\": {\"size\": 50}}, \"encoding\": {\"color\": {\"field\": \"Run_Type\", \"scale\": {\"domain\": [\"\", \"b\", \"c\", \"GS_Exomiser_neuro\"], \"scheme\": \"set2\"}, \"sort\": [\"ES_Exomiser\", \"GS_Genomiser\", \"GS_Exomiser\"], \"type\": \"nominal\"}, \"tooltip\": [{\"field\": \"Rank\", \"type\": \"quantitative\"}, {\"field\": \"Percent_Variants\", \"type\": \"quantitative\"}, {\"field\": \"Run_Type\", \"type\": \"nominal\"}], \"x\": {\"field\": \"Rank\", \"title\": \"Exomiser Rank of Causal Variant\", \"type\": \"quantitative\"}, \"y\": {\"field\": \"Percent_Variants\", \"scale\": {\"domain\": [0, 100]}, \"title\": \"Percent of Causal Variants within Exomiser Rank\", \"type\": \"quantitative\"}}, \"title\": \"148Diagnostic Variants (Variant Level - no MOI requirement)\"}, {\"data\": {\"name\": \"data-19fa1fe582066b174ce63c0582d7c078\"}, \"mark\": {\"type\": \"line\", \"point\": {\"size\": 50}}, \"encoding\": {\"color\": {\"field\": \"Run_Type\", \"scale\": {\"domain\": [\"\", \"GS_Exomiser_musculo\"], \"scheme\": \"set2\"}, \"sort\": [\"ES_Exomiser\", \"GS_Genomiser\", \"GS_Exomiser\"], \"type\": \"nominal\"}, \"tooltip\": [{\"field\": \"Rank\", \"type\": \"quantitative\"}, {\"field\": \"Percent_Variants\", \"type\": \"quantitative\"}, {\"field\": \"Run_Type\", \"type\": \"nominal\"}], \"x\": {\"field\": \"Rank\", \"title\": \"Exomiser Rank of Causal Variant\", \"type\": \"quantitative\"}, \"y\": {\"field\": \"Percent_Variants\", \"scale\": {\"domain\": [0, 100]}, \"title\": \"Percent of Causal Variants within Exomiser Rank\", \"type\": \"quantitative\"}}, \"title\": \"27Diagnostic Variants (Variant Level - no MOI requirement)\"}, {\"data\": {\"name\": \"data-6eac4f3c337f15649bc5022802fbd10c\"}, \"mark\": {\"type\": \"line\", \"point\": {\"size\": 50}}, \"encoding\": {\"color\": {\"field\": \"Run_Type\", \"scale\": {\"domain\": [\"\", \"b\", \"GS_Exomiser_MCA\"], \"scheme\": \"set2\"}, \"sort\": [\"ES_Exomiser\", \"GS_Genomiser\", \"GS_Exomiser\"], \"type\": \"nominal\"}, \"tooltip\": [{\"field\": \"Rank\", \"type\": \"quantitative\"}, {\"field\": \"Percent_Variants\", \"type\": \"quantitative\"}, {\"field\": \"Run_Type\", \"type\": \"nominal\"}], \"x\": {\"field\": \"Rank\", \"title\": \"Exomiser Rank of Causal Variant\", \"type\": \"quantitative\"}, \"y\": {\"field\": \"Percent_Variants\", \"scale\": {\"domain\": [0, 100]}, \"title\": \"Percent of Causal Variants within Exomiser Rank\", \"type\": \"quantitative\"}}, \"title\": \"25Diagnostic Variants (Variant Level - no MOI requirement)\"}], \"height\": 200, \"resolve\": {\"scale\": {\"color\": \"independent\"}}, \"width\": 300}, {\"layer\": [{\"data\": {\"name\": \"data-3772d47fb0d22e6994a4bb779481cb5b\"}, \"mark\": {\"type\": \"line\", \"point\": {\"size\": 50}}, \"encoding\": {\"color\": {\"field\": \"Run_Type\", \"scale\": {\"domain\": [\"\", \"b\", \"ES_Exomiser\"], \"scheme\": \"set1\"}, \"sort\": [\"ES_Exomiser\", \"GS_Genomiser\", \"GS_Exomiser\"], \"type\": \"nominal\"}, \"tooltip\": [{\"field\": \"Rank\", \"type\": \"quantitative\"}, {\"field\": \"Percent_Variants\", \"type\": \"quantitative\"}, {\"field\": \"Run_Type\", \"type\": \"nominal\"}], \"x\": {\"field\": \"Rank\", \"title\": \"Exomiser Rank of Causal Variant\", \"type\": \"quantitative\"}, \"y\": {\"field\": \"Percent_Variants\", \"scale\": {\"domain\": [0, 100]}, \"title\": \"Percent of Causal Variants within Exomiser Rank\", \"type\": \"quantitative\"}}, \"title\": \"296Diagnostic Variants (Variant Level - no MOI requirement)\"}, {\"data\": {\"name\": \"data-f2980bc0f9754bf6e96a2f58298dc60b\"}, \"mark\": {\"type\": \"line\", \"point\": {\"size\": 50}}, \"encoding\": {\"color\": {\"field\": \"Run_Type\", \"scale\": {\"domain\": [\"\", \"b\", \"c\", \"ES_Exomiser_neuro\"], \"scheme\": \"set2\"}, \"sort\": [\"ES_Exomiser\", \"GS_Genomiser\", \"GS_Exomiser\"], \"type\": \"nominal\"}, \"tooltip\": [{\"field\": \"Rank\", \"type\": \"quantitative\"}, {\"field\": \"Percent_Variants\", \"type\": \"quantitative\"}, {\"field\": \"Run_Type\", \"type\": \"nominal\"}], \"x\": {\"field\": \"Rank\", \"title\": \"Exomiser Rank of Causal Variant\", \"type\": \"quantitative\"}, \"y\": {\"field\": \"Percent_Variants\", \"scale\": {\"domain\": [0, 100]}, \"title\": \"Percent of Causal Variants within Exomiser Rank\", \"type\": \"quantitative\"}}, \"title\": \"148Diagnostic Variants (Variant Level - no MOI requirement)\"}, {\"data\": {\"name\": \"data-19fa1fe582066b174ce63c0582d7c078\"}, \"mark\": {\"type\": \"line\", \"point\": {\"size\": 50}}, \"encoding\": {\"color\": {\"field\": \"Run_Type\", \"scale\": {\"domain\": [\"\", \"ES_Exomiser_musculo\"], \"scheme\": \"set2\"}, \"sort\": [\"ES_Exomiser\", \"GS_Genomiser\", \"GS_Exomiser\"], \"type\": \"nominal\"}, \"tooltip\": [{\"field\": \"Rank\", \"type\": \"quantitative\"}, {\"field\": \"Percent_Variants\", \"type\": \"quantitative\"}, {\"field\": \"Run_Type\", \"type\": \"nominal\"}], \"x\": {\"field\": \"Rank\", \"title\": \"Exomiser Rank of Causal Variant\", \"type\": \"quantitative\"}, \"y\": {\"field\": \"Percent_Variants\", \"scale\": {\"domain\": [0, 100]}, \"title\": \"Percent of Causal Variants within Exomiser Rank\", \"type\": \"quantitative\"}}, \"title\": \"27Diagnostic Variants (Variant Level - no MOI requirement)\"}, {\"data\": {\"name\": \"data-6eac4f3c337f15649bc5022802fbd10c\"}, \"mark\": {\"type\": \"line\", \"point\": {\"size\": 50}}, \"encoding\": {\"color\": {\"field\": \"Run_Type\", \"scale\": {\"domain\": [\"\", \"b\", \"ES_Exomiser_MCA\"], \"scheme\": \"set2\"}, \"sort\": [\"ES_Exomiser\", \"GS_Genomiser\", \"GS_Exomiser\"], \"type\": \"nominal\"}, \"tooltip\": [{\"field\": \"Rank\", \"type\": \"quantitative\"}, {\"field\": \"Percent_Variants\", \"type\": \"quantitative\"}, {\"field\": \"Run_Type\", \"type\": \"nominal\"}], \"x\": {\"field\": \"Rank\", \"title\": \"Exomiser Rank of Causal Variant\", \"type\": \"quantitative\"}, \"y\": {\"field\": \"Percent_Variants\", \"scale\": {\"domain\": [0, 100]}, \"title\": \"Percent of Causal Variants within Exomiser Rank\", \"type\": \"quantitative\"}}, \"title\": \"25Diagnostic Variants (Variant Level - no MOI requirement)\"}], \"height\": 200, \"resolve\": {\"scale\": {\"color\": \"independent\"}}, \"width\": 300}, {\"layer\": [{\"data\": {\"name\": \"data-3772d47fb0d22e6994a4bb779481cb5b\"}, \"mark\": {\"type\": \"line\", \"point\": {\"size\": 50}}, \"encoding\": {\"color\": {\"field\": \"Run_Type\", \"scale\": {\"domain\": [\"\", \"b\", \"GS_Genomiser\"], \"scheme\": \"set1\"}, \"sort\": [\"ES_Exomiser\", \"GS_Genomiser\", \"GS_Exomiser\"], \"type\": \"nominal\"}, \"tooltip\": [{\"field\": \"Rank\", \"type\": \"quantitative\"}, {\"field\": \"Percent_Variants\", \"type\": \"quantitative\"}, {\"field\": \"Run_Type\", \"type\": \"nominal\"}], \"x\": {\"field\": \"Rank\", \"title\": \"Exomiser Rank of Causal Variant\", \"type\": \"quantitative\"}, \"y\": {\"field\": \"Percent_Variants\", \"scale\": {\"domain\": [0, 100]}, \"title\": \"Percent of Causal Variants within Exomiser Rank\", \"type\": \"quantitative\"}}, \"title\": \"296Diagnostic Variants (Variant Level - no MOI requirement)\"}, {\"data\": {\"name\": \"data-f2980bc0f9754bf6e96a2f58298dc60b\"}, \"mark\": {\"type\": \"line\", \"point\": {\"size\": 50}}, \"encoding\": {\"color\": {\"field\": \"Run_Type\", \"scale\": {\"domain\": [\"\", \"b\", \"c\", \"GS_Genomiser_neuro\"], \"scheme\": \"set2\"}, \"sort\": [\"ES_Exomiser\", \"GS_Genomiser\", \"GS_Exomiser\"], \"type\": \"nominal\"}, \"tooltip\": [{\"field\": \"Rank\", \"type\": \"quantitative\"}, {\"field\": \"Percent_Variants\", \"type\": \"quantitative\"}, {\"field\": \"Run_Type\", \"type\": \"nominal\"}], \"x\": {\"field\": \"Rank\", \"title\": \"Exomiser Rank of Causal Variant\", \"type\": \"quantitative\"}, \"y\": {\"field\": \"Percent_Variants\", \"scale\": {\"domain\": [0, 100]}, \"title\": \"Percent of Causal Variants within Exomiser Rank\", \"type\": \"quantitative\"}}, \"title\": \"148Diagnostic Variants (Variant Level - no MOI requirement)\"}, {\"data\": {\"name\": \"data-19fa1fe582066b174ce63c0582d7c078\"}, \"mark\": {\"type\": \"line\", \"point\": {\"size\": 50}}, \"encoding\": {\"color\": {\"field\": \"Run_Type\", \"scale\": {\"domain\": [\"\", \"GS_Genomiser_musculo\"], \"scheme\": \"set2\"}, \"sort\": [\"ES_Exomiser\", \"GS_Genomiser\", \"GS_Exomiser\"], \"type\": \"nominal\"}, \"tooltip\": [{\"field\": \"Rank\", \"type\": \"quantitative\"}, {\"field\": \"Percent_Variants\", \"type\": \"quantitative\"}, {\"field\": \"Run_Type\", \"type\": \"nominal\"}], \"x\": {\"field\": \"Rank\", \"title\": \"Exomiser Rank of Causal Variant\", \"type\": \"quantitative\"}, \"y\": {\"field\": \"Percent_Variants\", \"scale\": {\"domain\": [0, 100]}, \"title\": \"Percent of Causal Variants within Exomiser Rank\", \"type\": \"quantitative\"}}, \"title\": \"27Diagnostic Variants (Variant Level - no MOI requirement)\"}, {\"data\": {\"name\": \"data-6eac4f3c337f15649bc5022802fbd10c\"}, \"mark\": {\"type\": \"line\", \"point\": {\"size\": 50}}, \"encoding\": {\"color\": {\"field\": \"Run_Type\", \"scale\": {\"domain\": [\"\", \"b\", \"GS_Genomiser_MCA\"], \"scheme\": \"set2\"}, \"sort\": [\"ES_Exomiser\", \"GS_Genomiser\", \"GS_Exomiser\"], \"type\": \"nominal\"}, \"tooltip\": [{\"field\": \"Rank\", \"type\": \"quantitative\"}, {\"field\": \"Percent_Variants\", \"type\": \"quantitative\"}, {\"field\": \"Run_Type\", \"type\": \"nominal\"}], \"x\": {\"field\": \"Rank\", \"title\": \"Exomiser Rank of Causal Variant\", \"type\": \"quantitative\"}, \"y\": {\"field\": \"Percent_Variants\", \"scale\": {\"domain\": [0, 100]}, \"title\": \"Percent of Causal Variants within Exomiser Rank\", \"type\": \"quantitative\"}}, \"title\": \"25Diagnostic Variants (Variant Level - no MOI requirement)\"}], \"height\": 200, \"resolve\": {\"scale\": {\"color\": \"independent\"}}, \"width\": 300}], \"$schema\": \"https://vega.github.io/schema/vega-lite/v5.17.0.json\", \"datasets\": {\"data-3772d47fb0d22e6994a4bb779481cb5b\": [{\"Rank\": 1, \"NumPatients\": 92, \"Percent_Variants\": 60.130718954248366, \"Run_Type\": \"ES_Exomiser\"}, {\"Rank\": 2, \"NumPatients\": 113, \"Percent_Variants\": 73.8562091503268, \"Run_Type\": \"ES_Exomiser\"}, {\"Rank\": 3, \"NumPatients\": 124, \"Percent_Variants\": 81.04575163398692, \"Run_Type\": \"ES_Exomiser\"}, {\"Rank\": 4, \"NumPatients\": 127, \"Percent_Variants\": 83.00653594771242, \"Run_Type\": \"ES_Exomiser\"}, {\"Rank\": 5, \"NumPatients\": 130, \"Percent_Variants\": 84.9673202614379, \"Run_Type\": \"ES_Exomiser\"}, {\"Rank\": 6, \"NumPatients\": 132, \"Percent_Variants\": 86.27450980392157, \"Run_Type\": \"ES_Exomiser\"}, {\"Rank\": 7, \"NumPatients\": 134, \"Percent_Variants\": 87.58169934640523, \"Run_Type\": \"ES_Exomiser\"}, {\"Rank\": 8, \"NumPatients\": 134, \"Percent_Variants\": 87.58169934640523, \"Run_Type\": \"ES_Exomiser\"}, {\"Rank\": 9, \"NumPatients\": 135, \"Percent_Variants\": 88.23529411764706, \"Run_Type\": \"ES_Exomiser\"}, {\"Rank\": 10, \"NumPatients\": 135, \"Percent_Variants\": 88.23529411764706, \"Run_Type\": \"ES_Exomiser\"}, {\"Rank\": 11, \"NumPatients\": 135, \"Percent_Variants\": 88.23529411764706, \"Run_Type\": \"ES_Exomiser\"}, {\"Rank\": 12, \"NumPatients\": 135, \"Percent_Variants\": 88.23529411764706, \"Run_Type\": \"ES_Exomiser\"}, {\"Rank\": 13, \"NumPatients\": 135, \"Percent_Variants\": 88.23529411764706, \"Run_Type\": \"ES_Exomiser\"}, {\"Rank\": 14, \"NumPatients\": 137, \"Percent_Variants\": 89.54248366013073, \"Run_Type\": \"ES_Exomiser\"}, {\"Rank\": 15, \"NumPatients\": 137, \"Percent_Variants\": 89.54248366013073, \"Run_Type\": \"ES_Exomiser\"}, {\"Rank\": 16, \"NumPatients\": 138, \"Percent_Variants\": 90.19607843137256, \"Run_Type\": \"ES_Exomiser\"}, {\"Rank\": 17, \"NumPatients\": 138, \"Percent_Variants\": 90.19607843137256, \"Run_Type\": \"ES_Exomiser\"}, {\"Rank\": 18, \"NumPatients\": 139, \"Percent_Variants\": 90.84967320261438, \"Run_Type\": \"ES_Exomiser\"}, {\"Rank\": 19, \"NumPatients\": 139, \"Percent_Variants\": 90.84967320261438, \"Run_Type\": \"ES_Exomiser\"}, {\"Rank\": 20, \"NumPatients\": 140, \"Percent_Variants\": 91.50326797385621, \"Run_Type\": \"ES_Exomiser\"}, {\"Rank\": 21, \"NumPatients\": 141, \"Percent_Variants\": 92.15686274509804, \"Run_Type\": \"ES_Exomiser\"}, {\"Rank\": 22, \"NumPatients\": 141, \"Percent_Variants\": 92.15686274509804, \"Run_Type\": \"ES_Exomiser\"}, {\"Rank\": 23, \"NumPatients\": 141, \"Percent_Variants\": 92.15686274509804, \"Run_Type\": \"ES_Exomiser\"}, {\"Rank\": 24, \"NumPatients\": 141, \"Percent_Variants\": 92.15686274509804, \"Run_Type\": \"ES_Exomiser\"}, {\"Rank\": 25, \"NumPatients\": 143, \"Percent_Variants\": 93.4640522875817, \"Run_Type\": \"ES_Exomiser\"}, {\"Rank\": 26, \"NumPatients\": 143, \"Percent_Variants\": 93.4640522875817, \"Run_Type\": \"ES_Exomiser\"}, {\"Rank\": 27, \"NumPatients\": 143, \"Percent_Variants\": 93.4640522875817, \"Run_Type\": \"ES_Exomiser\"}, {\"Rank\": 28, \"NumPatients\": 143, \"Percent_Variants\": 93.4640522875817, \"Run_Type\": \"ES_Exomiser\"}, {\"Rank\": 29, \"NumPatients\": 143, \"Percent_Variants\": 93.4640522875817, \"Run_Type\": \"ES_Exomiser\"}, {\"Rank\": 30, \"NumPatients\": 143, \"Percent_Variants\": 93.4640522875817, \"Run_Type\": \"ES_Exomiser\"}, {\"Rank\": 1, \"NumPatients\": 7, \"Percent_Variants\": 11.666666666666666, \"Run_Type\": \"GS_Genomiser\"}, {\"Rank\": 2, \"NumPatients\": 12, \"Percent_Variants\": 20.0, \"Run_Type\": \"GS_Genomiser\"}, {\"Rank\": 3, \"NumPatients\": 12, \"Percent_Variants\": 20.0, \"Run_Type\": \"GS_Genomiser\"}, {\"Rank\": 4, \"NumPatients\": 15, \"Percent_Variants\": 25.0, \"Run_Type\": \"GS_Genomiser\"}, {\"Rank\": 5, \"NumPatients\": 16, \"Percent_Variants\": 26.666666666666668, \"Run_Type\": \"GS_Genomiser\"}, {\"Rank\": 6, \"NumPatients\": 16, \"Percent_Variants\": 26.666666666666668, \"Run_Type\": \"GS_Genomiser\"}, {\"Rank\": 7, \"NumPatients\": 18, \"Percent_Variants\": 30.0, \"Run_Type\": \"GS_Genomiser\"}, {\"Rank\": 8, \"NumPatients\": 22, \"Percent_Variants\": 36.666666666666664, \"Run_Type\": \"GS_Genomiser\"}, {\"Rank\": 9, \"NumPatients\": 22, \"Percent_Variants\": 36.666666666666664, \"Run_Type\": \"GS_Genomiser\"}, {\"Rank\": 10, \"NumPatients\": 24, \"Percent_Variants\": 40.0, \"Run_Type\": \"GS_Genomiser\"}, {\"Rank\": 11, \"NumPatients\": 24, \"Percent_Variants\": 40.0, \"Run_Type\": \"GS_Genomiser\"}, {\"Rank\": 12, \"NumPatients\": 24, \"Percent_Variants\": 40.0, \"Run_Type\": \"GS_Genomiser\"}, {\"Rank\": 13, \"NumPatients\": 25, \"Percent_Variants\": 41.66666666666667, \"Run_Type\": \"GS_Genomiser\"}, {\"Rank\": 14, \"NumPatients\": 27, \"Percent_Variants\": 45.0, \"Run_Type\": \"GS_Genomiser\"}, {\"Rank\": 15, \"NumPatients\": 27, \"Percent_Variants\": 45.0, \"Run_Type\": \"GS_Genomiser\"}, {\"Rank\": 16, \"NumPatients\": 27, \"Percent_Variants\": 45.0, \"Run_Type\": \"GS_Genomiser\"}, {\"Rank\": 17, \"NumPatients\": 27, \"Percent_Variants\": 45.0, \"Run_Type\": \"GS_Genomiser\"}, {\"Rank\": 18, \"NumPatients\": 28, \"Percent_Variants\": 46.666666666666664, \"Run_Type\": \"GS_Genomiser\"}, {\"Rank\": 19, \"NumPatients\": 28, \"Percent_Variants\": 46.666666666666664, \"Run_Type\": \"GS_Genomiser\"}, {\"Rank\": 20, \"NumPatients\": 28, \"Percent_Variants\": 46.666666666666664, \"Run_Type\": \"GS_Genomiser\"}, {\"Rank\": 21, \"NumPatients\": 29, \"Percent_Variants\": 48.333333333333336, \"Run_Type\": \"GS_Genomiser\"}, {\"Rank\": 22, \"NumPatients\": 29, \"Percent_Variants\": 48.333333333333336, \"Run_Type\": \"GS_Genomiser\"}, {\"Rank\": 23, \"NumPatients\": 29, \"Percent_Variants\": 48.333333333333336, \"Run_Type\": \"GS_Genomiser\"}, {\"Rank\": 24, \"NumPatients\": 29, \"Percent_Variants\": 48.333333333333336, \"Run_Type\": \"GS_Genomiser\"}, {\"Rank\": 25, \"NumPatients\": 29, \"Percent_Variants\": 48.333333333333336, \"Run_Type\": \"GS_Genomiser\"}, {\"Rank\": 26, \"NumPatients\": 29, \"Percent_Variants\": 48.333333333333336, \"Run_Type\": \"GS_Genomiser\"}, {\"Rank\": 27, \"NumPatients\": 29, \"Percent_Variants\": 48.333333333333336, \"Run_Type\": \"GS_Genomiser\"}, {\"Rank\": 28, \"NumPatients\": 29, \"Percent_Variants\": 48.333333333333336, \"Run_Type\": \"GS_Genomiser\"}, {\"Rank\": 29, \"NumPatients\": 29, \"Percent_Variants\": 48.333333333333336, \"Run_Type\": \"GS_Genomiser\"}, {\"Rank\": 30, \"NumPatients\": 29, \"Percent_Variants\": 48.333333333333336, \"Run_Type\": \"GS_Genomiser\"}, {\"Rank\": 1, \"NumPatients\": 158, \"Percent_Variants\": 53.37837837837838, \"Run_Type\": \"GS_Exomiser\"}, {\"Rank\": 2, \"NumPatients\": 200, \"Percent_Variants\": 67.56756756756756, \"Run_Type\": \"GS_Exomiser\"}, {\"Rank\": 3, \"NumPatients\": 212, \"Percent_Variants\": 71.62162162162163, \"Run_Type\": \"GS_Exomiser\"}, {\"Rank\": 4, \"NumPatients\": 216, \"Percent_Variants\": 72.97297297297297, \"Run_Type\": \"GS_Exomiser\"}, {\"Rank\": 5, \"NumPatients\": 228, \"Percent_Variants\": 77.02702702702703, \"Run_Type\": \"GS_Exomiser\"}, {\"Rank\": 6, \"NumPatients\": 235, \"Percent_Variants\": 79.3918918918919, \"Run_Type\": \"GS_Exomiser\"}, {\"Rank\": 7, \"NumPatients\": 240, \"Percent_Variants\": 81.08108108108108, \"Run_Type\": \"GS_Exomiser\"}, {\"Rank\": 8, \"NumPatients\": 248, \"Percent_Variants\": 83.78378378378379, \"Run_Type\": \"GS_Exomiser\"}, {\"Rank\": 9, \"NumPatients\": 252, \"Percent_Variants\": 85.13513513513513, \"Run_Type\": \"GS_Exomiser\"}, {\"Rank\": 10, \"NumPatients\": 253, \"Percent_Variants\": 85.47297297297297, \"Run_Type\": \"GS_Exomiser\"}, {\"Rank\": 11, \"NumPatients\": 259, \"Percent_Variants\": 87.5, \"Run_Type\": \"GS_Exomiser\"}, {\"Rank\": 12, \"NumPatients\": 262, \"Percent_Variants\": 88.51351351351352, \"Run_Type\": \"GS_Exomiser\"}, {\"Rank\": 13, \"NumPatients\": 264, \"Percent_Variants\": 89.1891891891892, \"Run_Type\": \"GS_Exomiser\"}, {\"Rank\": 14, \"NumPatients\": 267, \"Percent_Variants\": 90.2027027027027, \"Run_Type\": \"GS_Exomiser\"}, {\"Rank\": 15, \"NumPatients\": 272, \"Percent_Variants\": 91.8918918918919, \"Run_Type\": \"GS_Exomiser\"}, {\"Rank\": 16, \"NumPatients\": 275, \"Percent_Variants\": 92.9054054054054, \"Run_Type\": \"GS_Exomiser\"}, {\"Rank\": 17, \"NumPatients\": 278, \"Percent_Variants\": 93.91891891891892, \"Run_Type\": \"GS_Exomiser\"}, {\"Rank\": 18, \"NumPatients\": 278, \"Percent_Variants\": 93.91891891891892, \"Run_Type\": \"GS_Exomiser\"}, {\"Rank\": 19, \"NumPatients\": 279, \"Percent_Variants\": 94.25675675675676, \"Run_Type\": \"GS_Exomiser\"}, {\"Rank\": 20, \"NumPatients\": 279, \"Percent_Variants\": 94.25675675675676, \"Run_Type\": \"GS_Exomiser\"}, {\"Rank\": 21, \"NumPatients\": 280, \"Percent_Variants\": 94.5945945945946, \"Run_Type\": \"GS_Exomiser\"}, {\"Rank\": 22, \"NumPatients\": 280, \"Percent_Variants\": 94.5945945945946, \"Run_Type\": \"GS_Exomiser\"}, {\"Rank\": 23, \"NumPatients\": 280, \"Percent_Variants\": 94.5945945945946, \"Run_Type\": \"GS_Exomiser\"}, {\"Rank\": 24, \"NumPatients\": 280, \"Percent_Variants\": 94.5945945945946, \"Run_Type\": \"GS_Exomiser\"}, {\"Rank\": 25, \"NumPatients\": 280, \"Percent_Variants\": 94.5945945945946, \"Run_Type\": \"GS_Exomiser\"}, {\"Rank\": 26, \"NumPatients\": 280, \"Percent_Variants\": 94.5945945945946, \"Run_Type\": \"GS_Exomiser\"}, {\"Rank\": 27, \"NumPatients\": 280, \"Percent_Variants\": 94.5945945945946, \"Run_Type\": \"GS_Exomiser\"}, {\"Rank\": 28, \"NumPatients\": 280, \"Percent_Variants\": 94.5945945945946, \"Run_Type\": \"GS_Exomiser\"}, {\"Rank\": 29, \"NumPatients\": 280, \"Percent_Variants\": 94.5945945945946, \"Run_Type\": \"GS_Exomiser\"}, {\"Rank\": 30, \"NumPatients\": 282, \"Percent_Variants\": 95.27027027027027, \"Run_Type\": \"GS_Exomiser\"}], \"data-f2980bc0f9754bf6e96a2f58298dc60b\": [{\"Rank\": 1, \"NumPatients\": 41, \"Percent_Variants\": 60.29411764705882, \"Run_Type\": \"ES_Exomiser_neuro\"}, {\"Rank\": 2, \"NumPatients\": 53, \"Percent_Variants\": 77.94117647058823, \"Run_Type\": \"ES_Exomiser_neuro\"}, {\"Rank\": 3, \"NumPatients\": 57, \"Percent_Variants\": 83.82352941176471, \"Run_Type\": \"ES_Exomiser_neuro\"}, {\"Rank\": 4, \"NumPatients\": 58, \"Percent_Variants\": 85.29411764705883, \"Run_Type\": \"ES_Exomiser_neuro\"}, {\"Rank\": 5, \"NumPatients\": 61, \"Percent_Variants\": 89.70588235294117, \"Run_Type\": \"ES_Exomiser_neuro\"}, {\"Rank\": 6, \"NumPatients\": 61, \"Percent_Variants\": 89.70588235294117, \"Run_Type\": \"ES_Exomiser_neuro\"}, {\"Rank\": 7, \"NumPatients\": 61, \"Percent_Variants\": 89.70588235294117, \"Run_Type\": \"ES_Exomiser_neuro\"}, {\"Rank\": 8, \"NumPatients\": 61, \"Percent_Variants\": 89.70588235294117, \"Run_Type\": \"ES_Exomiser_neuro\"}, {\"Rank\": 9, \"NumPatients\": 61, \"Percent_Variants\": 89.70588235294117, \"Run_Type\": \"ES_Exomiser_neuro\"}, {\"Rank\": 10, \"NumPatients\": 61, \"Percent_Variants\": 89.70588235294117, \"Run_Type\": \"ES_Exomiser_neuro\"}, {\"Rank\": 11, \"NumPatients\": 61, \"Percent_Variants\": 89.70588235294117, \"Run_Type\": \"ES_Exomiser_neuro\"}, {\"Rank\": 12, \"NumPatients\": 61, \"Percent_Variants\": 89.70588235294117, \"Run_Type\": \"ES_Exomiser_neuro\"}, {\"Rank\": 13, \"NumPatients\": 61, \"Percent_Variants\": 89.70588235294117, \"Run_Type\": \"ES_Exomiser_neuro\"}, {\"Rank\": 14, \"NumPatients\": 62, \"Percent_Variants\": 91.17647058823529, \"Run_Type\": \"ES_Exomiser_neuro\"}, {\"Rank\": 15, \"NumPatients\": 62, \"Percent_Variants\": 91.17647058823529, \"Run_Type\": \"ES_Exomiser_neuro\"}, {\"Rank\": 16, \"NumPatients\": 63, \"Percent_Variants\": 92.64705882352942, \"Run_Type\": \"ES_Exomiser_neuro\"}, {\"Rank\": 17, \"NumPatients\": 63, \"Percent_Variants\": 92.64705882352942, \"Run_Type\": \"ES_Exomiser_neuro\"}, {\"Rank\": 18, \"NumPatients\": 64, \"Percent_Variants\": 94.11764705882352, \"Run_Type\": \"ES_Exomiser_neuro\"}, {\"Rank\": 19, \"NumPatients\": 64, \"Percent_Variants\": 94.11764705882352, \"Run_Type\": \"ES_Exomiser_neuro\"}, {\"Rank\": 20, \"NumPatients\": 65, \"Percent_Variants\": 95.58823529411765, \"Run_Type\": \"ES_Exomiser_neuro\"}, {\"Rank\": 21, \"NumPatients\": 65, \"Percent_Variants\": 95.58823529411765, \"Run_Type\": \"ES_Exomiser_neuro\"}, {\"Rank\": 22, \"NumPatients\": 65, \"Percent_Variants\": 95.58823529411765, \"Run_Type\": \"ES_Exomiser_neuro\"}, {\"Rank\": 23, \"NumPatients\": 65, \"Percent_Variants\": 95.58823529411765, \"Run_Type\": \"ES_Exomiser_neuro\"}, {\"Rank\": 24, \"NumPatients\": 65, \"Percent_Variants\": 95.58823529411765, \"Run_Type\": \"ES_Exomiser_neuro\"}, {\"Rank\": 25, \"NumPatients\": 65, \"Percent_Variants\": 95.58823529411765, \"Run_Type\": \"ES_Exomiser_neuro\"}, {\"Rank\": 26, \"NumPatients\": 65, \"Percent_Variants\": 95.58823529411765, \"Run_Type\": \"ES_Exomiser_neuro\"}, {\"Rank\": 27, \"NumPatients\": 65, \"Percent_Variants\": 95.58823529411765, \"Run_Type\": \"ES_Exomiser_neuro\"}, {\"Rank\": 28, \"NumPatients\": 65, \"Percent_Variants\": 95.58823529411765, \"Run_Type\": \"ES_Exomiser_neuro\"}, {\"Rank\": 29, \"NumPatients\": 65, \"Percent_Variants\": 95.58823529411765, \"Run_Type\": \"ES_Exomiser_neuro\"}, {\"Rank\": 30, \"NumPatients\": 65, \"Percent_Variants\": 95.58823529411765, \"Run_Type\": \"ES_Exomiser_neuro\"}, {\"Rank\": 1, \"NumPatients\": 0, \"Percent_Variants\": 0.0, \"Run_Type\": \"GS_Genomiser_neuro\"}, {\"Rank\": 2, \"NumPatients\": 4, \"Percent_Variants\": 18.181818181818183, \"Run_Type\": \"GS_Genomiser_neuro\"}, {\"Rank\": 3, \"NumPatients\": 4, \"Percent_Variants\": 18.181818181818183, \"Run_Type\": \"GS_Genomiser_neuro\"}, {\"Rank\": 4, \"NumPatients\": 6, \"Percent_Variants\": 27.27272727272727, \"Run_Type\": \"GS_Genomiser_neuro\"}, {\"Rank\": 5, \"NumPatients\": 6, \"Percent_Variants\": 27.27272727272727, \"Run_Type\": \"GS_Genomiser_neuro\"}, {\"Rank\": 6, \"NumPatients\": 6, \"Percent_Variants\": 27.27272727272727, \"Run_Type\": \"GS_Genomiser_neuro\"}, {\"Rank\": 7, \"NumPatients\": 8, \"Percent_Variants\": 36.36363636363637, \"Run_Type\": \"GS_Genomiser_neuro\"}, {\"Rank\": 8, \"NumPatients\": 8, \"Percent_Variants\": 36.36363636363637, \"Run_Type\": \"GS_Genomiser_neuro\"}, {\"Rank\": 9, \"NumPatients\": 8, \"Percent_Variants\": 36.36363636363637, \"Run_Type\": \"GS_Genomiser_neuro\"}, {\"Rank\": 10, \"NumPatients\": 10, \"Percent_Variants\": 45.45454545454545, \"Run_Type\": \"GS_Genomiser_neuro\"}, {\"Rank\": 11, \"NumPatients\": 10, \"Percent_Variants\": 45.45454545454545, \"Run_Type\": \"GS_Genomiser_neuro\"}, {\"Rank\": 12, \"NumPatients\": 10, \"Percent_Variants\": 45.45454545454545, \"Run_Type\": \"GS_Genomiser_neuro\"}, {\"Rank\": 13, \"NumPatients\": 10, \"Percent_Variants\": 45.45454545454545, \"Run_Type\": \"GS_Genomiser_neuro\"}, {\"Rank\": 14, \"NumPatients\": 12, \"Percent_Variants\": 54.54545454545454, \"Run_Type\": \"GS_Genomiser_neuro\"}, {\"Rank\": 15, \"NumPatients\": 12, \"Percent_Variants\": 54.54545454545454, \"Run_Type\": \"GS_Genomiser_neuro\"}, {\"Rank\": 16, \"NumPatients\": 12, \"Percent_Variants\": 54.54545454545454, \"Run_Type\": \"GS_Genomiser_neuro\"}, {\"Rank\": 17, \"NumPatients\": 12, \"Percent_Variants\": 54.54545454545454, \"Run_Type\": \"GS_Genomiser_neuro\"}, {\"Rank\": 18, \"NumPatients\": 13, \"Percent_Variants\": 59.09090909090909, \"Run_Type\": \"GS_Genomiser_neuro\"}, {\"Rank\": 19, \"NumPatients\": 13, \"Percent_Variants\": 59.09090909090909, \"Run_Type\": \"GS_Genomiser_neuro\"}, {\"Rank\": 20, \"NumPatients\": 13, \"Percent_Variants\": 59.09090909090909, \"Run_Type\": \"GS_Genomiser_neuro\"}, {\"Rank\": 21, \"NumPatients\": 14, \"Percent_Variants\": 63.63636363636363, \"Run_Type\": \"GS_Genomiser_neuro\"}, {\"Rank\": 22, \"NumPatients\": 14, \"Percent_Variants\": 63.63636363636363, \"Run_Type\": \"GS_Genomiser_neuro\"}, {\"Rank\": 23, \"NumPatients\": 14, \"Percent_Variants\": 63.63636363636363, \"Run_Type\": \"GS_Genomiser_neuro\"}, {\"Rank\": 24, \"NumPatients\": 14, \"Percent_Variants\": 63.63636363636363, \"Run_Type\": \"GS_Genomiser_neuro\"}, {\"Rank\": 25, \"NumPatients\": 14, \"Percent_Variants\": 63.63636363636363, \"Run_Type\": \"GS_Genomiser_neuro\"}, {\"Rank\": 26, \"NumPatients\": 14, \"Percent_Variants\": 63.63636363636363, \"Run_Type\": \"GS_Genomiser_neuro\"}, {\"Rank\": 27, \"NumPatients\": 14, \"Percent_Variants\": 63.63636363636363, \"Run_Type\": \"GS_Genomiser_neuro\"}, {\"Rank\": 28, \"NumPatients\": 14, \"Percent_Variants\": 63.63636363636363, \"Run_Type\": \"GS_Genomiser_neuro\"}, {\"Rank\": 29, \"NumPatients\": 14, \"Percent_Variants\": 63.63636363636363, \"Run_Type\": \"GS_Genomiser_neuro\"}, {\"Rank\": 30, \"NumPatients\": 14, \"Percent_Variants\": 63.63636363636363, \"Run_Type\": \"GS_Genomiser_neuro\"}, {\"Rank\": 1, \"NumPatients\": 79, \"Percent_Variants\": 53.37837837837838, \"Run_Type\": \"GS_Exomiser_neuro\"}, {\"Rank\": 2, \"NumPatients\": 105, \"Percent_Variants\": 70.94594594594594, \"Run_Type\": \"GS_Exomiser_neuro\"}, {\"Rank\": 3, \"NumPatients\": 111, \"Percent_Variants\": 75.0, \"Run_Type\": \"GS_Exomiser_neuro\"}, {\"Rank\": 4, \"NumPatients\": 113, \"Percent_Variants\": 76.35135135135135, \"Run_Type\": \"GS_Exomiser_neuro\"}, {\"Rank\": 5, \"NumPatients\": 119, \"Percent_Variants\": 80.4054054054054, \"Run_Type\": \"GS_Exomiser_neuro\"}, {\"Rank\": 6, \"NumPatients\": 121, \"Percent_Variants\": 81.75675675675676, \"Run_Type\": \"GS_Exomiser_neuro\"}, {\"Rank\": 7, \"NumPatients\": 125, \"Percent_Variants\": 84.45945945945947, \"Run_Type\": \"GS_Exomiser_neuro\"}, {\"Rank\": 8, \"NumPatients\": 132, \"Percent_Variants\": 89.1891891891892, \"Run_Type\": \"GS_Exomiser_neuro\"}, {\"Rank\": 9, \"NumPatients\": 133, \"Percent_Variants\": 89.86486486486487, \"Run_Type\": \"GS_Exomiser_neuro\"}, {\"Rank\": 10, \"NumPatients\": 133, \"Percent_Variants\": 89.86486486486487, \"Run_Type\": \"GS_Exomiser_neuro\"}, {\"Rank\": 11, \"NumPatients\": 137, \"Percent_Variants\": 92.56756756756756, \"Run_Type\": \"GS_Exomiser_neuro\"}, {\"Rank\": 12, \"NumPatients\": 137, \"Percent_Variants\": 92.56756756756756, \"Run_Type\": \"GS_Exomiser_neuro\"}, {\"Rank\": 13, \"NumPatients\": 137, \"Percent_Variants\": 92.56756756756756, \"Run_Type\": \"GS_Exomiser_neuro\"}, {\"Rank\": 14, \"NumPatients\": 138, \"Percent_Variants\": 93.24324324324324, \"Run_Type\": \"GS_Exomiser_neuro\"}, {\"Rank\": 15, \"NumPatients\": 141, \"Percent_Variants\": 95.27027027027027, \"Run_Type\": \"GS_Exomiser_neuro\"}, {\"Rank\": 16, \"NumPatients\": 141, \"Percent_Variants\": 95.27027027027027, \"Run_Type\": \"GS_Exomiser_neuro\"}, {\"Rank\": 17, \"NumPatients\": 141, \"Percent_Variants\": 95.27027027027027, \"Run_Type\": \"GS_Exomiser_neuro\"}, {\"Rank\": 18, \"NumPatients\": 141, \"Percent_Variants\": 95.27027027027027, \"Run_Type\": \"GS_Exomiser_neuro\"}, {\"Rank\": 19, \"NumPatients\": 141, \"Percent_Variants\": 95.27027027027027, \"Run_Type\": \"GS_Exomiser_neuro\"}, {\"Rank\": 20, \"NumPatients\": 141, \"Percent_Variants\": 95.27027027027027, \"Run_Type\": \"GS_Exomiser_neuro\"}, {\"Rank\": 21, \"NumPatients\": 142, \"Percent_Variants\": 95.94594594594594, \"Run_Type\": \"GS_Exomiser_neuro\"}, {\"Rank\": 22, \"NumPatients\": 142, \"Percent_Variants\": 95.94594594594594, \"Run_Type\": \"GS_Exomiser_neuro\"}, {\"Rank\": 23, \"NumPatients\": 142, \"Percent_Variants\": 95.94594594594594, \"Run_Type\": \"GS_Exomiser_neuro\"}, {\"Rank\": 24, \"NumPatients\": 142, \"Percent_Variants\": 95.94594594594594, \"Run_Type\": \"GS_Exomiser_neuro\"}, {\"Rank\": 25, \"NumPatients\": 142, \"Percent_Variants\": 95.94594594594594, \"Run_Type\": \"GS_Exomiser_neuro\"}, {\"Rank\": 26, \"NumPatients\": 142, \"Percent_Variants\": 95.94594594594594, \"Run_Type\": \"GS_Exomiser_neuro\"}, {\"Rank\": 27, \"NumPatients\": 142, \"Percent_Variants\": 95.94594594594594, \"Run_Type\": \"GS_Exomiser_neuro\"}, {\"Rank\": 28, \"NumPatients\": 142, \"Percent_Variants\": 95.94594594594594, \"Run_Type\": \"GS_Exomiser_neuro\"}, {\"Rank\": 29, \"NumPatients\": 142, \"Percent_Variants\": 95.94594594594594, \"Run_Type\": \"GS_Exomiser_neuro\"}, {\"Rank\": 30, \"NumPatients\": 142, \"Percent_Variants\": 95.94594594594594, \"Run_Type\": \"GS_Exomiser_neuro\"}], \"data-19fa1fe582066b174ce63c0582d7c078\": [{\"Rank\": 1, \"NumPatients\": 9, \"Percent_Variants\": 90.0, \"Run_Type\": \"ES_Exomiser_musculo\"}, {\"Rank\": 2, \"NumPatients\": 9, \"Percent_Variants\": 90.0, \"Run_Type\": \"ES_Exomiser_musculo\"}, {\"Rank\": 3, \"NumPatients\": 9, \"Percent_Variants\": 90.0, \"Run_Type\": \"ES_Exomiser_musculo\"}, {\"Rank\": 4, \"NumPatients\": 9, \"Percent_Variants\": 90.0, \"Run_Type\": \"ES_Exomiser_musculo\"}, {\"Rank\": 5, \"NumPatients\": 9, \"Percent_Variants\": 90.0, \"Run_Type\": \"ES_Exomiser_musculo\"}, {\"Rank\": 6, \"NumPatients\": 9, \"Percent_Variants\": 90.0, \"Run_Type\": \"ES_Exomiser_musculo\"}, {\"Rank\": 7, \"NumPatients\": 9, \"Percent_Variants\": 90.0, \"Run_Type\": \"ES_Exomiser_musculo\"}, {\"Rank\": 8, \"NumPatients\": 9, \"Percent_Variants\": 90.0, \"Run_Type\": \"ES_Exomiser_musculo\"}, {\"Rank\": 9, \"NumPatients\": 9, \"Percent_Variants\": 90.0, \"Run_Type\": \"ES_Exomiser_musculo\"}, {\"Rank\": 10, \"NumPatients\": 9, \"Percent_Variants\": 90.0, \"Run_Type\": \"ES_Exomiser_musculo\"}, {\"Rank\": 11, \"NumPatients\": 9, \"Percent_Variants\": 90.0, \"Run_Type\": \"ES_Exomiser_musculo\"}, {\"Rank\": 12, \"NumPatients\": 9, \"Percent_Variants\": 90.0, \"Run_Type\": \"ES_Exomiser_musculo\"}, {\"Rank\": 13, \"NumPatients\": 9, \"Percent_Variants\": 90.0, \"Run_Type\": \"ES_Exomiser_musculo\"}, {\"Rank\": 14, \"NumPatients\": 9, \"Percent_Variants\": 90.0, \"Run_Type\": \"ES_Exomiser_musculo\"}, {\"Rank\": 15, \"NumPatients\": 9, \"Percent_Variants\": 90.0, \"Run_Type\": \"ES_Exomiser_musculo\"}, {\"Rank\": 16, \"NumPatients\": 9, \"Percent_Variants\": 90.0, \"Run_Type\": \"ES_Exomiser_musculo\"}, {\"Rank\": 17, \"NumPatients\": 9, \"Percent_Variants\": 90.0, \"Run_Type\": \"ES_Exomiser_musculo\"}, {\"Rank\": 18, \"NumPatients\": 9, \"Percent_Variants\": 90.0, \"Run_Type\": \"ES_Exomiser_musculo\"}, {\"Rank\": 19, \"NumPatients\": 9, \"Percent_Variants\": 90.0, \"Run_Type\": \"ES_Exomiser_musculo\"}, {\"Rank\": 20, \"NumPatients\": 9, \"Percent_Variants\": 90.0, \"Run_Type\": \"ES_Exomiser_musculo\"}, {\"Rank\": 21, \"NumPatients\": 9, \"Percent_Variants\": 90.0, \"Run_Type\": \"ES_Exomiser_musculo\"}, {\"Rank\": 22, \"NumPatients\": 9, \"Percent_Variants\": 90.0, \"Run_Type\": \"ES_Exomiser_musculo\"}, {\"Rank\": 23, \"NumPatients\": 9, \"Percent_Variants\": 90.0, \"Run_Type\": \"ES_Exomiser_musculo\"}, {\"Rank\": 24, \"NumPatients\": 9, \"Percent_Variants\": 90.0, \"Run_Type\": \"ES_Exomiser_musculo\"}, {\"Rank\": 25, \"NumPatients\": 9, \"Percent_Variants\": 90.0, \"Run_Type\": \"ES_Exomiser_musculo\"}, {\"Rank\": 26, \"NumPatients\": 9, \"Percent_Variants\": 90.0, \"Run_Type\": \"ES_Exomiser_musculo\"}, {\"Rank\": 27, \"NumPatients\": 9, \"Percent_Variants\": 90.0, \"Run_Type\": \"ES_Exomiser_musculo\"}, {\"Rank\": 28, \"NumPatients\": 9, \"Percent_Variants\": 90.0, \"Run_Type\": \"ES_Exomiser_musculo\"}, {\"Rank\": 29, \"NumPatients\": 9, \"Percent_Variants\": 90.0, \"Run_Type\": \"ES_Exomiser_musculo\"}, {\"Rank\": 30, \"NumPatients\": 9, \"Percent_Variants\": 90.0, \"Run_Type\": \"ES_Exomiser_musculo\"}, {\"Rank\": 1, \"NumPatients\": 5, \"Percent_Variants\": 50.0, \"Run_Type\": \"GS_Genomiser_musculo\"}, {\"Rank\": 2, \"NumPatients\": 5, \"Percent_Variants\": 50.0, \"Run_Type\": \"GS_Genomiser_musculo\"}, {\"Rank\": 3, \"NumPatients\": 5, \"Percent_Variants\": 50.0, \"Run_Type\": \"GS_Genomiser_musculo\"}, {\"Rank\": 4, \"NumPatients\": 6, \"Percent_Variants\": 60.0, \"Run_Type\": \"GS_Genomiser_musculo\"}, {\"Rank\": 5, \"NumPatients\": 7, \"Percent_Variants\": 70.0, \"Run_Type\": \"GS_Genomiser_musculo\"}, {\"Rank\": 6, \"NumPatients\": 7, \"Percent_Variants\": 70.0, \"Run_Type\": \"GS_Genomiser_musculo\"}, {\"Rank\": 7, \"NumPatients\": 7, \"Percent_Variants\": 70.0, \"Run_Type\": \"GS_Genomiser_musculo\"}, {\"Rank\": 8, \"NumPatients\": 9, \"Percent_Variants\": 90.0, \"Run_Type\": \"GS_Genomiser_musculo\"}, {\"Rank\": 9, \"NumPatients\": 9, \"Percent_Variants\": 90.0, \"Run_Type\": \"GS_Genomiser_musculo\"}, {\"Rank\": 10, \"NumPatients\": 9, \"Percent_Variants\": 90.0, \"Run_Type\": \"GS_Genomiser_musculo\"}, {\"Rank\": 11, \"NumPatients\": 9, \"Percent_Variants\": 90.0, \"Run_Type\": \"GS_Genomiser_musculo\"}, {\"Rank\": 12, \"NumPatients\": 9, \"Percent_Variants\": 90.0, \"Run_Type\": \"GS_Genomiser_musculo\"}, {\"Rank\": 13, \"NumPatients\": 9, \"Percent_Variants\": 90.0, \"Run_Type\": \"GS_Genomiser_musculo\"}, {\"Rank\": 14, \"NumPatients\": 9, \"Percent_Variants\": 90.0, \"Run_Type\": \"GS_Genomiser_musculo\"}, {\"Rank\": 15, \"NumPatients\": 9, \"Percent_Variants\": 90.0, \"Run_Type\": \"GS_Genomiser_musculo\"}, {\"Rank\": 16, \"NumPatients\": 9, \"Percent_Variants\": 90.0, \"Run_Type\": \"GS_Genomiser_musculo\"}, {\"Rank\": 17, \"NumPatients\": 9, \"Percent_Variants\": 90.0, \"Run_Type\": \"GS_Genomiser_musculo\"}, {\"Rank\": 18, \"NumPatients\": 9, \"Percent_Variants\": 90.0, \"Run_Type\": \"GS_Genomiser_musculo\"}, {\"Rank\": 19, \"NumPatients\": 9, \"Percent_Variants\": 90.0, \"Run_Type\": \"GS_Genomiser_musculo\"}, {\"Rank\": 20, \"NumPatients\": 9, \"Percent_Variants\": 90.0, \"Run_Type\": \"GS_Genomiser_musculo\"}, {\"Rank\": 21, \"NumPatients\": 9, \"Percent_Variants\": 90.0, \"Run_Type\": \"GS_Genomiser_musculo\"}, {\"Rank\": 22, \"NumPatients\": 9, \"Percent_Variants\": 90.0, \"Run_Type\": \"GS_Genomiser_musculo\"}, {\"Rank\": 23, \"NumPatients\": 9, \"Percent_Variants\": 90.0, \"Run_Type\": \"GS_Genomiser_musculo\"}, {\"Rank\": 24, \"NumPatients\": 9, \"Percent_Variants\": 90.0, \"Run_Type\": \"GS_Genomiser_musculo\"}, {\"Rank\": 25, \"NumPatients\": 9, \"Percent_Variants\": 90.0, \"Run_Type\": \"GS_Genomiser_musculo\"}, {\"Rank\": 26, \"NumPatients\": 9, \"Percent_Variants\": 90.0, \"Run_Type\": \"GS_Genomiser_musculo\"}, {\"Rank\": 27, \"NumPatients\": 9, \"Percent_Variants\": 90.0, \"Run_Type\": \"GS_Genomiser_musculo\"}, {\"Rank\": 28, \"NumPatients\": 9, \"Percent_Variants\": 90.0, \"Run_Type\": \"GS_Genomiser_musculo\"}, {\"Rank\": 29, \"NumPatients\": 9, \"Percent_Variants\": 90.0, \"Run_Type\": \"GS_Genomiser_musculo\"}, {\"Rank\": 30, \"NumPatients\": 9, \"Percent_Variants\": 90.0, \"Run_Type\": \"GS_Genomiser_musculo\"}, {\"Rank\": 1, \"NumPatients\": 18, \"Percent_Variants\": 66.66666666666666, \"Run_Type\": \"GS_Exomiser_musculo\"}, {\"Rank\": 2, \"NumPatients\": 22, \"Percent_Variants\": 81.48148148148148, \"Run_Type\": \"GS_Exomiser_musculo\"}, {\"Rank\": 3, \"NumPatients\": 23, \"Percent_Variants\": 85.18518518518519, \"Run_Type\": \"GS_Exomiser_musculo\"}, {\"Rank\": 4, \"NumPatients\": 24, \"Percent_Variants\": 88.88888888888889, \"Run_Type\": \"GS_Exomiser_musculo\"}, {\"Rank\": 5, \"NumPatients\": 24, \"Percent_Variants\": 88.88888888888889, \"Run_Type\": \"GS_Exomiser_musculo\"}, {\"Rank\": 6, \"NumPatients\": 24, \"Percent_Variants\": 88.88888888888889, \"Run_Type\": \"GS_Exomiser_musculo\"}, {\"Rank\": 7, \"NumPatients\": 24, \"Percent_Variants\": 88.88888888888889, \"Run_Type\": \"GS_Exomiser_musculo\"}, {\"Rank\": 8, \"NumPatients\": 24, \"Percent_Variants\": 88.88888888888889, \"Run_Type\": \"GS_Exomiser_musculo\"}, {\"Rank\": 9, \"NumPatients\": 24, \"Percent_Variants\": 88.88888888888889, \"Run_Type\": \"GS_Exomiser_musculo\"}, {\"Rank\": 10, \"NumPatients\": 24, \"Percent_Variants\": 88.88888888888889, \"Run_Type\": \"GS_Exomiser_musculo\"}, {\"Rank\": 11, \"NumPatients\": 24, \"Percent_Variants\": 88.88888888888889, \"Run_Type\": \"GS_Exomiser_musculo\"}, {\"Rank\": 12, \"NumPatients\": 24, \"Percent_Variants\": 88.88888888888889, \"Run_Type\": \"GS_Exomiser_musculo\"}, {\"Rank\": 13, \"NumPatients\": 24, \"Percent_Variants\": 88.88888888888889, \"Run_Type\": \"GS_Exomiser_musculo\"}, {\"Rank\": 14, \"NumPatients\": 24, \"Percent_Variants\": 88.88888888888889, \"Run_Type\": \"GS_Exomiser_musculo\"}, {\"Rank\": 15, \"NumPatients\": 25, \"Percent_Variants\": 92.5925925925926, \"Run_Type\": \"GS_Exomiser_musculo\"}, {\"Rank\": 16, \"NumPatients\": 26, \"Percent_Variants\": 96.29629629629629, \"Run_Type\": \"GS_Exomiser_musculo\"}, {\"Rank\": 17, \"NumPatients\": 27, \"Percent_Variants\": 100.0, \"Run_Type\": \"GS_Exomiser_musculo\"}, {\"Rank\": 18, \"NumPatients\": 27, \"Percent_Variants\": 100.0, \"Run_Type\": \"GS_Exomiser_musculo\"}, {\"Rank\": 19, \"NumPatients\": 27, \"Percent_Variants\": 100.0, \"Run_Type\": \"GS_Exomiser_musculo\"}, {\"Rank\": 20, \"NumPatients\": 27, \"Percent_Variants\": 100.0, \"Run_Type\": \"GS_Exomiser_musculo\"}, {\"Rank\": 21, \"NumPatients\": 27, \"Percent_Variants\": 100.0, \"Run_Type\": \"GS_Exomiser_musculo\"}, {\"Rank\": 22, \"NumPatients\": 27, \"Percent_Variants\": 100.0, \"Run_Type\": \"GS_Exomiser_musculo\"}, {\"Rank\": 23, \"NumPatients\": 27, \"Percent_Variants\": 100.0, \"Run_Type\": \"GS_Exomiser_musculo\"}, {\"Rank\": 24, \"NumPatients\": 27, \"Percent_Variants\": 100.0, \"Run_Type\": \"GS_Exomiser_musculo\"}, {\"Rank\": 25, \"NumPatients\": 27, \"Percent_Variants\": 100.0, \"Run_Type\": \"GS_Exomiser_musculo\"}, {\"Rank\": 26, \"NumPatients\": 27, \"Percent_Variants\": 100.0, \"Run_Type\": \"GS_Exomiser_musculo\"}, {\"Rank\": 27, \"NumPatients\": 27, \"Percent_Variants\": 100.0, \"Run_Type\": \"GS_Exomiser_musculo\"}, {\"Rank\": 28, \"NumPatients\": 27, \"Percent_Variants\": 100.0, \"Run_Type\": \"GS_Exomiser_musculo\"}, {\"Rank\": 29, \"NumPatients\": 27, \"Percent_Variants\": 100.0, \"Run_Type\": \"GS_Exomiser_musculo\"}, {\"Rank\": 30, \"NumPatients\": 27, \"Percent_Variants\": 100.0, \"Run_Type\": \"GS_Exomiser_musculo\"}], \"data-6eac4f3c337f15649bc5022802fbd10c\": [{\"Rank\": 1, \"NumPatients\": 15, \"Percent_Variants\": 83.33333333333334, \"Run_Type\": \"ES_Exomiser_MCA\"}, {\"Rank\": 2, \"NumPatients\": 16, \"Percent_Variants\": 88.88888888888889, \"Run_Type\": \"ES_Exomiser_MCA\"}, {\"Rank\": 3, \"NumPatients\": 16, \"Percent_Variants\": 88.88888888888889, \"Run_Type\": \"ES_Exomiser_MCA\"}, {\"Rank\": 4, \"NumPatients\": 16, \"Percent_Variants\": 88.88888888888889, \"Run_Type\": \"ES_Exomiser_MCA\"}, {\"Rank\": 5, \"NumPatients\": 16, \"Percent_Variants\": 88.88888888888889, \"Run_Type\": \"ES_Exomiser_MCA\"}, {\"Rank\": 6, \"NumPatients\": 17, \"Percent_Variants\": 94.44444444444444, \"Run_Type\": \"ES_Exomiser_MCA\"}, {\"Rank\": 7, \"NumPatients\": 17, \"Percent_Variants\": 94.44444444444444, \"Run_Type\": \"ES_Exomiser_MCA\"}, {\"Rank\": 8, \"NumPatients\": 17, \"Percent_Variants\": 94.44444444444444, \"Run_Type\": \"ES_Exomiser_MCA\"}, {\"Rank\": 9, \"NumPatients\": 17, \"Percent_Variants\": 94.44444444444444, \"Run_Type\": \"ES_Exomiser_MCA\"}, {\"Rank\": 10, \"NumPatients\": 17, \"Percent_Variants\": 94.44444444444444, \"Run_Type\": \"ES_Exomiser_MCA\"}, {\"Rank\": 11, \"NumPatients\": 17, \"Percent_Variants\": 94.44444444444444, \"Run_Type\": \"ES_Exomiser_MCA\"}, {\"Rank\": 12, \"NumPatients\": 17, \"Percent_Variants\": 94.44444444444444, \"Run_Type\": \"ES_Exomiser_MCA\"}, {\"Rank\": 13, \"NumPatients\": 17, \"Percent_Variants\": 94.44444444444444, \"Run_Type\": \"ES_Exomiser_MCA\"}, {\"Rank\": 14, \"NumPatients\": 17, \"Percent_Variants\": 94.44444444444444, \"Run_Type\": \"ES_Exomiser_MCA\"}, {\"Rank\": 15, \"NumPatients\": 17, \"Percent_Variants\": 94.44444444444444, \"Run_Type\": \"ES_Exomiser_MCA\"}, {\"Rank\": 16, \"NumPatients\": 17, \"Percent_Variants\": 94.44444444444444, \"Run_Type\": \"ES_Exomiser_MCA\"}, {\"Rank\": 17, \"NumPatients\": 17, \"Percent_Variants\": 94.44444444444444, \"Run_Type\": \"ES_Exomiser_MCA\"}, {\"Rank\": 18, \"NumPatients\": 17, \"Percent_Variants\": 94.44444444444444, \"Run_Type\": \"ES_Exomiser_MCA\"}, {\"Rank\": 19, \"NumPatients\": 17, \"Percent_Variants\": 94.44444444444444, \"Run_Type\": \"ES_Exomiser_MCA\"}, {\"Rank\": 20, \"NumPatients\": 17, \"Percent_Variants\": 94.44444444444444, \"Run_Type\": \"ES_Exomiser_MCA\"}, {\"Rank\": 21, \"NumPatients\": 17, \"Percent_Variants\": 94.44444444444444, \"Run_Type\": \"ES_Exomiser_MCA\"}, {\"Rank\": 22, \"NumPatients\": 17, \"Percent_Variants\": 94.44444444444444, \"Run_Type\": \"ES_Exomiser_MCA\"}, {\"Rank\": 23, \"NumPatients\": 17, \"Percent_Variants\": 94.44444444444444, \"Run_Type\": \"ES_Exomiser_MCA\"}, {\"Rank\": 24, \"NumPatients\": 17, \"Percent_Variants\": 94.44444444444444, \"Run_Type\": \"ES_Exomiser_MCA\"}, {\"Rank\": 25, \"NumPatients\": 17, \"Percent_Variants\": 94.44444444444444, \"Run_Type\": \"ES_Exomiser_MCA\"}, {\"Rank\": 26, \"NumPatients\": 17, \"Percent_Variants\": 94.44444444444444, \"Run_Type\": \"ES_Exomiser_MCA\"}, {\"Rank\": 27, \"NumPatients\": 17, \"Percent_Variants\": 94.44444444444444, \"Run_Type\": \"ES_Exomiser_MCA\"}, {\"Rank\": 28, \"NumPatients\": 17, \"Percent_Variants\": 94.44444444444444, \"Run_Type\": \"ES_Exomiser_MCA\"}, {\"Rank\": 29, \"NumPatients\": 17, \"Percent_Variants\": 94.44444444444444, \"Run_Type\": \"ES_Exomiser_MCA\"}, {\"Rank\": 30, \"NumPatients\": 17, \"Percent_Variants\": 94.44444444444444, \"Run_Type\": \"ES_Exomiser_MCA\"}, {\"Rank\": 1, \"NumPatients\": 2, \"Percent_Variants\": 20.0, \"Run_Type\": \"GS_Genomiser_MCA\"}, {\"Rank\": 2, \"NumPatients\": 3, \"Percent_Variants\": 30.0, \"Run_Type\": \"GS_Genomiser_MCA\"}, {\"Rank\": 3, \"NumPatients\": 3, \"Percent_Variants\": 30.0, \"Run_Type\": \"GS_Genomiser_MCA\"}, {\"Rank\": 4, \"NumPatients\": 3, \"Percent_Variants\": 30.0, \"Run_Type\": \"GS_Genomiser_MCA\"}, {\"Rank\": 5, \"NumPatients\": 3, \"Percent_Variants\": 30.0, \"Run_Type\": \"GS_Genomiser_MCA\"}, {\"Rank\": 6, \"NumPatients\": 3, \"Percent_Variants\": 30.0, \"Run_Type\": \"GS_Genomiser_MCA\"}, {\"Rank\": 7, \"NumPatients\": 3, \"Percent_Variants\": 30.0, \"Run_Type\": \"GS_Genomiser_MCA\"}, {\"Rank\": 8, \"NumPatients\": 5, \"Percent_Variants\": 50.0, \"Run_Type\": \"GS_Genomiser_MCA\"}, {\"Rank\": 9, \"NumPatients\": 5, \"Percent_Variants\": 50.0, \"Run_Type\": \"GS_Genomiser_MCA\"}, {\"Rank\": 10, \"NumPatients\": 5, \"Percent_Variants\": 50.0, \"Run_Type\": \"GS_Genomiser_MCA\"}, {\"Rank\": 11, \"NumPatients\": 5, \"Percent_Variants\": 50.0, \"Run_Type\": \"GS_Genomiser_MCA\"}, {\"Rank\": 12, \"NumPatients\": 5, \"Percent_Variants\": 50.0, \"Run_Type\": \"GS_Genomiser_MCA\"}, {\"Rank\": 13, \"NumPatients\": 5, \"Percent_Variants\": 50.0, \"Run_Type\": \"GS_Genomiser_MCA\"}, {\"Rank\": 14, \"NumPatients\": 5, \"Percent_Variants\": 50.0, \"Run_Type\": \"GS_Genomiser_MCA\"}, {\"Rank\": 15, \"NumPatients\": 5, \"Percent_Variants\": 50.0, \"Run_Type\": \"GS_Genomiser_MCA\"}, {\"Rank\": 16, \"NumPatients\": 5, \"Percent_Variants\": 50.0, \"Run_Type\": \"GS_Genomiser_MCA\"}, {\"Rank\": 17, \"NumPatients\": 5, \"Percent_Variants\": 50.0, \"Run_Type\": \"GS_Genomiser_MCA\"}, {\"Rank\": 18, \"NumPatients\": 5, \"Percent_Variants\": 50.0, \"Run_Type\": \"GS_Genomiser_MCA\"}, {\"Rank\": 19, \"NumPatients\": 5, \"Percent_Variants\": 50.0, \"Run_Type\": \"GS_Genomiser_MCA\"}, {\"Rank\": 20, \"NumPatients\": 5, \"Percent_Variants\": 50.0, \"Run_Type\": \"GS_Genomiser_MCA\"}, {\"Rank\": 21, \"NumPatients\": 5, \"Percent_Variants\": 50.0, \"Run_Type\": \"GS_Genomiser_MCA\"}, {\"Rank\": 22, \"NumPatients\": 5, \"Percent_Variants\": 50.0, \"Run_Type\": \"GS_Genomiser_MCA\"}, {\"Rank\": 23, \"NumPatients\": 5, \"Percent_Variants\": 50.0, \"Run_Type\": \"GS_Genomiser_MCA\"}, {\"Rank\": 24, \"NumPatients\": 5, \"Percent_Variants\": 50.0, \"Run_Type\": \"GS_Genomiser_MCA\"}, {\"Rank\": 25, \"NumPatients\": 5, \"Percent_Variants\": 50.0, \"Run_Type\": \"GS_Genomiser_MCA\"}, {\"Rank\": 26, \"NumPatients\": 5, \"Percent_Variants\": 50.0, \"Run_Type\": \"GS_Genomiser_MCA\"}, {\"Rank\": 27, \"NumPatients\": 5, \"Percent_Variants\": 50.0, \"Run_Type\": \"GS_Genomiser_MCA\"}, {\"Rank\": 28, \"NumPatients\": 5, \"Percent_Variants\": 50.0, \"Run_Type\": \"GS_Genomiser_MCA\"}, {\"Rank\": 29, \"NumPatients\": 5, \"Percent_Variants\": 50.0, \"Run_Type\": \"GS_Genomiser_MCA\"}, {\"Rank\": 30, \"NumPatients\": 5, \"Percent_Variants\": 50.0, \"Run_Type\": \"GS_Genomiser_MCA\"}, {\"Rank\": 1, \"NumPatients\": 11, \"Percent_Variants\": 44.0, \"Run_Type\": \"GS_Exomiser_MCA\"}, {\"Rank\": 2, \"NumPatients\": 13, \"Percent_Variants\": 52.0, \"Run_Type\": \"GS_Exomiser_MCA\"}, {\"Rank\": 3, \"NumPatients\": 13, \"Percent_Variants\": 52.0, \"Run_Type\": \"GS_Exomiser_MCA\"}, {\"Rank\": 4, \"NumPatients\": 14, \"Percent_Variants\": 56.00000000000001, \"Run_Type\": \"GS_Exomiser_MCA\"}, {\"Rank\": 5, \"NumPatients\": 16, \"Percent_Variants\": 64.0, \"Run_Type\": \"GS_Exomiser_MCA\"}, {\"Rank\": 6, \"NumPatients\": 20, \"Percent_Variants\": 80.0, \"Run_Type\": \"GS_Exomiser_MCA\"}, {\"Rank\": 7, \"NumPatients\": 20, \"Percent_Variants\": 80.0, \"Run_Type\": \"GS_Exomiser_MCA\"}, {\"Rank\": 8, \"NumPatients\": 20, \"Percent_Variants\": 80.0, \"Run_Type\": \"GS_Exomiser_MCA\"}, {\"Rank\": 9, \"NumPatients\": 22, \"Percent_Variants\": 88.0, \"Run_Type\": \"GS_Exomiser_MCA\"}, {\"Rank\": 10, \"NumPatients\": 22, \"Percent_Variants\": 88.0, \"Run_Type\": \"GS_Exomiser_MCA\"}, {\"Rank\": 11, \"NumPatients\": 23, \"Percent_Variants\": 92.0, \"Run_Type\": \"GS_Exomiser_MCA\"}, {\"Rank\": 12, \"NumPatients\": 23, \"Percent_Variants\": 92.0, \"Run_Type\": \"GS_Exomiser_MCA\"}, {\"Rank\": 13, \"NumPatients\": 23, \"Percent_Variants\": 92.0, \"Run_Type\": \"GS_Exomiser_MCA\"}, {\"Rank\": 14, \"NumPatients\": 23, \"Percent_Variants\": 92.0, \"Run_Type\": \"GS_Exomiser_MCA\"}, {\"Rank\": 15, \"NumPatients\": 23, \"Percent_Variants\": 92.0, \"Run_Type\": \"GS_Exomiser_MCA\"}, {\"Rank\": 16, \"NumPatients\": 23, \"Percent_Variants\": 92.0, \"Run_Type\": \"GS_Exomiser_MCA\"}, {\"Rank\": 17, \"NumPatients\": 24, \"Percent_Variants\": 96.0, \"Run_Type\": \"GS_Exomiser_MCA\"}, {\"Rank\": 18, \"NumPatients\": 24, \"Percent_Variants\": 96.0, \"Run_Type\": \"GS_Exomiser_MCA\"}, {\"Rank\": 19, \"NumPatients\": 24, \"Percent_Variants\": 96.0, \"Run_Type\": \"GS_Exomiser_MCA\"}, {\"Rank\": 20, \"NumPatients\": 24, \"Percent_Variants\": 96.0, \"Run_Type\": \"GS_Exomiser_MCA\"}, {\"Rank\": 21, \"NumPatients\": 24, \"Percent_Variants\": 96.0, \"Run_Type\": \"GS_Exomiser_MCA\"}, {\"Rank\": 22, \"NumPatients\": 24, \"Percent_Variants\": 96.0, \"Run_Type\": \"GS_Exomiser_MCA\"}, {\"Rank\": 23, \"NumPatients\": 24, \"Percent_Variants\": 96.0, \"Run_Type\": \"GS_Exomiser_MCA\"}, {\"Rank\": 24, \"NumPatients\": 24, \"Percent_Variants\": 96.0, \"Run_Type\": \"GS_Exomiser_MCA\"}, {\"Rank\": 25, \"NumPatients\": 24, \"Percent_Variants\": 96.0, \"Run_Type\": \"GS_Exomiser_MCA\"}, {\"Rank\": 26, \"NumPatients\": 24, \"Percent_Variants\": 96.0, \"Run_Type\": \"GS_Exomiser_MCA\"}, {\"Rank\": 27, \"NumPatients\": 24, \"Percent_Variants\": 96.0, \"Run_Type\": \"GS_Exomiser_MCA\"}, {\"Rank\": 28, \"NumPatients\": 24, \"Percent_Variants\": 96.0, \"Run_Type\": \"GS_Exomiser_MCA\"}, {\"Rank\": 29, \"NumPatients\": 24, \"Percent_Variants\": 96.0, \"Run_Type\": \"GS_Exomiser_MCA\"}, {\"Rank\": 30, \"NumPatients\": 24, \"Percent_Variants\": 96.0, \"Run_Type\": \"GS_Exomiser_MCA\"}]}}, {\"mode\": \"vega-lite\"});\n",
       "</script>"
      ],
      "text/plain": [
       "alt.VConcatChart(...)"
      ]
     },
     "execution_count": 40,
     "metadata": {},
     "output_type": "execute_result"
    }
   ],
   "source": [
    "es_exomiser = create_cohorts_plots('ES_Exomiser', cohorts, all_success_table)\n",
    "gs_exomiser = create_cohorts_plots('GS_Exomiser', cohorts, all_success_table)\n",
    "gs_genomiser = create_cohorts_plots('GS_Genomiser', cohorts, all_success_table)\n",
    "\n",
    "alt.vconcat(gs_exomiser,  es_exomiser,gs_genomiser).configure_legend(labelLimit=0).configure_axis(\n",
    "        labelFontSize=15,\n",
    "        titleFontSize=15).configure_legend(labelLimit=0,labelFontSize=15, titleFontSize=15)\n"
   ]
  },
  {
   "cell_type": "code",
   "execution_count": null,
   "metadata": {},
   "outputs": [],
   "source": []
  },
  {
   "cell_type": "code",
   "execution_count": null,
   "metadata": {},
   "outputs": [],
   "source": []
  }
 ],
 "metadata": {
  "kernelspec": {
   "display_name": "base",
   "language": "python",
   "name": "python3"
  },
  "language_info": {
   "codemirror_mode": {
    "name": "ipython",
    "version": 3
   },
   "file_extension": ".py",
   "mimetype": "text/x-python",
   "name": "python",
   "nbconvert_exporter": "python",
   "pygments_lexer": "ipython3",
   "version": "3.12.2"
  }
 },
 "nbformat": 4,
 "nbformat_minor": 2
}
