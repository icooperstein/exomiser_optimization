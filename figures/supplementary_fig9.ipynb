{
 "cells": [
  {
   "cell_type": "code",
   "execution_count": 1,
   "metadata": {},
   "outputs": [],
   "source": [
    "import pandas as pd\n",
    "import altair as alt\n",
    "import sys\n",
    "sys.path.append('figure_scripts/')\n",
    "import plot_scripts as ps"
   ]
  },
  {
   "cell_type": "code",
   "execution_count": 2,
   "metadata": {},
   "outputs": [
    {
     "name": "stdout",
     "output_type": "stream",
     "text": [
      "39 genes\n",
      "60 variants\n"
     ]
    }
   ],
   "source": [
    "success_table = pd.read_csv('../../02_exomiser_manuscript/supp_fig_09/supp_fig9_input_1.7.25.tsv', sep='\\t')\n",
    "print(len(set(success_table['ID'])),'genes')\n",
    "print(len(success_table), 'variants')"
   ]
  },
  {
   "cell_type": "markdown",
   "metadata": {},
   "source": [
    "## Variant level"
   ]
  },
  {
   "cell_type": "code",
   "execution_count": 7,
   "metadata": {},
   "outputs": [
    {
     "name": "stdout",
     "output_type": "stream",
     "text": [
      "noN_filtered_15_18_human_REMM_revel_mvp_alphaM_spliceAI_PSF_501_reg_filter_noWL_genomiser highest rank: 448.0 max%: 65.0 39\n",
      "noN_filtered_15_85_human_revel_mvp_alphaM_spliceAI_noWL highest rank: 32.0 max%: 3.3333333333333335 2\n"
     ]
    },
    {
     "data": {
      "text/html": [
       "\n",
       "<style>\n",
       "  #altair-viz-e6227af6923742be8da49fe8a55d3dae.vega-embed {\n",
       "    width: 100%;\n",
       "    display: flex;\n",
       "  }\n",
       "\n",
       "  #altair-viz-e6227af6923742be8da49fe8a55d3dae.vega-embed details,\n",
       "  #altair-viz-e6227af6923742be8da49fe8a55d3dae.vega-embed details summary {\n",
       "    position: relative;\n",
       "  }\n",
       "</style>\n",
       "<div id=\"altair-viz-e6227af6923742be8da49fe8a55d3dae\"></div>\n",
       "<script type=\"text/javascript\">\n",
       "  var VEGA_DEBUG = (typeof VEGA_DEBUG == \"undefined\") ? {} : VEGA_DEBUG;\n",
       "  (function(spec, embedOpt){\n",
       "    let outputDiv = document.currentScript.previousElementSibling;\n",
       "    if (outputDiv.id !== \"altair-viz-e6227af6923742be8da49fe8a55d3dae\") {\n",
       "      outputDiv = document.getElementById(\"altair-viz-e6227af6923742be8da49fe8a55d3dae\");\n",
       "    }\n",
       "    const paths = {\n",
       "      \"vega\": \"https://cdn.jsdelivr.net/npm/vega@5?noext\",\n",
       "      \"vega-lib\": \"https://cdn.jsdelivr.net/npm/vega-lib?noext\",\n",
       "      \"vega-lite\": \"https://cdn.jsdelivr.net/npm/vega-lite@5.17.0?noext\",\n",
       "      \"vega-embed\": \"https://cdn.jsdelivr.net/npm/vega-embed@6?noext\",\n",
       "    };\n",
       "\n",
       "    function maybeLoadScript(lib, version) {\n",
       "      var key = `${lib.replace(\"-\", \"\")}_version`;\n",
       "      return (VEGA_DEBUG[key] == version) ?\n",
       "        Promise.resolve(paths[lib]) :\n",
       "        new Promise(function(resolve, reject) {\n",
       "          var s = document.createElement('script');\n",
       "          document.getElementsByTagName(\"head\")[0].appendChild(s);\n",
       "          s.async = true;\n",
       "          s.onload = () => {\n",
       "            VEGA_DEBUG[key] = version;\n",
       "            return resolve(paths[lib]);\n",
       "          };\n",
       "          s.onerror = () => reject(`Error loading script: ${paths[lib]}`);\n",
       "          s.src = paths[lib];\n",
       "        });\n",
       "    }\n",
       "\n",
       "    function showError(err) {\n",
       "      outputDiv.innerHTML = `<div class=\"error\" style=\"color:red;\">${err}</div>`;\n",
       "      throw err;\n",
       "    }\n",
       "\n",
       "    function displayChart(vegaEmbed) {\n",
       "      vegaEmbed(outputDiv, spec, embedOpt)\n",
       "        .catch(err => showError(`Javascript Error: ${err.message}<br>This usually means there's a typo in your chart specification. See the javascript console for the full traceback.`));\n",
       "    }\n",
       "\n",
       "    if(typeof define === \"function\" && define.amd) {\n",
       "      requirejs.config({paths});\n",
       "      require([\"vega-embed\"], displayChart, err => showError(`Error loading script: ${err.message}`));\n",
       "    } else {\n",
       "      maybeLoadScript(\"vega\", \"5\")\n",
       "        .then(() => maybeLoadScript(\"vega-lite\", \"5.17.0\"))\n",
       "        .then(() => maybeLoadScript(\"vega-embed\", \"6\"))\n",
       "        .catch(showError)\n",
       "        .then(() => displayChart(vegaEmbed));\n",
       "    }\n",
       "  })({\"config\": {\"view\": {\"continuousWidth\": 300, \"continuousHeight\": 300}, \"axis\": {\"labelFont\": \"arial\", \"labelFontSize\": 15, \"labelLimit\": 0, \"labelPadding\": 5, \"tickSize\": 8, \"titleFont\": \"arial\", \"titleFontSize\": 15}, \"legend\": {\"labelFont\": \"arial\", \"labelFontSize\": 13, \"labelLimit\": 0, \"titleFont\": \"arial\", \"titleFontSize\": 15}}, \"data\": {\"name\": \"data-04b7d01d7ebf296f3062f7b348ae2349\"}, \"mark\": {\"type\": \"line\", \"point\": {\"size\": 50}}, \"encoding\": {\"color\": {\"field\": \"Run_Type\", \"scale\": {\"domain\": [\"noN_filtered_15_85_human_revel_mvp_alphaM_spliceAI_noWL\", \"\", \"\", \"noN_filtered_15_18_human_REMM_revel_mvp_alphaM_spliceAI_PSF_501_reg_filter_noWL_genomiser\"], \"scheme\": \"set1\"}, \"sort\": [\"noN_filtered_15_85_human_revel_mvp_alphaM_spliceAI_noWL\", \"\", \"\", \"noN_filtered_15_18_human_REMM_revel_mvp_alphaM_spliceAI_PSF_501_reg_filter_noWL_genomiser\"], \"type\": \"nominal\"}, \"tooltip\": [{\"field\": \"Rank\", \"type\": \"quantitative\"}, {\"field\": \"Percent_Variants\", \"type\": \"quantitative\"}, {\"field\": \"Run_Type\", \"type\": \"nominal\"}], \"x\": {\"field\": \"Rank\", \"title\": \"Genomiser Rank of Causal Variant\", \"type\": \"quantitative\"}, \"y\": {\"field\": \"Percent_Variants\", \"scale\": {\"domain\": [0, 100]}, \"title\": \"Percent of Causal Variants within Genomiser Rank\", \"type\": \"quantitative\"}}, \"height\": 300, \"title\": \"60Diagnostic Variants (Variant Level - no MOI requirement)\", \"width\": 400, \"$schema\": \"https://vega.github.io/schema/vega-lite/v5.17.0.json\", \"datasets\": {\"data-04b7d01d7ebf296f3062f7b348ae2349\": [{\"Rank\": 1, \"NumPatients\": 7, \"Percent_Variants\": 11.666666666666666, \"Run_Type\": \"noN_filtered_15_18_human_REMM_revel_mvp_alphaM_spliceAI_PSF_501_reg_filter_noWL_genomiser\"}, {\"Rank\": 2, \"NumPatients\": 12, \"Percent_Variants\": 20.0, \"Run_Type\": \"noN_filtered_15_18_human_REMM_revel_mvp_alphaM_spliceAI_PSF_501_reg_filter_noWL_genomiser\"}, {\"Rank\": 3, \"NumPatients\": 12, \"Percent_Variants\": 20.0, \"Run_Type\": \"noN_filtered_15_18_human_REMM_revel_mvp_alphaM_spliceAI_PSF_501_reg_filter_noWL_genomiser\"}, {\"Rank\": 4, \"NumPatients\": 15, \"Percent_Variants\": 25.0, \"Run_Type\": \"noN_filtered_15_18_human_REMM_revel_mvp_alphaM_spliceAI_PSF_501_reg_filter_noWL_genomiser\"}, {\"Rank\": 5, \"NumPatients\": 16, \"Percent_Variants\": 26.666666666666668, \"Run_Type\": \"noN_filtered_15_18_human_REMM_revel_mvp_alphaM_spliceAI_PSF_501_reg_filter_noWL_genomiser\"}, {\"Rank\": 6, \"NumPatients\": 16, \"Percent_Variants\": 26.666666666666668, \"Run_Type\": \"noN_filtered_15_18_human_REMM_revel_mvp_alphaM_spliceAI_PSF_501_reg_filter_noWL_genomiser\"}, {\"Rank\": 7, \"NumPatients\": 18, \"Percent_Variants\": 30.0, \"Run_Type\": \"noN_filtered_15_18_human_REMM_revel_mvp_alphaM_spliceAI_PSF_501_reg_filter_noWL_genomiser\"}, {\"Rank\": 8, \"NumPatients\": 22, \"Percent_Variants\": 36.666666666666664, \"Run_Type\": \"noN_filtered_15_18_human_REMM_revel_mvp_alphaM_spliceAI_PSF_501_reg_filter_noWL_genomiser\"}, {\"Rank\": 9, \"NumPatients\": 22, \"Percent_Variants\": 36.666666666666664, \"Run_Type\": \"noN_filtered_15_18_human_REMM_revel_mvp_alphaM_spliceAI_PSF_501_reg_filter_noWL_genomiser\"}, {\"Rank\": 10, \"NumPatients\": 24, \"Percent_Variants\": 40.0, \"Run_Type\": \"noN_filtered_15_18_human_REMM_revel_mvp_alphaM_spliceAI_PSF_501_reg_filter_noWL_genomiser\"}, {\"Rank\": 11, \"NumPatients\": 24, \"Percent_Variants\": 40.0, \"Run_Type\": \"noN_filtered_15_18_human_REMM_revel_mvp_alphaM_spliceAI_PSF_501_reg_filter_noWL_genomiser\"}, {\"Rank\": 12, \"NumPatients\": 24, \"Percent_Variants\": 40.0, \"Run_Type\": \"noN_filtered_15_18_human_REMM_revel_mvp_alphaM_spliceAI_PSF_501_reg_filter_noWL_genomiser\"}, {\"Rank\": 13, \"NumPatients\": 25, \"Percent_Variants\": 41.66666666666667, \"Run_Type\": \"noN_filtered_15_18_human_REMM_revel_mvp_alphaM_spliceAI_PSF_501_reg_filter_noWL_genomiser\"}, {\"Rank\": 14, \"NumPatients\": 27, \"Percent_Variants\": 45.0, \"Run_Type\": \"noN_filtered_15_18_human_REMM_revel_mvp_alphaM_spliceAI_PSF_501_reg_filter_noWL_genomiser\"}, {\"Rank\": 15, \"NumPatients\": 27, \"Percent_Variants\": 45.0, \"Run_Type\": \"noN_filtered_15_18_human_REMM_revel_mvp_alphaM_spliceAI_PSF_501_reg_filter_noWL_genomiser\"}, {\"Rank\": 16, \"NumPatients\": 27, \"Percent_Variants\": 45.0, \"Run_Type\": \"noN_filtered_15_18_human_REMM_revel_mvp_alphaM_spliceAI_PSF_501_reg_filter_noWL_genomiser\"}, {\"Rank\": 17, \"NumPatients\": 27, \"Percent_Variants\": 45.0, \"Run_Type\": \"noN_filtered_15_18_human_REMM_revel_mvp_alphaM_spliceAI_PSF_501_reg_filter_noWL_genomiser\"}, {\"Rank\": 18, \"NumPatients\": 28, \"Percent_Variants\": 46.666666666666664, \"Run_Type\": \"noN_filtered_15_18_human_REMM_revel_mvp_alphaM_spliceAI_PSF_501_reg_filter_noWL_genomiser\"}, {\"Rank\": 19, \"NumPatients\": 28, \"Percent_Variants\": 46.666666666666664, \"Run_Type\": \"noN_filtered_15_18_human_REMM_revel_mvp_alphaM_spliceAI_PSF_501_reg_filter_noWL_genomiser\"}, {\"Rank\": 20, \"NumPatients\": 28, \"Percent_Variants\": 46.666666666666664, \"Run_Type\": \"noN_filtered_15_18_human_REMM_revel_mvp_alphaM_spliceAI_PSF_501_reg_filter_noWL_genomiser\"}, {\"Rank\": 21, \"NumPatients\": 29, \"Percent_Variants\": 48.333333333333336, \"Run_Type\": \"noN_filtered_15_18_human_REMM_revel_mvp_alphaM_spliceAI_PSF_501_reg_filter_noWL_genomiser\"}, {\"Rank\": 22, \"NumPatients\": 29, \"Percent_Variants\": 48.333333333333336, \"Run_Type\": \"noN_filtered_15_18_human_REMM_revel_mvp_alphaM_spliceAI_PSF_501_reg_filter_noWL_genomiser\"}, {\"Rank\": 23, \"NumPatients\": 29, \"Percent_Variants\": 48.333333333333336, \"Run_Type\": \"noN_filtered_15_18_human_REMM_revel_mvp_alphaM_spliceAI_PSF_501_reg_filter_noWL_genomiser\"}, {\"Rank\": 24, \"NumPatients\": 29, \"Percent_Variants\": 48.333333333333336, \"Run_Type\": \"noN_filtered_15_18_human_REMM_revel_mvp_alphaM_spliceAI_PSF_501_reg_filter_noWL_genomiser\"}, {\"Rank\": 25, \"NumPatients\": 29, \"Percent_Variants\": 48.333333333333336, \"Run_Type\": \"noN_filtered_15_18_human_REMM_revel_mvp_alphaM_spliceAI_PSF_501_reg_filter_noWL_genomiser\"}, {\"Rank\": 26, \"NumPatients\": 29, \"Percent_Variants\": 48.333333333333336, \"Run_Type\": \"noN_filtered_15_18_human_REMM_revel_mvp_alphaM_spliceAI_PSF_501_reg_filter_noWL_genomiser\"}, {\"Rank\": 27, \"NumPatients\": 29, \"Percent_Variants\": 48.333333333333336, \"Run_Type\": \"noN_filtered_15_18_human_REMM_revel_mvp_alphaM_spliceAI_PSF_501_reg_filter_noWL_genomiser\"}, {\"Rank\": 28, \"NumPatients\": 29, \"Percent_Variants\": 48.333333333333336, \"Run_Type\": \"noN_filtered_15_18_human_REMM_revel_mvp_alphaM_spliceAI_PSF_501_reg_filter_noWL_genomiser\"}, {\"Rank\": 29, \"NumPatients\": 29, \"Percent_Variants\": 48.333333333333336, \"Run_Type\": \"noN_filtered_15_18_human_REMM_revel_mvp_alphaM_spliceAI_PSF_501_reg_filter_noWL_genomiser\"}, {\"Rank\": 30, \"NumPatients\": 29, \"Percent_Variants\": 48.333333333333336, \"Run_Type\": \"noN_filtered_15_18_human_REMM_revel_mvp_alphaM_spliceAI_PSF_501_reg_filter_noWL_genomiser\"}, {\"Rank\": 1, \"NumPatients\": 0, \"Percent_Variants\": 0.0, \"Run_Type\": \"noN_filtered_15_85_human_revel_mvp_alphaM_spliceAI_noWL\"}, {\"Rank\": 2, \"NumPatients\": 0, \"Percent_Variants\": 0.0, \"Run_Type\": \"noN_filtered_15_85_human_revel_mvp_alphaM_spliceAI_noWL\"}, {\"Rank\": 3, \"NumPatients\": 0, \"Percent_Variants\": 0.0, \"Run_Type\": \"noN_filtered_15_85_human_revel_mvp_alphaM_spliceAI_noWL\"}, {\"Rank\": 4, \"NumPatients\": 0, \"Percent_Variants\": 0.0, \"Run_Type\": \"noN_filtered_15_85_human_revel_mvp_alphaM_spliceAI_noWL\"}, {\"Rank\": 5, \"NumPatients\": 0, \"Percent_Variants\": 0.0, \"Run_Type\": \"noN_filtered_15_85_human_revel_mvp_alphaM_spliceAI_noWL\"}, {\"Rank\": 6, \"NumPatients\": 0, \"Percent_Variants\": 0.0, \"Run_Type\": \"noN_filtered_15_85_human_revel_mvp_alphaM_spliceAI_noWL\"}, {\"Rank\": 7, \"NumPatients\": 1, \"Percent_Variants\": 1.6666666666666667, \"Run_Type\": \"noN_filtered_15_85_human_revel_mvp_alphaM_spliceAI_noWL\"}, {\"Rank\": 8, \"NumPatients\": 1, \"Percent_Variants\": 1.6666666666666667, \"Run_Type\": \"noN_filtered_15_85_human_revel_mvp_alphaM_spliceAI_noWL\"}, {\"Rank\": 9, \"NumPatients\": 1, \"Percent_Variants\": 1.6666666666666667, \"Run_Type\": \"noN_filtered_15_85_human_revel_mvp_alphaM_spliceAI_noWL\"}, {\"Rank\": 10, \"NumPatients\": 1, \"Percent_Variants\": 1.6666666666666667, \"Run_Type\": \"noN_filtered_15_85_human_revel_mvp_alphaM_spliceAI_noWL\"}, {\"Rank\": 11, \"NumPatients\": 1, \"Percent_Variants\": 1.6666666666666667, \"Run_Type\": \"noN_filtered_15_85_human_revel_mvp_alphaM_spliceAI_noWL\"}, {\"Rank\": 12, \"NumPatients\": 1, \"Percent_Variants\": 1.6666666666666667, \"Run_Type\": \"noN_filtered_15_85_human_revel_mvp_alphaM_spliceAI_noWL\"}, {\"Rank\": 13, \"NumPatients\": 1, \"Percent_Variants\": 1.6666666666666667, \"Run_Type\": \"noN_filtered_15_85_human_revel_mvp_alphaM_spliceAI_noWL\"}, {\"Rank\": 14, \"NumPatients\": 1, \"Percent_Variants\": 1.6666666666666667, \"Run_Type\": \"noN_filtered_15_85_human_revel_mvp_alphaM_spliceAI_noWL\"}, {\"Rank\": 15, \"NumPatients\": 1, \"Percent_Variants\": 1.6666666666666667, \"Run_Type\": \"noN_filtered_15_85_human_revel_mvp_alphaM_spliceAI_noWL\"}, {\"Rank\": 16, \"NumPatients\": 1, \"Percent_Variants\": 1.6666666666666667, \"Run_Type\": \"noN_filtered_15_85_human_revel_mvp_alphaM_spliceAI_noWL\"}, {\"Rank\": 17, \"NumPatients\": 1, \"Percent_Variants\": 1.6666666666666667, \"Run_Type\": \"noN_filtered_15_85_human_revel_mvp_alphaM_spliceAI_noWL\"}, {\"Rank\": 18, \"NumPatients\": 1, \"Percent_Variants\": 1.6666666666666667, \"Run_Type\": \"noN_filtered_15_85_human_revel_mvp_alphaM_spliceAI_noWL\"}, {\"Rank\": 19, \"NumPatients\": 1, \"Percent_Variants\": 1.6666666666666667, \"Run_Type\": \"noN_filtered_15_85_human_revel_mvp_alphaM_spliceAI_noWL\"}, {\"Rank\": 20, \"NumPatients\": 1, \"Percent_Variants\": 1.6666666666666667, \"Run_Type\": \"noN_filtered_15_85_human_revel_mvp_alphaM_spliceAI_noWL\"}, {\"Rank\": 21, \"NumPatients\": 1, \"Percent_Variants\": 1.6666666666666667, \"Run_Type\": \"noN_filtered_15_85_human_revel_mvp_alphaM_spliceAI_noWL\"}, {\"Rank\": 22, \"NumPatients\": 1, \"Percent_Variants\": 1.6666666666666667, \"Run_Type\": \"noN_filtered_15_85_human_revel_mvp_alphaM_spliceAI_noWL\"}, {\"Rank\": 23, \"NumPatients\": 1, \"Percent_Variants\": 1.6666666666666667, \"Run_Type\": \"noN_filtered_15_85_human_revel_mvp_alphaM_spliceAI_noWL\"}, {\"Rank\": 24, \"NumPatients\": 1, \"Percent_Variants\": 1.6666666666666667, \"Run_Type\": \"noN_filtered_15_85_human_revel_mvp_alphaM_spliceAI_noWL\"}, {\"Rank\": 25, \"NumPatients\": 1, \"Percent_Variants\": 1.6666666666666667, \"Run_Type\": \"noN_filtered_15_85_human_revel_mvp_alphaM_spliceAI_noWL\"}, {\"Rank\": 26, \"NumPatients\": 1, \"Percent_Variants\": 1.6666666666666667, \"Run_Type\": \"noN_filtered_15_85_human_revel_mvp_alphaM_spliceAI_noWL\"}, {\"Rank\": 27, \"NumPatients\": 1, \"Percent_Variants\": 1.6666666666666667, \"Run_Type\": \"noN_filtered_15_85_human_revel_mvp_alphaM_spliceAI_noWL\"}, {\"Rank\": 28, \"NumPatients\": 1, \"Percent_Variants\": 1.6666666666666667, \"Run_Type\": \"noN_filtered_15_85_human_revel_mvp_alphaM_spliceAI_noWL\"}, {\"Rank\": 29, \"NumPatients\": 1, \"Percent_Variants\": 1.6666666666666667, \"Run_Type\": \"noN_filtered_15_85_human_revel_mvp_alphaM_spliceAI_noWL\"}, {\"Rank\": 30, \"NumPatients\": 1, \"Percent_Variants\": 1.6666666666666667, \"Run_Type\": \"noN_filtered_15_85_human_revel_mvp_alphaM_spliceAI_noWL\"}]}}, {\"mode\": \"vega-lite\"});\n",
       "</script>"
      ],
      "text/plain": [
       "alt.Chart(...)"
      ]
     },
     "execution_count": 7,
     "metadata": {},
     "output_type": "execute_result"
    }
   ],
   "source": [
    "domain = [ 'noN_filtered_15_85_human_revel_mvp_alphaM_spliceAI_noWL','','','noN_filtered_15_18_human_REMM_revel_mvp_alphaM_spliceAI_PSF_501_reg_filter_noWL_genomiser']\n",
    "\n",
    "run_types = ['noN_filtered_15_18_human_REMM_revel_mvp_alphaM_spliceAI_PSF_501_reg_filter_noWL_genomiser', 'noN_filtered_15_85_human_revel_mvp_alphaM_spliceAI_noWL']\n",
    "gs_exomiser_df,denom = ps.create_df(300, run_types, success_table)\n",
    "variant_level = ps.create_plot(denom, gs_exomiser_df, domain, 'set1',False, domain, 'Genomiser').properties(width=400, height=300)\n",
    "variant_level.configure_axis(\n",
    "    labelFontSize=15,\n",
    "    labelPadding= 5,\n",
    "    tickSize=8,\n",
    "    titleFontSize=15,\n",
    "    labelFont='arial',\n",
    "    titleFont='arial',\n",
    "    labelLimit=0\n",
    "    ).configure_legend(\n",
    "        labelLimit=0,labelFontSize=13, titleFontSize=15, labelFont='arial', titleFont='arial')"
   ]
  },
  {
   "cell_type": "markdown",
   "metadata": {},
   "source": [
    "## Gene level"
   ]
  },
  {
   "cell_type": "code",
   "execution_count": 21,
   "metadata": {},
   "outputs": [
    {
     "name": "stdout",
     "output_type": "stream",
     "text": [
      "noN_filtered_15_18_human_REMM_revel_mvp_alphaM_spliceAI_PSF_501_reg_filter_noWL_genomiser highest rank: 448.0 max%: 76.92307692307693 30\n",
      "noN_filtered_15_85_human_revel_mvp_alphaM_spliceAI_noWL highest rank: 32.0 max%: 7.6923076923076925 3\n"
     ]
    },
    {
     "data": {
      "text/html": [
       "\n",
       "<style>\n",
       "  #altair-viz-6fc72bae5cac44e58e3f1ed8eaefaed9.vega-embed {\n",
       "    width: 100%;\n",
       "    display: flex;\n",
       "  }\n",
       "\n",
       "  #altair-viz-6fc72bae5cac44e58e3f1ed8eaefaed9.vega-embed details,\n",
       "  #altair-viz-6fc72bae5cac44e58e3f1ed8eaefaed9.vega-embed details summary {\n",
       "    position: relative;\n",
       "  }\n",
       "</style>\n",
       "<div id=\"altair-viz-6fc72bae5cac44e58e3f1ed8eaefaed9\"></div>\n",
       "<script type=\"text/javascript\">\n",
       "  var VEGA_DEBUG = (typeof VEGA_DEBUG == \"undefined\") ? {} : VEGA_DEBUG;\n",
       "  (function(spec, embedOpt){\n",
       "    let outputDiv = document.currentScript.previousElementSibling;\n",
       "    if (outputDiv.id !== \"altair-viz-6fc72bae5cac44e58e3f1ed8eaefaed9\") {\n",
       "      outputDiv = document.getElementById(\"altair-viz-6fc72bae5cac44e58e3f1ed8eaefaed9\");\n",
       "    }\n",
       "    const paths = {\n",
       "      \"vega\": \"https://cdn.jsdelivr.net/npm/vega@5?noext\",\n",
       "      \"vega-lib\": \"https://cdn.jsdelivr.net/npm/vega-lib?noext\",\n",
       "      \"vega-lite\": \"https://cdn.jsdelivr.net/npm/vega-lite@5.17.0?noext\",\n",
       "      \"vega-embed\": \"https://cdn.jsdelivr.net/npm/vega-embed@6?noext\",\n",
       "    };\n",
       "\n",
       "    function maybeLoadScript(lib, version) {\n",
       "      var key = `${lib.replace(\"-\", \"\")}_version`;\n",
       "      return (VEGA_DEBUG[key] == version) ?\n",
       "        Promise.resolve(paths[lib]) :\n",
       "        new Promise(function(resolve, reject) {\n",
       "          var s = document.createElement('script');\n",
       "          document.getElementsByTagName(\"head\")[0].appendChild(s);\n",
       "          s.async = true;\n",
       "          s.onload = () => {\n",
       "            VEGA_DEBUG[key] = version;\n",
       "            return resolve(paths[lib]);\n",
       "          };\n",
       "          s.onerror = () => reject(`Error loading script: ${paths[lib]}`);\n",
       "          s.src = paths[lib];\n",
       "        });\n",
       "    }\n",
       "\n",
       "    function showError(err) {\n",
       "      outputDiv.innerHTML = `<div class=\"error\" style=\"color:red;\">${err}</div>`;\n",
       "      throw err;\n",
       "    }\n",
       "\n",
       "    function displayChart(vegaEmbed) {\n",
       "      vegaEmbed(outputDiv, spec, embedOpt)\n",
       "        .catch(err => showError(`Javascript Error: ${err.message}<br>This usually means there's a typo in your chart specification. See the javascript console for the full traceback.`));\n",
       "    }\n",
       "\n",
       "    if(typeof define === \"function\" && define.amd) {\n",
       "      requirejs.config({paths});\n",
       "      require([\"vega-embed\"], displayChart, err => showError(`Error loading script: ${err.message}`));\n",
       "    } else {\n",
       "      maybeLoadScript(\"vega\", \"5\")\n",
       "        .then(() => maybeLoadScript(\"vega-lite\", \"5.17.0\"))\n",
       "        .then(() => maybeLoadScript(\"vega-embed\", \"6\"))\n",
       "        .catch(showError)\n",
       "        .then(() => displayChart(vegaEmbed));\n",
       "    }\n",
       "  })({\"config\": {\"view\": {\"continuousWidth\": 300, \"continuousHeight\": 300}, \"axis\": {\"labelFont\": \"arial\", \"labelFontSize\": 15, \"labelLimit\": 0, \"labelPadding\": 5, \"tickSize\": 8, \"titleFont\": \"arial\", \"titleFontSize\": 15}, \"legend\": {\"labelFont\": \"arial\", \"labelFontSize\": 13, \"labelLimit\": 0, \"titleFont\": \"arial\", \"titleFontSize\": 15}}, \"data\": {\"name\": \"data-d5e31e4639f7e2565018e4af4e4faadc\"}, \"mark\": {\"type\": \"line\", \"point\": {\"size\": 50}}, \"encoding\": {\"color\": {\"field\": \"Run_Type\", \"scale\": {\"domain\": [\"noN_filtered_15_85_human_revel_mvp_alphaM_spliceAI_noWL\", \"\", \"\", \"noN_filtered_15_18_human_REMM_revel_mvp_alphaM_spliceAI_PSF_501_reg_filter_noWL_genomiser\"], \"scheme\": \"set1\"}, \"sort\": [\"noN_filtered_15_85_human_revel_mvp_alphaM_spliceAI_noWL\", \"\", \"\", \"noN_filtered_15_18_human_REMM_revel_mvp_alphaM_spliceAI_PSF_501_reg_filter_noWL_genomiser\"], \"type\": \"nominal\"}, \"tooltip\": [{\"field\": \"Rank\", \"type\": \"quantitative\"}, {\"field\": \"Percent_Variants\", \"type\": \"quantitative\"}, {\"field\": \"Run_Type\", \"type\": \"nominal\"}], \"x\": {\"field\": \"Rank\", \"title\": \"Exomiser Rank of Causal Gene\", \"type\": \"quantitative\"}, \"y\": {\"field\": \"Percent_Variants\", \"scale\": {\"domain\": [0, 100]}, \"title\": \"Percent of Causal Genes within Exomiser Rank\", \"type\": \"quantitative\"}}, \"height\": 300, \"title\": \"39Diagnostic Genes (Gene Level)\", \"width\": 400, \"$schema\": \"https://vega.github.io/schema/vega-lite/v5.17.0.json\", \"datasets\": {\"data-d5e31e4639f7e2565018e4af4e4faadc\": [{\"Rank\": 1, \"NumPatients\": 6, \"Percent_Variants\": 15.384615384615385, \"Run_Type\": \"noN_filtered_15_18_human_REMM_revel_mvp_alphaM_spliceAI_PSF_501_reg_filter_noWL_genomiser\"}, {\"Rank\": 2, \"NumPatients\": 9, \"Percent_Variants\": 23.076923076923077, \"Run_Type\": \"noN_filtered_15_18_human_REMM_revel_mvp_alphaM_spliceAI_PSF_501_reg_filter_noWL_genomiser\"}, {\"Rank\": 3, \"NumPatients\": 9, \"Percent_Variants\": 23.076923076923077, \"Run_Type\": \"noN_filtered_15_18_human_REMM_revel_mvp_alphaM_spliceAI_PSF_501_reg_filter_noWL_genomiser\"}, {\"Rank\": 4, \"NumPatients\": 11, \"Percent_Variants\": 28.205128205128204, \"Run_Type\": \"noN_filtered_15_18_human_REMM_revel_mvp_alphaM_spliceAI_PSF_501_reg_filter_noWL_genomiser\"}, {\"Rank\": 5, \"NumPatients\": 12, \"Percent_Variants\": 30.76923076923077, \"Run_Type\": \"noN_filtered_15_18_human_REMM_revel_mvp_alphaM_spliceAI_PSF_501_reg_filter_noWL_genomiser\"}, {\"Rank\": 6, \"NumPatients\": 12, \"Percent_Variants\": 30.76923076923077, \"Run_Type\": \"noN_filtered_15_18_human_REMM_revel_mvp_alphaM_spliceAI_PSF_501_reg_filter_noWL_genomiser\"}, {\"Rank\": 7, \"NumPatients\": 13, \"Percent_Variants\": 33.33333333333333, \"Run_Type\": \"noN_filtered_15_18_human_REMM_revel_mvp_alphaM_spliceAI_PSF_501_reg_filter_noWL_genomiser\"}, {\"Rank\": 8, \"NumPatients\": 16, \"Percent_Variants\": 41.02564102564102, \"Run_Type\": \"noN_filtered_15_18_human_REMM_revel_mvp_alphaM_spliceAI_PSF_501_reg_filter_noWL_genomiser\"}, {\"Rank\": 9, \"NumPatients\": 16, \"Percent_Variants\": 41.02564102564102, \"Run_Type\": \"noN_filtered_15_18_human_REMM_revel_mvp_alphaM_spliceAI_PSF_501_reg_filter_noWL_genomiser\"}, {\"Rank\": 10, \"NumPatients\": 17, \"Percent_Variants\": 43.58974358974359, \"Run_Type\": \"noN_filtered_15_18_human_REMM_revel_mvp_alphaM_spliceAI_PSF_501_reg_filter_noWL_genomiser\"}, {\"Rank\": 11, \"NumPatients\": 18, \"Percent_Variants\": 46.15384615384615, \"Run_Type\": \"noN_filtered_15_18_human_REMM_revel_mvp_alphaM_spliceAI_PSF_501_reg_filter_noWL_genomiser\"}, {\"Rank\": 12, \"NumPatients\": 18, \"Percent_Variants\": 46.15384615384615, \"Run_Type\": \"noN_filtered_15_18_human_REMM_revel_mvp_alphaM_spliceAI_PSF_501_reg_filter_noWL_genomiser\"}, {\"Rank\": 13, \"NumPatients\": 19, \"Percent_Variants\": 48.717948717948715, \"Run_Type\": \"noN_filtered_15_18_human_REMM_revel_mvp_alphaM_spliceAI_PSF_501_reg_filter_noWL_genomiser\"}, {\"Rank\": 14, \"NumPatients\": 20, \"Percent_Variants\": 51.28205128205128, \"Run_Type\": \"noN_filtered_15_18_human_REMM_revel_mvp_alphaM_spliceAI_PSF_501_reg_filter_noWL_genomiser\"}, {\"Rank\": 15, \"NumPatients\": 20, \"Percent_Variants\": 51.28205128205128, \"Run_Type\": \"noN_filtered_15_18_human_REMM_revel_mvp_alphaM_spliceAI_PSF_501_reg_filter_noWL_genomiser\"}, {\"Rank\": 16, \"NumPatients\": 20, \"Percent_Variants\": 51.28205128205128, \"Run_Type\": \"noN_filtered_15_18_human_REMM_revel_mvp_alphaM_spliceAI_PSF_501_reg_filter_noWL_genomiser\"}, {\"Rank\": 17, \"NumPatients\": 20, \"Percent_Variants\": 51.28205128205128, \"Run_Type\": \"noN_filtered_15_18_human_REMM_revel_mvp_alphaM_spliceAI_PSF_501_reg_filter_noWL_genomiser\"}, {\"Rank\": 18, \"NumPatients\": 21, \"Percent_Variants\": 53.84615384615385, \"Run_Type\": \"noN_filtered_15_18_human_REMM_revel_mvp_alphaM_spliceAI_PSF_501_reg_filter_noWL_genomiser\"}, {\"Rank\": 19, \"NumPatients\": 21, \"Percent_Variants\": 53.84615384615385, \"Run_Type\": \"noN_filtered_15_18_human_REMM_revel_mvp_alphaM_spliceAI_PSF_501_reg_filter_noWL_genomiser\"}, {\"Rank\": 20, \"NumPatients\": 21, \"Percent_Variants\": 53.84615384615385, \"Run_Type\": \"noN_filtered_15_18_human_REMM_revel_mvp_alphaM_spliceAI_PSF_501_reg_filter_noWL_genomiser\"}, {\"Rank\": 21, \"NumPatients\": 23, \"Percent_Variants\": 58.97435897435898, \"Run_Type\": \"noN_filtered_15_18_human_REMM_revel_mvp_alphaM_spliceAI_PSF_501_reg_filter_noWL_genomiser\"}, {\"Rank\": 22, \"NumPatients\": 23, \"Percent_Variants\": 58.97435897435898, \"Run_Type\": \"noN_filtered_15_18_human_REMM_revel_mvp_alphaM_spliceAI_PSF_501_reg_filter_noWL_genomiser\"}, {\"Rank\": 23, \"NumPatients\": 23, \"Percent_Variants\": 58.97435897435898, \"Run_Type\": \"noN_filtered_15_18_human_REMM_revel_mvp_alphaM_spliceAI_PSF_501_reg_filter_noWL_genomiser\"}, {\"Rank\": 24, \"NumPatients\": 23, \"Percent_Variants\": 58.97435897435898, \"Run_Type\": \"noN_filtered_15_18_human_REMM_revel_mvp_alphaM_spliceAI_PSF_501_reg_filter_noWL_genomiser\"}, {\"Rank\": 25, \"NumPatients\": 23, \"Percent_Variants\": 58.97435897435898, \"Run_Type\": \"noN_filtered_15_18_human_REMM_revel_mvp_alphaM_spliceAI_PSF_501_reg_filter_noWL_genomiser\"}, {\"Rank\": 26, \"NumPatients\": 23, \"Percent_Variants\": 58.97435897435898, \"Run_Type\": \"noN_filtered_15_18_human_REMM_revel_mvp_alphaM_spliceAI_PSF_501_reg_filter_noWL_genomiser\"}, {\"Rank\": 27, \"NumPatients\": 24, \"Percent_Variants\": 61.53846153846154, \"Run_Type\": \"noN_filtered_15_18_human_REMM_revel_mvp_alphaM_spliceAI_PSF_501_reg_filter_noWL_genomiser\"}, {\"Rank\": 28, \"NumPatients\": 24, \"Percent_Variants\": 61.53846153846154, \"Run_Type\": \"noN_filtered_15_18_human_REMM_revel_mvp_alphaM_spliceAI_PSF_501_reg_filter_noWL_genomiser\"}, {\"Rank\": 29, \"NumPatients\": 24, \"Percent_Variants\": 61.53846153846154, \"Run_Type\": \"noN_filtered_15_18_human_REMM_revel_mvp_alphaM_spliceAI_PSF_501_reg_filter_noWL_genomiser\"}, {\"Rank\": 30, \"NumPatients\": 24, \"Percent_Variants\": 61.53846153846154, \"Run_Type\": \"noN_filtered_15_18_human_REMM_revel_mvp_alphaM_spliceAI_PSF_501_reg_filter_noWL_genomiser\"}, {\"Rank\": 1, \"NumPatients\": 0, \"Percent_Variants\": 0.0, \"Run_Type\": \"noN_filtered_15_85_human_revel_mvp_alphaM_spliceAI_noWL\"}, {\"Rank\": 2, \"NumPatients\": 0, \"Percent_Variants\": 0.0, \"Run_Type\": \"noN_filtered_15_85_human_revel_mvp_alphaM_spliceAI_noWL\"}, {\"Rank\": 3, \"NumPatients\": 0, \"Percent_Variants\": 0.0, \"Run_Type\": \"noN_filtered_15_85_human_revel_mvp_alphaM_spliceAI_noWL\"}, {\"Rank\": 4, \"NumPatients\": 1, \"Percent_Variants\": 2.564102564102564, \"Run_Type\": \"noN_filtered_15_85_human_revel_mvp_alphaM_spliceAI_noWL\"}, {\"Rank\": 5, \"NumPatients\": 1, \"Percent_Variants\": 2.564102564102564, \"Run_Type\": \"noN_filtered_15_85_human_revel_mvp_alphaM_spliceAI_noWL\"}, {\"Rank\": 6, \"NumPatients\": 1, \"Percent_Variants\": 2.564102564102564, \"Run_Type\": \"noN_filtered_15_85_human_revel_mvp_alphaM_spliceAI_noWL\"}, {\"Rank\": 7, \"NumPatients\": 2, \"Percent_Variants\": 5.128205128205128, \"Run_Type\": \"noN_filtered_15_85_human_revel_mvp_alphaM_spliceAI_noWL\"}, {\"Rank\": 8, \"NumPatients\": 2, \"Percent_Variants\": 5.128205128205128, \"Run_Type\": \"noN_filtered_15_85_human_revel_mvp_alphaM_spliceAI_noWL\"}, {\"Rank\": 9, \"NumPatients\": 2, \"Percent_Variants\": 5.128205128205128, \"Run_Type\": \"noN_filtered_15_85_human_revel_mvp_alphaM_spliceAI_noWL\"}, {\"Rank\": 10, \"NumPatients\": 2, \"Percent_Variants\": 5.128205128205128, \"Run_Type\": \"noN_filtered_15_85_human_revel_mvp_alphaM_spliceAI_noWL\"}, {\"Rank\": 11, \"NumPatients\": 2, \"Percent_Variants\": 5.128205128205128, \"Run_Type\": \"noN_filtered_15_85_human_revel_mvp_alphaM_spliceAI_noWL\"}, {\"Rank\": 12, \"NumPatients\": 2, \"Percent_Variants\": 5.128205128205128, \"Run_Type\": \"noN_filtered_15_85_human_revel_mvp_alphaM_spliceAI_noWL\"}, {\"Rank\": 13, \"NumPatients\": 2, \"Percent_Variants\": 5.128205128205128, \"Run_Type\": \"noN_filtered_15_85_human_revel_mvp_alphaM_spliceAI_noWL\"}, {\"Rank\": 14, \"NumPatients\": 2, \"Percent_Variants\": 5.128205128205128, \"Run_Type\": \"noN_filtered_15_85_human_revel_mvp_alphaM_spliceAI_noWL\"}, {\"Rank\": 15, \"NumPatients\": 2, \"Percent_Variants\": 5.128205128205128, \"Run_Type\": \"noN_filtered_15_85_human_revel_mvp_alphaM_spliceAI_noWL\"}, {\"Rank\": 16, \"NumPatients\": 2, \"Percent_Variants\": 5.128205128205128, \"Run_Type\": \"noN_filtered_15_85_human_revel_mvp_alphaM_spliceAI_noWL\"}, {\"Rank\": 17, \"NumPatients\": 2, \"Percent_Variants\": 5.128205128205128, \"Run_Type\": \"noN_filtered_15_85_human_revel_mvp_alphaM_spliceAI_noWL\"}, {\"Rank\": 18, \"NumPatients\": 2, \"Percent_Variants\": 5.128205128205128, \"Run_Type\": \"noN_filtered_15_85_human_revel_mvp_alphaM_spliceAI_noWL\"}, {\"Rank\": 19, \"NumPatients\": 2, \"Percent_Variants\": 5.128205128205128, \"Run_Type\": \"noN_filtered_15_85_human_revel_mvp_alphaM_spliceAI_noWL\"}, {\"Rank\": 20, \"NumPatients\": 2, \"Percent_Variants\": 5.128205128205128, \"Run_Type\": \"noN_filtered_15_85_human_revel_mvp_alphaM_spliceAI_noWL\"}, {\"Rank\": 21, \"NumPatients\": 2, \"Percent_Variants\": 5.128205128205128, \"Run_Type\": \"noN_filtered_15_85_human_revel_mvp_alphaM_spliceAI_noWL\"}, {\"Rank\": 22, \"NumPatients\": 2, \"Percent_Variants\": 5.128205128205128, \"Run_Type\": \"noN_filtered_15_85_human_revel_mvp_alphaM_spliceAI_noWL\"}, {\"Rank\": 23, \"NumPatients\": 2, \"Percent_Variants\": 5.128205128205128, \"Run_Type\": \"noN_filtered_15_85_human_revel_mvp_alphaM_spliceAI_noWL\"}, {\"Rank\": 24, \"NumPatients\": 2, \"Percent_Variants\": 5.128205128205128, \"Run_Type\": \"noN_filtered_15_85_human_revel_mvp_alphaM_spliceAI_noWL\"}, {\"Rank\": 25, \"NumPatients\": 2, \"Percent_Variants\": 5.128205128205128, \"Run_Type\": \"noN_filtered_15_85_human_revel_mvp_alphaM_spliceAI_noWL\"}, {\"Rank\": 26, \"NumPatients\": 2, \"Percent_Variants\": 5.128205128205128, \"Run_Type\": \"noN_filtered_15_85_human_revel_mvp_alphaM_spliceAI_noWL\"}, {\"Rank\": 27, \"NumPatients\": 2, \"Percent_Variants\": 5.128205128205128, \"Run_Type\": \"noN_filtered_15_85_human_revel_mvp_alphaM_spliceAI_noWL\"}, {\"Rank\": 28, \"NumPatients\": 2, \"Percent_Variants\": 5.128205128205128, \"Run_Type\": \"noN_filtered_15_85_human_revel_mvp_alphaM_spliceAI_noWL\"}, {\"Rank\": 29, \"NumPatients\": 2, \"Percent_Variants\": 5.128205128205128, \"Run_Type\": \"noN_filtered_15_85_human_revel_mvp_alphaM_spliceAI_noWL\"}, {\"Rank\": 30, \"NumPatients\": 2, \"Percent_Variants\": 5.128205128205128, \"Run_Type\": \"noN_filtered_15_85_human_revel_mvp_alphaM_spliceAI_noWL\"}]}}, {\"mode\": \"vega-lite\"});\n",
       "</script>"
      ],
      "text/plain": [
       "alt.Chart(...)"
      ]
     },
     "execution_count": 21,
     "metadata": {},
     "output_type": "execute_result"
    }
   ],
   "source": [
    "domain = [ 'noN_filtered_15_85_human_revel_mvp_alphaM_spliceAI_noWL','','','noN_filtered_15_18_human_REMM_revel_mvp_alphaM_spliceAI_PSF_501_reg_filter_noWL_genomiser']\n",
    "\n",
    "run_types = ['noN_filtered_15_18_human_REMM_revel_mvp_alphaM_spliceAI_PSF_501_reg_filter_noWL_genomiser', 'noN_filtered_15_85_human_revel_mvp_alphaM_spliceAI_noWL']\n",
    "gene_success = success_table[['ID','Gene_Level_noN_filtered_15_85_human_revel_mvp_alphaM_spliceAI_noWL','Gene_Level_rank_noN_filtered_15_85_human_revel_mvp_alphaM_spliceAI_noWL','Gene_Level_noN_filtered_15_18_human_REMM_revel_mvp_alphaM_spliceAI_PSF_501_reg_filter_noWL_genomiser','Gene_Level_rank_noN_filtered_15_18_human_REMM_revel_mvp_alphaM_spliceAI_PSF_501_reg_filter_noWL_genomiser']].drop_duplicates()\n",
    "gs_exomiser_df,denom = ps.create_df_gene(300, run_types, gene_success)\n",
    "gene_level = ps.create_plot_gene(denom, gs_exomiser_df, domain, 'set1', False,domain).properties(width=400, height=300)\n",
    "gene_level.configure_axis(\n",
    "    labelFontSize=15,\n",
    "    labelPadding= 5,\n",
    "    tickSize=8,\n",
    "    titleFontSize=15,\n",
    "    labelFont='arial',\n",
    "    titleFont='arial',\n",
    "    labelLimit=0\n",
    "    ).configure_legend(\n",
    "        labelLimit=0,labelFontSize=13, titleFontSize=15, labelFont='arial', titleFont='arial')"
   ]
  },
  {
   "cell_type": "code",
   "execution_count": 22,
   "metadata": {},
   "outputs": [
    {
     "data": {
      "text/html": [
       "\n",
       "<style>\n",
       "  #altair-viz-038a8ca4efb547a48e2545b7615f0e38.vega-embed {\n",
       "    width: 100%;\n",
       "    display: flex;\n",
       "  }\n",
       "\n",
       "  #altair-viz-038a8ca4efb547a48e2545b7615f0e38.vega-embed details,\n",
       "  #altair-viz-038a8ca4efb547a48e2545b7615f0e38.vega-embed details summary {\n",
       "    position: relative;\n",
       "  }\n",
       "</style>\n",
       "<div id=\"altair-viz-038a8ca4efb547a48e2545b7615f0e38\"></div>\n",
       "<script type=\"text/javascript\">\n",
       "  var VEGA_DEBUG = (typeof VEGA_DEBUG == \"undefined\") ? {} : VEGA_DEBUG;\n",
       "  (function(spec, embedOpt){\n",
       "    let outputDiv = document.currentScript.previousElementSibling;\n",
       "    if (outputDiv.id !== \"altair-viz-038a8ca4efb547a48e2545b7615f0e38\") {\n",
       "      outputDiv = document.getElementById(\"altair-viz-038a8ca4efb547a48e2545b7615f0e38\");\n",
       "    }\n",
       "    const paths = {\n",
       "      \"vega\": \"https://cdn.jsdelivr.net/npm/vega@5?noext\",\n",
       "      \"vega-lib\": \"https://cdn.jsdelivr.net/npm/vega-lib?noext\",\n",
       "      \"vega-lite\": \"https://cdn.jsdelivr.net/npm/vega-lite@5.17.0?noext\",\n",
       "      \"vega-embed\": \"https://cdn.jsdelivr.net/npm/vega-embed@6?noext\",\n",
       "    };\n",
       "\n",
       "    function maybeLoadScript(lib, version) {\n",
       "      var key = `${lib.replace(\"-\", \"\")}_version`;\n",
       "      return (VEGA_DEBUG[key] == version) ?\n",
       "        Promise.resolve(paths[lib]) :\n",
       "        new Promise(function(resolve, reject) {\n",
       "          var s = document.createElement('script');\n",
       "          document.getElementsByTagName(\"head\")[0].appendChild(s);\n",
       "          s.async = true;\n",
       "          s.onload = () => {\n",
       "            VEGA_DEBUG[key] = version;\n",
       "            return resolve(paths[lib]);\n",
       "          };\n",
       "          s.onerror = () => reject(`Error loading script: ${paths[lib]}`);\n",
       "          s.src = paths[lib];\n",
       "        });\n",
       "    }\n",
       "\n",
       "    function showError(err) {\n",
       "      outputDiv.innerHTML = `<div class=\"error\" style=\"color:red;\">${err}</div>`;\n",
       "      throw err;\n",
       "    }\n",
       "\n",
       "    function displayChart(vegaEmbed) {\n",
       "      vegaEmbed(outputDiv, spec, embedOpt)\n",
       "        .catch(err => showError(`Javascript Error: ${err.message}<br>This usually means there's a typo in your chart specification. See the javascript console for the full traceback.`));\n",
       "    }\n",
       "\n",
       "    if(typeof define === \"function\" && define.amd) {\n",
       "      requirejs.config({paths});\n",
       "      require([\"vega-embed\"], displayChart, err => showError(`Error loading script: ${err.message}`));\n",
       "    } else {\n",
       "      maybeLoadScript(\"vega\", \"5\")\n",
       "        .then(() => maybeLoadScript(\"vega-lite\", \"5.17.0\"))\n",
       "        .then(() => maybeLoadScript(\"vega-embed\", \"6\"))\n",
       "        .catch(showError)\n",
       "        .then(() => displayChart(vegaEmbed));\n",
       "    }\n",
       "  })({\"config\": {\"view\": {\"continuousWidth\": 300, \"continuousHeight\": 300}, \"axis\": {\"labelFont\": \"arial\", \"labelFontSize\": 15, \"labelLimit\": 0, \"labelPadding\": 5, \"tickSize\": 8, \"titleFont\": \"arial\", \"titleFontSize\": 15}, \"legend\": {\"labelFont\": \"arial\", \"labelFontSize\": 13, \"labelLimit\": 0, \"titleFont\": \"arial\", \"titleFontSize\": 15}}, \"hconcat\": [{\"data\": {\"name\": \"data-04b7d01d7ebf296f3062f7b348ae2349\"}, \"mark\": {\"type\": \"line\", \"point\": {\"size\": 50}}, \"encoding\": {\"color\": {\"field\": \"Run_Type\", \"scale\": {\"domain\": [\"noN_filtered_15_85_human_revel_mvp_alphaM_spliceAI_noWL\", \"\", \"\", \"noN_filtered_15_18_human_REMM_revel_mvp_alphaM_spliceAI_PSF_501_reg_filter_noWL_genomiser\"], \"scheme\": \"set1\"}, \"sort\": [\"noN_filtered_15_85_human_revel_mvp_alphaM_spliceAI_noWL\", \"\", \"\", \"noN_filtered_15_18_human_REMM_revel_mvp_alphaM_spliceAI_PSF_501_reg_filter_noWL_genomiser\"], \"type\": \"nominal\"}, \"tooltip\": [{\"field\": \"Rank\", \"type\": \"quantitative\"}, {\"field\": \"Percent_Variants\", \"type\": \"quantitative\"}, {\"field\": \"Run_Type\", \"type\": \"nominal\"}], \"x\": {\"field\": \"Rank\", \"title\": \"Genomiser Rank of Causal Variant\", \"type\": \"quantitative\"}, \"y\": {\"field\": \"Percent_Variants\", \"scale\": {\"domain\": [0, 100]}, \"title\": \"Percent of Causal Variants within Genomiser Rank\", \"type\": \"quantitative\"}}, \"height\": 300, \"title\": \"60Diagnostic Variants (Variant Level - no MOI requirement)\", \"width\": 400}, {\"data\": {\"name\": \"data-d5e31e4639f7e2565018e4af4e4faadc\"}, \"mark\": {\"type\": \"line\", \"point\": {\"size\": 50}}, \"encoding\": {\"color\": {\"field\": \"Run_Type\", \"scale\": {\"domain\": [\"noN_filtered_15_85_human_revel_mvp_alphaM_spliceAI_noWL\", \"\", \"\", \"noN_filtered_15_18_human_REMM_revel_mvp_alphaM_spliceAI_PSF_501_reg_filter_noWL_genomiser\"], \"scheme\": \"set1\"}, \"sort\": [\"noN_filtered_15_85_human_revel_mvp_alphaM_spliceAI_noWL\", \"\", \"\", \"noN_filtered_15_18_human_REMM_revel_mvp_alphaM_spliceAI_PSF_501_reg_filter_noWL_genomiser\"], \"type\": \"nominal\"}, \"tooltip\": [{\"field\": \"Rank\", \"type\": \"quantitative\"}, {\"field\": \"Percent_Variants\", \"type\": \"quantitative\"}, {\"field\": \"Run_Type\", \"type\": \"nominal\"}], \"x\": {\"field\": \"Rank\", \"title\": \"Exomiser Rank of Causal Gene\", \"type\": \"quantitative\"}, \"y\": {\"field\": \"Percent_Variants\", \"scale\": {\"domain\": [0, 100]}, \"title\": \"Percent of Causal Genes within Exomiser Rank\", \"type\": \"quantitative\"}}, \"height\": 300, \"title\": \"39Diagnostic Genes (Gene Level)\", \"width\": 400}], \"$schema\": \"https://vega.github.io/schema/vega-lite/v5.17.0.json\", \"datasets\": {\"data-04b7d01d7ebf296f3062f7b348ae2349\": [{\"Rank\": 1, \"NumPatients\": 7, \"Percent_Variants\": 11.666666666666666, \"Run_Type\": \"noN_filtered_15_18_human_REMM_revel_mvp_alphaM_spliceAI_PSF_501_reg_filter_noWL_genomiser\"}, {\"Rank\": 2, \"NumPatients\": 12, \"Percent_Variants\": 20.0, \"Run_Type\": \"noN_filtered_15_18_human_REMM_revel_mvp_alphaM_spliceAI_PSF_501_reg_filter_noWL_genomiser\"}, {\"Rank\": 3, \"NumPatients\": 12, \"Percent_Variants\": 20.0, \"Run_Type\": \"noN_filtered_15_18_human_REMM_revel_mvp_alphaM_spliceAI_PSF_501_reg_filter_noWL_genomiser\"}, {\"Rank\": 4, \"NumPatients\": 15, \"Percent_Variants\": 25.0, \"Run_Type\": \"noN_filtered_15_18_human_REMM_revel_mvp_alphaM_spliceAI_PSF_501_reg_filter_noWL_genomiser\"}, {\"Rank\": 5, \"NumPatients\": 16, \"Percent_Variants\": 26.666666666666668, \"Run_Type\": \"noN_filtered_15_18_human_REMM_revel_mvp_alphaM_spliceAI_PSF_501_reg_filter_noWL_genomiser\"}, {\"Rank\": 6, \"NumPatients\": 16, \"Percent_Variants\": 26.666666666666668, \"Run_Type\": \"noN_filtered_15_18_human_REMM_revel_mvp_alphaM_spliceAI_PSF_501_reg_filter_noWL_genomiser\"}, {\"Rank\": 7, \"NumPatients\": 18, \"Percent_Variants\": 30.0, \"Run_Type\": \"noN_filtered_15_18_human_REMM_revel_mvp_alphaM_spliceAI_PSF_501_reg_filter_noWL_genomiser\"}, {\"Rank\": 8, \"NumPatients\": 22, \"Percent_Variants\": 36.666666666666664, \"Run_Type\": \"noN_filtered_15_18_human_REMM_revel_mvp_alphaM_spliceAI_PSF_501_reg_filter_noWL_genomiser\"}, {\"Rank\": 9, \"NumPatients\": 22, \"Percent_Variants\": 36.666666666666664, \"Run_Type\": \"noN_filtered_15_18_human_REMM_revel_mvp_alphaM_spliceAI_PSF_501_reg_filter_noWL_genomiser\"}, {\"Rank\": 10, \"NumPatients\": 24, \"Percent_Variants\": 40.0, \"Run_Type\": \"noN_filtered_15_18_human_REMM_revel_mvp_alphaM_spliceAI_PSF_501_reg_filter_noWL_genomiser\"}, {\"Rank\": 11, \"NumPatients\": 24, \"Percent_Variants\": 40.0, \"Run_Type\": \"noN_filtered_15_18_human_REMM_revel_mvp_alphaM_spliceAI_PSF_501_reg_filter_noWL_genomiser\"}, {\"Rank\": 12, \"NumPatients\": 24, \"Percent_Variants\": 40.0, \"Run_Type\": \"noN_filtered_15_18_human_REMM_revel_mvp_alphaM_spliceAI_PSF_501_reg_filter_noWL_genomiser\"}, {\"Rank\": 13, \"NumPatients\": 25, \"Percent_Variants\": 41.66666666666667, \"Run_Type\": \"noN_filtered_15_18_human_REMM_revel_mvp_alphaM_spliceAI_PSF_501_reg_filter_noWL_genomiser\"}, {\"Rank\": 14, \"NumPatients\": 27, \"Percent_Variants\": 45.0, \"Run_Type\": \"noN_filtered_15_18_human_REMM_revel_mvp_alphaM_spliceAI_PSF_501_reg_filter_noWL_genomiser\"}, {\"Rank\": 15, \"NumPatients\": 27, \"Percent_Variants\": 45.0, \"Run_Type\": \"noN_filtered_15_18_human_REMM_revel_mvp_alphaM_spliceAI_PSF_501_reg_filter_noWL_genomiser\"}, {\"Rank\": 16, \"NumPatients\": 27, \"Percent_Variants\": 45.0, \"Run_Type\": \"noN_filtered_15_18_human_REMM_revel_mvp_alphaM_spliceAI_PSF_501_reg_filter_noWL_genomiser\"}, {\"Rank\": 17, \"NumPatients\": 27, \"Percent_Variants\": 45.0, \"Run_Type\": \"noN_filtered_15_18_human_REMM_revel_mvp_alphaM_spliceAI_PSF_501_reg_filter_noWL_genomiser\"}, {\"Rank\": 18, \"NumPatients\": 28, \"Percent_Variants\": 46.666666666666664, \"Run_Type\": \"noN_filtered_15_18_human_REMM_revel_mvp_alphaM_spliceAI_PSF_501_reg_filter_noWL_genomiser\"}, {\"Rank\": 19, \"NumPatients\": 28, \"Percent_Variants\": 46.666666666666664, \"Run_Type\": \"noN_filtered_15_18_human_REMM_revel_mvp_alphaM_spliceAI_PSF_501_reg_filter_noWL_genomiser\"}, {\"Rank\": 20, \"NumPatients\": 28, \"Percent_Variants\": 46.666666666666664, \"Run_Type\": \"noN_filtered_15_18_human_REMM_revel_mvp_alphaM_spliceAI_PSF_501_reg_filter_noWL_genomiser\"}, {\"Rank\": 21, \"NumPatients\": 29, \"Percent_Variants\": 48.333333333333336, \"Run_Type\": \"noN_filtered_15_18_human_REMM_revel_mvp_alphaM_spliceAI_PSF_501_reg_filter_noWL_genomiser\"}, {\"Rank\": 22, \"NumPatients\": 29, \"Percent_Variants\": 48.333333333333336, \"Run_Type\": \"noN_filtered_15_18_human_REMM_revel_mvp_alphaM_spliceAI_PSF_501_reg_filter_noWL_genomiser\"}, {\"Rank\": 23, \"NumPatients\": 29, \"Percent_Variants\": 48.333333333333336, \"Run_Type\": \"noN_filtered_15_18_human_REMM_revel_mvp_alphaM_spliceAI_PSF_501_reg_filter_noWL_genomiser\"}, {\"Rank\": 24, \"NumPatients\": 29, \"Percent_Variants\": 48.333333333333336, \"Run_Type\": \"noN_filtered_15_18_human_REMM_revel_mvp_alphaM_spliceAI_PSF_501_reg_filter_noWL_genomiser\"}, {\"Rank\": 25, \"NumPatients\": 29, \"Percent_Variants\": 48.333333333333336, \"Run_Type\": \"noN_filtered_15_18_human_REMM_revel_mvp_alphaM_spliceAI_PSF_501_reg_filter_noWL_genomiser\"}, {\"Rank\": 26, \"NumPatients\": 29, \"Percent_Variants\": 48.333333333333336, \"Run_Type\": \"noN_filtered_15_18_human_REMM_revel_mvp_alphaM_spliceAI_PSF_501_reg_filter_noWL_genomiser\"}, {\"Rank\": 27, \"NumPatients\": 29, \"Percent_Variants\": 48.333333333333336, \"Run_Type\": \"noN_filtered_15_18_human_REMM_revel_mvp_alphaM_spliceAI_PSF_501_reg_filter_noWL_genomiser\"}, {\"Rank\": 28, \"NumPatients\": 29, \"Percent_Variants\": 48.333333333333336, \"Run_Type\": \"noN_filtered_15_18_human_REMM_revel_mvp_alphaM_spliceAI_PSF_501_reg_filter_noWL_genomiser\"}, {\"Rank\": 29, \"NumPatients\": 29, \"Percent_Variants\": 48.333333333333336, \"Run_Type\": \"noN_filtered_15_18_human_REMM_revel_mvp_alphaM_spliceAI_PSF_501_reg_filter_noWL_genomiser\"}, {\"Rank\": 30, \"NumPatients\": 29, \"Percent_Variants\": 48.333333333333336, \"Run_Type\": \"noN_filtered_15_18_human_REMM_revel_mvp_alphaM_spliceAI_PSF_501_reg_filter_noWL_genomiser\"}, {\"Rank\": 1, \"NumPatients\": 0, \"Percent_Variants\": 0.0, \"Run_Type\": \"noN_filtered_15_85_human_revel_mvp_alphaM_spliceAI_noWL\"}, {\"Rank\": 2, \"NumPatients\": 0, \"Percent_Variants\": 0.0, \"Run_Type\": \"noN_filtered_15_85_human_revel_mvp_alphaM_spliceAI_noWL\"}, {\"Rank\": 3, \"NumPatients\": 0, \"Percent_Variants\": 0.0, \"Run_Type\": \"noN_filtered_15_85_human_revel_mvp_alphaM_spliceAI_noWL\"}, {\"Rank\": 4, \"NumPatients\": 0, \"Percent_Variants\": 0.0, \"Run_Type\": \"noN_filtered_15_85_human_revel_mvp_alphaM_spliceAI_noWL\"}, {\"Rank\": 5, \"NumPatients\": 0, \"Percent_Variants\": 0.0, \"Run_Type\": \"noN_filtered_15_85_human_revel_mvp_alphaM_spliceAI_noWL\"}, {\"Rank\": 6, \"NumPatients\": 0, \"Percent_Variants\": 0.0, \"Run_Type\": \"noN_filtered_15_85_human_revel_mvp_alphaM_spliceAI_noWL\"}, {\"Rank\": 7, \"NumPatients\": 1, \"Percent_Variants\": 1.6666666666666667, \"Run_Type\": \"noN_filtered_15_85_human_revel_mvp_alphaM_spliceAI_noWL\"}, {\"Rank\": 8, \"NumPatients\": 1, \"Percent_Variants\": 1.6666666666666667, \"Run_Type\": \"noN_filtered_15_85_human_revel_mvp_alphaM_spliceAI_noWL\"}, {\"Rank\": 9, \"NumPatients\": 1, \"Percent_Variants\": 1.6666666666666667, \"Run_Type\": \"noN_filtered_15_85_human_revel_mvp_alphaM_spliceAI_noWL\"}, {\"Rank\": 10, \"NumPatients\": 1, \"Percent_Variants\": 1.6666666666666667, \"Run_Type\": \"noN_filtered_15_85_human_revel_mvp_alphaM_spliceAI_noWL\"}, {\"Rank\": 11, \"NumPatients\": 1, \"Percent_Variants\": 1.6666666666666667, \"Run_Type\": \"noN_filtered_15_85_human_revel_mvp_alphaM_spliceAI_noWL\"}, {\"Rank\": 12, \"NumPatients\": 1, \"Percent_Variants\": 1.6666666666666667, \"Run_Type\": \"noN_filtered_15_85_human_revel_mvp_alphaM_spliceAI_noWL\"}, {\"Rank\": 13, \"NumPatients\": 1, \"Percent_Variants\": 1.6666666666666667, \"Run_Type\": \"noN_filtered_15_85_human_revel_mvp_alphaM_spliceAI_noWL\"}, {\"Rank\": 14, \"NumPatients\": 1, \"Percent_Variants\": 1.6666666666666667, \"Run_Type\": \"noN_filtered_15_85_human_revel_mvp_alphaM_spliceAI_noWL\"}, {\"Rank\": 15, \"NumPatients\": 1, \"Percent_Variants\": 1.6666666666666667, \"Run_Type\": \"noN_filtered_15_85_human_revel_mvp_alphaM_spliceAI_noWL\"}, {\"Rank\": 16, \"NumPatients\": 1, \"Percent_Variants\": 1.6666666666666667, \"Run_Type\": \"noN_filtered_15_85_human_revel_mvp_alphaM_spliceAI_noWL\"}, {\"Rank\": 17, \"NumPatients\": 1, \"Percent_Variants\": 1.6666666666666667, \"Run_Type\": \"noN_filtered_15_85_human_revel_mvp_alphaM_spliceAI_noWL\"}, {\"Rank\": 18, \"NumPatients\": 1, \"Percent_Variants\": 1.6666666666666667, \"Run_Type\": \"noN_filtered_15_85_human_revel_mvp_alphaM_spliceAI_noWL\"}, {\"Rank\": 19, \"NumPatients\": 1, \"Percent_Variants\": 1.6666666666666667, \"Run_Type\": \"noN_filtered_15_85_human_revel_mvp_alphaM_spliceAI_noWL\"}, {\"Rank\": 20, \"NumPatients\": 1, \"Percent_Variants\": 1.6666666666666667, \"Run_Type\": \"noN_filtered_15_85_human_revel_mvp_alphaM_spliceAI_noWL\"}, {\"Rank\": 21, \"NumPatients\": 1, \"Percent_Variants\": 1.6666666666666667, \"Run_Type\": \"noN_filtered_15_85_human_revel_mvp_alphaM_spliceAI_noWL\"}, {\"Rank\": 22, \"NumPatients\": 1, \"Percent_Variants\": 1.6666666666666667, \"Run_Type\": \"noN_filtered_15_85_human_revel_mvp_alphaM_spliceAI_noWL\"}, {\"Rank\": 23, \"NumPatients\": 1, \"Percent_Variants\": 1.6666666666666667, \"Run_Type\": \"noN_filtered_15_85_human_revel_mvp_alphaM_spliceAI_noWL\"}, {\"Rank\": 24, \"NumPatients\": 1, \"Percent_Variants\": 1.6666666666666667, \"Run_Type\": \"noN_filtered_15_85_human_revel_mvp_alphaM_spliceAI_noWL\"}, {\"Rank\": 25, \"NumPatients\": 1, \"Percent_Variants\": 1.6666666666666667, \"Run_Type\": \"noN_filtered_15_85_human_revel_mvp_alphaM_spliceAI_noWL\"}, {\"Rank\": 26, \"NumPatients\": 1, \"Percent_Variants\": 1.6666666666666667, \"Run_Type\": \"noN_filtered_15_85_human_revel_mvp_alphaM_spliceAI_noWL\"}, {\"Rank\": 27, \"NumPatients\": 1, \"Percent_Variants\": 1.6666666666666667, \"Run_Type\": \"noN_filtered_15_85_human_revel_mvp_alphaM_spliceAI_noWL\"}, {\"Rank\": 28, \"NumPatients\": 1, \"Percent_Variants\": 1.6666666666666667, \"Run_Type\": \"noN_filtered_15_85_human_revel_mvp_alphaM_spliceAI_noWL\"}, {\"Rank\": 29, \"NumPatients\": 1, \"Percent_Variants\": 1.6666666666666667, \"Run_Type\": \"noN_filtered_15_85_human_revel_mvp_alphaM_spliceAI_noWL\"}, {\"Rank\": 30, \"NumPatients\": 1, \"Percent_Variants\": 1.6666666666666667, \"Run_Type\": \"noN_filtered_15_85_human_revel_mvp_alphaM_spliceAI_noWL\"}], \"data-d5e31e4639f7e2565018e4af4e4faadc\": [{\"Rank\": 1, \"NumPatients\": 6, \"Percent_Variants\": 15.384615384615385, \"Run_Type\": \"noN_filtered_15_18_human_REMM_revel_mvp_alphaM_spliceAI_PSF_501_reg_filter_noWL_genomiser\"}, {\"Rank\": 2, \"NumPatients\": 9, \"Percent_Variants\": 23.076923076923077, \"Run_Type\": \"noN_filtered_15_18_human_REMM_revel_mvp_alphaM_spliceAI_PSF_501_reg_filter_noWL_genomiser\"}, {\"Rank\": 3, \"NumPatients\": 9, \"Percent_Variants\": 23.076923076923077, \"Run_Type\": \"noN_filtered_15_18_human_REMM_revel_mvp_alphaM_spliceAI_PSF_501_reg_filter_noWL_genomiser\"}, {\"Rank\": 4, \"NumPatients\": 11, \"Percent_Variants\": 28.205128205128204, \"Run_Type\": \"noN_filtered_15_18_human_REMM_revel_mvp_alphaM_spliceAI_PSF_501_reg_filter_noWL_genomiser\"}, {\"Rank\": 5, \"NumPatients\": 12, \"Percent_Variants\": 30.76923076923077, \"Run_Type\": \"noN_filtered_15_18_human_REMM_revel_mvp_alphaM_spliceAI_PSF_501_reg_filter_noWL_genomiser\"}, {\"Rank\": 6, \"NumPatients\": 12, \"Percent_Variants\": 30.76923076923077, \"Run_Type\": \"noN_filtered_15_18_human_REMM_revel_mvp_alphaM_spliceAI_PSF_501_reg_filter_noWL_genomiser\"}, {\"Rank\": 7, \"NumPatients\": 13, \"Percent_Variants\": 33.33333333333333, \"Run_Type\": \"noN_filtered_15_18_human_REMM_revel_mvp_alphaM_spliceAI_PSF_501_reg_filter_noWL_genomiser\"}, {\"Rank\": 8, \"NumPatients\": 16, \"Percent_Variants\": 41.02564102564102, \"Run_Type\": \"noN_filtered_15_18_human_REMM_revel_mvp_alphaM_spliceAI_PSF_501_reg_filter_noWL_genomiser\"}, {\"Rank\": 9, \"NumPatients\": 16, \"Percent_Variants\": 41.02564102564102, \"Run_Type\": \"noN_filtered_15_18_human_REMM_revel_mvp_alphaM_spliceAI_PSF_501_reg_filter_noWL_genomiser\"}, {\"Rank\": 10, \"NumPatients\": 17, \"Percent_Variants\": 43.58974358974359, \"Run_Type\": \"noN_filtered_15_18_human_REMM_revel_mvp_alphaM_spliceAI_PSF_501_reg_filter_noWL_genomiser\"}, {\"Rank\": 11, \"NumPatients\": 18, \"Percent_Variants\": 46.15384615384615, \"Run_Type\": \"noN_filtered_15_18_human_REMM_revel_mvp_alphaM_spliceAI_PSF_501_reg_filter_noWL_genomiser\"}, {\"Rank\": 12, \"NumPatients\": 18, \"Percent_Variants\": 46.15384615384615, \"Run_Type\": \"noN_filtered_15_18_human_REMM_revel_mvp_alphaM_spliceAI_PSF_501_reg_filter_noWL_genomiser\"}, {\"Rank\": 13, \"NumPatients\": 19, \"Percent_Variants\": 48.717948717948715, \"Run_Type\": \"noN_filtered_15_18_human_REMM_revel_mvp_alphaM_spliceAI_PSF_501_reg_filter_noWL_genomiser\"}, {\"Rank\": 14, \"NumPatients\": 20, \"Percent_Variants\": 51.28205128205128, \"Run_Type\": \"noN_filtered_15_18_human_REMM_revel_mvp_alphaM_spliceAI_PSF_501_reg_filter_noWL_genomiser\"}, {\"Rank\": 15, \"NumPatients\": 20, \"Percent_Variants\": 51.28205128205128, \"Run_Type\": \"noN_filtered_15_18_human_REMM_revel_mvp_alphaM_spliceAI_PSF_501_reg_filter_noWL_genomiser\"}, {\"Rank\": 16, \"NumPatients\": 20, \"Percent_Variants\": 51.28205128205128, \"Run_Type\": \"noN_filtered_15_18_human_REMM_revel_mvp_alphaM_spliceAI_PSF_501_reg_filter_noWL_genomiser\"}, {\"Rank\": 17, \"NumPatients\": 20, \"Percent_Variants\": 51.28205128205128, \"Run_Type\": \"noN_filtered_15_18_human_REMM_revel_mvp_alphaM_spliceAI_PSF_501_reg_filter_noWL_genomiser\"}, {\"Rank\": 18, \"NumPatients\": 21, \"Percent_Variants\": 53.84615384615385, \"Run_Type\": \"noN_filtered_15_18_human_REMM_revel_mvp_alphaM_spliceAI_PSF_501_reg_filter_noWL_genomiser\"}, {\"Rank\": 19, \"NumPatients\": 21, \"Percent_Variants\": 53.84615384615385, \"Run_Type\": \"noN_filtered_15_18_human_REMM_revel_mvp_alphaM_spliceAI_PSF_501_reg_filter_noWL_genomiser\"}, {\"Rank\": 20, \"NumPatients\": 21, \"Percent_Variants\": 53.84615384615385, \"Run_Type\": \"noN_filtered_15_18_human_REMM_revel_mvp_alphaM_spliceAI_PSF_501_reg_filter_noWL_genomiser\"}, {\"Rank\": 21, \"NumPatients\": 23, \"Percent_Variants\": 58.97435897435898, \"Run_Type\": \"noN_filtered_15_18_human_REMM_revel_mvp_alphaM_spliceAI_PSF_501_reg_filter_noWL_genomiser\"}, {\"Rank\": 22, \"NumPatients\": 23, \"Percent_Variants\": 58.97435897435898, \"Run_Type\": \"noN_filtered_15_18_human_REMM_revel_mvp_alphaM_spliceAI_PSF_501_reg_filter_noWL_genomiser\"}, {\"Rank\": 23, \"NumPatients\": 23, \"Percent_Variants\": 58.97435897435898, \"Run_Type\": \"noN_filtered_15_18_human_REMM_revel_mvp_alphaM_spliceAI_PSF_501_reg_filter_noWL_genomiser\"}, {\"Rank\": 24, \"NumPatients\": 23, \"Percent_Variants\": 58.97435897435898, \"Run_Type\": \"noN_filtered_15_18_human_REMM_revel_mvp_alphaM_spliceAI_PSF_501_reg_filter_noWL_genomiser\"}, {\"Rank\": 25, \"NumPatients\": 23, \"Percent_Variants\": 58.97435897435898, \"Run_Type\": \"noN_filtered_15_18_human_REMM_revel_mvp_alphaM_spliceAI_PSF_501_reg_filter_noWL_genomiser\"}, {\"Rank\": 26, \"NumPatients\": 23, \"Percent_Variants\": 58.97435897435898, \"Run_Type\": \"noN_filtered_15_18_human_REMM_revel_mvp_alphaM_spliceAI_PSF_501_reg_filter_noWL_genomiser\"}, {\"Rank\": 27, \"NumPatients\": 24, \"Percent_Variants\": 61.53846153846154, \"Run_Type\": \"noN_filtered_15_18_human_REMM_revel_mvp_alphaM_spliceAI_PSF_501_reg_filter_noWL_genomiser\"}, {\"Rank\": 28, \"NumPatients\": 24, \"Percent_Variants\": 61.53846153846154, \"Run_Type\": \"noN_filtered_15_18_human_REMM_revel_mvp_alphaM_spliceAI_PSF_501_reg_filter_noWL_genomiser\"}, {\"Rank\": 29, \"NumPatients\": 24, \"Percent_Variants\": 61.53846153846154, \"Run_Type\": \"noN_filtered_15_18_human_REMM_revel_mvp_alphaM_spliceAI_PSF_501_reg_filter_noWL_genomiser\"}, {\"Rank\": 30, \"NumPatients\": 24, \"Percent_Variants\": 61.53846153846154, \"Run_Type\": \"noN_filtered_15_18_human_REMM_revel_mvp_alphaM_spliceAI_PSF_501_reg_filter_noWL_genomiser\"}, {\"Rank\": 1, \"NumPatients\": 0, \"Percent_Variants\": 0.0, \"Run_Type\": \"noN_filtered_15_85_human_revel_mvp_alphaM_spliceAI_noWL\"}, {\"Rank\": 2, \"NumPatients\": 0, \"Percent_Variants\": 0.0, \"Run_Type\": \"noN_filtered_15_85_human_revel_mvp_alphaM_spliceAI_noWL\"}, {\"Rank\": 3, \"NumPatients\": 0, \"Percent_Variants\": 0.0, \"Run_Type\": \"noN_filtered_15_85_human_revel_mvp_alphaM_spliceAI_noWL\"}, {\"Rank\": 4, \"NumPatients\": 1, \"Percent_Variants\": 2.564102564102564, \"Run_Type\": \"noN_filtered_15_85_human_revel_mvp_alphaM_spliceAI_noWL\"}, {\"Rank\": 5, \"NumPatients\": 1, \"Percent_Variants\": 2.564102564102564, \"Run_Type\": \"noN_filtered_15_85_human_revel_mvp_alphaM_spliceAI_noWL\"}, {\"Rank\": 6, \"NumPatients\": 1, \"Percent_Variants\": 2.564102564102564, \"Run_Type\": \"noN_filtered_15_85_human_revel_mvp_alphaM_spliceAI_noWL\"}, {\"Rank\": 7, \"NumPatients\": 2, \"Percent_Variants\": 5.128205128205128, \"Run_Type\": \"noN_filtered_15_85_human_revel_mvp_alphaM_spliceAI_noWL\"}, {\"Rank\": 8, \"NumPatients\": 2, \"Percent_Variants\": 5.128205128205128, \"Run_Type\": \"noN_filtered_15_85_human_revel_mvp_alphaM_spliceAI_noWL\"}, {\"Rank\": 9, \"NumPatients\": 2, \"Percent_Variants\": 5.128205128205128, \"Run_Type\": \"noN_filtered_15_85_human_revel_mvp_alphaM_spliceAI_noWL\"}, {\"Rank\": 10, \"NumPatients\": 2, \"Percent_Variants\": 5.128205128205128, \"Run_Type\": \"noN_filtered_15_85_human_revel_mvp_alphaM_spliceAI_noWL\"}, {\"Rank\": 11, \"NumPatients\": 2, \"Percent_Variants\": 5.128205128205128, \"Run_Type\": \"noN_filtered_15_85_human_revel_mvp_alphaM_spliceAI_noWL\"}, {\"Rank\": 12, \"NumPatients\": 2, \"Percent_Variants\": 5.128205128205128, \"Run_Type\": \"noN_filtered_15_85_human_revel_mvp_alphaM_spliceAI_noWL\"}, {\"Rank\": 13, \"NumPatients\": 2, \"Percent_Variants\": 5.128205128205128, \"Run_Type\": \"noN_filtered_15_85_human_revel_mvp_alphaM_spliceAI_noWL\"}, {\"Rank\": 14, \"NumPatients\": 2, \"Percent_Variants\": 5.128205128205128, \"Run_Type\": \"noN_filtered_15_85_human_revel_mvp_alphaM_spliceAI_noWL\"}, {\"Rank\": 15, \"NumPatients\": 2, \"Percent_Variants\": 5.128205128205128, \"Run_Type\": \"noN_filtered_15_85_human_revel_mvp_alphaM_spliceAI_noWL\"}, {\"Rank\": 16, \"NumPatients\": 2, \"Percent_Variants\": 5.128205128205128, \"Run_Type\": \"noN_filtered_15_85_human_revel_mvp_alphaM_spliceAI_noWL\"}, {\"Rank\": 17, \"NumPatients\": 2, \"Percent_Variants\": 5.128205128205128, \"Run_Type\": \"noN_filtered_15_85_human_revel_mvp_alphaM_spliceAI_noWL\"}, {\"Rank\": 18, \"NumPatients\": 2, \"Percent_Variants\": 5.128205128205128, \"Run_Type\": \"noN_filtered_15_85_human_revel_mvp_alphaM_spliceAI_noWL\"}, {\"Rank\": 19, \"NumPatients\": 2, \"Percent_Variants\": 5.128205128205128, \"Run_Type\": \"noN_filtered_15_85_human_revel_mvp_alphaM_spliceAI_noWL\"}, {\"Rank\": 20, \"NumPatients\": 2, \"Percent_Variants\": 5.128205128205128, \"Run_Type\": \"noN_filtered_15_85_human_revel_mvp_alphaM_spliceAI_noWL\"}, {\"Rank\": 21, \"NumPatients\": 2, \"Percent_Variants\": 5.128205128205128, \"Run_Type\": \"noN_filtered_15_85_human_revel_mvp_alphaM_spliceAI_noWL\"}, {\"Rank\": 22, \"NumPatients\": 2, \"Percent_Variants\": 5.128205128205128, \"Run_Type\": \"noN_filtered_15_85_human_revel_mvp_alphaM_spliceAI_noWL\"}, {\"Rank\": 23, \"NumPatients\": 2, \"Percent_Variants\": 5.128205128205128, \"Run_Type\": \"noN_filtered_15_85_human_revel_mvp_alphaM_spliceAI_noWL\"}, {\"Rank\": 24, \"NumPatients\": 2, \"Percent_Variants\": 5.128205128205128, \"Run_Type\": \"noN_filtered_15_85_human_revel_mvp_alphaM_spliceAI_noWL\"}, {\"Rank\": 25, \"NumPatients\": 2, \"Percent_Variants\": 5.128205128205128, \"Run_Type\": \"noN_filtered_15_85_human_revel_mvp_alphaM_spliceAI_noWL\"}, {\"Rank\": 26, \"NumPatients\": 2, \"Percent_Variants\": 5.128205128205128, \"Run_Type\": \"noN_filtered_15_85_human_revel_mvp_alphaM_spliceAI_noWL\"}, {\"Rank\": 27, \"NumPatients\": 2, \"Percent_Variants\": 5.128205128205128, \"Run_Type\": \"noN_filtered_15_85_human_revel_mvp_alphaM_spliceAI_noWL\"}, {\"Rank\": 28, \"NumPatients\": 2, \"Percent_Variants\": 5.128205128205128, \"Run_Type\": \"noN_filtered_15_85_human_revel_mvp_alphaM_spliceAI_noWL\"}, {\"Rank\": 29, \"NumPatients\": 2, \"Percent_Variants\": 5.128205128205128, \"Run_Type\": \"noN_filtered_15_85_human_revel_mvp_alphaM_spliceAI_noWL\"}, {\"Rank\": 30, \"NumPatients\": 2, \"Percent_Variants\": 5.128205128205128, \"Run_Type\": \"noN_filtered_15_85_human_revel_mvp_alphaM_spliceAI_noWL\"}]}}, {\"mode\": \"vega-lite\"});\n",
       "</script>"
      ],
      "text/plain": [
       "alt.HConcatChart(...)"
      ]
     },
     "execution_count": 22,
     "metadata": {},
     "output_type": "execute_result"
    }
   ],
   "source": [
    "alt.hconcat(variant_level,gene_level ).configure_axis(\n",
    "    labelFontSize=15,\n",
    "    labelPadding= 5,\n",
    "    tickSize=8,\n",
    "    titleFontSize=15,\n",
    "    labelFont='arial',\n",
    "    titleFont='arial',\n",
    "    labelLimit=0\n",
    "    ).configure_legend(\n",
    "        labelLimit=0,labelFontSize=13, titleFontSize=15, labelFont='arial', titleFont='arial')"
   ]
  },
  {
   "cell_type": "code",
   "execution_count": null,
   "metadata": {},
   "outputs": [],
   "source": []
  }
 ],
 "metadata": {
  "kernelspec": {
   "display_name": "base",
   "language": "python",
   "name": "python3"
  },
  "language_info": {
   "codemirror_mode": {
    "name": "ipython",
    "version": 3
   },
   "file_extension": ".py",
   "mimetype": "text/x-python",
   "name": "python",
   "nbconvert_exporter": "python",
   "pygments_lexer": "ipython3",
   "version": "3.12.2"
  }
 },
 "nbformat": 4,
 "nbformat_minor": 2
}
