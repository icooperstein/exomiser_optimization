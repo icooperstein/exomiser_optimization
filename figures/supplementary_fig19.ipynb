{
 "cells": [
  {
   "cell_type": "code",
   "execution_count": 1,
   "metadata": {},
   "outputs": [],
   "source": [
    "import pandas as pd\n",
    "import altair as alt"
   ]
  },
  {
   "cell_type": "code",
   "execution_count": 3,
   "metadata": {},
   "outputs": [],
   "source": [
    "gs_exomiser_success_table = pd.read_csv('../../02_exomiser_manuscript/fig_03/GS_exomiser_fig3_input_7.21.25.tsv', sep='\\t')\n",
    "gs_genomiser_success_table = pd.read_csv('../../02_exomiser_manuscript/fig_03/GS_genomiser_fig5_input_12.19.24.tsv', sep='\\t')\n",
    "es_exomiser_success_table = pd.read_csv('../../02_exomiser_manuscript/fig_03/ES_genomiser_fig3_input_1.13.25.tsv', sep='\\t')\n",
    "mapping = pd.read_csv('../../02_exomiser_manuscript/GS_ID_mapping.csv')\n",
    "def add_dumb_ids(success_table):\n",
    "    mapped= []\n",
    "    for i, row in success_table.iterrows():\n",
    "        ID = row['ID']\n",
    "        mapped_id = mapping[mapping['ID']==ID]['Dumb_ID'].item().split('_')[0]\n",
    "        mapped.append(mapped_id)\n",
    "    success_table['Dumb_ID'] = mapped\n",
    "    return success_table"
   ]
  },
  {
   "cell_type": "code",
   "execution_count": 4,
   "metadata": {},
   "outputs": [],
   "source": [
    "gs_exomiser_success_table = add_dumb_ids(gs_exomiser_success_table)\n",
    "gs_genomiser_success_table =add_dumb_ids(gs_genomiser_success_table)\n",
    "es_exomiser_success_table =add_dumb_ids(es_exomiser_success_table)\n"
   ]
  },
  {
   "cell_type": "code",
   "execution_count": 28,
   "metadata": {},
   "outputs": [],
   "source": [
    "gs_exomiser_success_table[['Patient_ID', 'Gene']] = gs_exomiser_success_table['ID'].str.split('_', expand=True)\n"
   ]
  },
  {
   "cell_type": "code",
   "execution_count": 31,
   "metadata": {},
   "outputs": [
    {
     "data": {
      "text/plain": [
       "15"
      ]
     },
     "execution_count": 31,
     "metadata": {},
     "output_type": "execute_result"
    }
   ],
   "source": [
    "gs_table = gs_exomiser_success_table[['ID']].drop_duplicates()\n",
    "gs_table[['Patient_ID', 'Gene']] = gs_table['ID'].str.split('_', expand=True)\n",
    "table1 = gs_table[['Patient_ID']]\n",
    "duplicate_rows = table1[table1.duplicated()]\n",
    "table1\n",
    "gs_duplicates = list(gs_table[gs_table['Patient_ID'].isin(list(duplicate_rows['Patient_ID']))].sort_values(by='ID')['ID'])\n",
    "\n",
    "gs_duplicates_results = gs_exomiser_success_table[gs_exomiser_success_table['ID'].isin(gs_duplicates)]\n",
    "to_plot = gs_duplicates_results[['ID','Dumb_ID','Variant_Level_noMOI_rank_noN_filtered_15_85_human_revel_mvp_alphaM_spliceAI_noWL', 'Patient_ID', 'Gene']]\n",
    "len(to_plot)"
   ]
  },
  {
   "cell_type": "code",
   "execution_count": 7,
   "metadata": {},
   "outputs": [
    {
     "name": "stderr",
     "output_type": "stream",
     "text": [
      "/tmp/ipykernel_3399240/1341415924.py:1: SettingWithCopyWarning: \n",
      "A value is trying to be set on a copy of a slice from a DataFrame.\n",
      "Try using .loc[row_indexer,col_indexer] = value instead\n",
      "\n",
      "See the caveats in the documentation: https://pandas.pydata.org/pandas-docs/stable/user_guide/indexing.html#returning-a-view-versus-a-copy\n",
      "  to_plot['Gene_Num'] = ['1','1','2','1','2','3','1','2','1','2','1','2','1','2','3']\n"
     ]
    }
   ],
   "source": [
    "to_plot['Gene_Num'] = ['1','1','2','1','2','3','1','2','1','2','1','2','1','2','3']\n",
    "to_plot=to_plot.fillna(-5)"
   ]
  },
  {
   "cell_type": "code",
   "execution_count": 8,
   "metadata": {},
   "outputs": [
    {
     "data": {
      "text/html": [
       "\n",
       "<style>\n",
       "  #altair-viz-07be7d8a3d7040fd9f88a88f803cee56.vega-embed {\n",
       "    width: 100%;\n",
       "    display: flex;\n",
       "  }\n",
       "\n",
       "  #altair-viz-07be7d8a3d7040fd9f88a88f803cee56.vega-embed details,\n",
       "  #altair-viz-07be7d8a3d7040fd9f88a88f803cee56.vega-embed details summary {\n",
       "    position: relative;\n",
       "  }\n",
       "</style>\n",
       "<div id=\"altair-viz-07be7d8a3d7040fd9f88a88f803cee56\"></div>\n",
       "<script type=\"text/javascript\">\n",
       "  var VEGA_DEBUG = (typeof VEGA_DEBUG == \"undefined\") ? {} : VEGA_DEBUG;\n",
       "  (function(spec, embedOpt){\n",
       "    let outputDiv = document.currentScript.previousElementSibling;\n",
       "    if (outputDiv.id !== \"altair-viz-07be7d8a3d7040fd9f88a88f803cee56\") {\n",
       "      outputDiv = document.getElementById(\"altair-viz-07be7d8a3d7040fd9f88a88f803cee56\");\n",
       "    }\n",
       "    const paths = {\n",
       "      \"vega\": \"https://cdn.jsdelivr.net/npm/vega@5?noext\",\n",
       "      \"vega-lib\": \"https://cdn.jsdelivr.net/npm/vega-lib?noext\",\n",
       "      \"vega-lite\": \"https://cdn.jsdelivr.net/npm/vega-lite@5.17.0?noext\",\n",
       "      \"vega-embed\": \"https://cdn.jsdelivr.net/npm/vega-embed@6?noext\",\n",
       "    };\n",
       "\n",
       "    function maybeLoadScript(lib, version) {\n",
       "      var key = `${lib.replace(\"-\", \"\")}_version`;\n",
       "      return (VEGA_DEBUG[key] == version) ?\n",
       "        Promise.resolve(paths[lib]) :\n",
       "        new Promise(function(resolve, reject) {\n",
       "          var s = document.createElement('script');\n",
       "          document.getElementsByTagName(\"head\")[0].appendChild(s);\n",
       "          s.async = true;\n",
       "          s.onload = () => {\n",
       "            VEGA_DEBUG[key] = version;\n",
       "            return resolve(paths[lib]);\n",
       "          };\n",
       "          s.onerror = () => reject(`Error loading script: ${paths[lib]}`);\n",
       "          s.src = paths[lib];\n",
       "        });\n",
       "    }\n",
       "\n",
       "    function showError(err) {\n",
       "      outputDiv.innerHTML = `<div class=\"error\" style=\"color:red;\">${err}</div>`;\n",
       "      throw err;\n",
       "    }\n",
       "\n",
       "    function displayChart(vegaEmbed) {\n",
       "      vegaEmbed(outputDiv, spec, embedOpt)\n",
       "        .catch(err => showError(`Javascript Error: ${err.message}<br>This usually means there's a typo in your chart specification. See the javascript console for the full traceback.`));\n",
       "    }\n",
       "\n",
       "    if(typeof define === \"function\" && define.amd) {\n",
       "      requirejs.config({paths});\n",
       "      require([\"vega-embed\"], displayChart, err => showError(`Error loading script: ${err.message}`));\n",
       "    } else {\n",
       "      maybeLoadScript(\"vega\", \"5\")\n",
       "        .then(() => maybeLoadScript(\"vega-lite\", \"5.17.0\"))\n",
       "        .then(() => maybeLoadScript(\"vega-embed\", \"6\"))\n",
       "        .catch(showError)\n",
       "        .then(() => displayChart(vegaEmbed));\n",
       "    }\n",
       "  })({\"config\": {\"view\": {\"continuousWidth\": 300, \"continuousHeight\": 300}}, \"data\": {\"name\": \"data-28e0c50092dd31b7020e440d3dbddf0a\"}, \"mark\": {\"type\": \"point\", \"filled\": true, \"opacity\": 1, \"size\": 100, \"stroke\": \"black\", \"strokeWidth\": 1}, \"encoding\": {\"color\": {\"field\": \"Dumb_ID\", \"scale\": {\"scheme\": \"tableau20\"}, \"type\": \"nominal\"}, \"shape\": {\"field\": \"Gene_Num\", \"type\": \"nominal\"}, \"x\": {\"axis\": {\"labelAngle\": -60}, \"field\": \"Dumb_ID\", \"sort\": \"-y\", \"type\": \"nominal\"}, \"y\": {\"field\": \"Variant_Level_noMOI_rank_noN_filtered_15_85_human_revel_mvp_alphaM_spliceAI_noWL\", \"title\": \"\", \"type\": \"quantitative\"}}, \"height\": 200, \"width\": 200, \"$schema\": \"https://vega.github.io/schema/vega-lite/v5.17.0.json\", \"datasets\": {\"data-28e0c50092dd31b7020e440d3dbddf0a\": [{\"ID\": \"UDN058032_FCSK\", \"Dumb_ID\": \"UDN20\", \"Variant_Level_noMOI_rank_noN_filtered_15_85_human_revel_mvp_alphaM_spliceAI_noWL\": 3.0, \"Patient_ID\": \"UDN058032\", \"Gene\": \"FCSK\", \"Gene_Num\": \"1\"}, {\"ID\": \"UDN058032_FCSK\", \"Dumb_ID\": \"UDN20\", \"Variant_Level_noMOI_rank_noN_filtered_15_85_human_revel_mvp_alphaM_spliceAI_noWL\": 3.0, \"Patient_ID\": \"UDN058032\", \"Gene\": \"FCSK\", \"Gene_Num\": \"1\"}, {\"ID\": \"UDN058032_HCFC1\", \"Dumb_ID\": \"UDN20\", \"Variant_Level_noMOI_rank_noN_filtered_15_85_human_revel_mvp_alphaM_spliceAI_noWL\": 1.0, \"Patient_ID\": \"UDN058032\", \"Gene\": \"HCFC1\", \"Gene_Num\": \"2\"}, {\"ID\": \"UDN063711_SERPINA1\", \"Dumb_ID\": \"UDN25\", \"Variant_Level_noMOI_rank_noN_filtered_15_85_human_revel_mvp_alphaM_spliceAI_noWL\": -5.0, \"Patient_ID\": \"UDN063711\", \"Gene\": \"SERPINA1\", \"Gene_Num\": \"1\"}, {\"ID\": \"UDN063711_COL4A1\", \"Dumb_ID\": \"UDN25\", \"Variant_Level_noMOI_rank_noN_filtered_15_85_human_revel_mvp_alphaM_spliceAI_noWL\": 1.0, \"Patient_ID\": \"UDN063711\", \"Gene\": \"COL4A1\", \"Gene_Num\": \"2\"}, {\"ID\": \"UDN063711_BARD1\", \"Dumb_ID\": \"UDN25\", \"Variant_Level_noMOI_rank_noN_filtered_15_85_human_revel_mvp_alphaM_spliceAI_noWL\": 8.0, \"Patient_ID\": \"UDN063711\", \"Gene\": \"BARD1\", \"Gene_Num\": \"3\"}, {\"ID\": \"UDN110060_TCIRG1\", \"Dumb_ID\": \"UDN48\", \"Variant_Level_noMOI_rank_noN_filtered_15_85_human_revel_mvp_alphaM_spliceAI_noWL\": 6.0, \"Patient_ID\": \"UDN110060\", \"Gene\": \"TCIRG1\", \"Gene_Num\": \"1\"}, {\"ID\": \"UDN110060_CLCN7\", \"Dumb_ID\": \"UDN48\", \"Variant_Level_noMOI_rank_noN_filtered_15_85_human_revel_mvp_alphaM_spliceAI_noWL\": 1.0, \"Patient_ID\": \"UDN110060\", \"Gene\": \"CLCN7\", \"Gene_Num\": \"2\"}, {\"ID\": \"UDN384036_NLRP12\", \"Dumb_ID\": \"UDN143\", \"Variant_Level_noMOI_rank_noN_filtered_15_85_human_revel_mvp_alphaM_spliceAI_noWL\": 1.0, \"Patient_ID\": \"UDN384036\", \"Gene\": \"NLRP12\", \"Gene_Num\": \"1\"}, {\"ID\": \"UDN384036_RAPGEFL1\", \"Dumb_ID\": \"UDN143\", \"Variant_Level_noMOI_rank_noN_filtered_15_85_human_revel_mvp_alphaM_spliceAI_noWL\": 12.0, \"Patient_ID\": \"UDN384036\", \"Gene\": \"RAPGEFL1\", \"Gene_Num\": \"2\"}, {\"ID\": \"UDN429732_GJB2\", \"Dumb_ID\": \"UDN161\", \"Variant_Level_noMOI_rank_noN_filtered_15_85_human_revel_mvp_alphaM_spliceAI_noWL\": 12.0, \"Patient_ID\": \"UDN429732\", \"Gene\": \"GJB2\", \"Gene_Num\": \"1\"}, {\"ID\": \"UDN429732_SOX11\", \"Dumb_ID\": \"UDN161\", \"Variant_Level_noMOI_rank_noN_filtered_15_85_human_revel_mvp_alphaM_spliceAI_noWL\": 1.0, \"Patient_ID\": \"UDN429732\", \"Gene\": \"SOX11\", \"Gene_Num\": \"2\"}, {\"ID\": \"UDN559180_FLCN\", \"Dumb_ID\": \"UDN213\", \"Variant_Level_noMOI_rank_noN_filtered_15_85_human_revel_mvp_alphaM_spliceAI_noWL\": 10.0, \"Patient_ID\": \"UDN559180\", \"Gene\": \"FLCN\", \"Gene_Num\": \"1\"}, {\"ID\": \"UDN559180_SATB1\", \"Dumb_ID\": \"UDN213\", \"Variant_Level_noMOI_rank_noN_filtered_15_85_human_revel_mvp_alphaM_spliceAI_noWL\": 1.0, \"Patient_ID\": \"UDN559180\", \"Gene\": \"SATB1\", \"Gene_Num\": \"2\"}, {\"ID\": \"UDN559180_FLG\", \"Dumb_ID\": \"UDN213\", \"Variant_Level_noMOI_rank_noN_filtered_15_85_human_revel_mvp_alphaM_spliceAI_noWL\": 19.0, \"Patient_ID\": \"UDN559180\", \"Gene\": \"FLG\", \"Gene_Num\": \"3\"}]}}, {\"mode\": \"vega-lite\"});\n",
       "</script>"
      ],
      "text/plain": [
       "alt.Chart(...)"
      ]
     },
     "execution_count": 8,
     "metadata": {},
     "output_type": "execute_result"
    }
   ],
   "source": [
    "gs_exomiser_plot = alt.Chart(to_plot).mark_point(filled=True,size=100, stroke='black',strokeWidth=1, opacity=1).encode(\n",
    "    x=alt.X('Dumb_ID', sort='-y',axis=alt.Axis(labelAngle=-60)),\n",
    "    y=alt.Y('Variant_Level_noMOI_rank_noN_filtered_15_85_human_revel_mvp_alphaM_spliceAI_noWL',title=''),\n",
    "    shape='Gene_Num',\n",
    "    color=alt.Color('Dumb_ID', scale=alt.Scale(scheme='tableau20'))\n",
    ").properties(width=200, height=200)\n",
    "gs_exomiser_plot"
   ]
  },
  {
   "cell_type": "markdown",
   "metadata": {},
   "source": [
    "## GS Genomiser"
   ]
  },
  {
   "cell_type": "code",
   "execution_count": 9,
   "metadata": {},
   "outputs": [],
   "source": [
    "gs_genomiser_success_table[['Patient_ID', 'Gene']] = gs_genomiser_success_table['ID'].str.split('_', expand=True)"
   ]
  },
  {
   "cell_type": "code",
   "execution_count": 10,
   "metadata": {},
   "outputs": [
    {
     "data": {
      "text/html": [
       "<div>\n",
       "<style scoped>\n",
       "    .dataframe tbody tr th:only-of-type {\n",
       "        vertical-align: middle;\n",
       "    }\n",
       "\n",
       "    .dataframe tbody tr th {\n",
       "        vertical-align: top;\n",
       "    }\n",
       "\n",
       "    .dataframe thead th {\n",
       "        text-align: right;\n",
       "    }\n",
       "</style>\n",
       "<table border=\"1\" class=\"dataframe\">\n",
       "  <thead>\n",
       "    <tr style=\"text-align: right;\">\n",
       "      <th></th>\n",
       "      <th>ID</th>\n",
       "      <th>Dumb_ID</th>\n",
       "      <th>Variant_Level_noMOI_rank_noN_filtered_15_18_human_REMM_revel_mvp_alphaM_spliceAI_PSF_501_reg_filter_noWL_genomiser</th>\n",
       "      <th>Dumb_ID</th>\n",
       "      <th>Gene</th>\n",
       "    </tr>\n",
       "  </thead>\n",
       "  <tbody>\n",
       "  </tbody>\n",
       "</table>\n",
       "</div>"
      ],
      "text/plain": [
       "Empty DataFrame\n",
       "Columns: [ID, Dumb_ID, Variant_Level_noMOI_rank_noN_filtered_15_18_human_REMM_revel_mvp_alphaM_spliceAI_PSF_501_reg_filter_noWL_genomiser, Dumb_ID, Gene]\n",
       "Index: []"
      ]
     },
     "execution_count": 10,
     "metadata": {},
     "output_type": "execute_result"
    }
   ],
   "source": [
    "gs_table = gs_genomiser_success_table[['ID']].drop_duplicates()\n",
    "gs_table[['Dumb_ID', 'Gene']] = gs_table['ID'].str.split('_', expand=True)\n",
    "table1 = gs_table[['Dumb_ID']]\n",
    "duplicate_rows = table1[table1.duplicated()]\n",
    "table1\n",
    "gs_duplicates = list(gs_table[gs_table['Dumb_ID'].isin(list(duplicate_rows['Dumb_ID']))].sort_values(by='ID')['ID'])\n",
    "\n",
    "gs_duplicates_results = gs_genomiser_success_table[gs_genomiser_success_table['ID'].isin(gs_duplicates)]\n",
    "to_plot = gs_duplicates_results[['ID','Dumb_ID','Variant_Level_noMOI_rank_noN_filtered_15_18_human_REMM_revel_mvp_alphaM_spliceAI_PSF_501_reg_filter_noWL_genomiser', 'Dumb_ID', 'Gene']]\n",
    "to_plot"
   ]
  },
  {
   "cell_type": "code",
   "execution_count": null,
   "metadata": {},
   "outputs": [],
   "source": []
  },
  {
   "cell_type": "markdown",
   "metadata": {},
   "source": [
    "## ES Exomiser"
   ]
  },
  {
   "cell_type": "code",
   "execution_count": 29,
   "metadata": {},
   "outputs": [],
   "source": [
    "es_exomiser_success_table[['Patient_ID', 'Gene']] = es_exomiser_success_table['ID'].str.split('_', expand=True)\n",
    "gs_table = es_exomiser_success_table[['ID']].drop_duplicates()\n",
    "gs_table[['Patient_ID', 'Gene']] = gs_table['ID'].str.split('_', expand=True)\n",
    "table1 = gs_table[['Patient_ID']]\n",
    "duplicate_rows = table1[table1.duplicated()]\n",
    "table1\n",
    "gs_duplicates = list(gs_table[gs_table['Patient_ID'].isin(list(duplicate_rows['Patient_ID']))].sort_values(by='ID')['ID'])\n",
    "\n",
    "gs_duplicates_results = es_exomiser_success_table[es_exomiser_success_table['ID'].isin(gs_duplicates)]\n",
    "to_plot = gs_duplicates_results[['ID','Dumb_ID','Variant_Level_noMOI_rank_noN_filtered_15_85_human_revel_mvp_alphaM_spliceAI_noWL', 'Patient_ID', 'Gene']].sort_values(by='Patient_ID')\n"
   ]
  },
  {
   "cell_type": "code",
   "execution_count": 12,
   "metadata": {},
   "outputs": [],
   "source": [
    "to_plot['Gene_Num'] = ['1','2'] * 5\n",
    "to_plot=to_plot.fillna(-5)"
   ]
  },
  {
   "cell_type": "code",
   "execution_count": 13,
   "metadata": {},
   "outputs": [],
   "source": [
    "es_exomiser_plot = alt.Chart(to_plot[to_plot['Variant_Level_noMOI_rank_noN_filtered_15_85_human_revel_mvp_alphaM_spliceAI_noWL']<20]).mark_point(filled=True,size=100, stroke='black',strokeWidth=1, opacity=1).encode(\n",
    "    x=alt.X('Dumb_ID', sort='-y',axis=alt.Axis(labelAngle=-60)),\n",
    "    y=alt.Y('Variant_Level_noMOI_rank_noN_filtered_15_85_human_revel_mvp_alphaM_spliceAI_noWL',title='' ,scale=alt.Scale(domain=[0,15])),\n",
    "    shape='Gene_Num',\n",
    "    color=alt.Color('Dumb_ID', scale=alt.Scale(scheme='tableau20')),\n",
    "    tooltip=['Variant_Level_noMOI_rank_noN_filtered_15_85_human_revel_mvp_alphaM_spliceAI_noWL']\n",
    ").properties(width=200, height=150)\n",
    "es_exomiser_plot2 = alt.Chart(to_plot[to_plot['Variant_Level_noMOI_rank_noN_filtered_15_85_human_revel_mvp_alphaM_spliceAI_noWL']>20]).mark_point(filled=True,size=100, stroke='black',strokeWidth=1, opacity=1).encode(\n",
    "    x=alt.X('Dumb_ID', sort='-y',axis=None),\n",
    "    y=alt.Y('Variant_Level_noMOI_rank_noN_filtered_15_85_human_revel_mvp_alphaM_spliceAI_noWL',title='', scale=alt.Scale(domain=[80,87])),\n",
    "    shape='Gene_Num',\n",
    "    color=alt.Color('Dumb_ID', scale=alt.Scale(scheme='tableau20')),\n",
    "    tooltip=['Variant_Level_noMOI_rank_noN_filtered_15_85_human_revel_mvp_alphaM_spliceAI_noWL']\n",
    ").properties(width=200, height=40)\n",
    "es_exomiser_plot =alt.vconcat(es_exomiser_plot2, es_exomiser_plot, spacing=5).resolve_scale(x=\"shared\")\n"
   ]
  },
  {
   "cell_type": "code",
   "execution_count": 14,
   "metadata": {},
   "outputs": [
    {
     "data": {
      "text/html": [
       "\n",
       "<style>\n",
       "  #altair-viz-2f7ca06bd14c49e2af79a5866a66a695.vega-embed {\n",
       "    width: 100%;\n",
       "    display: flex;\n",
       "  }\n",
       "\n",
       "  #altair-viz-2f7ca06bd14c49e2af79a5866a66a695.vega-embed details,\n",
       "  #altair-viz-2f7ca06bd14c49e2af79a5866a66a695.vega-embed details summary {\n",
       "    position: relative;\n",
       "  }\n",
       "</style>\n",
       "<div id=\"altair-viz-2f7ca06bd14c49e2af79a5866a66a695\"></div>\n",
       "<script type=\"text/javascript\">\n",
       "  var VEGA_DEBUG = (typeof VEGA_DEBUG == \"undefined\") ? {} : VEGA_DEBUG;\n",
       "  (function(spec, embedOpt){\n",
       "    let outputDiv = document.currentScript.previousElementSibling;\n",
       "    if (outputDiv.id !== \"altair-viz-2f7ca06bd14c49e2af79a5866a66a695\") {\n",
       "      outputDiv = document.getElementById(\"altair-viz-2f7ca06bd14c49e2af79a5866a66a695\");\n",
       "    }\n",
       "    const paths = {\n",
       "      \"vega\": \"https://cdn.jsdelivr.net/npm/vega@5?noext\",\n",
       "      \"vega-lib\": \"https://cdn.jsdelivr.net/npm/vega-lib?noext\",\n",
       "      \"vega-lite\": \"https://cdn.jsdelivr.net/npm/vega-lite@5.17.0?noext\",\n",
       "      \"vega-embed\": \"https://cdn.jsdelivr.net/npm/vega-embed@6?noext\",\n",
       "    };\n",
       "\n",
       "    function maybeLoadScript(lib, version) {\n",
       "      var key = `${lib.replace(\"-\", \"\")}_version`;\n",
       "      return (VEGA_DEBUG[key] == version) ?\n",
       "        Promise.resolve(paths[lib]) :\n",
       "        new Promise(function(resolve, reject) {\n",
       "          var s = document.createElement('script');\n",
       "          document.getElementsByTagName(\"head\")[0].appendChild(s);\n",
       "          s.async = true;\n",
       "          s.onload = () => {\n",
       "            VEGA_DEBUG[key] = version;\n",
       "            return resolve(paths[lib]);\n",
       "          };\n",
       "          s.onerror = () => reject(`Error loading script: ${paths[lib]}`);\n",
       "          s.src = paths[lib];\n",
       "        });\n",
       "    }\n",
       "\n",
       "    function showError(err) {\n",
       "      outputDiv.innerHTML = `<div class=\"error\" style=\"color:red;\">${err}</div>`;\n",
       "      throw err;\n",
       "    }\n",
       "\n",
       "    function displayChart(vegaEmbed) {\n",
       "      vegaEmbed(outputDiv, spec, embedOpt)\n",
       "        .catch(err => showError(`Javascript Error: ${err.message}<br>This usually means there's a typo in your chart specification. See the javascript console for the full traceback.`));\n",
       "    }\n",
       "\n",
       "    if(typeof define === \"function\" && define.amd) {\n",
       "      requirejs.config({paths});\n",
       "      require([\"vega-embed\"], displayChart, err => showError(`Error loading script: ${err.message}`));\n",
       "    } else {\n",
       "      maybeLoadScript(\"vega\", \"5\")\n",
       "        .then(() => maybeLoadScript(\"vega-lite\", \"5.17.0\"))\n",
       "        .then(() => maybeLoadScript(\"vega-embed\", \"6\"))\n",
       "        .catch(showError)\n",
       "        .then(() => displayChart(vegaEmbed));\n",
       "    }\n",
       "  })({\"config\": {\"view\": {\"continuousWidth\": 300, \"continuousHeight\": 300}, \"axis\": {\"labelFont\": \"arial\", \"labelFontSize\": 15, \"labelLimit\": 0, \"labelPadding\": 5, \"tickSize\": 8, \"titleFontSize\": 15}, \"legend\": {\"labelFont\": \"arial\", \"labelFontSize\": 15, \"labelLimit\": 0, \"titleFontSize\": 15}}, \"hconcat\": [{\"data\": {\"name\": \"data-28e0c50092dd31b7020e440d3dbddf0a\"}, \"mark\": {\"type\": \"point\", \"filled\": true, \"opacity\": 1, \"size\": 100, \"stroke\": \"black\", \"strokeWidth\": 1}, \"encoding\": {\"color\": {\"field\": \"Dumb_ID\", \"scale\": {\"scheme\": \"tableau20\"}, \"type\": \"nominal\"}, \"shape\": {\"field\": \"Gene_Num\", \"type\": \"nominal\"}, \"x\": {\"axis\": {\"labelAngle\": -60}, \"field\": \"Dumb_ID\", \"sort\": \"-y\", \"type\": \"nominal\"}, \"y\": {\"field\": \"Variant_Level_noMOI_rank_noN_filtered_15_85_human_revel_mvp_alphaM_spliceAI_noWL\", \"title\": \"\", \"type\": \"quantitative\"}}, \"height\": 200, \"width\": 200}, {\"vconcat\": [{\"data\": {\"name\": \"data-79aa1cf572878a7814b8da6975224179\"}, \"mark\": {\"type\": \"point\", \"filled\": true, \"opacity\": 1, \"size\": 100, \"stroke\": \"black\", \"strokeWidth\": 1}, \"encoding\": {\"color\": {\"field\": \"Dumb_ID\", \"scale\": {\"scheme\": \"tableau20\"}, \"type\": \"nominal\"}, \"shape\": {\"field\": \"Gene_Num\", \"type\": \"nominal\"}, \"tooltip\": [{\"field\": \"Variant_Level_noMOI_rank_noN_filtered_15_85_human_revel_mvp_alphaM_spliceAI_noWL\", \"type\": \"quantitative\"}], \"x\": {\"axis\": null, \"field\": \"Dumb_ID\", \"sort\": \"-y\", \"type\": \"nominal\"}, \"y\": {\"field\": \"Variant_Level_noMOI_rank_noN_filtered_15_85_human_revel_mvp_alphaM_spliceAI_noWL\", \"scale\": {\"domain\": [80, 87]}, \"title\": \"\", \"type\": \"quantitative\"}}, \"height\": 40, \"width\": 200}, {\"data\": {\"name\": \"data-9f54b17bf5ad096f97eb1385872aed02\"}, \"mark\": {\"type\": \"point\", \"filled\": true, \"opacity\": 1, \"size\": 100, \"stroke\": \"black\", \"strokeWidth\": 1}, \"encoding\": {\"color\": {\"field\": \"Dumb_ID\", \"scale\": {\"scheme\": \"tableau20\"}, \"type\": \"nominal\"}, \"shape\": {\"field\": \"Gene_Num\", \"type\": \"nominal\"}, \"tooltip\": [{\"field\": \"Variant_Level_noMOI_rank_noN_filtered_15_85_human_revel_mvp_alphaM_spliceAI_noWL\", \"type\": \"quantitative\"}], \"x\": {\"axis\": {\"labelAngle\": -60}, \"field\": \"Dumb_ID\", \"sort\": \"-y\", \"type\": \"nominal\"}, \"y\": {\"field\": \"Variant_Level_noMOI_rank_noN_filtered_15_85_human_revel_mvp_alphaM_spliceAI_noWL\", \"scale\": {\"domain\": [0, 15]}, \"title\": \"\", \"type\": \"quantitative\"}}, \"height\": 150, \"width\": 200}], \"resolve\": {\"scale\": {\"x\": \"shared\"}}, \"spacing\": 5}], \"resolve\": {\"scale\": {\"color\": \"shared\"}}, \"$schema\": \"https://vega.github.io/schema/vega-lite/v5.17.0.json\", \"datasets\": {\"data-28e0c50092dd31b7020e440d3dbddf0a\": [{\"ID\": \"UDN058032_FCSK\", \"Dumb_ID\": \"UDN20\", \"Variant_Level_noMOI_rank_noN_filtered_15_85_human_revel_mvp_alphaM_spliceAI_noWL\": 3.0, \"Patient_ID\": \"UDN058032\", \"Gene\": \"FCSK\", \"Gene_Num\": \"1\"}, {\"ID\": \"UDN058032_FCSK\", \"Dumb_ID\": \"UDN20\", \"Variant_Level_noMOI_rank_noN_filtered_15_85_human_revel_mvp_alphaM_spliceAI_noWL\": 3.0, \"Patient_ID\": \"UDN058032\", \"Gene\": \"FCSK\", \"Gene_Num\": \"1\"}, {\"ID\": \"UDN058032_HCFC1\", \"Dumb_ID\": \"UDN20\", \"Variant_Level_noMOI_rank_noN_filtered_15_85_human_revel_mvp_alphaM_spliceAI_noWL\": 1.0, \"Patient_ID\": \"UDN058032\", \"Gene\": \"HCFC1\", \"Gene_Num\": \"2\"}, {\"ID\": \"UDN063711_SERPINA1\", \"Dumb_ID\": \"UDN25\", \"Variant_Level_noMOI_rank_noN_filtered_15_85_human_revel_mvp_alphaM_spliceAI_noWL\": -5.0, \"Patient_ID\": \"UDN063711\", \"Gene\": \"SERPINA1\", \"Gene_Num\": \"1\"}, {\"ID\": \"UDN063711_COL4A1\", \"Dumb_ID\": \"UDN25\", \"Variant_Level_noMOI_rank_noN_filtered_15_85_human_revel_mvp_alphaM_spliceAI_noWL\": 1.0, \"Patient_ID\": \"UDN063711\", \"Gene\": \"COL4A1\", \"Gene_Num\": \"2\"}, {\"ID\": \"UDN063711_BARD1\", \"Dumb_ID\": \"UDN25\", \"Variant_Level_noMOI_rank_noN_filtered_15_85_human_revel_mvp_alphaM_spliceAI_noWL\": 8.0, \"Patient_ID\": \"UDN063711\", \"Gene\": \"BARD1\", \"Gene_Num\": \"3\"}, {\"ID\": \"UDN110060_TCIRG1\", \"Dumb_ID\": \"UDN48\", \"Variant_Level_noMOI_rank_noN_filtered_15_85_human_revel_mvp_alphaM_spliceAI_noWL\": 6.0, \"Patient_ID\": \"UDN110060\", \"Gene\": \"TCIRG1\", \"Gene_Num\": \"1\"}, {\"ID\": \"UDN110060_CLCN7\", \"Dumb_ID\": \"UDN48\", \"Variant_Level_noMOI_rank_noN_filtered_15_85_human_revel_mvp_alphaM_spliceAI_noWL\": 1.0, \"Patient_ID\": \"UDN110060\", \"Gene\": \"CLCN7\", \"Gene_Num\": \"2\"}, {\"ID\": \"UDN384036_NLRP12\", \"Dumb_ID\": \"UDN143\", \"Variant_Level_noMOI_rank_noN_filtered_15_85_human_revel_mvp_alphaM_spliceAI_noWL\": 1.0, \"Patient_ID\": \"UDN384036\", \"Gene\": \"NLRP12\", \"Gene_Num\": \"1\"}, {\"ID\": \"UDN384036_RAPGEFL1\", \"Dumb_ID\": \"UDN143\", \"Variant_Level_noMOI_rank_noN_filtered_15_85_human_revel_mvp_alphaM_spliceAI_noWL\": 12.0, \"Patient_ID\": \"UDN384036\", \"Gene\": \"RAPGEFL1\", \"Gene_Num\": \"2\"}, {\"ID\": \"UDN429732_GJB2\", \"Dumb_ID\": \"UDN161\", \"Variant_Level_noMOI_rank_noN_filtered_15_85_human_revel_mvp_alphaM_spliceAI_noWL\": 12.0, \"Patient_ID\": \"UDN429732\", \"Gene\": \"GJB2\", \"Gene_Num\": \"1\"}, {\"ID\": \"UDN429732_SOX11\", \"Dumb_ID\": \"UDN161\", \"Variant_Level_noMOI_rank_noN_filtered_15_85_human_revel_mvp_alphaM_spliceAI_noWL\": 1.0, \"Patient_ID\": \"UDN429732\", \"Gene\": \"SOX11\", \"Gene_Num\": \"2\"}, {\"ID\": \"UDN559180_FLCN\", \"Dumb_ID\": \"UDN213\", \"Variant_Level_noMOI_rank_noN_filtered_15_85_human_revel_mvp_alphaM_spliceAI_noWL\": 10.0, \"Patient_ID\": \"UDN559180\", \"Gene\": \"FLCN\", \"Gene_Num\": \"1\"}, {\"ID\": \"UDN559180_SATB1\", \"Dumb_ID\": \"UDN213\", \"Variant_Level_noMOI_rank_noN_filtered_15_85_human_revel_mvp_alphaM_spliceAI_noWL\": 1.0, \"Patient_ID\": \"UDN559180\", \"Gene\": \"SATB1\", \"Gene_Num\": \"2\"}, {\"ID\": \"UDN559180_FLG\", \"Dumb_ID\": \"UDN213\", \"Variant_Level_noMOI_rank_noN_filtered_15_85_human_revel_mvp_alphaM_spliceAI_noWL\": 19.0, \"Patient_ID\": \"UDN559180\", \"Gene\": \"FLG\", \"Gene_Num\": \"3\"}], \"data-79aa1cf572878a7814b8da6975224179\": [{\"ID\": \"UDN714418_POC5\", \"Dumb_ID\": \"UDN287\", \"Variant_Level_noMOI_rank_noN_filtered_15_85_human_revel_mvp_alphaM_spliceAI_noWL\": 83.0, \"Patient_ID\": \"UDN714418\", \"Gene\": \"POC5\", \"Gene_Num\": \"1\"}], \"data-9f54b17bf5ad096f97eb1385872aed02\": [{\"ID\": \"UDN500195_AP4M1\", \"Dumb_ID\": \"UDN189\", \"Variant_Level_noMOI_rank_noN_filtered_15_85_human_revel_mvp_alphaM_spliceAI_noWL\": 7.0, \"Patient_ID\": \"UDN500195\", \"Gene\": \"AP4M1\", \"Gene_Num\": \"1\"}, {\"ID\": \"UDN500195_CFTR\", \"Dumb_ID\": \"UDN189\", \"Variant_Level_noMOI_rank_noN_filtered_15_85_human_revel_mvp_alphaM_spliceAI_noWL\": 9.0, \"Patient_ID\": \"UDN500195\", \"Gene\": \"CFTR\", \"Gene_Num\": \"2\"}, {\"ID\": \"UDN676680_FBN1\", \"Dumb_ID\": \"UDN268\", \"Variant_Level_noMOI_rank_noN_filtered_15_85_human_revel_mvp_alphaM_spliceAI_noWL\": 1.0, \"Patient_ID\": \"UDN676680\", \"Gene\": \"FBN1\", \"Gene_Num\": \"1\"}, {\"ID\": \"UDN676680_TRPS1\", \"Dumb_ID\": \"UDN268\", \"Variant_Level_noMOI_rank_noN_filtered_15_85_human_revel_mvp_alphaM_spliceAI_noWL\": 2.0, \"Patient_ID\": \"UDN676680\", \"Gene\": \"TRPS1\", \"Gene_Num\": \"2\"}, {\"ID\": \"UDN714418_MSL2\", \"Dumb_ID\": \"UDN287\", \"Variant_Level_noMOI_rank_noN_filtered_15_85_human_revel_mvp_alphaM_spliceAI_noWL\": 14.0, \"Patient_ID\": \"UDN714418\", \"Gene\": \"MSL2\", \"Gene_Num\": \"2\"}, {\"ID\": \"UDN813763_POC1A\", \"Dumb_ID\": \"UDN333\", \"Variant_Level_noMOI_rank_noN_filtered_15_85_human_revel_mvp_alphaM_spliceAI_noWL\": 4.0, \"Patient_ID\": \"UDN813763\", \"Gene\": \"POC1A\", \"Gene_Num\": \"1\"}, {\"ID\": \"UDN813763_SCN4A\", \"Dumb_ID\": \"UDN333\", \"Variant_Level_noMOI_rank_noN_filtered_15_85_human_revel_mvp_alphaM_spliceAI_noWL\": 2.0, \"Patient_ID\": \"UDN813763\", \"Gene\": \"SCN4A\", \"Gene_Num\": \"2\"}, {\"ID\": \"UDN863014_NEUROD2\", \"Dumb_ID\": \"UDN344\", \"Variant_Level_noMOI_rank_noN_filtered_15_85_human_revel_mvp_alphaM_spliceAI_noWL\": 4.0, \"Patient_ID\": \"UDN863014\", \"Gene\": \"NEUROD2\", \"Gene_Num\": \"1\"}, {\"ID\": \"UDN863014_NSD2\", \"Dumb_ID\": \"UDN344\", \"Variant_Level_noMOI_rank_noN_filtered_15_85_human_revel_mvp_alphaM_spliceAI_noWL\": 1.0, \"Patient_ID\": \"UDN863014\", \"Gene\": \"NSD2\", \"Gene_Num\": \"2\"}]}}, {\"mode\": \"vega-lite\"});\n",
       "</script>"
      ],
      "text/plain": [
       "alt.HConcatChart(...)"
      ]
     },
     "execution_count": 14,
     "metadata": {},
     "output_type": "execute_result"
    }
   ],
   "source": [
    "alt.hconcat(gs_exomiser_plot, es_exomiser_plot).resolve_scale(color='shared').configure_axis(\n",
    "    labelPadding= 5,\n",
    "    labelLimit=0,\n",
    "    labelFontSize=15, \n",
    "    titleFontSize=15, labelFont='arial', tickSize=8).configure_legend(\n",
    "        labelLimit=0,labelFontSize=15, titleFontSize=15, labelFont='arial')"
   ]
  }
 ],
 "metadata": {
  "kernelspec": {
   "display_name": "base",
   "language": "python",
   "name": "python3"
  },
  "language_info": {
   "codemirror_mode": {
    "name": "ipython",
    "version": 3
   },
   "file_extension": ".py",
   "mimetype": "text/x-python",
   "name": "python",
   "nbconvert_exporter": "python",
   "pygments_lexer": "ipython3",
   "version": "3.12.2"
  }
 },
 "nbformat": 4,
 "nbformat_minor": 2
}
