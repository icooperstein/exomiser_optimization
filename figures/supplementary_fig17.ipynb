{
 "cells": [
  {
   "cell_type": "code",
   "execution_count": 51,
   "metadata": {},
   "outputs": [],
   "source": [
    "import pandas as pd\n",
    "import altair as alt\n",
    "import sys\n",
    "sys.path.append('figure_scripts/')\n",
    "\n",
    "import plot_scripts as ps\n"
   ]
  },
  {
   "cell_type": "markdown",
   "metadata": {},
   "source": [
    "## GS Exomiser"
   ]
  },
  {
   "cell_type": "code",
   "execution_count": 52,
   "metadata": {},
   "outputs": [],
   "source": [
    "gs_exomiser_success_table = pd.read_csv('../../02_exomiser_manuscript/fig_03/GS_exomiser_fig5_input_12.19.24.tsv', sep='\\t')\n",
    "gs_exomiser_success_table.groupby('MOI').describe()\n",
    "\n",
    "gs_exomiser_AR = gs_exomiser_success_table[(gs_exomiser_success_table['MOI']=='AR') & (~gs_exomiser_success_table['narrative'].str.contains('compound'))]\n",
    "\n",
    "gs_exomiser_AD = gs_exomiser_success_table[gs_exomiser_success_table['MOI']=='AD']\n",
    "\n",
    "gs_exomiser_cmpd_hets = gs_exomiser_success_table[gs_exomiser_success_table['narrative'].str.contains('compound')]\n",
    "\n",
    "gs_exomiser_all = pd.concat([gs_exomiser_AR,gs_exomiser_AD, gs_exomiser_cmpd_hets])\n",
    "\n",
    "\n"
   ]
  },
  {
   "cell_type": "code",
   "execution_count": 53,
   "metadata": {},
   "outputs": [
    {
     "name": "stdout",
     "output_type": "stream",
     "text": [
      "36 AR\n",
      "144 AD\n",
      "102 CH\n",
      "282 All\n"
     ]
    }
   ],
   "source": [
    "print(len(gs_exomiser_AR), 'AR')\n",
    "print(len(gs_exomiser_AD), 'AD')\n",
    "print(len(gs_exomiser_cmpd_hets), 'CH')\n",
    "print(len(gs_exomiser_all), 'All')\n"
   ]
  },
  {
   "cell_type": "code",
   "execution_count": 54,
   "metadata": {},
   "outputs": [
    {
     "name": "stdout",
     "output_type": "stream",
     "text": [
      "noN_filtered_15_85_human_revel_mvp_alphaM_spliceAI_noWL highest rank: 78.0 max%: 97.2972972972973 288\n",
      "noN_filtered_15_85_human_revel_mvp_alphaM_spliceAI_noWL highest rank: 21.0 max%: 97.22222222222221 35\n",
      "noN_filtered_15_85_human_revel_mvp_alphaM_spliceAI_noWL highest rank: 78.0 max%: 97.91666666666666 141\n",
      "noN_filtered_15_85_human_revel_mvp_alphaM_spliceAI_noWL highest rank: 53.0 max%: 96.07843137254902 98\n"
     ]
    },
    {
     "data": {
      "text/html": [
       "\n",
       "<style>\n",
       "  #altair-viz-a0f0435048ea4aa9bf448e1826fdca85.vega-embed {\n",
       "    width: 100%;\n",
       "    display: flex;\n",
       "  }\n",
       "\n",
       "  #altair-viz-a0f0435048ea4aa9bf448e1826fdca85.vega-embed details,\n",
       "  #altair-viz-a0f0435048ea4aa9bf448e1826fdca85.vega-embed details summary {\n",
       "    position: relative;\n",
       "  }\n",
       "</style>\n",
       "<div id=\"altair-viz-a0f0435048ea4aa9bf448e1826fdca85\"></div>\n",
       "<script type=\"text/javascript\">\n",
       "  var VEGA_DEBUG = (typeof VEGA_DEBUG == \"undefined\") ? {} : VEGA_DEBUG;\n",
       "  (function(spec, embedOpt){\n",
       "    let outputDiv = document.currentScript.previousElementSibling;\n",
       "    if (outputDiv.id !== \"altair-viz-a0f0435048ea4aa9bf448e1826fdca85\") {\n",
       "      outputDiv = document.getElementById(\"altair-viz-a0f0435048ea4aa9bf448e1826fdca85\");\n",
       "    }\n",
       "    const paths = {\n",
       "      \"vega\": \"https://cdn.jsdelivr.net/npm/vega@5?noext\",\n",
       "      \"vega-lib\": \"https://cdn.jsdelivr.net/npm/vega-lib?noext\",\n",
       "      \"vega-lite\": \"https://cdn.jsdelivr.net/npm/vega-lite@5.17.0?noext\",\n",
       "      \"vega-embed\": \"https://cdn.jsdelivr.net/npm/vega-embed@6?noext\",\n",
       "    };\n",
       "\n",
       "    function maybeLoadScript(lib, version) {\n",
       "      var key = `${lib.replace(\"-\", \"\")}_version`;\n",
       "      return (VEGA_DEBUG[key] == version) ?\n",
       "        Promise.resolve(paths[lib]) :\n",
       "        new Promise(function(resolve, reject) {\n",
       "          var s = document.createElement('script');\n",
       "          document.getElementsByTagName(\"head\")[0].appendChild(s);\n",
       "          s.async = true;\n",
       "          s.onload = () => {\n",
       "            VEGA_DEBUG[key] = version;\n",
       "            return resolve(paths[lib]);\n",
       "          };\n",
       "          s.onerror = () => reject(`Error loading script: ${paths[lib]}`);\n",
       "          s.src = paths[lib];\n",
       "        });\n",
       "    }\n",
       "\n",
       "    function showError(err) {\n",
       "      outputDiv.innerHTML = `<div class=\"error\" style=\"color:red;\">${err}</div>`;\n",
       "      throw err;\n",
       "    }\n",
       "\n",
       "    function displayChart(vegaEmbed) {\n",
       "      vegaEmbed(outputDiv, spec, embedOpt)\n",
       "        .catch(err => showError(`Javascript Error: ${err.message}<br>This usually means there's a typo in your chart specification. See the javascript console for the full traceback.`));\n",
       "    }\n",
       "\n",
       "    if(typeof define === \"function\" && define.amd) {\n",
       "      requirejs.config({paths});\n",
       "      require([\"vega-embed\"], displayChart, err => showError(`Error loading script: ${err.message}`));\n",
       "    } else {\n",
       "      maybeLoadScript(\"vega\", \"5\")\n",
       "        .then(() => maybeLoadScript(\"vega-lite\", \"5.17.0\"))\n",
       "        .then(() => maybeLoadScript(\"vega-embed\", \"6\"))\n",
       "        .catch(showError)\n",
       "        .then(() => displayChart(vegaEmbed));\n",
       "    }\n",
       "  })({\"config\": {\"view\": {\"continuousWidth\": 300, \"continuousHeight\": 300}}, \"layer\": [{\"data\": {\"name\": \"data-366d1a758d15123d9ef32840f3b4c5c9\"}, \"mark\": {\"type\": \"line\", \"point\": {\"size\": 50}}, \"encoding\": {\"color\": {\"field\": \"Run_Type\", \"scale\": {\"domain\": [\"All\", \"AR\", \"AD\", \"CH\"], \"scheme\": \"set1\"}, \"sort\": [\"noN_filtered_15_85_human_revel_mvp_alphaM_spliceAI_noWL\"], \"type\": \"nominal\"}, \"tooltip\": [{\"field\": \"Rank\", \"type\": \"quantitative\"}, {\"field\": \"Percent_Variants\", \"type\": \"quantitative\"}, {\"field\": \"Run_Type\", \"type\": \"nominal\"}], \"x\": {\"field\": \"Rank\", \"title\": \"Exomiser Rank of Causal Variant\", \"type\": \"quantitative\"}, \"y\": {\"field\": \"Percent_Variants\", \"scale\": {\"domain\": [0, 100]}, \"title\": \"Percent of Causal Variants within Exomiser Rank\", \"type\": \"quantitative\"}}, \"title\": \"296Diagnostic Variants (Variant Level - no MOI requirement)\"}, {\"data\": {\"name\": \"data-f0083d6d49240be2d9f9feeeefffcb79\"}, \"mark\": {\"type\": \"line\", \"point\": {\"size\": 50}}, \"encoding\": {\"color\": {\"field\": \"Run_Type\", \"scale\": {\"domain\": [\"All\", \"AR\", \"AD\", \"CH\"], \"scheme\": \"set1\"}, \"sort\": [\"noN_filtered_15_85_human_revel_mvp_alphaM_spliceAI_noWL\"], \"type\": \"nominal\"}, \"tooltip\": [{\"field\": \"Rank\", \"type\": \"quantitative\"}, {\"field\": \"Percent_Variants\", \"type\": \"quantitative\"}, {\"field\": \"Run_Type\", \"type\": \"nominal\"}], \"x\": {\"field\": \"Rank\", \"title\": \"Exomiser Rank of Causal Variant\", \"type\": \"quantitative\"}, \"y\": {\"field\": \"Percent_Variants\", \"scale\": {\"domain\": [0, 100]}, \"title\": \"Percent of Causal Variants within Exomiser Rank\", \"type\": \"quantitative\"}}, \"title\": \"144Diagnostic Variants (Variant Level - no MOI requirement)\"}, {\"data\": {\"name\": \"data-92db1378c27449e3f9903580a2c19bc5\"}, \"mark\": {\"type\": \"line\", \"point\": {\"size\": 50}}, \"encoding\": {\"color\": {\"field\": \"Run_Type\", \"scale\": {\"domain\": [\"All\", \"AR\", \"AD\", \"CH\"], \"scheme\": \"set1\"}, \"sort\": [\"noN_filtered_15_85_human_revel_mvp_alphaM_spliceAI_noWL\"], \"type\": \"nominal\"}, \"tooltip\": [{\"field\": \"Rank\", \"type\": \"quantitative\"}, {\"field\": \"Percent_Variants\", \"type\": \"quantitative\"}, {\"field\": \"Run_Type\", \"type\": \"nominal\"}], \"x\": {\"field\": \"Rank\", \"title\": \"Exomiser Rank of Causal Variant\", \"type\": \"quantitative\"}, \"y\": {\"field\": \"Percent_Variants\", \"scale\": {\"domain\": [0, 100]}, \"title\": \"Percent of Causal Variants within Exomiser Rank\", \"type\": \"quantitative\"}}, \"title\": \"36Diagnostic Variants (Variant Level - no MOI requirement)\"}, {\"data\": {\"name\": \"data-2a08428be8853776c03530c07de7384d\"}, \"mark\": {\"type\": \"line\", \"point\": {\"size\": 50}}, \"encoding\": {\"color\": {\"field\": \"Run_Type\", \"scale\": {\"domain\": [\"All\", \"AR\", \"AD\", \"CH\"], \"scheme\": \"set1\"}, \"sort\": [\"noN_filtered_15_85_human_revel_mvp_alphaM_spliceAI_noWL\"], \"type\": \"nominal\"}, \"tooltip\": [{\"field\": \"Rank\", \"type\": \"quantitative\"}, {\"field\": \"Percent_Variants\", \"type\": \"quantitative\"}, {\"field\": \"Run_Type\", \"type\": \"nominal\"}], \"x\": {\"field\": \"Rank\", \"title\": \"Exomiser Rank of Causal Variant\", \"type\": \"quantitative\"}, \"y\": {\"field\": \"Percent_Variants\", \"scale\": {\"domain\": [0, 100]}, \"title\": \"Percent of Causal Variants within Exomiser Rank\", \"type\": \"quantitative\"}}, \"title\": \"102Diagnostic Variants (Variant Level - no MOI requirement)\"}], \"height\": 300, \"width\": 350, \"$schema\": \"https://vega.github.io/schema/vega-lite/v5.17.0.json\", \"datasets\": {\"data-366d1a758d15123d9ef32840f3b4c5c9\": [{\"Rank\": 1, \"NumPatients\": 158, \"Percent_Variants\": 53.37837837837838, \"Run_Type\": \"All\"}, {\"Rank\": 2, \"NumPatients\": 200, \"Percent_Variants\": 67.56756756756756, \"Run_Type\": \"All\"}, {\"Rank\": 3, \"NumPatients\": 212, \"Percent_Variants\": 71.62162162162163, \"Run_Type\": \"All\"}, {\"Rank\": 4, \"NumPatients\": 216, \"Percent_Variants\": 72.97297297297297, \"Run_Type\": \"All\"}, {\"Rank\": 5, \"NumPatients\": 228, \"Percent_Variants\": 77.02702702702703, \"Run_Type\": \"All\"}, {\"Rank\": 6, \"NumPatients\": 235, \"Percent_Variants\": 79.3918918918919, \"Run_Type\": \"All\"}, {\"Rank\": 7, \"NumPatients\": 240, \"Percent_Variants\": 81.08108108108108, \"Run_Type\": \"All\"}, {\"Rank\": 8, \"NumPatients\": 248, \"Percent_Variants\": 83.78378378378379, \"Run_Type\": \"All\"}, {\"Rank\": 9, \"NumPatients\": 252, \"Percent_Variants\": 85.13513513513513, \"Run_Type\": \"All\"}, {\"Rank\": 10, \"NumPatients\": 253, \"Percent_Variants\": 85.47297297297297, \"Run_Type\": \"All\"}, {\"Rank\": 11, \"NumPatients\": 259, \"Percent_Variants\": 87.5, \"Run_Type\": \"All\"}, {\"Rank\": 12, \"NumPatients\": 262, \"Percent_Variants\": 88.51351351351352, \"Run_Type\": \"All\"}, {\"Rank\": 13, \"NumPatients\": 264, \"Percent_Variants\": 89.1891891891892, \"Run_Type\": \"All\"}, {\"Rank\": 14, \"NumPatients\": 267, \"Percent_Variants\": 90.2027027027027, \"Run_Type\": \"All\"}, {\"Rank\": 15, \"NumPatients\": 272, \"Percent_Variants\": 91.8918918918919, \"Run_Type\": \"All\"}, {\"Rank\": 16, \"NumPatients\": 275, \"Percent_Variants\": 92.9054054054054, \"Run_Type\": \"All\"}, {\"Rank\": 17, \"NumPatients\": 278, \"Percent_Variants\": 93.91891891891892, \"Run_Type\": \"All\"}, {\"Rank\": 18, \"NumPatients\": 278, \"Percent_Variants\": 93.91891891891892, \"Run_Type\": \"All\"}, {\"Rank\": 19, \"NumPatients\": 279, \"Percent_Variants\": 94.25675675675676, \"Run_Type\": \"All\"}, {\"Rank\": 20, \"NumPatients\": 279, \"Percent_Variants\": 94.25675675675676, \"Run_Type\": \"All\"}, {\"Rank\": 21, \"NumPatients\": 280, \"Percent_Variants\": 94.5945945945946, \"Run_Type\": \"All\"}, {\"Rank\": 22, \"NumPatients\": 280, \"Percent_Variants\": 94.5945945945946, \"Run_Type\": \"All\"}, {\"Rank\": 23, \"NumPatients\": 280, \"Percent_Variants\": 94.5945945945946, \"Run_Type\": \"All\"}, {\"Rank\": 24, \"NumPatients\": 280, \"Percent_Variants\": 94.5945945945946, \"Run_Type\": \"All\"}, {\"Rank\": 25, \"NumPatients\": 280, \"Percent_Variants\": 94.5945945945946, \"Run_Type\": \"All\"}, {\"Rank\": 26, \"NumPatients\": 280, \"Percent_Variants\": 94.5945945945946, \"Run_Type\": \"All\"}, {\"Rank\": 27, \"NumPatients\": 280, \"Percent_Variants\": 94.5945945945946, \"Run_Type\": \"All\"}, {\"Rank\": 28, \"NumPatients\": 280, \"Percent_Variants\": 94.5945945945946, \"Run_Type\": \"All\"}, {\"Rank\": 29, \"NumPatients\": 280, \"Percent_Variants\": 94.5945945945946, \"Run_Type\": \"All\"}, {\"Rank\": 30, \"NumPatients\": 282, \"Percent_Variants\": 95.27027027027027, \"Run_Type\": \"All\"}], \"data-f0083d6d49240be2d9f9feeeefffcb79\": [{\"Rank\": 1, \"NumPatients\": 79, \"Percent_Variants\": 54.861111111111114, \"Run_Type\": \"AD\"}, {\"Rank\": 2, \"NumPatients\": 98, \"Percent_Variants\": 68.05555555555556, \"Run_Type\": \"AD\"}, {\"Rank\": 3, \"NumPatients\": 104, \"Percent_Variants\": 72.22222222222221, \"Run_Type\": \"AD\"}, {\"Rank\": 4, \"NumPatients\": 106, \"Percent_Variants\": 73.61111111111111, \"Run_Type\": \"AD\"}, {\"Rank\": 5, \"NumPatients\": 110, \"Percent_Variants\": 76.38888888888889, \"Run_Type\": \"AD\"}, {\"Rank\": 6, \"NumPatients\": 113, \"Percent_Variants\": 78.47222222222221, \"Run_Type\": \"AD\"}, {\"Rank\": 7, \"NumPatients\": 115, \"Percent_Variants\": 79.86111111111111, \"Run_Type\": \"AD\"}, {\"Rank\": 8, \"NumPatients\": 119, \"Percent_Variants\": 82.63888888888889, \"Run_Type\": \"AD\"}, {\"Rank\": 9, \"NumPatients\": 123, \"Percent_Variants\": 85.41666666666666, \"Run_Type\": \"AD\"}, {\"Rank\": 10, \"NumPatients\": 124, \"Percent_Variants\": 86.11111111111111, \"Run_Type\": \"AD\"}, {\"Rank\": 11, \"NumPatients\": 126, \"Percent_Variants\": 87.5, \"Run_Type\": \"AD\"}, {\"Rank\": 12, \"NumPatients\": 128, \"Percent_Variants\": 88.88888888888889, \"Run_Type\": \"AD\"}, {\"Rank\": 13, \"NumPatients\": 128, \"Percent_Variants\": 88.88888888888889, \"Run_Type\": \"AD\"}, {\"Rank\": 14, \"NumPatients\": 129, \"Percent_Variants\": 89.58333333333334, \"Run_Type\": \"AD\"}, {\"Rank\": 15, \"NumPatients\": 131, \"Percent_Variants\": 90.97222222222221, \"Run_Type\": \"AD\"}, {\"Rank\": 16, \"NumPatients\": 133, \"Percent_Variants\": 92.36111111111111, \"Run_Type\": \"AD\"}, {\"Rank\": 17, \"NumPatients\": 135, \"Percent_Variants\": 93.75, \"Run_Type\": \"AD\"}, {\"Rank\": 18, \"NumPatients\": 135, \"Percent_Variants\": 93.75, \"Run_Type\": \"AD\"}, {\"Rank\": 19, \"NumPatients\": 136, \"Percent_Variants\": 94.44444444444444, \"Run_Type\": \"AD\"}, {\"Rank\": 20, \"NumPatients\": 136, \"Percent_Variants\": 94.44444444444444, \"Run_Type\": \"AD\"}, {\"Rank\": 21, \"NumPatients\": 136, \"Percent_Variants\": 94.44444444444444, \"Run_Type\": \"AD\"}, {\"Rank\": 22, \"NumPatients\": 136, \"Percent_Variants\": 94.44444444444444, \"Run_Type\": \"AD\"}, {\"Rank\": 23, \"NumPatients\": 136, \"Percent_Variants\": 94.44444444444444, \"Run_Type\": \"AD\"}, {\"Rank\": 24, \"NumPatients\": 136, \"Percent_Variants\": 94.44444444444444, \"Run_Type\": \"AD\"}, {\"Rank\": 25, \"NumPatients\": 136, \"Percent_Variants\": 94.44444444444444, \"Run_Type\": \"AD\"}, {\"Rank\": 26, \"NumPatients\": 136, \"Percent_Variants\": 94.44444444444444, \"Run_Type\": \"AD\"}, {\"Rank\": 27, \"NumPatients\": 136, \"Percent_Variants\": 94.44444444444444, \"Run_Type\": \"AD\"}, {\"Rank\": 28, \"NumPatients\": 136, \"Percent_Variants\": 94.44444444444444, \"Run_Type\": \"AD\"}, {\"Rank\": 29, \"NumPatients\": 136, \"Percent_Variants\": 94.44444444444444, \"Run_Type\": \"AD\"}, {\"Rank\": 30, \"NumPatients\": 136, \"Percent_Variants\": 94.44444444444444, \"Run_Type\": \"AD\"}], \"data-92db1378c27449e3f9903580a2c19bc5\": [{\"Rank\": 1, \"NumPatients\": 19, \"Percent_Variants\": 52.77777777777778, \"Run_Type\": \"AR\"}, {\"Rank\": 2, \"NumPatients\": 25, \"Percent_Variants\": 69.44444444444444, \"Run_Type\": \"AR\"}, {\"Rank\": 3, \"NumPatients\": 26, \"Percent_Variants\": 72.22222222222221, \"Run_Type\": \"AR\"}, {\"Rank\": 4, \"NumPatients\": 27, \"Percent_Variants\": 75.0, \"Run_Type\": \"AR\"}, {\"Rank\": 5, \"NumPatients\": 28, \"Percent_Variants\": 77.77777777777779, \"Run_Type\": \"AR\"}, {\"Rank\": 6, \"NumPatients\": 28, \"Percent_Variants\": 77.77777777777779, \"Run_Type\": \"AR\"}, {\"Rank\": 7, \"NumPatients\": 29, \"Percent_Variants\": 80.55555555555556, \"Run_Type\": \"AR\"}, {\"Rank\": 8, \"NumPatients\": 29, \"Percent_Variants\": 80.55555555555556, \"Run_Type\": \"AR\"}, {\"Rank\": 9, \"NumPatients\": 29, \"Percent_Variants\": 80.55555555555556, \"Run_Type\": \"AR\"}, {\"Rank\": 10, \"NumPatients\": 29, \"Percent_Variants\": 80.55555555555556, \"Run_Type\": \"AR\"}, {\"Rank\": 11, \"NumPatients\": 30, \"Percent_Variants\": 83.33333333333334, \"Run_Type\": \"AR\"}, {\"Rank\": 12, \"NumPatients\": 31, \"Percent_Variants\": 86.11111111111111, \"Run_Type\": \"AR\"}, {\"Rank\": 13, \"NumPatients\": 31, \"Percent_Variants\": 86.11111111111111, \"Run_Type\": \"AR\"}, {\"Rank\": 14, \"NumPatients\": 33, \"Percent_Variants\": 91.66666666666666, \"Run_Type\": \"AR\"}, {\"Rank\": 15, \"NumPatients\": 33, \"Percent_Variants\": 91.66666666666666, \"Run_Type\": \"AR\"}, {\"Rank\": 16, \"NumPatients\": 34, \"Percent_Variants\": 94.44444444444444, \"Run_Type\": \"AR\"}, {\"Rank\": 17, \"NumPatients\": 34, \"Percent_Variants\": 94.44444444444444, \"Run_Type\": \"AR\"}, {\"Rank\": 18, \"NumPatients\": 34, \"Percent_Variants\": 94.44444444444444, \"Run_Type\": \"AR\"}, {\"Rank\": 19, \"NumPatients\": 34, \"Percent_Variants\": 94.44444444444444, \"Run_Type\": \"AR\"}, {\"Rank\": 20, \"NumPatients\": 34, \"Percent_Variants\": 94.44444444444444, \"Run_Type\": \"AR\"}, {\"Rank\": 21, \"NumPatients\": 35, \"Percent_Variants\": 97.22222222222221, \"Run_Type\": \"AR\"}, {\"Rank\": 22, \"NumPatients\": 35, \"Percent_Variants\": 97.22222222222221, \"Run_Type\": \"AR\"}, {\"Rank\": 23, \"NumPatients\": 35, \"Percent_Variants\": 97.22222222222221, \"Run_Type\": \"AR\"}, {\"Rank\": 24, \"NumPatients\": 35, \"Percent_Variants\": 97.22222222222221, \"Run_Type\": \"AR\"}, {\"Rank\": 25, \"NumPatients\": 35, \"Percent_Variants\": 97.22222222222221, \"Run_Type\": \"AR\"}, {\"Rank\": 26, \"NumPatients\": 35, \"Percent_Variants\": 97.22222222222221, \"Run_Type\": \"AR\"}, {\"Rank\": 27, \"NumPatients\": 35, \"Percent_Variants\": 97.22222222222221, \"Run_Type\": \"AR\"}, {\"Rank\": 28, \"NumPatients\": 35, \"Percent_Variants\": 97.22222222222221, \"Run_Type\": \"AR\"}, {\"Rank\": 29, \"NumPatients\": 35, \"Percent_Variants\": 97.22222222222221, \"Run_Type\": \"AR\"}, {\"Rank\": 30, \"NumPatients\": 35, \"Percent_Variants\": 97.22222222222221, \"Run_Type\": \"AR\"}], \"data-2a08428be8853776c03530c07de7384d\": [{\"Rank\": 1, \"NumPatients\": 50, \"Percent_Variants\": 49.01960784313725, \"Run_Type\": \"CH\"}, {\"Rank\": 2, \"NumPatients\": 67, \"Percent_Variants\": 65.68627450980392, \"Run_Type\": \"CH\"}, {\"Rank\": 3, \"NumPatients\": 71, \"Percent_Variants\": 69.6078431372549, \"Run_Type\": \"CH\"}, {\"Rank\": 4, \"NumPatients\": 72, \"Percent_Variants\": 70.58823529411765, \"Run_Type\": \"CH\"}, {\"Rank\": 5, \"NumPatients\": 78, \"Percent_Variants\": 76.47058823529412, \"Run_Type\": \"CH\"}, {\"Rank\": 6, \"NumPatients\": 82, \"Percent_Variants\": 80.3921568627451, \"Run_Type\": \"CH\"}, {\"Rank\": 7, \"NumPatients\": 84, \"Percent_Variants\": 82.35294117647058, \"Run_Type\": \"CH\"}, {\"Rank\": 8, \"NumPatients\": 88, \"Percent_Variants\": 86.27450980392157, \"Run_Type\": \"CH\"}, {\"Rank\": 9, \"NumPatients\": 88, \"Percent_Variants\": 86.27450980392157, \"Run_Type\": \"CH\"}, {\"Rank\": 10, \"NumPatients\": 88, \"Percent_Variants\": 86.27450980392157, \"Run_Type\": \"CH\"}, {\"Rank\": 11, \"NumPatients\": 90, \"Percent_Variants\": 88.23529411764706, \"Run_Type\": \"CH\"}, {\"Rank\": 12, \"NumPatients\": 90, \"Percent_Variants\": 88.23529411764706, \"Run_Type\": \"CH\"}, {\"Rank\": 13, \"NumPatients\": 92, \"Percent_Variants\": 90.19607843137256, \"Run_Type\": \"CH\"}, {\"Rank\": 14, \"NumPatients\": 92, \"Percent_Variants\": 90.19607843137256, \"Run_Type\": \"CH\"}, {\"Rank\": 15, \"NumPatients\": 94, \"Percent_Variants\": 92.15686274509804, \"Run_Type\": \"CH\"}, {\"Rank\": 16, \"NumPatients\": 94, \"Percent_Variants\": 92.15686274509804, \"Run_Type\": \"CH\"}, {\"Rank\": 17, \"NumPatients\": 95, \"Percent_Variants\": 93.13725490196079, \"Run_Type\": \"CH\"}, {\"Rank\": 18, \"NumPatients\": 95, \"Percent_Variants\": 93.13725490196079, \"Run_Type\": \"CH\"}, {\"Rank\": 19, \"NumPatients\": 95, \"Percent_Variants\": 93.13725490196079, \"Run_Type\": \"CH\"}, {\"Rank\": 20, \"NumPatients\": 95, \"Percent_Variants\": 93.13725490196079, \"Run_Type\": \"CH\"}, {\"Rank\": 21, \"NumPatients\": 95, \"Percent_Variants\": 93.13725490196079, \"Run_Type\": \"CH\"}, {\"Rank\": 22, \"NumPatients\": 95, \"Percent_Variants\": 93.13725490196079, \"Run_Type\": \"CH\"}, {\"Rank\": 23, \"NumPatients\": 95, \"Percent_Variants\": 93.13725490196079, \"Run_Type\": \"CH\"}, {\"Rank\": 24, \"NumPatients\": 95, \"Percent_Variants\": 93.13725490196079, \"Run_Type\": \"CH\"}, {\"Rank\": 25, \"NumPatients\": 95, \"Percent_Variants\": 93.13725490196079, \"Run_Type\": \"CH\"}, {\"Rank\": 26, \"NumPatients\": 95, \"Percent_Variants\": 93.13725490196079, \"Run_Type\": \"CH\"}, {\"Rank\": 27, \"NumPatients\": 95, \"Percent_Variants\": 93.13725490196079, \"Run_Type\": \"CH\"}, {\"Rank\": 28, \"NumPatients\": 95, \"Percent_Variants\": 93.13725490196079, \"Run_Type\": \"CH\"}, {\"Rank\": 29, \"NumPatients\": 95, \"Percent_Variants\": 93.13725490196079, \"Run_Type\": \"CH\"}, {\"Rank\": 30, \"NumPatients\": 97, \"Percent_Variants\": 95.09803921568627, \"Run_Type\": \"CH\"}]}}, {\"mode\": \"vega-lite\"});\n",
       "</script>"
      ],
      "text/plain": [
       "alt.LayerChart(...)"
      ]
     },
     "execution_count": 54,
     "metadata": {},
     "output_type": "execute_result"
    }
   ],
   "source": [
    "domain = ['exomiser_default', 'filtered_exomiser_default','noN_filtered_15_85_human_revel_mvp_alphaM_spliceAI_noWL','noN_filtered_15_85_human_revel_mvp_noWL' ,'']\n",
    "\n",
    "RUN_TYPES = [ 'noN_filtered_15_85_human_revel_mvp_alphaM_spliceAI_noWL' ]\n",
    "domain = ['All', 'AR', 'AD', 'CH']\n",
    "d_df,denom = ps.create_df(300, RUN_TYPES, gs_exomiser_success_table)\n",
    "d_df['Run_Type'] = ['All'] * len(d_df)\n",
    "\n",
    "gs_exomiser = ps.create_plot(denom, d_df, RUN_TYPES, 'set1', False, domain)\n",
    "gs_exomiser\n",
    "\n",
    "d_df,denom = ps.create_df(300, RUN_TYPES, gs_exomiser_AR)\n",
    "d_df['Run_Type'] = ['AR'] * len(d_df)\n",
    "\n",
    "gs_exomiser_AR_plot = ps.create_plot(denom, d_df, RUN_TYPES, 'set1', False, domain)\n",
    "gs_exomiser_AR_plot\n",
    "\n",
    "d_df,denom = ps.create_df(300, RUN_TYPES, gs_exomiser_AD)\n",
    "d_df['Run_Type'] = ['AD'] * len(d_df)\n",
    "gs_exomiser_AD_plot = ps.create_plot(denom, d_df, RUN_TYPES, 'set1', False, domain)\n",
    "gs_exomiser_AD_plot\n",
    "\n",
    "d_df,denom = ps.create_df(300, RUN_TYPES, gs_exomiser_cmpd_hets)\n",
    "d_df['Run_Type'] = ['CH'] * len(d_df)\n",
    "gs_exomiser_CH_plot = ps.create_plot(denom, d_df, RUN_TYPES, 'set1', False, domain)\n",
    "\n",
    "\n",
    "gs_exomiser_allplots = alt.layer(gs_exomiser, gs_exomiser_AD_plot, gs_exomiser_AR_plot,gs_exomiser_CH_plot).properties(height=300, width=350)\n",
    "gs_exomiser_allplots"
   ]
  },
  {
   "cell_type": "markdown",
   "metadata": {},
   "source": [
    "## GS Genomiser"
   ]
  },
  {
   "cell_type": "code",
   "execution_count": 55,
   "metadata": {},
   "outputs": [],
   "source": [
    "gs_genomiser_success_table = pd.read_csv('../../02_exomiser_manuscript/fig_03/GS_genomiser_fig5_input_12.19.24.tsv', sep='\\t')\n",
    "\n",
    "gs_genomiser_AR = gs_genomiser_success_table[(gs_genomiser_success_table['MOI']=='AR') & (~gs_genomiser_success_table['narrative'].str.contains('compound'))]\n",
    "\n",
    "gs_genomiser_AD = gs_genomiser_success_table[gs_genomiser_success_table['MOI']=='AD']\n",
    "\n",
    "gs_genomiser_cmpd_hets = gs_genomiser_success_table[gs_genomiser_success_table['narrative'].str.contains('compound')]\n",
    "\n",
    "gs_genomiser_all = pd.concat([gs_genomiser_AR,gs_genomiser_AD, gs_genomiser_cmpd_hets])\n",
    "\n",
    "\n"
   ]
  },
  {
   "cell_type": "code",
   "execution_count": 56,
   "metadata": {},
   "outputs": [
    {
     "name": "stdout",
     "output_type": "stream",
     "text": [
      "4 AR\n",
      "9 AD\n",
      "42 CH\n",
      "55 All\n"
     ]
    }
   ],
   "source": [
    "print(len(gs_genomiser_AR), 'AR')\n",
    "print(len(gs_genomiser_AD), 'AD')\n",
    "print(len(gs_genomiser_cmpd_hets), 'CH')\n",
    "print(len(gs_genomiser_all), 'All')\n"
   ]
  },
  {
   "cell_type": "code",
   "execution_count": 57,
   "metadata": {},
   "outputs": [
    {
     "name": "stdout",
     "output_type": "stream",
     "text": [
      "noN_filtered_15_18_human_REMM_revel_mvp_alphaM_spliceAI_PSF_501_reg_filter_noWL_genomiser highest rank: 448.0 max%: 65.0 39\n",
      "noN_filtered_15_18_human_REMM_revel_mvp_alphaM_spliceAI_PSF_501_reg_filter_noWL_genomiser highest rank: 246.0 max%: 75.0 3\n",
      "noN_filtered_15_18_human_REMM_revel_mvp_alphaM_spliceAI_PSF_501_reg_filter_noWL_genomiser highest rank: 448.0 max%: 77.77777777777779 7\n",
      "noN_filtered_15_18_human_REMM_revel_mvp_alphaM_spliceAI_PSF_501_reg_filter_noWL_genomiser highest rank: 107.0 max%: 61.904761904761905 26\n"
     ]
    },
    {
     "data": {
      "text/html": [
       "\n",
       "<style>\n",
       "  #altair-viz-48a7366f03d54c1a8c4e21f8edde638f.vega-embed {\n",
       "    width: 100%;\n",
       "    display: flex;\n",
       "  }\n",
       "\n",
       "  #altair-viz-48a7366f03d54c1a8c4e21f8edde638f.vega-embed details,\n",
       "  #altair-viz-48a7366f03d54c1a8c4e21f8edde638f.vega-embed details summary {\n",
       "    position: relative;\n",
       "  }\n",
       "</style>\n",
       "<div id=\"altair-viz-48a7366f03d54c1a8c4e21f8edde638f\"></div>\n",
       "<script type=\"text/javascript\">\n",
       "  var VEGA_DEBUG = (typeof VEGA_DEBUG == \"undefined\") ? {} : VEGA_DEBUG;\n",
       "  (function(spec, embedOpt){\n",
       "    let outputDiv = document.currentScript.previousElementSibling;\n",
       "    if (outputDiv.id !== \"altair-viz-48a7366f03d54c1a8c4e21f8edde638f\") {\n",
       "      outputDiv = document.getElementById(\"altair-viz-48a7366f03d54c1a8c4e21f8edde638f\");\n",
       "    }\n",
       "    const paths = {\n",
       "      \"vega\": \"https://cdn.jsdelivr.net/npm/vega@5?noext\",\n",
       "      \"vega-lib\": \"https://cdn.jsdelivr.net/npm/vega-lib?noext\",\n",
       "      \"vega-lite\": \"https://cdn.jsdelivr.net/npm/vega-lite@5.17.0?noext\",\n",
       "      \"vega-embed\": \"https://cdn.jsdelivr.net/npm/vega-embed@6?noext\",\n",
       "    };\n",
       "\n",
       "    function maybeLoadScript(lib, version) {\n",
       "      var key = `${lib.replace(\"-\", \"\")}_version`;\n",
       "      return (VEGA_DEBUG[key] == version) ?\n",
       "        Promise.resolve(paths[lib]) :\n",
       "        new Promise(function(resolve, reject) {\n",
       "          var s = document.createElement('script');\n",
       "          document.getElementsByTagName(\"head\")[0].appendChild(s);\n",
       "          s.async = true;\n",
       "          s.onload = () => {\n",
       "            VEGA_DEBUG[key] = version;\n",
       "            return resolve(paths[lib]);\n",
       "          };\n",
       "          s.onerror = () => reject(`Error loading script: ${paths[lib]}`);\n",
       "          s.src = paths[lib];\n",
       "        });\n",
       "    }\n",
       "\n",
       "    function showError(err) {\n",
       "      outputDiv.innerHTML = `<div class=\"error\" style=\"color:red;\">${err}</div>`;\n",
       "      throw err;\n",
       "    }\n",
       "\n",
       "    function displayChart(vegaEmbed) {\n",
       "      vegaEmbed(outputDiv, spec, embedOpt)\n",
       "        .catch(err => showError(`Javascript Error: ${err.message}<br>This usually means there's a typo in your chart specification. See the javascript console for the full traceback.`));\n",
       "    }\n",
       "\n",
       "    if(typeof define === \"function\" && define.amd) {\n",
       "      requirejs.config({paths});\n",
       "      require([\"vega-embed\"], displayChart, err => showError(`Error loading script: ${err.message}`));\n",
       "    } else {\n",
       "      maybeLoadScript(\"vega\", \"5\")\n",
       "        .then(() => maybeLoadScript(\"vega-lite\", \"5.17.0\"))\n",
       "        .then(() => maybeLoadScript(\"vega-embed\", \"6\"))\n",
       "        .catch(showError)\n",
       "        .then(() => displayChart(vegaEmbed));\n",
       "    }\n",
       "  })({\"config\": {\"view\": {\"continuousWidth\": 300, \"continuousHeight\": 300}}, \"layer\": [{\"data\": {\"name\": \"data-b791939be2708f3e70949b608fe23951\"}, \"mark\": {\"type\": \"line\", \"point\": {\"size\": 50}}, \"encoding\": {\"color\": {\"field\": \"Run_Type\", \"scale\": {\"domain\": [\"All\", \"AR\", \"AD\", \"CH\"], \"scheme\": \"set1\"}, \"sort\": [\"noN_filtered_15_18_human_REMM_revel_mvp_alphaM_spliceAI_PSF_501_reg_filter_noWL_genomiser\"], \"type\": \"nominal\"}, \"tooltip\": [{\"field\": \"Rank\", \"type\": \"quantitative\"}, {\"field\": \"Percent_Variants\", \"type\": \"quantitative\"}, {\"field\": \"Run_Type\", \"type\": \"nominal\"}], \"x\": {\"field\": \"Rank\", \"title\": \"Exomiser Rank of Causal Variant\", \"type\": \"quantitative\"}, \"y\": {\"field\": \"Percent_Variants\", \"scale\": {\"domain\": [0, 100]}, \"title\": \"Percent of Causal Variants within Exomiser Rank\", \"type\": \"quantitative\"}}, \"title\": \"60Diagnostic Variants (Variant Level - no MOI requirement)\"}, {\"data\": {\"name\": \"data-796d5d3bc2f052f6f505097a4a5baef1\"}, \"mark\": {\"type\": \"line\", \"point\": {\"size\": 50}}, \"encoding\": {\"color\": {\"field\": \"Run_Type\", \"scale\": {\"domain\": [\"All\", \"AR\", \"AD\", \"CH\"], \"scheme\": \"set1\"}, \"sort\": [\"noN_filtered_15_18_human_REMM_revel_mvp_alphaM_spliceAI_PSF_501_reg_filter_noWL_genomiser\"], \"type\": \"nominal\"}, \"tooltip\": [{\"field\": \"Rank\", \"type\": \"quantitative\"}, {\"field\": \"Percent_Variants\", \"type\": \"quantitative\"}, {\"field\": \"Run_Type\", \"type\": \"nominal\"}], \"x\": {\"field\": \"Rank\", \"title\": \"Exomiser Rank of Causal Variant\", \"type\": \"quantitative\"}, \"y\": {\"field\": \"Percent_Variants\", \"scale\": {\"domain\": [0, 100]}, \"title\": \"Percent of Causal Variants within Exomiser Rank\", \"type\": \"quantitative\"}}, \"title\": \"9Diagnostic Variants (Variant Level - no MOI requirement)\"}, {\"data\": {\"name\": \"data-d23626d549397a90a40cbae128404997\"}, \"mark\": {\"type\": \"line\", \"point\": {\"size\": 50}}, \"encoding\": {\"color\": {\"field\": \"Run_Type\", \"scale\": {\"domain\": [\"All\", \"AR\", \"AD\", \"CH\"], \"scheme\": \"set1\"}, \"sort\": [\"noN_filtered_15_18_human_REMM_revel_mvp_alphaM_spliceAI_PSF_501_reg_filter_noWL_genomiser\"], \"type\": \"nominal\"}, \"tooltip\": [{\"field\": \"Rank\", \"type\": \"quantitative\"}, {\"field\": \"Percent_Variants\", \"type\": \"quantitative\"}, {\"field\": \"Run_Type\", \"type\": \"nominal\"}], \"x\": {\"field\": \"Rank\", \"title\": \"Exomiser Rank of Causal Variant\", \"type\": \"quantitative\"}, \"y\": {\"field\": \"Percent_Variants\", \"scale\": {\"domain\": [0, 100]}, \"title\": \"Percent of Causal Variants within Exomiser Rank\", \"type\": \"quantitative\"}}, \"title\": \"4Diagnostic Variants (Variant Level - no MOI requirement)\"}, {\"data\": {\"name\": \"data-b59ccef57961170cca17d5c0a11d8b2a\"}, \"mark\": {\"type\": \"line\", \"point\": {\"size\": 50}}, \"encoding\": {\"color\": {\"field\": \"Run_Type\", \"scale\": {\"domain\": [\"All\", \"AR\", \"AD\", \"CH\"], \"scheme\": \"set1\"}, \"sort\": [\"noN_filtered_15_18_human_REMM_revel_mvp_alphaM_spliceAI_PSF_501_reg_filter_noWL_genomiser\"], \"type\": \"nominal\"}, \"tooltip\": [{\"field\": \"Rank\", \"type\": \"quantitative\"}, {\"field\": \"Percent_Variants\", \"type\": \"quantitative\"}, {\"field\": \"Run_Type\", \"type\": \"nominal\"}], \"x\": {\"field\": \"Rank\", \"title\": \"Exomiser Rank of Causal Variant\", \"type\": \"quantitative\"}, \"y\": {\"field\": \"Percent_Variants\", \"scale\": {\"domain\": [0, 100]}, \"title\": \"Percent of Causal Variants within Exomiser Rank\", \"type\": \"quantitative\"}}, \"title\": \"42Diagnostic Variants (Variant Level - no MOI requirement)\"}], \"height\": 300, \"width\": 350, \"$schema\": \"https://vega.github.io/schema/vega-lite/v5.17.0.json\", \"datasets\": {\"data-b791939be2708f3e70949b608fe23951\": [{\"Rank\": 1, \"NumPatients\": 7, \"Percent_Variants\": 11.666666666666666, \"Run_Type\": \"All\"}, {\"Rank\": 2, \"NumPatients\": 12, \"Percent_Variants\": 20.0, \"Run_Type\": \"All\"}, {\"Rank\": 3, \"NumPatients\": 12, \"Percent_Variants\": 20.0, \"Run_Type\": \"All\"}, {\"Rank\": 4, \"NumPatients\": 15, \"Percent_Variants\": 25.0, \"Run_Type\": \"All\"}, {\"Rank\": 5, \"NumPatients\": 16, \"Percent_Variants\": 26.666666666666668, \"Run_Type\": \"All\"}, {\"Rank\": 6, \"NumPatients\": 16, \"Percent_Variants\": 26.666666666666668, \"Run_Type\": \"All\"}, {\"Rank\": 7, \"NumPatients\": 18, \"Percent_Variants\": 30.0, \"Run_Type\": \"All\"}, {\"Rank\": 8, \"NumPatients\": 22, \"Percent_Variants\": 36.666666666666664, \"Run_Type\": \"All\"}, {\"Rank\": 9, \"NumPatients\": 22, \"Percent_Variants\": 36.666666666666664, \"Run_Type\": \"All\"}, {\"Rank\": 10, \"NumPatients\": 24, \"Percent_Variants\": 40.0, \"Run_Type\": \"All\"}, {\"Rank\": 11, \"NumPatients\": 24, \"Percent_Variants\": 40.0, \"Run_Type\": \"All\"}, {\"Rank\": 12, \"NumPatients\": 24, \"Percent_Variants\": 40.0, \"Run_Type\": \"All\"}, {\"Rank\": 13, \"NumPatients\": 25, \"Percent_Variants\": 41.66666666666667, \"Run_Type\": \"All\"}, {\"Rank\": 14, \"NumPatients\": 27, \"Percent_Variants\": 45.0, \"Run_Type\": \"All\"}, {\"Rank\": 15, \"NumPatients\": 27, \"Percent_Variants\": 45.0, \"Run_Type\": \"All\"}, {\"Rank\": 16, \"NumPatients\": 27, \"Percent_Variants\": 45.0, \"Run_Type\": \"All\"}, {\"Rank\": 17, \"NumPatients\": 27, \"Percent_Variants\": 45.0, \"Run_Type\": \"All\"}, {\"Rank\": 18, \"NumPatients\": 28, \"Percent_Variants\": 46.666666666666664, \"Run_Type\": \"All\"}, {\"Rank\": 19, \"NumPatients\": 28, \"Percent_Variants\": 46.666666666666664, \"Run_Type\": \"All\"}, {\"Rank\": 20, \"NumPatients\": 28, \"Percent_Variants\": 46.666666666666664, \"Run_Type\": \"All\"}, {\"Rank\": 21, \"NumPatients\": 29, \"Percent_Variants\": 48.333333333333336, \"Run_Type\": \"All\"}, {\"Rank\": 22, \"NumPatients\": 29, \"Percent_Variants\": 48.333333333333336, \"Run_Type\": \"All\"}, {\"Rank\": 23, \"NumPatients\": 29, \"Percent_Variants\": 48.333333333333336, \"Run_Type\": \"All\"}, {\"Rank\": 24, \"NumPatients\": 29, \"Percent_Variants\": 48.333333333333336, \"Run_Type\": \"All\"}, {\"Rank\": 25, \"NumPatients\": 29, \"Percent_Variants\": 48.333333333333336, \"Run_Type\": \"All\"}, {\"Rank\": 26, \"NumPatients\": 29, \"Percent_Variants\": 48.333333333333336, \"Run_Type\": \"All\"}, {\"Rank\": 27, \"NumPatients\": 29, \"Percent_Variants\": 48.333333333333336, \"Run_Type\": \"All\"}, {\"Rank\": 28, \"NumPatients\": 29, \"Percent_Variants\": 48.333333333333336, \"Run_Type\": \"All\"}, {\"Rank\": 29, \"NumPatients\": 29, \"Percent_Variants\": 48.333333333333336, \"Run_Type\": \"All\"}, {\"Rank\": 30, \"NumPatients\": 29, \"Percent_Variants\": 48.333333333333336, \"Run_Type\": \"All\"}], \"data-796d5d3bc2f052f6f505097a4a5baef1\": [{\"Rank\": 1, \"NumPatients\": 4, \"Percent_Variants\": 44.44444444444444, \"Run_Type\": \"AD\"}, {\"Rank\": 2, \"NumPatients\": 5, \"Percent_Variants\": 55.55555555555556, \"Run_Type\": \"AD\"}, {\"Rank\": 3, \"NumPatients\": 5, \"Percent_Variants\": 55.55555555555556, \"Run_Type\": \"AD\"}, {\"Rank\": 4, \"NumPatients\": 6, \"Percent_Variants\": 66.66666666666666, \"Run_Type\": \"AD\"}, {\"Rank\": 5, \"NumPatients\": 7, \"Percent_Variants\": 77.77777777777779, \"Run_Type\": \"AD\"}, {\"Rank\": 6, \"NumPatients\": 7, \"Percent_Variants\": 77.77777777777779, \"Run_Type\": \"AD\"}, {\"Rank\": 7, \"NumPatients\": 7, \"Percent_Variants\": 77.77777777777779, \"Run_Type\": \"AD\"}, {\"Rank\": 8, \"NumPatients\": 7, \"Percent_Variants\": 77.77777777777779, \"Run_Type\": \"AD\"}, {\"Rank\": 9, \"NumPatients\": 7, \"Percent_Variants\": 77.77777777777779, \"Run_Type\": \"AD\"}, {\"Rank\": 10, \"NumPatients\": 7, \"Percent_Variants\": 77.77777777777779, \"Run_Type\": \"AD\"}, {\"Rank\": 11, \"NumPatients\": 7, \"Percent_Variants\": 77.77777777777779, \"Run_Type\": \"AD\"}, {\"Rank\": 12, \"NumPatients\": 7, \"Percent_Variants\": 77.77777777777779, \"Run_Type\": \"AD\"}, {\"Rank\": 13, \"NumPatients\": 7, \"Percent_Variants\": 77.77777777777779, \"Run_Type\": \"AD\"}, {\"Rank\": 14, \"NumPatients\": 7, \"Percent_Variants\": 77.77777777777779, \"Run_Type\": \"AD\"}, {\"Rank\": 15, \"NumPatients\": 7, \"Percent_Variants\": 77.77777777777779, \"Run_Type\": \"AD\"}, {\"Rank\": 16, \"NumPatients\": 7, \"Percent_Variants\": 77.77777777777779, \"Run_Type\": \"AD\"}, {\"Rank\": 17, \"NumPatients\": 7, \"Percent_Variants\": 77.77777777777779, \"Run_Type\": \"AD\"}, {\"Rank\": 18, \"NumPatients\": 7, \"Percent_Variants\": 77.77777777777779, \"Run_Type\": \"AD\"}, {\"Rank\": 19, \"NumPatients\": 7, \"Percent_Variants\": 77.77777777777779, \"Run_Type\": \"AD\"}, {\"Rank\": 20, \"NumPatients\": 7, \"Percent_Variants\": 77.77777777777779, \"Run_Type\": \"AD\"}, {\"Rank\": 21, \"NumPatients\": 7, \"Percent_Variants\": 77.77777777777779, \"Run_Type\": \"AD\"}, {\"Rank\": 22, \"NumPatients\": 7, \"Percent_Variants\": 77.77777777777779, \"Run_Type\": \"AD\"}, {\"Rank\": 23, \"NumPatients\": 7, \"Percent_Variants\": 77.77777777777779, \"Run_Type\": \"AD\"}, {\"Rank\": 24, \"NumPatients\": 7, \"Percent_Variants\": 77.77777777777779, \"Run_Type\": \"AD\"}, {\"Rank\": 25, \"NumPatients\": 7, \"Percent_Variants\": 77.77777777777779, \"Run_Type\": \"AD\"}, {\"Rank\": 26, \"NumPatients\": 7, \"Percent_Variants\": 77.77777777777779, \"Run_Type\": \"AD\"}, {\"Rank\": 27, \"NumPatients\": 7, \"Percent_Variants\": 77.77777777777779, \"Run_Type\": \"AD\"}, {\"Rank\": 28, \"NumPatients\": 7, \"Percent_Variants\": 77.77777777777779, \"Run_Type\": \"AD\"}, {\"Rank\": 29, \"NumPatients\": 7, \"Percent_Variants\": 77.77777777777779, \"Run_Type\": \"AD\"}, {\"Rank\": 30, \"NumPatients\": 7, \"Percent_Variants\": 77.77777777777779, \"Run_Type\": \"AD\"}], \"data-d23626d549397a90a40cbae128404997\": [{\"Rank\": 1, \"NumPatients\": 0, \"Percent_Variants\": 0.0, \"Run_Type\": \"AR\"}, {\"Rank\": 2, \"NumPatients\": 0, \"Percent_Variants\": 0.0, \"Run_Type\": \"AR\"}, {\"Rank\": 3, \"NumPatients\": 0, \"Percent_Variants\": 0.0, \"Run_Type\": \"AR\"}, {\"Rank\": 4, \"NumPatients\": 0, \"Percent_Variants\": 0.0, \"Run_Type\": \"AR\"}, {\"Rank\": 5, \"NumPatients\": 0, \"Percent_Variants\": 0.0, \"Run_Type\": \"AR\"}, {\"Rank\": 6, \"NumPatients\": 0, \"Percent_Variants\": 0.0, \"Run_Type\": \"AR\"}, {\"Rank\": 7, \"NumPatients\": 0, \"Percent_Variants\": 0.0, \"Run_Type\": \"AR\"}, {\"Rank\": 8, \"NumPatients\": 0, \"Percent_Variants\": 0.0, \"Run_Type\": \"AR\"}, {\"Rank\": 9, \"NumPatients\": 0, \"Percent_Variants\": 0.0, \"Run_Type\": \"AR\"}, {\"Rank\": 10, \"NumPatients\": 0, \"Percent_Variants\": 0.0, \"Run_Type\": \"AR\"}, {\"Rank\": 11, \"NumPatients\": 0, \"Percent_Variants\": 0.0, \"Run_Type\": \"AR\"}, {\"Rank\": 12, \"NumPatients\": 0, \"Percent_Variants\": 0.0, \"Run_Type\": \"AR\"}, {\"Rank\": 13, \"NumPatients\": 1, \"Percent_Variants\": 25.0, \"Run_Type\": \"AR\"}, {\"Rank\": 14, \"NumPatients\": 1, \"Percent_Variants\": 25.0, \"Run_Type\": \"AR\"}, {\"Rank\": 15, \"NumPatients\": 1, \"Percent_Variants\": 25.0, \"Run_Type\": \"AR\"}, {\"Rank\": 16, \"NumPatients\": 1, \"Percent_Variants\": 25.0, \"Run_Type\": \"AR\"}, {\"Rank\": 17, \"NumPatients\": 1, \"Percent_Variants\": 25.0, \"Run_Type\": \"AR\"}, {\"Rank\": 18, \"NumPatients\": 1, \"Percent_Variants\": 25.0, \"Run_Type\": \"AR\"}, {\"Rank\": 19, \"NumPatients\": 1, \"Percent_Variants\": 25.0, \"Run_Type\": \"AR\"}, {\"Rank\": 20, \"NumPatients\": 1, \"Percent_Variants\": 25.0, \"Run_Type\": \"AR\"}, {\"Rank\": 21, \"NumPatients\": 2, \"Percent_Variants\": 50.0, \"Run_Type\": \"AR\"}, {\"Rank\": 22, \"NumPatients\": 2, \"Percent_Variants\": 50.0, \"Run_Type\": \"AR\"}, {\"Rank\": 23, \"NumPatients\": 2, \"Percent_Variants\": 50.0, \"Run_Type\": \"AR\"}, {\"Rank\": 24, \"NumPatients\": 2, \"Percent_Variants\": 50.0, \"Run_Type\": \"AR\"}, {\"Rank\": 25, \"NumPatients\": 2, \"Percent_Variants\": 50.0, \"Run_Type\": \"AR\"}, {\"Rank\": 26, \"NumPatients\": 2, \"Percent_Variants\": 50.0, \"Run_Type\": \"AR\"}, {\"Rank\": 27, \"NumPatients\": 2, \"Percent_Variants\": 50.0, \"Run_Type\": \"AR\"}, {\"Rank\": 28, \"NumPatients\": 2, \"Percent_Variants\": 50.0, \"Run_Type\": \"AR\"}, {\"Rank\": 29, \"NumPatients\": 2, \"Percent_Variants\": 50.0, \"Run_Type\": \"AR\"}, {\"Rank\": 30, \"NumPatients\": 2, \"Percent_Variants\": 50.0, \"Run_Type\": \"AR\"}], \"data-b59ccef57961170cca17d5c0a11d8b2a\": [{\"Rank\": 1, \"NumPatients\": 2, \"Percent_Variants\": 4.761904761904762, \"Run_Type\": \"CH\"}, {\"Rank\": 2, \"NumPatients\": 6, \"Percent_Variants\": 14.285714285714285, \"Run_Type\": \"CH\"}, {\"Rank\": 3, \"NumPatients\": 6, \"Percent_Variants\": 14.285714285714285, \"Run_Type\": \"CH\"}, {\"Rank\": 4, \"NumPatients\": 8, \"Percent_Variants\": 19.047619047619047, \"Run_Type\": \"CH\"}, {\"Rank\": 5, \"NumPatients\": 8, \"Percent_Variants\": 19.047619047619047, \"Run_Type\": \"CH\"}, {\"Rank\": 6, \"NumPatients\": 8, \"Percent_Variants\": 19.047619047619047, \"Run_Type\": \"CH\"}, {\"Rank\": 7, \"NumPatients\": 10, \"Percent_Variants\": 23.809523809523807, \"Run_Type\": \"CH\"}, {\"Rank\": 8, \"NumPatients\": 14, \"Percent_Variants\": 33.33333333333333, \"Run_Type\": \"CH\"}, {\"Rank\": 9, \"NumPatients\": 14, \"Percent_Variants\": 33.33333333333333, \"Run_Type\": \"CH\"}, {\"Rank\": 10, \"NumPatients\": 16, \"Percent_Variants\": 38.095238095238095, \"Run_Type\": \"CH\"}, {\"Rank\": 11, \"NumPatients\": 16, \"Percent_Variants\": 38.095238095238095, \"Run_Type\": \"CH\"}, {\"Rank\": 12, \"NumPatients\": 16, \"Percent_Variants\": 38.095238095238095, \"Run_Type\": \"CH\"}, {\"Rank\": 13, \"NumPatients\": 16, \"Percent_Variants\": 38.095238095238095, \"Run_Type\": \"CH\"}, {\"Rank\": 14, \"NumPatients\": 18, \"Percent_Variants\": 42.857142857142854, \"Run_Type\": \"CH\"}, {\"Rank\": 15, \"NumPatients\": 18, \"Percent_Variants\": 42.857142857142854, \"Run_Type\": \"CH\"}, {\"Rank\": 16, \"NumPatients\": 18, \"Percent_Variants\": 42.857142857142854, \"Run_Type\": \"CH\"}, {\"Rank\": 17, \"NumPatients\": 18, \"Percent_Variants\": 42.857142857142854, \"Run_Type\": \"CH\"}, {\"Rank\": 18, \"NumPatients\": 19, \"Percent_Variants\": 45.23809523809524, \"Run_Type\": \"CH\"}, {\"Rank\": 19, \"NumPatients\": 19, \"Percent_Variants\": 45.23809523809524, \"Run_Type\": \"CH\"}, {\"Rank\": 20, \"NumPatients\": 19, \"Percent_Variants\": 45.23809523809524, \"Run_Type\": \"CH\"}, {\"Rank\": 21, \"NumPatients\": 19, \"Percent_Variants\": 45.23809523809524, \"Run_Type\": \"CH\"}, {\"Rank\": 22, \"NumPatients\": 19, \"Percent_Variants\": 45.23809523809524, \"Run_Type\": \"CH\"}, {\"Rank\": 23, \"NumPatients\": 19, \"Percent_Variants\": 45.23809523809524, \"Run_Type\": \"CH\"}, {\"Rank\": 24, \"NumPatients\": 19, \"Percent_Variants\": 45.23809523809524, \"Run_Type\": \"CH\"}, {\"Rank\": 25, \"NumPatients\": 19, \"Percent_Variants\": 45.23809523809524, \"Run_Type\": \"CH\"}, {\"Rank\": 26, \"NumPatients\": 19, \"Percent_Variants\": 45.23809523809524, \"Run_Type\": \"CH\"}, {\"Rank\": 27, \"NumPatients\": 19, \"Percent_Variants\": 45.23809523809524, \"Run_Type\": \"CH\"}, {\"Rank\": 28, \"NumPatients\": 19, \"Percent_Variants\": 45.23809523809524, \"Run_Type\": \"CH\"}, {\"Rank\": 29, \"NumPatients\": 19, \"Percent_Variants\": 45.23809523809524, \"Run_Type\": \"CH\"}, {\"Rank\": 30, \"NumPatients\": 19, \"Percent_Variants\": 45.23809523809524, \"Run_Type\": \"CH\"}]}}, {\"mode\": \"vega-lite\"});\n",
       "</script>"
      ],
      "text/plain": [
       "alt.LayerChart(...)"
      ]
     },
     "execution_count": 57,
     "metadata": {},
     "output_type": "execute_result"
    }
   ],
   "source": [
    "RUN_TYPES = [ 'noN_filtered_15_18_human_REMM_revel_mvp_alphaM_spliceAI_PSF_501_reg_filter_noWL_genomiser' ]\n",
    "domain = ['All', 'AR', 'AD', 'CH']\n",
    "d_df,denom = ps.create_df(300, RUN_TYPES, gs_genomiser_success_table)\n",
    "d_df['Run_Type'] = ['All'] * len(d_df)\n",
    "\n",
    "gs_genomiser = ps.create_plot(denom, d_df, RUN_TYPES, 'set1', False, domain)\n",
    "gs_genomiser\n",
    "\n",
    "d_df,denom = ps.create_df(300, RUN_TYPES, gs_genomiser_AR)\n",
    "d_df['Run_Type'] = ['AR'] * len(d_df)\n",
    "\n",
    "gs_genomiser_AR_plot = ps.create_plot(denom, d_df, RUN_TYPES, 'set1', False, domain)\n",
    "gs_genomiser_AR_plot\n",
    "\n",
    "d_df,denom = ps.create_df(300, RUN_TYPES, gs_genomiser_AD)\n",
    "d_df['Run_Type'] = ['AD'] * len(d_df)\n",
    "gs_genomiser_AD_plot = ps.create_plot(denom, d_df, RUN_TYPES, 'set1', False, domain)\n",
    "gs_genomiser_AD_plot\n",
    "\n",
    "d_df,denom = ps.create_df(300, RUN_TYPES, gs_genomiser_cmpd_hets)\n",
    "d_df['Run_Type'] = ['CH'] * len(d_df)\n",
    "gs_genomiser_CH_plot = ps.create_plot(denom, d_df, RUN_TYPES, 'set1', False, domain)\n",
    "\n",
    "\n",
    "gs_genomiser_allplots = alt.layer(gs_genomiser, gs_genomiser_AD_plot, gs_genomiser_AR_plot,gs_genomiser_CH_plot).properties(height=300, width=350)\n",
    "gs_genomiser_allplots"
   ]
  },
  {
   "cell_type": "markdown",
   "metadata": {},
   "source": [
    "## ES Exomiser"
   ]
  },
  {
   "cell_type": "code",
   "execution_count": 58,
   "metadata": {},
   "outputs": [],
   "source": [
    "es_exomiser_success_table = pd.read_csv('../../02_exomiser_manuscript/fig_03/ES_genomiser_fig3_input_1.13.25.tsv', sep='\\t')\n",
    "\n",
    "RUN_TYPES = [ 'noN_filtered_15_85_human_revel_mvp_alphaM_spliceAI_noWL',]\n",
    "\n",
    "\n",
    "es_exomiser_AR = es_exomiser_success_table[(es_exomiser_success_table['MOI']=='AR') & (~es_exomiser_success_table['narrative'].str.contains('compound'))]\n",
    "\n",
    "es_exomiser_AD = es_exomiser_success_table[es_exomiser_success_table['MOI']=='AD']\n",
    "\n",
    "es_exomiser_cmpd_hets = es_exomiser_success_table[es_exomiser_success_table['narrative'].str.contains('compound')]\n",
    "\n",
    "es_exomiser_all = pd.concat([es_exomiser_AR,es_exomiser_AD, es_exomiser_cmpd_hets])\n",
    "\n",
    "\n"
   ]
  },
  {
   "cell_type": "code",
   "execution_count": 59,
   "metadata": {},
   "outputs": [
    {
     "name": "stdout",
     "output_type": "stream",
     "text": [
      "9 AR\n",
      "90 AD\n",
      "45 CH\n",
      "144 All\n"
     ]
    }
   ],
   "source": [
    "print(len(es_exomiser_AR), 'AR')\n",
    "print(len(es_exomiser_AD), 'AD')\n",
    "print(len(es_exomiser_cmpd_hets), 'CH')\n",
    "print(len(es_exomiser_all), 'All')\n"
   ]
  },
  {
   "cell_type": "code",
   "execution_count": 60,
   "metadata": {},
   "outputs": [
    {
     "name": "stdout",
     "output_type": "stream",
     "text": [
      "noN_filtered_15_85_human_revel_mvp_alphaM_spliceAI_noWL highest rank: 83.0 max%: 96.73202614379085 148\n",
      "noN_filtered_15_85_human_revel_mvp_alphaM_spliceAI_noWL highest rank: 9.0 max%: 100.0 9\n",
      "noN_filtered_15_85_human_revel_mvp_alphaM_spliceAI_noWL highest rank: 83.0 max%: 100.0 90\n",
      "noN_filtered_15_85_human_revel_mvp_alphaM_spliceAI_noWL highest rank: 25.0 max%: 88.88888888888889 40\n"
     ]
    },
    {
     "data": {
      "text/html": [
       "\n",
       "<style>\n",
       "  #altair-viz-3ccfa55960ae4e2aa889706645346c58.vega-embed {\n",
       "    width: 100%;\n",
       "    display: flex;\n",
       "  }\n",
       "\n",
       "  #altair-viz-3ccfa55960ae4e2aa889706645346c58.vega-embed details,\n",
       "  #altair-viz-3ccfa55960ae4e2aa889706645346c58.vega-embed details summary {\n",
       "    position: relative;\n",
       "  }\n",
       "</style>\n",
       "<div id=\"altair-viz-3ccfa55960ae4e2aa889706645346c58\"></div>\n",
       "<script type=\"text/javascript\">\n",
       "  var VEGA_DEBUG = (typeof VEGA_DEBUG == \"undefined\") ? {} : VEGA_DEBUG;\n",
       "  (function(spec, embedOpt){\n",
       "    let outputDiv = document.currentScript.previousElementSibling;\n",
       "    if (outputDiv.id !== \"altair-viz-3ccfa55960ae4e2aa889706645346c58\") {\n",
       "      outputDiv = document.getElementById(\"altair-viz-3ccfa55960ae4e2aa889706645346c58\");\n",
       "    }\n",
       "    const paths = {\n",
       "      \"vega\": \"https://cdn.jsdelivr.net/npm/vega@5?noext\",\n",
       "      \"vega-lib\": \"https://cdn.jsdelivr.net/npm/vega-lib?noext\",\n",
       "      \"vega-lite\": \"https://cdn.jsdelivr.net/npm/vega-lite@5.17.0?noext\",\n",
       "      \"vega-embed\": \"https://cdn.jsdelivr.net/npm/vega-embed@6?noext\",\n",
       "    };\n",
       "\n",
       "    function maybeLoadScript(lib, version) {\n",
       "      var key = `${lib.replace(\"-\", \"\")}_version`;\n",
       "      return (VEGA_DEBUG[key] == version) ?\n",
       "        Promise.resolve(paths[lib]) :\n",
       "        new Promise(function(resolve, reject) {\n",
       "          var s = document.createElement('script');\n",
       "          document.getElementsByTagName(\"head\")[0].appendChild(s);\n",
       "          s.async = true;\n",
       "          s.onload = () => {\n",
       "            VEGA_DEBUG[key] = version;\n",
       "            return resolve(paths[lib]);\n",
       "          };\n",
       "          s.onerror = () => reject(`Error loading script: ${paths[lib]}`);\n",
       "          s.src = paths[lib];\n",
       "        });\n",
       "    }\n",
       "\n",
       "    function showError(err) {\n",
       "      outputDiv.innerHTML = `<div class=\"error\" style=\"color:red;\">${err}</div>`;\n",
       "      throw err;\n",
       "    }\n",
       "\n",
       "    function displayChart(vegaEmbed) {\n",
       "      vegaEmbed(outputDiv, spec, embedOpt)\n",
       "        .catch(err => showError(`Javascript Error: ${err.message}<br>This usually means there's a typo in your chart specification. See the javascript console for the full traceback.`));\n",
       "    }\n",
       "\n",
       "    if(typeof define === \"function\" && define.amd) {\n",
       "      requirejs.config({paths});\n",
       "      require([\"vega-embed\"], displayChart, err => showError(`Error loading script: ${err.message}`));\n",
       "    } else {\n",
       "      maybeLoadScript(\"vega\", \"5\")\n",
       "        .then(() => maybeLoadScript(\"vega-lite\", \"5.17.0\"))\n",
       "        .then(() => maybeLoadScript(\"vega-embed\", \"6\"))\n",
       "        .catch(showError)\n",
       "        .then(() => displayChart(vegaEmbed));\n",
       "    }\n",
       "  })({\"config\": {\"view\": {\"continuousWidth\": 300, \"continuousHeight\": 300}}, \"layer\": [{\"data\": {\"name\": \"data-193104f5bd93d697b22bf2a5f65853fa\"}, \"mark\": {\"type\": \"line\", \"point\": {\"size\": 50}}, \"encoding\": {\"color\": {\"field\": \"Run_Type\", \"scale\": {\"domain\": [\"All\", \"AR\", \"AD\", \"CH\"], \"scheme\": \"set1\"}, \"sort\": [\"noN_filtered_15_85_human_revel_mvp_alphaM_spliceAI_noWL\"], \"type\": \"nominal\"}, \"tooltip\": [{\"field\": \"Rank\", \"type\": \"quantitative\"}, {\"field\": \"Percent_Variants\", \"type\": \"quantitative\"}, {\"field\": \"Run_Type\", \"type\": \"nominal\"}], \"x\": {\"field\": \"Rank\", \"title\": \"Exomiser Rank of Causal Variant\", \"type\": \"quantitative\"}, \"y\": {\"field\": \"Percent_Variants\", \"scale\": {\"domain\": [0, 100]}, \"title\": \"Percent of Causal Variants within Exomiser Rank\", \"type\": \"quantitative\"}}, \"title\": \"153Diagnostic Variants (Variant Level - no MOI requirement)\"}, {\"data\": {\"name\": \"data-cbc0b2d6e3b85af87891510c3bf750a7\"}, \"mark\": {\"type\": \"line\", \"point\": {\"size\": 50}}, \"encoding\": {\"color\": {\"field\": \"Run_Type\", \"scale\": {\"domain\": [\"All\", \"AR\", \"AD\", \"CH\"], \"scheme\": \"set1\"}, \"sort\": [\"noN_filtered_15_85_human_revel_mvp_alphaM_spliceAI_noWL\"], \"type\": \"nominal\"}, \"tooltip\": [{\"field\": \"Rank\", \"type\": \"quantitative\"}, {\"field\": \"Percent_Variants\", \"type\": \"quantitative\"}, {\"field\": \"Run_Type\", \"type\": \"nominal\"}], \"x\": {\"field\": \"Rank\", \"title\": \"Exomiser Rank of Causal Variant\", \"type\": \"quantitative\"}, \"y\": {\"field\": \"Percent_Variants\", \"scale\": {\"domain\": [0, 100]}, \"title\": \"Percent of Causal Variants within Exomiser Rank\", \"type\": \"quantitative\"}}, \"title\": \"90Diagnostic Variants (Variant Level - no MOI requirement)\"}, {\"data\": {\"name\": \"data-6a09b213e454e8d544a4846281811b8f\"}, \"mark\": {\"type\": \"line\", \"point\": {\"size\": 50}}, \"encoding\": {\"color\": {\"field\": \"Run_Type\", \"scale\": {\"domain\": [\"All\", \"AR\", \"AD\", \"CH\"], \"scheme\": \"set1\"}, \"sort\": [\"noN_filtered_15_85_human_revel_mvp_alphaM_spliceAI_noWL\"], \"type\": \"nominal\"}, \"tooltip\": [{\"field\": \"Rank\", \"type\": \"quantitative\"}, {\"field\": \"Percent_Variants\", \"type\": \"quantitative\"}, {\"field\": \"Run_Type\", \"type\": \"nominal\"}], \"x\": {\"field\": \"Rank\", \"title\": \"Exomiser Rank of Causal Variant\", \"type\": \"quantitative\"}, \"y\": {\"field\": \"Percent_Variants\", \"scale\": {\"domain\": [0, 100]}, \"title\": \"Percent of Causal Variants within Exomiser Rank\", \"type\": \"quantitative\"}}, \"title\": \"9Diagnostic Variants (Variant Level - no MOI requirement)\"}, {\"data\": {\"name\": \"data-86bcca13e2cf2e633350cd2490b0ba31\"}, \"mark\": {\"type\": \"line\", \"point\": {\"size\": 50}}, \"encoding\": {\"color\": {\"field\": \"Run_Type\", \"scale\": {\"domain\": [\"All\", \"AR\", \"AD\", \"CH\"], \"scheme\": \"set1\"}, \"sort\": [\"noN_filtered_15_85_human_revel_mvp_alphaM_spliceAI_noWL\"], \"type\": \"nominal\"}, \"tooltip\": [{\"field\": \"Rank\", \"type\": \"quantitative\"}, {\"field\": \"Percent_Variants\", \"type\": \"quantitative\"}, {\"field\": \"Run_Type\", \"type\": \"nominal\"}], \"x\": {\"field\": \"Rank\", \"title\": \"Exomiser Rank of Causal Variant\", \"type\": \"quantitative\"}, \"y\": {\"field\": \"Percent_Variants\", \"scale\": {\"domain\": [0, 100]}, \"title\": \"Percent of Causal Variants within Exomiser Rank\", \"type\": \"quantitative\"}}, \"title\": \"45Diagnostic Variants (Variant Level - no MOI requirement)\"}], \"height\": 300, \"width\": 350, \"$schema\": \"https://vega.github.io/schema/vega-lite/v5.17.0.json\", \"datasets\": {\"data-193104f5bd93d697b22bf2a5f65853fa\": [{\"Rank\": 1, \"NumPatients\": 92, \"Percent_Variants\": 60.130718954248366, \"Run_Type\": \"All\"}, {\"Rank\": 2, \"NumPatients\": 113, \"Percent_Variants\": 73.8562091503268, \"Run_Type\": \"All\"}, {\"Rank\": 3, \"NumPatients\": 124, \"Percent_Variants\": 81.04575163398692, \"Run_Type\": \"All\"}, {\"Rank\": 4, \"NumPatients\": 127, \"Percent_Variants\": 83.00653594771242, \"Run_Type\": \"All\"}, {\"Rank\": 5, \"NumPatients\": 130, \"Percent_Variants\": 84.9673202614379, \"Run_Type\": \"All\"}, {\"Rank\": 6, \"NumPatients\": 132, \"Percent_Variants\": 86.27450980392157, \"Run_Type\": \"All\"}, {\"Rank\": 7, \"NumPatients\": 134, \"Percent_Variants\": 87.58169934640523, \"Run_Type\": \"All\"}, {\"Rank\": 8, \"NumPatients\": 134, \"Percent_Variants\": 87.58169934640523, \"Run_Type\": \"All\"}, {\"Rank\": 9, \"NumPatients\": 135, \"Percent_Variants\": 88.23529411764706, \"Run_Type\": \"All\"}, {\"Rank\": 10, \"NumPatients\": 135, \"Percent_Variants\": 88.23529411764706, \"Run_Type\": \"All\"}, {\"Rank\": 11, \"NumPatients\": 135, \"Percent_Variants\": 88.23529411764706, \"Run_Type\": \"All\"}, {\"Rank\": 12, \"NumPatients\": 135, \"Percent_Variants\": 88.23529411764706, \"Run_Type\": \"All\"}, {\"Rank\": 13, \"NumPatients\": 135, \"Percent_Variants\": 88.23529411764706, \"Run_Type\": \"All\"}, {\"Rank\": 14, \"NumPatients\": 137, \"Percent_Variants\": 89.54248366013073, \"Run_Type\": \"All\"}, {\"Rank\": 15, \"NumPatients\": 137, \"Percent_Variants\": 89.54248366013073, \"Run_Type\": \"All\"}, {\"Rank\": 16, \"NumPatients\": 138, \"Percent_Variants\": 90.19607843137256, \"Run_Type\": \"All\"}, {\"Rank\": 17, \"NumPatients\": 138, \"Percent_Variants\": 90.19607843137256, \"Run_Type\": \"All\"}, {\"Rank\": 18, \"NumPatients\": 139, \"Percent_Variants\": 90.84967320261438, \"Run_Type\": \"All\"}, {\"Rank\": 19, \"NumPatients\": 139, \"Percent_Variants\": 90.84967320261438, \"Run_Type\": \"All\"}, {\"Rank\": 20, \"NumPatients\": 140, \"Percent_Variants\": 91.50326797385621, \"Run_Type\": \"All\"}, {\"Rank\": 21, \"NumPatients\": 141, \"Percent_Variants\": 92.15686274509804, \"Run_Type\": \"All\"}, {\"Rank\": 22, \"NumPatients\": 141, \"Percent_Variants\": 92.15686274509804, \"Run_Type\": \"All\"}, {\"Rank\": 23, \"NumPatients\": 141, \"Percent_Variants\": 92.15686274509804, \"Run_Type\": \"All\"}, {\"Rank\": 24, \"NumPatients\": 141, \"Percent_Variants\": 92.15686274509804, \"Run_Type\": \"All\"}, {\"Rank\": 25, \"NumPatients\": 143, \"Percent_Variants\": 93.4640522875817, \"Run_Type\": \"All\"}, {\"Rank\": 26, \"NumPatients\": 143, \"Percent_Variants\": 93.4640522875817, \"Run_Type\": \"All\"}, {\"Rank\": 27, \"NumPatients\": 143, \"Percent_Variants\": 93.4640522875817, \"Run_Type\": \"All\"}, {\"Rank\": 28, \"NumPatients\": 143, \"Percent_Variants\": 93.4640522875817, \"Run_Type\": \"All\"}, {\"Rank\": 29, \"NumPatients\": 143, \"Percent_Variants\": 93.4640522875817, \"Run_Type\": \"All\"}, {\"Rank\": 30, \"NumPatients\": 143, \"Percent_Variants\": 93.4640522875817, \"Run_Type\": \"All\"}], \"data-cbc0b2d6e3b85af87891510c3bf750a7\": [{\"Rank\": 1, \"NumPatients\": 57, \"Percent_Variants\": 63.33333333333333, \"Run_Type\": \"AD\"}, {\"Rank\": 2, \"NumPatients\": 72, \"Percent_Variants\": 80.0, \"Run_Type\": \"AD\"}, {\"Rank\": 3, \"NumPatients\": 75, \"Percent_Variants\": 83.33333333333334, \"Run_Type\": \"AD\"}, {\"Rank\": 4, \"NumPatients\": 77, \"Percent_Variants\": 85.55555555555556, \"Run_Type\": \"AD\"}, {\"Rank\": 5, \"NumPatients\": 78, \"Percent_Variants\": 86.66666666666667, \"Run_Type\": \"AD\"}, {\"Rank\": 6, \"NumPatients\": 80, \"Percent_Variants\": 88.88888888888889, \"Run_Type\": \"AD\"}, {\"Rank\": 7, \"NumPatients\": 81, \"Percent_Variants\": 90.0, \"Run_Type\": \"AD\"}, {\"Rank\": 8, \"NumPatients\": 81, \"Percent_Variants\": 90.0, \"Run_Type\": \"AD\"}, {\"Rank\": 9, \"NumPatients\": 81, \"Percent_Variants\": 90.0, \"Run_Type\": \"AD\"}, {\"Rank\": 10, \"NumPatients\": 81, \"Percent_Variants\": 90.0, \"Run_Type\": \"AD\"}, {\"Rank\": 11, \"NumPatients\": 81, \"Percent_Variants\": 90.0, \"Run_Type\": \"AD\"}, {\"Rank\": 12, \"NumPatients\": 81, \"Percent_Variants\": 90.0, \"Run_Type\": \"AD\"}, {\"Rank\": 13, \"NumPatients\": 81, \"Percent_Variants\": 90.0, \"Run_Type\": \"AD\"}, {\"Rank\": 14, \"NumPatients\": 83, \"Percent_Variants\": 92.22222222222223, \"Run_Type\": \"AD\"}, {\"Rank\": 15, \"NumPatients\": 83, \"Percent_Variants\": 92.22222222222223, \"Run_Type\": \"AD\"}, {\"Rank\": 16, \"NumPatients\": 84, \"Percent_Variants\": 93.33333333333333, \"Run_Type\": \"AD\"}, {\"Rank\": 17, \"NumPatients\": 84, \"Percent_Variants\": 93.33333333333333, \"Run_Type\": \"AD\"}, {\"Rank\": 18, \"NumPatients\": 84, \"Percent_Variants\": 93.33333333333333, \"Run_Type\": \"AD\"}, {\"Rank\": 19, \"NumPatients\": 84, \"Percent_Variants\": 93.33333333333333, \"Run_Type\": \"AD\"}, {\"Rank\": 20, \"NumPatients\": 84, \"Percent_Variants\": 93.33333333333333, \"Run_Type\": \"AD\"}, {\"Rank\": 21, \"NumPatients\": 85, \"Percent_Variants\": 94.44444444444444, \"Run_Type\": \"AD\"}, {\"Rank\": 22, \"NumPatients\": 85, \"Percent_Variants\": 94.44444444444444, \"Run_Type\": \"AD\"}, {\"Rank\": 23, \"NumPatients\": 85, \"Percent_Variants\": 94.44444444444444, \"Run_Type\": \"AD\"}, {\"Rank\": 24, \"NumPatients\": 85, \"Percent_Variants\": 94.44444444444444, \"Run_Type\": \"AD\"}, {\"Rank\": 25, \"NumPatients\": 85, \"Percent_Variants\": 94.44444444444444, \"Run_Type\": \"AD\"}, {\"Rank\": 26, \"NumPatients\": 85, \"Percent_Variants\": 94.44444444444444, \"Run_Type\": \"AD\"}, {\"Rank\": 27, \"NumPatients\": 85, \"Percent_Variants\": 94.44444444444444, \"Run_Type\": \"AD\"}, {\"Rank\": 28, \"NumPatients\": 85, \"Percent_Variants\": 94.44444444444444, \"Run_Type\": \"AD\"}, {\"Rank\": 29, \"NumPatients\": 85, \"Percent_Variants\": 94.44444444444444, \"Run_Type\": \"AD\"}, {\"Rank\": 30, \"NumPatients\": 85, \"Percent_Variants\": 94.44444444444444, \"Run_Type\": \"AD\"}], \"data-6a09b213e454e8d544a4846281811b8f\": [{\"Rank\": 1, \"NumPatients\": 7, \"Percent_Variants\": 77.77777777777779, \"Run_Type\": \"AR\"}, {\"Rank\": 2, \"NumPatients\": 7, \"Percent_Variants\": 77.77777777777779, \"Run_Type\": \"AR\"}, {\"Rank\": 3, \"NumPatients\": 7, \"Percent_Variants\": 77.77777777777779, \"Run_Type\": \"AR\"}, {\"Rank\": 4, \"NumPatients\": 7, \"Percent_Variants\": 77.77777777777779, \"Run_Type\": \"AR\"}, {\"Rank\": 5, \"NumPatients\": 7, \"Percent_Variants\": 77.77777777777779, \"Run_Type\": \"AR\"}, {\"Rank\": 6, \"NumPatients\": 7, \"Percent_Variants\": 77.77777777777779, \"Run_Type\": \"AR\"}, {\"Rank\": 7, \"NumPatients\": 8, \"Percent_Variants\": 88.88888888888889, \"Run_Type\": \"AR\"}, {\"Rank\": 8, \"NumPatients\": 8, \"Percent_Variants\": 88.88888888888889, \"Run_Type\": \"AR\"}, {\"Rank\": 9, \"NumPatients\": 9, \"Percent_Variants\": 100.0, \"Run_Type\": \"AR\"}, {\"Rank\": 10, \"NumPatients\": 9, \"Percent_Variants\": 100.0, \"Run_Type\": \"AR\"}, {\"Rank\": 11, \"NumPatients\": 9, \"Percent_Variants\": 100.0, \"Run_Type\": \"AR\"}, {\"Rank\": 12, \"NumPatients\": 9, \"Percent_Variants\": 100.0, \"Run_Type\": \"AR\"}, {\"Rank\": 13, \"NumPatients\": 9, \"Percent_Variants\": 100.0, \"Run_Type\": \"AR\"}, {\"Rank\": 14, \"NumPatients\": 9, \"Percent_Variants\": 100.0, \"Run_Type\": \"AR\"}, {\"Rank\": 15, \"NumPatients\": 9, \"Percent_Variants\": 100.0, \"Run_Type\": \"AR\"}, {\"Rank\": 16, \"NumPatients\": 9, \"Percent_Variants\": 100.0, \"Run_Type\": \"AR\"}, {\"Rank\": 17, \"NumPatients\": 9, \"Percent_Variants\": 100.0, \"Run_Type\": \"AR\"}, {\"Rank\": 18, \"NumPatients\": 9, \"Percent_Variants\": 100.0, \"Run_Type\": \"AR\"}, {\"Rank\": 19, \"NumPatients\": 9, \"Percent_Variants\": 100.0, \"Run_Type\": \"AR\"}, {\"Rank\": 20, \"NumPatients\": 9, \"Percent_Variants\": 100.0, \"Run_Type\": \"AR\"}, {\"Rank\": 21, \"NumPatients\": 9, \"Percent_Variants\": 100.0, \"Run_Type\": \"AR\"}, {\"Rank\": 22, \"NumPatients\": 9, \"Percent_Variants\": 100.0, \"Run_Type\": \"AR\"}, {\"Rank\": 23, \"NumPatients\": 9, \"Percent_Variants\": 100.0, \"Run_Type\": \"AR\"}, {\"Rank\": 24, \"NumPatients\": 9, \"Percent_Variants\": 100.0, \"Run_Type\": \"AR\"}, {\"Rank\": 25, \"NumPatients\": 9, \"Percent_Variants\": 100.0, \"Run_Type\": \"AR\"}, {\"Rank\": 26, \"NumPatients\": 9, \"Percent_Variants\": 100.0, \"Run_Type\": \"AR\"}, {\"Rank\": 27, \"NumPatients\": 9, \"Percent_Variants\": 100.0, \"Run_Type\": \"AR\"}, {\"Rank\": 28, \"NumPatients\": 9, \"Percent_Variants\": 100.0, \"Run_Type\": \"AR\"}, {\"Rank\": 29, \"NumPatients\": 9, \"Percent_Variants\": 100.0, \"Run_Type\": \"AR\"}, {\"Rank\": 30, \"NumPatients\": 9, \"Percent_Variants\": 100.0, \"Run_Type\": \"AR\"}], \"data-86bcca13e2cf2e633350cd2490b0ba31\": [{\"Rank\": 1, \"NumPatients\": 23, \"Percent_Variants\": 51.11111111111111, \"Run_Type\": \"CH\"}, {\"Rank\": 2, \"NumPatients\": 27, \"Percent_Variants\": 60.0, \"Run_Type\": \"CH\"}, {\"Rank\": 3, \"NumPatients\": 35, \"Percent_Variants\": 77.77777777777779, \"Run_Type\": \"CH\"}, {\"Rank\": 4, \"NumPatients\": 35, \"Percent_Variants\": 77.77777777777779, \"Run_Type\": \"CH\"}, {\"Rank\": 5, \"NumPatients\": 37, \"Percent_Variants\": 82.22222222222221, \"Run_Type\": \"CH\"}, {\"Rank\": 6, \"NumPatients\": 37, \"Percent_Variants\": 82.22222222222221, \"Run_Type\": \"CH\"}, {\"Rank\": 7, \"NumPatients\": 37, \"Percent_Variants\": 82.22222222222221, \"Run_Type\": \"CH\"}, {\"Rank\": 8, \"NumPatients\": 37, \"Percent_Variants\": 82.22222222222221, \"Run_Type\": \"CH\"}, {\"Rank\": 9, \"NumPatients\": 37, \"Percent_Variants\": 82.22222222222221, \"Run_Type\": \"CH\"}, {\"Rank\": 10, \"NumPatients\": 37, \"Percent_Variants\": 82.22222222222221, \"Run_Type\": \"CH\"}, {\"Rank\": 11, \"NumPatients\": 37, \"Percent_Variants\": 82.22222222222221, \"Run_Type\": \"CH\"}, {\"Rank\": 12, \"NumPatients\": 37, \"Percent_Variants\": 82.22222222222221, \"Run_Type\": \"CH\"}, {\"Rank\": 13, \"NumPatients\": 37, \"Percent_Variants\": 82.22222222222221, \"Run_Type\": \"CH\"}, {\"Rank\": 14, \"NumPatients\": 37, \"Percent_Variants\": 82.22222222222221, \"Run_Type\": \"CH\"}, {\"Rank\": 15, \"NumPatients\": 37, \"Percent_Variants\": 82.22222222222221, \"Run_Type\": \"CH\"}, {\"Rank\": 16, \"NumPatients\": 37, \"Percent_Variants\": 82.22222222222221, \"Run_Type\": \"CH\"}, {\"Rank\": 17, \"NumPatients\": 37, \"Percent_Variants\": 82.22222222222221, \"Run_Type\": \"CH\"}, {\"Rank\": 18, \"NumPatients\": 38, \"Percent_Variants\": 84.44444444444444, \"Run_Type\": \"CH\"}, {\"Rank\": 19, \"NumPatients\": 38, \"Percent_Variants\": 84.44444444444444, \"Run_Type\": \"CH\"}, {\"Rank\": 20, \"NumPatients\": 38, \"Percent_Variants\": 84.44444444444444, \"Run_Type\": \"CH\"}, {\"Rank\": 21, \"NumPatients\": 38, \"Percent_Variants\": 84.44444444444444, \"Run_Type\": \"CH\"}, {\"Rank\": 22, \"NumPatients\": 38, \"Percent_Variants\": 84.44444444444444, \"Run_Type\": \"CH\"}, {\"Rank\": 23, \"NumPatients\": 38, \"Percent_Variants\": 84.44444444444444, \"Run_Type\": \"CH\"}, {\"Rank\": 24, \"NumPatients\": 38, \"Percent_Variants\": 84.44444444444444, \"Run_Type\": \"CH\"}, {\"Rank\": 25, \"NumPatients\": 40, \"Percent_Variants\": 88.88888888888889, \"Run_Type\": \"CH\"}, {\"Rank\": 26, \"NumPatients\": 40, \"Percent_Variants\": 88.88888888888889, \"Run_Type\": \"CH\"}, {\"Rank\": 27, \"NumPatients\": 40, \"Percent_Variants\": 88.88888888888889, \"Run_Type\": \"CH\"}, {\"Rank\": 28, \"NumPatients\": 40, \"Percent_Variants\": 88.88888888888889, \"Run_Type\": \"CH\"}, {\"Rank\": 29, \"NumPatients\": 40, \"Percent_Variants\": 88.88888888888889, \"Run_Type\": \"CH\"}, {\"Rank\": 30, \"NumPatients\": 40, \"Percent_Variants\": 88.88888888888889, \"Run_Type\": \"CH\"}]}}, {\"mode\": \"vega-lite\"});\n",
       "</script>"
      ],
      "text/plain": [
       "alt.LayerChart(...)"
      ]
     },
     "execution_count": 60,
     "metadata": {},
     "output_type": "execute_result"
    }
   ],
   "source": [
    "domain = ['All', 'AR', 'AD', 'CH']\n",
    "d_df,denom = ps.create_df(300, RUN_TYPES, es_exomiser_success_table)\n",
    "d_df['Run_Type'] = ['All'] * len(d_df)\n",
    "\n",
    "es_exomiser = ps.create_plot(denom, d_df, RUN_TYPES, 'set1', False, domain)\n",
    "es_exomiser\n",
    "\n",
    "d_df,denom = ps.create_df(300, RUN_TYPES, es_exomiser_AR)\n",
    "d_df['Run_Type'] = ['AR'] * len(d_df)\n",
    "\n",
    "es_exomiser_AR_plot = ps.create_plot(denom, d_df, RUN_TYPES, 'set1', False, domain)\n",
    "es_exomiser_AR_plot\n",
    "\n",
    "d_df,denom = ps.create_df(300, RUN_TYPES, es_exomiser_AD)\n",
    "d_df['Run_Type'] = ['AD'] * len(d_df)\n",
    "es_exomiser_AD_plot = ps.create_plot(denom, d_df, RUN_TYPES, 'set1', False, domain)\n",
    "es_exomiser_AD_plot\n",
    "\n",
    "d_df,denom = ps.create_df(300, RUN_TYPES, es_exomiser_cmpd_hets)\n",
    "d_df['Run_Type'] = ['CH'] * len(d_df)\n",
    "es_exomiser_CH_plot = ps.create_plot(denom, d_df, RUN_TYPES, 'set1', False, domain)\n",
    "\n",
    "\n",
    "es_exomiser_allplots = alt.layer(es_exomiser, es_exomiser_AD_plot, es_exomiser_AR_plot,es_exomiser_CH_plot).properties(height=300, width=350)\n",
    "es_exomiser_allplots"
   ]
  },
  {
   "cell_type": "code",
   "execution_count": 61,
   "metadata": {},
   "outputs": [
    {
     "data": {
      "text/html": [
       "\n",
       "<style>\n",
       "  #altair-viz-8d7a15742dbb40fe8effd20980203a30.vega-embed {\n",
       "    width: 100%;\n",
       "    display: flex;\n",
       "  }\n",
       "\n",
       "  #altair-viz-8d7a15742dbb40fe8effd20980203a30.vega-embed details,\n",
       "  #altair-viz-8d7a15742dbb40fe8effd20980203a30.vega-embed details summary {\n",
       "    position: relative;\n",
       "  }\n",
       "</style>\n",
       "<div id=\"altair-viz-8d7a15742dbb40fe8effd20980203a30\"></div>\n",
       "<script type=\"text/javascript\">\n",
       "  var VEGA_DEBUG = (typeof VEGA_DEBUG == \"undefined\") ? {} : VEGA_DEBUG;\n",
       "  (function(spec, embedOpt){\n",
       "    let outputDiv = document.currentScript.previousElementSibling;\n",
       "    if (outputDiv.id !== \"altair-viz-8d7a15742dbb40fe8effd20980203a30\") {\n",
       "      outputDiv = document.getElementById(\"altair-viz-8d7a15742dbb40fe8effd20980203a30\");\n",
       "    }\n",
       "    const paths = {\n",
       "      \"vega\": \"https://cdn.jsdelivr.net/npm/vega@5?noext\",\n",
       "      \"vega-lib\": \"https://cdn.jsdelivr.net/npm/vega-lib?noext\",\n",
       "      \"vega-lite\": \"https://cdn.jsdelivr.net/npm/vega-lite@5.17.0?noext\",\n",
       "      \"vega-embed\": \"https://cdn.jsdelivr.net/npm/vega-embed@6?noext\",\n",
       "    };\n",
       "\n",
       "    function maybeLoadScript(lib, version) {\n",
       "      var key = `${lib.replace(\"-\", \"\")}_version`;\n",
       "      return (VEGA_DEBUG[key] == version) ?\n",
       "        Promise.resolve(paths[lib]) :\n",
       "        new Promise(function(resolve, reject) {\n",
       "          var s = document.createElement('script');\n",
       "          document.getElementsByTagName(\"head\")[0].appendChild(s);\n",
       "          s.async = true;\n",
       "          s.onload = () => {\n",
       "            VEGA_DEBUG[key] = version;\n",
       "            return resolve(paths[lib]);\n",
       "          };\n",
       "          s.onerror = () => reject(`Error loading script: ${paths[lib]}`);\n",
       "          s.src = paths[lib];\n",
       "        });\n",
       "    }\n",
       "\n",
       "    function showError(err) {\n",
       "      outputDiv.innerHTML = `<div class=\"error\" style=\"color:red;\">${err}</div>`;\n",
       "      throw err;\n",
       "    }\n",
       "\n",
       "    function displayChart(vegaEmbed) {\n",
       "      vegaEmbed(outputDiv, spec, embedOpt)\n",
       "        .catch(err => showError(`Javascript Error: ${err.message}<br>This usually means there's a typo in your chart specification. See the javascript console for the full traceback.`));\n",
       "    }\n",
       "\n",
       "    if(typeof define === \"function\" && define.amd) {\n",
       "      requirejs.config({paths});\n",
       "      require([\"vega-embed\"], displayChart, err => showError(`Error loading script: ${err.message}`));\n",
       "    } else {\n",
       "      maybeLoadScript(\"vega\", \"5\")\n",
       "        .then(() => maybeLoadScript(\"vega-lite\", \"5.17.0\"))\n",
       "        .then(() => maybeLoadScript(\"vega-embed\", \"6\"))\n",
       "        .catch(showError)\n",
       "        .then(() => displayChart(vegaEmbed));\n",
       "    }\n",
       "  })({\"config\": {\"view\": {\"continuousWidth\": 300, \"continuousHeight\": 300}, \"axis\": {\"grid\": true, \"labelFont\": \"arial\", \"labelFontSize\": 13, \"labelLimit\": 0, \"labelPadding\": 5, \"tickSize\": 8, \"titleFontSize\": 15}, \"legend\": {\"labelFont\": \"arial\", \"labelFontSize\": 15, \"labelLimit\": 0, \"titleFontSize\": 15}}, \"vconcat\": [{\"layer\": [{\"data\": {\"name\": \"data-366d1a758d15123d9ef32840f3b4c5c9\"}, \"mark\": {\"type\": \"line\", \"point\": {\"size\": 50}}, \"encoding\": {\"color\": {\"field\": \"Run_Type\", \"scale\": {\"domain\": [\"All\", \"AR\", \"AD\", \"CH\"], \"scheme\": \"set1\"}, \"sort\": [\"noN_filtered_15_85_human_revel_mvp_alphaM_spliceAI_noWL\"], \"type\": \"nominal\"}, \"tooltip\": [{\"field\": \"Rank\", \"type\": \"quantitative\"}, {\"field\": \"Percent_Variants\", \"type\": \"quantitative\"}, {\"field\": \"Run_Type\", \"type\": \"nominal\"}], \"x\": {\"field\": \"Rank\", \"title\": \"Exomiser Rank of Causal Variant\", \"type\": \"quantitative\"}, \"y\": {\"field\": \"Percent_Variants\", \"scale\": {\"domain\": [0, 100]}, \"title\": \"Percent of Causal Variants within Exomiser Rank\", \"type\": \"quantitative\"}}, \"title\": \"296Diagnostic Variants (Variant Level - no MOI requirement)\"}, {\"data\": {\"name\": \"data-f0083d6d49240be2d9f9feeeefffcb79\"}, \"mark\": {\"type\": \"line\", \"point\": {\"size\": 50}}, \"encoding\": {\"color\": {\"field\": \"Run_Type\", \"scale\": {\"domain\": [\"All\", \"AR\", \"AD\", \"CH\"], \"scheme\": \"set1\"}, \"sort\": [\"noN_filtered_15_85_human_revel_mvp_alphaM_spliceAI_noWL\"], \"type\": \"nominal\"}, \"tooltip\": [{\"field\": \"Rank\", \"type\": \"quantitative\"}, {\"field\": \"Percent_Variants\", \"type\": \"quantitative\"}, {\"field\": \"Run_Type\", \"type\": \"nominal\"}], \"x\": {\"field\": \"Rank\", \"title\": \"Exomiser Rank of Causal Variant\", \"type\": \"quantitative\"}, \"y\": {\"field\": \"Percent_Variants\", \"scale\": {\"domain\": [0, 100]}, \"title\": \"Percent of Causal Variants within Exomiser Rank\", \"type\": \"quantitative\"}}, \"title\": \"144Diagnostic Variants (Variant Level - no MOI requirement)\"}, {\"data\": {\"name\": \"data-92db1378c27449e3f9903580a2c19bc5\"}, \"mark\": {\"type\": \"line\", \"point\": {\"size\": 50}}, \"encoding\": {\"color\": {\"field\": \"Run_Type\", \"scale\": {\"domain\": [\"All\", \"AR\", \"AD\", \"CH\"], \"scheme\": \"set1\"}, \"sort\": [\"noN_filtered_15_85_human_revel_mvp_alphaM_spliceAI_noWL\"], \"type\": \"nominal\"}, \"tooltip\": [{\"field\": \"Rank\", \"type\": \"quantitative\"}, {\"field\": \"Percent_Variants\", \"type\": \"quantitative\"}, {\"field\": \"Run_Type\", \"type\": \"nominal\"}], \"x\": {\"field\": \"Rank\", \"title\": \"Exomiser Rank of Causal Variant\", \"type\": \"quantitative\"}, \"y\": {\"field\": \"Percent_Variants\", \"scale\": {\"domain\": [0, 100]}, \"title\": \"Percent of Causal Variants within Exomiser Rank\", \"type\": \"quantitative\"}}, \"title\": \"36Diagnostic Variants (Variant Level - no MOI requirement)\"}, {\"data\": {\"name\": \"data-2a08428be8853776c03530c07de7384d\"}, \"mark\": {\"type\": \"line\", \"point\": {\"size\": 50}}, \"encoding\": {\"color\": {\"field\": \"Run_Type\", \"scale\": {\"domain\": [\"All\", \"AR\", \"AD\", \"CH\"], \"scheme\": \"set1\"}, \"sort\": [\"noN_filtered_15_85_human_revel_mvp_alphaM_spliceAI_noWL\"], \"type\": \"nominal\"}, \"tooltip\": [{\"field\": \"Rank\", \"type\": \"quantitative\"}, {\"field\": \"Percent_Variants\", \"type\": \"quantitative\"}, {\"field\": \"Run_Type\", \"type\": \"nominal\"}], \"x\": {\"field\": \"Rank\", \"title\": \"Exomiser Rank of Causal Variant\", \"type\": \"quantitative\"}, \"y\": {\"field\": \"Percent_Variants\", \"scale\": {\"domain\": [0, 100]}, \"title\": \"Percent of Causal Variants within Exomiser Rank\", \"type\": \"quantitative\"}}, \"title\": \"102Diagnostic Variants (Variant Level - no MOI requirement)\"}], \"height\": 300, \"width\": 350}, {\"layer\": [{\"data\": {\"name\": \"data-b791939be2708f3e70949b608fe23951\"}, \"mark\": {\"type\": \"line\", \"point\": {\"size\": 50}}, \"encoding\": {\"color\": {\"field\": \"Run_Type\", \"scale\": {\"domain\": [\"All\", \"AR\", \"AD\", \"CH\"], \"scheme\": \"set1\"}, \"sort\": [\"noN_filtered_15_18_human_REMM_revel_mvp_alphaM_spliceAI_PSF_501_reg_filter_noWL_genomiser\"], \"type\": \"nominal\"}, \"tooltip\": [{\"field\": \"Rank\", \"type\": \"quantitative\"}, {\"field\": \"Percent_Variants\", \"type\": \"quantitative\"}, {\"field\": \"Run_Type\", \"type\": \"nominal\"}], \"x\": {\"field\": \"Rank\", \"title\": \"Exomiser Rank of Causal Variant\", \"type\": \"quantitative\"}, \"y\": {\"field\": \"Percent_Variants\", \"scale\": {\"domain\": [0, 100]}, \"title\": \"Percent of Causal Variants within Exomiser Rank\", \"type\": \"quantitative\"}}, \"title\": \"60Diagnostic Variants (Variant Level - no MOI requirement)\"}, {\"data\": {\"name\": \"data-796d5d3bc2f052f6f505097a4a5baef1\"}, \"mark\": {\"type\": \"line\", \"point\": {\"size\": 50}}, \"encoding\": {\"color\": {\"field\": \"Run_Type\", \"scale\": {\"domain\": [\"All\", \"AR\", \"AD\", \"CH\"], \"scheme\": \"set1\"}, \"sort\": [\"noN_filtered_15_18_human_REMM_revel_mvp_alphaM_spliceAI_PSF_501_reg_filter_noWL_genomiser\"], \"type\": \"nominal\"}, \"tooltip\": [{\"field\": \"Rank\", \"type\": \"quantitative\"}, {\"field\": \"Percent_Variants\", \"type\": \"quantitative\"}, {\"field\": \"Run_Type\", \"type\": \"nominal\"}], \"x\": {\"field\": \"Rank\", \"title\": \"Exomiser Rank of Causal Variant\", \"type\": \"quantitative\"}, \"y\": {\"field\": \"Percent_Variants\", \"scale\": {\"domain\": [0, 100]}, \"title\": \"Percent of Causal Variants within Exomiser Rank\", \"type\": \"quantitative\"}}, \"title\": \"9Diagnostic Variants (Variant Level - no MOI requirement)\"}, {\"data\": {\"name\": \"data-d23626d549397a90a40cbae128404997\"}, \"mark\": {\"type\": \"line\", \"point\": {\"size\": 50}}, \"encoding\": {\"color\": {\"field\": \"Run_Type\", \"scale\": {\"domain\": [\"All\", \"AR\", \"AD\", \"CH\"], \"scheme\": \"set1\"}, \"sort\": [\"noN_filtered_15_18_human_REMM_revel_mvp_alphaM_spliceAI_PSF_501_reg_filter_noWL_genomiser\"], \"type\": \"nominal\"}, \"tooltip\": [{\"field\": \"Rank\", \"type\": \"quantitative\"}, {\"field\": \"Percent_Variants\", \"type\": \"quantitative\"}, {\"field\": \"Run_Type\", \"type\": \"nominal\"}], \"x\": {\"field\": \"Rank\", \"title\": \"Exomiser Rank of Causal Variant\", \"type\": \"quantitative\"}, \"y\": {\"field\": \"Percent_Variants\", \"scale\": {\"domain\": [0, 100]}, \"title\": \"Percent of Causal Variants within Exomiser Rank\", \"type\": \"quantitative\"}}, \"title\": \"4Diagnostic Variants (Variant Level - no MOI requirement)\"}, {\"data\": {\"name\": \"data-b59ccef57961170cca17d5c0a11d8b2a\"}, \"mark\": {\"type\": \"line\", \"point\": {\"size\": 50}}, \"encoding\": {\"color\": {\"field\": \"Run_Type\", \"scale\": {\"domain\": [\"All\", \"AR\", \"AD\", \"CH\"], \"scheme\": \"set1\"}, \"sort\": [\"noN_filtered_15_18_human_REMM_revel_mvp_alphaM_spliceAI_PSF_501_reg_filter_noWL_genomiser\"], \"type\": \"nominal\"}, \"tooltip\": [{\"field\": \"Rank\", \"type\": \"quantitative\"}, {\"field\": \"Percent_Variants\", \"type\": \"quantitative\"}, {\"field\": \"Run_Type\", \"type\": \"nominal\"}], \"x\": {\"field\": \"Rank\", \"title\": \"Exomiser Rank of Causal Variant\", \"type\": \"quantitative\"}, \"y\": {\"field\": \"Percent_Variants\", \"scale\": {\"domain\": [0, 100]}, \"title\": \"Percent of Causal Variants within Exomiser Rank\", \"type\": \"quantitative\"}}, \"title\": \"42Diagnostic Variants (Variant Level - no MOI requirement)\"}], \"height\": 300, \"width\": 350}, {\"layer\": [{\"data\": {\"name\": \"data-193104f5bd93d697b22bf2a5f65853fa\"}, \"mark\": {\"type\": \"line\", \"point\": {\"size\": 50}}, \"encoding\": {\"color\": {\"field\": \"Run_Type\", \"scale\": {\"domain\": [\"All\", \"AR\", \"AD\", \"CH\"], \"scheme\": \"set1\"}, \"sort\": [\"noN_filtered_15_85_human_revel_mvp_alphaM_spliceAI_noWL\"], \"type\": \"nominal\"}, \"tooltip\": [{\"field\": \"Rank\", \"type\": \"quantitative\"}, {\"field\": \"Percent_Variants\", \"type\": \"quantitative\"}, {\"field\": \"Run_Type\", \"type\": \"nominal\"}], \"x\": {\"field\": \"Rank\", \"title\": \"Exomiser Rank of Causal Variant\", \"type\": \"quantitative\"}, \"y\": {\"field\": \"Percent_Variants\", \"scale\": {\"domain\": [0, 100]}, \"title\": \"Percent of Causal Variants within Exomiser Rank\", \"type\": \"quantitative\"}}, \"title\": \"153Diagnostic Variants (Variant Level - no MOI requirement)\"}, {\"data\": {\"name\": \"data-cbc0b2d6e3b85af87891510c3bf750a7\"}, \"mark\": {\"type\": \"line\", \"point\": {\"size\": 50}}, \"encoding\": {\"color\": {\"field\": \"Run_Type\", \"scale\": {\"domain\": [\"All\", \"AR\", \"AD\", \"CH\"], \"scheme\": \"set1\"}, \"sort\": [\"noN_filtered_15_85_human_revel_mvp_alphaM_spliceAI_noWL\"], \"type\": \"nominal\"}, \"tooltip\": [{\"field\": \"Rank\", \"type\": \"quantitative\"}, {\"field\": \"Percent_Variants\", \"type\": \"quantitative\"}, {\"field\": \"Run_Type\", \"type\": \"nominal\"}], \"x\": {\"field\": \"Rank\", \"title\": \"Exomiser Rank of Causal Variant\", \"type\": \"quantitative\"}, \"y\": {\"field\": \"Percent_Variants\", \"scale\": {\"domain\": [0, 100]}, \"title\": \"Percent of Causal Variants within Exomiser Rank\", \"type\": \"quantitative\"}}, \"title\": \"90Diagnostic Variants (Variant Level - no MOI requirement)\"}, {\"data\": {\"name\": \"data-6a09b213e454e8d544a4846281811b8f\"}, \"mark\": {\"type\": \"line\", \"point\": {\"size\": 50}}, \"encoding\": {\"color\": {\"field\": \"Run_Type\", \"scale\": {\"domain\": [\"All\", \"AR\", \"AD\", \"CH\"], \"scheme\": \"set1\"}, \"sort\": [\"noN_filtered_15_85_human_revel_mvp_alphaM_spliceAI_noWL\"], \"type\": \"nominal\"}, \"tooltip\": [{\"field\": \"Rank\", \"type\": \"quantitative\"}, {\"field\": \"Percent_Variants\", \"type\": \"quantitative\"}, {\"field\": \"Run_Type\", \"type\": \"nominal\"}], \"x\": {\"field\": \"Rank\", \"title\": \"Exomiser Rank of Causal Variant\", \"type\": \"quantitative\"}, \"y\": {\"field\": \"Percent_Variants\", \"scale\": {\"domain\": [0, 100]}, \"title\": \"Percent of Causal Variants within Exomiser Rank\", \"type\": \"quantitative\"}}, \"title\": \"9Diagnostic Variants (Variant Level - no MOI requirement)\"}, {\"data\": {\"name\": \"data-86bcca13e2cf2e633350cd2490b0ba31\"}, \"mark\": {\"type\": \"line\", \"point\": {\"size\": 50}}, \"encoding\": {\"color\": {\"field\": \"Run_Type\", \"scale\": {\"domain\": [\"All\", \"AR\", \"AD\", \"CH\"], \"scheme\": \"set1\"}, \"sort\": [\"noN_filtered_15_85_human_revel_mvp_alphaM_spliceAI_noWL\"], \"type\": \"nominal\"}, \"tooltip\": [{\"field\": \"Rank\", \"type\": \"quantitative\"}, {\"field\": \"Percent_Variants\", \"type\": \"quantitative\"}, {\"field\": \"Run_Type\", \"type\": \"nominal\"}], \"x\": {\"field\": \"Rank\", \"title\": \"Exomiser Rank of Causal Variant\", \"type\": \"quantitative\"}, \"y\": {\"field\": \"Percent_Variants\", \"scale\": {\"domain\": [0, 100]}, \"title\": \"Percent of Causal Variants within Exomiser Rank\", \"type\": \"quantitative\"}}, \"title\": \"45Diagnostic Variants (Variant Level - no MOI requirement)\"}], \"height\": 300, \"width\": 350}], \"resolve\": {\"scale\": {\"color\": \"shared\"}}, \"$schema\": \"https://vega.github.io/schema/vega-lite/v5.17.0.json\", \"datasets\": {\"data-366d1a758d15123d9ef32840f3b4c5c9\": [{\"Rank\": 1, \"NumPatients\": 158, \"Percent_Variants\": 53.37837837837838, \"Run_Type\": \"All\"}, {\"Rank\": 2, \"NumPatients\": 200, \"Percent_Variants\": 67.56756756756756, \"Run_Type\": \"All\"}, {\"Rank\": 3, \"NumPatients\": 212, \"Percent_Variants\": 71.62162162162163, \"Run_Type\": \"All\"}, {\"Rank\": 4, \"NumPatients\": 216, \"Percent_Variants\": 72.97297297297297, \"Run_Type\": \"All\"}, {\"Rank\": 5, \"NumPatients\": 228, \"Percent_Variants\": 77.02702702702703, \"Run_Type\": \"All\"}, {\"Rank\": 6, \"NumPatients\": 235, \"Percent_Variants\": 79.3918918918919, \"Run_Type\": \"All\"}, {\"Rank\": 7, \"NumPatients\": 240, \"Percent_Variants\": 81.08108108108108, \"Run_Type\": \"All\"}, {\"Rank\": 8, \"NumPatients\": 248, \"Percent_Variants\": 83.78378378378379, \"Run_Type\": \"All\"}, {\"Rank\": 9, \"NumPatients\": 252, \"Percent_Variants\": 85.13513513513513, \"Run_Type\": \"All\"}, {\"Rank\": 10, \"NumPatients\": 253, \"Percent_Variants\": 85.47297297297297, \"Run_Type\": \"All\"}, {\"Rank\": 11, \"NumPatients\": 259, \"Percent_Variants\": 87.5, \"Run_Type\": \"All\"}, {\"Rank\": 12, \"NumPatients\": 262, \"Percent_Variants\": 88.51351351351352, \"Run_Type\": \"All\"}, {\"Rank\": 13, \"NumPatients\": 264, \"Percent_Variants\": 89.1891891891892, \"Run_Type\": \"All\"}, {\"Rank\": 14, \"NumPatients\": 267, \"Percent_Variants\": 90.2027027027027, \"Run_Type\": \"All\"}, {\"Rank\": 15, \"NumPatients\": 272, \"Percent_Variants\": 91.8918918918919, \"Run_Type\": \"All\"}, {\"Rank\": 16, \"NumPatients\": 275, \"Percent_Variants\": 92.9054054054054, \"Run_Type\": \"All\"}, {\"Rank\": 17, \"NumPatients\": 278, \"Percent_Variants\": 93.91891891891892, \"Run_Type\": \"All\"}, {\"Rank\": 18, \"NumPatients\": 278, \"Percent_Variants\": 93.91891891891892, \"Run_Type\": \"All\"}, {\"Rank\": 19, \"NumPatients\": 279, \"Percent_Variants\": 94.25675675675676, \"Run_Type\": \"All\"}, {\"Rank\": 20, \"NumPatients\": 279, \"Percent_Variants\": 94.25675675675676, \"Run_Type\": \"All\"}, {\"Rank\": 21, \"NumPatients\": 280, \"Percent_Variants\": 94.5945945945946, \"Run_Type\": \"All\"}, {\"Rank\": 22, \"NumPatients\": 280, \"Percent_Variants\": 94.5945945945946, \"Run_Type\": \"All\"}, {\"Rank\": 23, \"NumPatients\": 280, \"Percent_Variants\": 94.5945945945946, \"Run_Type\": \"All\"}, {\"Rank\": 24, \"NumPatients\": 280, \"Percent_Variants\": 94.5945945945946, \"Run_Type\": \"All\"}, {\"Rank\": 25, \"NumPatients\": 280, \"Percent_Variants\": 94.5945945945946, \"Run_Type\": \"All\"}, {\"Rank\": 26, \"NumPatients\": 280, \"Percent_Variants\": 94.5945945945946, \"Run_Type\": \"All\"}, {\"Rank\": 27, \"NumPatients\": 280, \"Percent_Variants\": 94.5945945945946, \"Run_Type\": \"All\"}, {\"Rank\": 28, \"NumPatients\": 280, \"Percent_Variants\": 94.5945945945946, \"Run_Type\": \"All\"}, {\"Rank\": 29, \"NumPatients\": 280, \"Percent_Variants\": 94.5945945945946, \"Run_Type\": \"All\"}, {\"Rank\": 30, \"NumPatients\": 282, \"Percent_Variants\": 95.27027027027027, \"Run_Type\": \"All\"}], \"data-f0083d6d49240be2d9f9feeeefffcb79\": [{\"Rank\": 1, \"NumPatients\": 79, \"Percent_Variants\": 54.861111111111114, \"Run_Type\": \"AD\"}, {\"Rank\": 2, \"NumPatients\": 98, \"Percent_Variants\": 68.05555555555556, \"Run_Type\": \"AD\"}, {\"Rank\": 3, \"NumPatients\": 104, \"Percent_Variants\": 72.22222222222221, \"Run_Type\": \"AD\"}, {\"Rank\": 4, \"NumPatients\": 106, \"Percent_Variants\": 73.61111111111111, \"Run_Type\": \"AD\"}, {\"Rank\": 5, \"NumPatients\": 110, \"Percent_Variants\": 76.38888888888889, \"Run_Type\": \"AD\"}, {\"Rank\": 6, \"NumPatients\": 113, \"Percent_Variants\": 78.47222222222221, \"Run_Type\": \"AD\"}, {\"Rank\": 7, \"NumPatients\": 115, \"Percent_Variants\": 79.86111111111111, \"Run_Type\": \"AD\"}, {\"Rank\": 8, \"NumPatients\": 119, \"Percent_Variants\": 82.63888888888889, \"Run_Type\": \"AD\"}, {\"Rank\": 9, \"NumPatients\": 123, \"Percent_Variants\": 85.41666666666666, \"Run_Type\": \"AD\"}, {\"Rank\": 10, \"NumPatients\": 124, \"Percent_Variants\": 86.11111111111111, \"Run_Type\": \"AD\"}, {\"Rank\": 11, \"NumPatients\": 126, \"Percent_Variants\": 87.5, \"Run_Type\": \"AD\"}, {\"Rank\": 12, \"NumPatients\": 128, \"Percent_Variants\": 88.88888888888889, \"Run_Type\": \"AD\"}, {\"Rank\": 13, \"NumPatients\": 128, \"Percent_Variants\": 88.88888888888889, \"Run_Type\": \"AD\"}, {\"Rank\": 14, \"NumPatients\": 129, \"Percent_Variants\": 89.58333333333334, \"Run_Type\": \"AD\"}, {\"Rank\": 15, \"NumPatients\": 131, \"Percent_Variants\": 90.97222222222221, \"Run_Type\": \"AD\"}, {\"Rank\": 16, \"NumPatients\": 133, \"Percent_Variants\": 92.36111111111111, \"Run_Type\": \"AD\"}, {\"Rank\": 17, \"NumPatients\": 135, \"Percent_Variants\": 93.75, \"Run_Type\": \"AD\"}, {\"Rank\": 18, \"NumPatients\": 135, \"Percent_Variants\": 93.75, \"Run_Type\": \"AD\"}, {\"Rank\": 19, \"NumPatients\": 136, \"Percent_Variants\": 94.44444444444444, \"Run_Type\": \"AD\"}, {\"Rank\": 20, \"NumPatients\": 136, \"Percent_Variants\": 94.44444444444444, \"Run_Type\": \"AD\"}, {\"Rank\": 21, \"NumPatients\": 136, \"Percent_Variants\": 94.44444444444444, \"Run_Type\": \"AD\"}, {\"Rank\": 22, \"NumPatients\": 136, \"Percent_Variants\": 94.44444444444444, \"Run_Type\": \"AD\"}, {\"Rank\": 23, \"NumPatients\": 136, \"Percent_Variants\": 94.44444444444444, \"Run_Type\": \"AD\"}, {\"Rank\": 24, \"NumPatients\": 136, \"Percent_Variants\": 94.44444444444444, \"Run_Type\": \"AD\"}, {\"Rank\": 25, \"NumPatients\": 136, \"Percent_Variants\": 94.44444444444444, \"Run_Type\": \"AD\"}, {\"Rank\": 26, \"NumPatients\": 136, \"Percent_Variants\": 94.44444444444444, \"Run_Type\": \"AD\"}, {\"Rank\": 27, \"NumPatients\": 136, \"Percent_Variants\": 94.44444444444444, \"Run_Type\": \"AD\"}, {\"Rank\": 28, \"NumPatients\": 136, \"Percent_Variants\": 94.44444444444444, \"Run_Type\": \"AD\"}, {\"Rank\": 29, \"NumPatients\": 136, \"Percent_Variants\": 94.44444444444444, \"Run_Type\": \"AD\"}, {\"Rank\": 30, \"NumPatients\": 136, \"Percent_Variants\": 94.44444444444444, \"Run_Type\": \"AD\"}], \"data-92db1378c27449e3f9903580a2c19bc5\": [{\"Rank\": 1, \"NumPatients\": 19, \"Percent_Variants\": 52.77777777777778, \"Run_Type\": \"AR\"}, {\"Rank\": 2, \"NumPatients\": 25, \"Percent_Variants\": 69.44444444444444, \"Run_Type\": \"AR\"}, {\"Rank\": 3, \"NumPatients\": 26, \"Percent_Variants\": 72.22222222222221, \"Run_Type\": \"AR\"}, {\"Rank\": 4, \"NumPatients\": 27, \"Percent_Variants\": 75.0, \"Run_Type\": \"AR\"}, {\"Rank\": 5, \"NumPatients\": 28, \"Percent_Variants\": 77.77777777777779, \"Run_Type\": \"AR\"}, {\"Rank\": 6, \"NumPatients\": 28, \"Percent_Variants\": 77.77777777777779, \"Run_Type\": \"AR\"}, {\"Rank\": 7, \"NumPatients\": 29, \"Percent_Variants\": 80.55555555555556, \"Run_Type\": \"AR\"}, {\"Rank\": 8, \"NumPatients\": 29, \"Percent_Variants\": 80.55555555555556, \"Run_Type\": \"AR\"}, {\"Rank\": 9, \"NumPatients\": 29, \"Percent_Variants\": 80.55555555555556, \"Run_Type\": \"AR\"}, {\"Rank\": 10, \"NumPatients\": 29, \"Percent_Variants\": 80.55555555555556, \"Run_Type\": \"AR\"}, {\"Rank\": 11, \"NumPatients\": 30, \"Percent_Variants\": 83.33333333333334, \"Run_Type\": \"AR\"}, {\"Rank\": 12, \"NumPatients\": 31, \"Percent_Variants\": 86.11111111111111, \"Run_Type\": \"AR\"}, {\"Rank\": 13, \"NumPatients\": 31, \"Percent_Variants\": 86.11111111111111, \"Run_Type\": \"AR\"}, {\"Rank\": 14, \"NumPatients\": 33, \"Percent_Variants\": 91.66666666666666, \"Run_Type\": \"AR\"}, {\"Rank\": 15, \"NumPatients\": 33, \"Percent_Variants\": 91.66666666666666, \"Run_Type\": \"AR\"}, {\"Rank\": 16, \"NumPatients\": 34, \"Percent_Variants\": 94.44444444444444, \"Run_Type\": \"AR\"}, {\"Rank\": 17, \"NumPatients\": 34, \"Percent_Variants\": 94.44444444444444, \"Run_Type\": \"AR\"}, {\"Rank\": 18, \"NumPatients\": 34, \"Percent_Variants\": 94.44444444444444, \"Run_Type\": \"AR\"}, {\"Rank\": 19, \"NumPatients\": 34, \"Percent_Variants\": 94.44444444444444, \"Run_Type\": \"AR\"}, {\"Rank\": 20, \"NumPatients\": 34, \"Percent_Variants\": 94.44444444444444, \"Run_Type\": \"AR\"}, {\"Rank\": 21, \"NumPatients\": 35, \"Percent_Variants\": 97.22222222222221, \"Run_Type\": \"AR\"}, {\"Rank\": 22, \"NumPatients\": 35, \"Percent_Variants\": 97.22222222222221, \"Run_Type\": \"AR\"}, {\"Rank\": 23, \"NumPatients\": 35, \"Percent_Variants\": 97.22222222222221, \"Run_Type\": \"AR\"}, {\"Rank\": 24, \"NumPatients\": 35, \"Percent_Variants\": 97.22222222222221, \"Run_Type\": \"AR\"}, {\"Rank\": 25, \"NumPatients\": 35, \"Percent_Variants\": 97.22222222222221, \"Run_Type\": \"AR\"}, {\"Rank\": 26, \"NumPatients\": 35, \"Percent_Variants\": 97.22222222222221, \"Run_Type\": \"AR\"}, {\"Rank\": 27, \"NumPatients\": 35, \"Percent_Variants\": 97.22222222222221, \"Run_Type\": \"AR\"}, {\"Rank\": 28, \"NumPatients\": 35, \"Percent_Variants\": 97.22222222222221, \"Run_Type\": \"AR\"}, {\"Rank\": 29, \"NumPatients\": 35, \"Percent_Variants\": 97.22222222222221, \"Run_Type\": \"AR\"}, {\"Rank\": 30, \"NumPatients\": 35, \"Percent_Variants\": 97.22222222222221, \"Run_Type\": \"AR\"}], \"data-2a08428be8853776c03530c07de7384d\": [{\"Rank\": 1, \"NumPatients\": 50, \"Percent_Variants\": 49.01960784313725, \"Run_Type\": \"CH\"}, {\"Rank\": 2, \"NumPatients\": 67, \"Percent_Variants\": 65.68627450980392, \"Run_Type\": \"CH\"}, {\"Rank\": 3, \"NumPatients\": 71, \"Percent_Variants\": 69.6078431372549, \"Run_Type\": \"CH\"}, {\"Rank\": 4, \"NumPatients\": 72, \"Percent_Variants\": 70.58823529411765, \"Run_Type\": \"CH\"}, {\"Rank\": 5, \"NumPatients\": 78, \"Percent_Variants\": 76.47058823529412, \"Run_Type\": \"CH\"}, {\"Rank\": 6, \"NumPatients\": 82, \"Percent_Variants\": 80.3921568627451, \"Run_Type\": \"CH\"}, {\"Rank\": 7, \"NumPatients\": 84, \"Percent_Variants\": 82.35294117647058, \"Run_Type\": \"CH\"}, {\"Rank\": 8, \"NumPatients\": 88, \"Percent_Variants\": 86.27450980392157, \"Run_Type\": \"CH\"}, {\"Rank\": 9, \"NumPatients\": 88, \"Percent_Variants\": 86.27450980392157, \"Run_Type\": \"CH\"}, {\"Rank\": 10, \"NumPatients\": 88, \"Percent_Variants\": 86.27450980392157, \"Run_Type\": \"CH\"}, {\"Rank\": 11, \"NumPatients\": 90, \"Percent_Variants\": 88.23529411764706, \"Run_Type\": \"CH\"}, {\"Rank\": 12, \"NumPatients\": 90, \"Percent_Variants\": 88.23529411764706, \"Run_Type\": \"CH\"}, {\"Rank\": 13, \"NumPatients\": 92, \"Percent_Variants\": 90.19607843137256, \"Run_Type\": \"CH\"}, {\"Rank\": 14, \"NumPatients\": 92, \"Percent_Variants\": 90.19607843137256, \"Run_Type\": \"CH\"}, {\"Rank\": 15, \"NumPatients\": 94, \"Percent_Variants\": 92.15686274509804, \"Run_Type\": \"CH\"}, {\"Rank\": 16, \"NumPatients\": 94, \"Percent_Variants\": 92.15686274509804, \"Run_Type\": \"CH\"}, {\"Rank\": 17, \"NumPatients\": 95, \"Percent_Variants\": 93.13725490196079, \"Run_Type\": \"CH\"}, {\"Rank\": 18, \"NumPatients\": 95, \"Percent_Variants\": 93.13725490196079, \"Run_Type\": \"CH\"}, {\"Rank\": 19, \"NumPatients\": 95, \"Percent_Variants\": 93.13725490196079, \"Run_Type\": \"CH\"}, {\"Rank\": 20, \"NumPatients\": 95, \"Percent_Variants\": 93.13725490196079, \"Run_Type\": \"CH\"}, {\"Rank\": 21, \"NumPatients\": 95, \"Percent_Variants\": 93.13725490196079, \"Run_Type\": \"CH\"}, {\"Rank\": 22, \"NumPatients\": 95, \"Percent_Variants\": 93.13725490196079, \"Run_Type\": \"CH\"}, {\"Rank\": 23, \"NumPatients\": 95, \"Percent_Variants\": 93.13725490196079, \"Run_Type\": \"CH\"}, {\"Rank\": 24, \"NumPatients\": 95, \"Percent_Variants\": 93.13725490196079, \"Run_Type\": \"CH\"}, {\"Rank\": 25, \"NumPatients\": 95, \"Percent_Variants\": 93.13725490196079, \"Run_Type\": \"CH\"}, {\"Rank\": 26, \"NumPatients\": 95, \"Percent_Variants\": 93.13725490196079, \"Run_Type\": \"CH\"}, {\"Rank\": 27, \"NumPatients\": 95, \"Percent_Variants\": 93.13725490196079, \"Run_Type\": \"CH\"}, {\"Rank\": 28, \"NumPatients\": 95, \"Percent_Variants\": 93.13725490196079, \"Run_Type\": \"CH\"}, {\"Rank\": 29, \"NumPatients\": 95, \"Percent_Variants\": 93.13725490196079, \"Run_Type\": \"CH\"}, {\"Rank\": 30, \"NumPatients\": 97, \"Percent_Variants\": 95.09803921568627, \"Run_Type\": \"CH\"}], \"data-b791939be2708f3e70949b608fe23951\": [{\"Rank\": 1, \"NumPatients\": 7, \"Percent_Variants\": 11.666666666666666, \"Run_Type\": \"All\"}, {\"Rank\": 2, \"NumPatients\": 12, \"Percent_Variants\": 20.0, \"Run_Type\": \"All\"}, {\"Rank\": 3, \"NumPatients\": 12, \"Percent_Variants\": 20.0, \"Run_Type\": \"All\"}, {\"Rank\": 4, \"NumPatients\": 15, \"Percent_Variants\": 25.0, \"Run_Type\": \"All\"}, {\"Rank\": 5, \"NumPatients\": 16, \"Percent_Variants\": 26.666666666666668, \"Run_Type\": \"All\"}, {\"Rank\": 6, \"NumPatients\": 16, \"Percent_Variants\": 26.666666666666668, \"Run_Type\": \"All\"}, {\"Rank\": 7, \"NumPatients\": 18, \"Percent_Variants\": 30.0, \"Run_Type\": \"All\"}, {\"Rank\": 8, \"NumPatients\": 22, \"Percent_Variants\": 36.666666666666664, \"Run_Type\": \"All\"}, {\"Rank\": 9, \"NumPatients\": 22, \"Percent_Variants\": 36.666666666666664, \"Run_Type\": \"All\"}, {\"Rank\": 10, \"NumPatients\": 24, \"Percent_Variants\": 40.0, \"Run_Type\": \"All\"}, {\"Rank\": 11, \"NumPatients\": 24, \"Percent_Variants\": 40.0, \"Run_Type\": \"All\"}, {\"Rank\": 12, \"NumPatients\": 24, \"Percent_Variants\": 40.0, \"Run_Type\": \"All\"}, {\"Rank\": 13, \"NumPatients\": 25, \"Percent_Variants\": 41.66666666666667, \"Run_Type\": \"All\"}, {\"Rank\": 14, \"NumPatients\": 27, \"Percent_Variants\": 45.0, \"Run_Type\": \"All\"}, {\"Rank\": 15, \"NumPatients\": 27, \"Percent_Variants\": 45.0, \"Run_Type\": \"All\"}, {\"Rank\": 16, \"NumPatients\": 27, \"Percent_Variants\": 45.0, \"Run_Type\": \"All\"}, {\"Rank\": 17, \"NumPatients\": 27, \"Percent_Variants\": 45.0, \"Run_Type\": \"All\"}, {\"Rank\": 18, \"NumPatients\": 28, \"Percent_Variants\": 46.666666666666664, \"Run_Type\": \"All\"}, {\"Rank\": 19, \"NumPatients\": 28, \"Percent_Variants\": 46.666666666666664, \"Run_Type\": \"All\"}, {\"Rank\": 20, \"NumPatients\": 28, \"Percent_Variants\": 46.666666666666664, \"Run_Type\": \"All\"}, {\"Rank\": 21, \"NumPatients\": 29, \"Percent_Variants\": 48.333333333333336, \"Run_Type\": \"All\"}, {\"Rank\": 22, \"NumPatients\": 29, \"Percent_Variants\": 48.333333333333336, \"Run_Type\": \"All\"}, {\"Rank\": 23, \"NumPatients\": 29, \"Percent_Variants\": 48.333333333333336, \"Run_Type\": \"All\"}, {\"Rank\": 24, \"NumPatients\": 29, \"Percent_Variants\": 48.333333333333336, \"Run_Type\": \"All\"}, {\"Rank\": 25, \"NumPatients\": 29, \"Percent_Variants\": 48.333333333333336, \"Run_Type\": \"All\"}, {\"Rank\": 26, \"NumPatients\": 29, \"Percent_Variants\": 48.333333333333336, \"Run_Type\": \"All\"}, {\"Rank\": 27, \"NumPatients\": 29, \"Percent_Variants\": 48.333333333333336, \"Run_Type\": \"All\"}, {\"Rank\": 28, \"NumPatients\": 29, \"Percent_Variants\": 48.333333333333336, \"Run_Type\": \"All\"}, {\"Rank\": 29, \"NumPatients\": 29, \"Percent_Variants\": 48.333333333333336, \"Run_Type\": \"All\"}, {\"Rank\": 30, \"NumPatients\": 29, \"Percent_Variants\": 48.333333333333336, \"Run_Type\": \"All\"}], \"data-796d5d3bc2f052f6f505097a4a5baef1\": [{\"Rank\": 1, \"NumPatients\": 4, \"Percent_Variants\": 44.44444444444444, \"Run_Type\": \"AD\"}, {\"Rank\": 2, \"NumPatients\": 5, \"Percent_Variants\": 55.55555555555556, \"Run_Type\": \"AD\"}, {\"Rank\": 3, \"NumPatients\": 5, \"Percent_Variants\": 55.55555555555556, \"Run_Type\": \"AD\"}, {\"Rank\": 4, \"NumPatients\": 6, \"Percent_Variants\": 66.66666666666666, \"Run_Type\": \"AD\"}, {\"Rank\": 5, \"NumPatients\": 7, \"Percent_Variants\": 77.77777777777779, \"Run_Type\": \"AD\"}, {\"Rank\": 6, \"NumPatients\": 7, \"Percent_Variants\": 77.77777777777779, \"Run_Type\": \"AD\"}, {\"Rank\": 7, \"NumPatients\": 7, \"Percent_Variants\": 77.77777777777779, \"Run_Type\": \"AD\"}, {\"Rank\": 8, \"NumPatients\": 7, \"Percent_Variants\": 77.77777777777779, \"Run_Type\": \"AD\"}, {\"Rank\": 9, \"NumPatients\": 7, \"Percent_Variants\": 77.77777777777779, \"Run_Type\": \"AD\"}, {\"Rank\": 10, \"NumPatients\": 7, \"Percent_Variants\": 77.77777777777779, \"Run_Type\": \"AD\"}, {\"Rank\": 11, \"NumPatients\": 7, \"Percent_Variants\": 77.77777777777779, \"Run_Type\": \"AD\"}, {\"Rank\": 12, \"NumPatients\": 7, \"Percent_Variants\": 77.77777777777779, \"Run_Type\": \"AD\"}, {\"Rank\": 13, \"NumPatients\": 7, \"Percent_Variants\": 77.77777777777779, \"Run_Type\": \"AD\"}, {\"Rank\": 14, \"NumPatients\": 7, \"Percent_Variants\": 77.77777777777779, \"Run_Type\": \"AD\"}, {\"Rank\": 15, \"NumPatients\": 7, \"Percent_Variants\": 77.77777777777779, \"Run_Type\": \"AD\"}, {\"Rank\": 16, \"NumPatients\": 7, \"Percent_Variants\": 77.77777777777779, \"Run_Type\": \"AD\"}, {\"Rank\": 17, \"NumPatients\": 7, \"Percent_Variants\": 77.77777777777779, \"Run_Type\": \"AD\"}, {\"Rank\": 18, \"NumPatients\": 7, \"Percent_Variants\": 77.77777777777779, \"Run_Type\": \"AD\"}, {\"Rank\": 19, \"NumPatients\": 7, \"Percent_Variants\": 77.77777777777779, \"Run_Type\": \"AD\"}, {\"Rank\": 20, \"NumPatients\": 7, \"Percent_Variants\": 77.77777777777779, \"Run_Type\": \"AD\"}, {\"Rank\": 21, \"NumPatients\": 7, \"Percent_Variants\": 77.77777777777779, \"Run_Type\": \"AD\"}, {\"Rank\": 22, \"NumPatients\": 7, \"Percent_Variants\": 77.77777777777779, \"Run_Type\": \"AD\"}, {\"Rank\": 23, \"NumPatients\": 7, \"Percent_Variants\": 77.77777777777779, \"Run_Type\": \"AD\"}, {\"Rank\": 24, \"NumPatients\": 7, \"Percent_Variants\": 77.77777777777779, \"Run_Type\": \"AD\"}, {\"Rank\": 25, \"NumPatients\": 7, \"Percent_Variants\": 77.77777777777779, \"Run_Type\": \"AD\"}, {\"Rank\": 26, \"NumPatients\": 7, \"Percent_Variants\": 77.77777777777779, \"Run_Type\": \"AD\"}, {\"Rank\": 27, \"NumPatients\": 7, \"Percent_Variants\": 77.77777777777779, \"Run_Type\": \"AD\"}, {\"Rank\": 28, \"NumPatients\": 7, \"Percent_Variants\": 77.77777777777779, \"Run_Type\": \"AD\"}, {\"Rank\": 29, \"NumPatients\": 7, \"Percent_Variants\": 77.77777777777779, \"Run_Type\": \"AD\"}, {\"Rank\": 30, \"NumPatients\": 7, \"Percent_Variants\": 77.77777777777779, \"Run_Type\": \"AD\"}], \"data-d23626d549397a90a40cbae128404997\": [{\"Rank\": 1, \"NumPatients\": 0, \"Percent_Variants\": 0.0, \"Run_Type\": \"AR\"}, {\"Rank\": 2, \"NumPatients\": 0, \"Percent_Variants\": 0.0, \"Run_Type\": \"AR\"}, {\"Rank\": 3, \"NumPatients\": 0, \"Percent_Variants\": 0.0, \"Run_Type\": \"AR\"}, {\"Rank\": 4, \"NumPatients\": 0, \"Percent_Variants\": 0.0, \"Run_Type\": \"AR\"}, {\"Rank\": 5, \"NumPatients\": 0, \"Percent_Variants\": 0.0, \"Run_Type\": \"AR\"}, {\"Rank\": 6, \"NumPatients\": 0, \"Percent_Variants\": 0.0, \"Run_Type\": \"AR\"}, {\"Rank\": 7, \"NumPatients\": 0, \"Percent_Variants\": 0.0, \"Run_Type\": \"AR\"}, {\"Rank\": 8, \"NumPatients\": 0, \"Percent_Variants\": 0.0, \"Run_Type\": \"AR\"}, {\"Rank\": 9, \"NumPatients\": 0, \"Percent_Variants\": 0.0, \"Run_Type\": \"AR\"}, {\"Rank\": 10, \"NumPatients\": 0, \"Percent_Variants\": 0.0, \"Run_Type\": \"AR\"}, {\"Rank\": 11, \"NumPatients\": 0, \"Percent_Variants\": 0.0, \"Run_Type\": \"AR\"}, {\"Rank\": 12, \"NumPatients\": 0, \"Percent_Variants\": 0.0, \"Run_Type\": \"AR\"}, {\"Rank\": 13, \"NumPatients\": 1, \"Percent_Variants\": 25.0, \"Run_Type\": \"AR\"}, {\"Rank\": 14, \"NumPatients\": 1, \"Percent_Variants\": 25.0, \"Run_Type\": \"AR\"}, {\"Rank\": 15, \"NumPatients\": 1, \"Percent_Variants\": 25.0, \"Run_Type\": \"AR\"}, {\"Rank\": 16, \"NumPatients\": 1, \"Percent_Variants\": 25.0, \"Run_Type\": \"AR\"}, {\"Rank\": 17, \"NumPatients\": 1, \"Percent_Variants\": 25.0, \"Run_Type\": \"AR\"}, {\"Rank\": 18, \"NumPatients\": 1, \"Percent_Variants\": 25.0, \"Run_Type\": \"AR\"}, {\"Rank\": 19, \"NumPatients\": 1, \"Percent_Variants\": 25.0, \"Run_Type\": \"AR\"}, {\"Rank\": 20, \"NumPatients\": 1, \"Percent_Variants\": 25.0, \"Run_Type\": \"AR\"}, {\"Rank\": 21, \"NumPatients\": 2, \"Percent_Variants\": 50.0, \"Run_Type\": \"AR\"}, {\"Rank\": 22, \"NumPatients\": 2, \"Percent_Variants\": 50.0, \"Run_Type\": \"AR\"}, {\"Rank\": 23, \"NumPatients\": 2, \"Percent_Variants\": 50.0, \"Run_Type\": \"AR\"}, {\"Rank\": 24, \"NumPatients\": 2, \"Percent_Variants\": 50.0, \"Run_Type\": \"AR\"}, {\"Rank\": 25, \"NumPatients\": 2, \"Percent_Variants\": 50.0, \"Run_Type\": \"AR\"}, {\"Rank\": 26, \"NumPatients\": 2, \"Percent_Variants\": 50.0, \"Run_Type\": \"AR\"}, {\"Rank\": 27, \"NumPatients\": 2, \"Percent_Variants\": 50.0, \"Run_Type\": \"AR\"}, {\"Rank\": 28, \"NumPatients\": 2, \"Percent_Variants\": 50.0, \"Run_Type\": \"AR\"}, {\"Rank\": 29, \"NumPatients\": 2, \"Percent_Variants\": 50.0, \"Run_Type\": \"AR\"}, {\"Rank\": 30, \"NumPatients\": 2, \"Percent_Variants\": 50.0, \"Run_Type\": \"AR\"}], \"data-b59ccef57961170cca17d5c0a11d8b2a\": [{\"Rank\": 1, \"NumPatients\": 2, \"Percent_Variants\": 4.761904761904762, \"Run_Type\": \"CH\"}, {\"Rank\": 2, \"NumPatients\": 6, \"Percent_Variants\": 14.285714285714285, \"Run_Type\": \"CH\"}, {\"Rank\": 3, \"NumPatients\": 6, \"Percent_Variants\": 14.285714285714285, \"Run_Type\": \"CH\"}, {\"Rank\": 4, \"NumPatients\": 8, \"Percent_Variants\": 19.047619047619047, \"Run_Type\": \"CH\"}, {\"Rank\": 5, \"NumPatients\": 8, \"Percent_Variants\": 19.047619047619047, \"Run_Type\": \"CH\"}, {\"Rank\": 6, \"NumPatients\": 8, \"Percent_Variants\": 19.047619047619047, \"Run_Type\": \"CH\"}, {\"Rank\": 7, \"NumPatients\": 10, \"Percent_Variants\": 23.809523809523807, \"Run_Type\": \"CH\"}, {\"Rank\": 8, \"NumPatients\": 14, \"Percent_Variants\": 33.33333333333333, \"Run_Type\": \"CH\"}, {\"Rank\": 9, \"NumPatients\": 14, \"Percent_Variants\": 33.33333333333333, \"Run_Type\": \"CH\"}, {\"Rank\": 10, \"NumPatients\": 16, \"Percent_Variants\": 38.095238095238095, \"Run_Type\": \"CH\"}, {\"Rank\": 11, \"NumPatients\": 16, \"Percent_Variants\": 38.095238095238095, \"Run_Type\": \"CH\"}, {\"Rank\": 12, \"NumPatients\": 16, \"Percent_Variants\": 38.095238095238095, \"Run_Type\": \"CH\"}, {\"Rank\": 13, \"NumPatients\": 16, \"Percent_Variants\": 38.095238095238095, \"Run_Type\": \"CH\"}, {\"Rank\": 14, \"NumPatients\": 18, \"Percent_Variants\": 42.857142857142854, \"Run_Type\": \"CH\"}, {\"Rank\": 15, \"NumPatients\": 18, \"Percent_Variants\": 42.857142857142854, \"Run_Type\": \"CH\"}, {\"Rank\": 16, \"NumPatients\": 18, \"Percent_Variants\": 42.857142857142854, \"Run_Type\": \"CH\"}, {\"Rank\": 17, \"NumPatients\": 18, \"Percent_Variants\": 42.857142857142854, \"Run_Type\": \"CH\"}, {\"Rank\": 18, \"NumPatients\": 19, \"Percent_Variants\": 45.23809523809524, \"Run_Type\": \"CH\"}, {\"Rank\": 19, \"NumPatients\": 19, \"Percent_Variants\": 45.23809523809524, \"Run_Type\": \"CH\"}, {\"Rank\": 20, \"NumPatients\": 19, \"Percent_Variants\": 45.23809523809524, \"Run_Type\": \"CH\"}, {\"Rank\": 21, \"NumPatients\": 19, \"Percent_Variants\": 45.23809523809524, \"Run_Type\": \"CH\"}, {\"Rank\": 22, \"NumPatients\": 19, \"Percent_Variants\": 45.23809523809524, \"Run_Type\": \"CH\"}, {\"Rank\": 23, \"NumPatients\": 19, \"Percent_Variants\": 45.23809523809524, \"Run_Type\": \"CH\"}, {\"Rank\": 24, \"NumPatients\": 19, \"Percent_Variants\": 45.23809523809524, \"Run_Type\": \"CH\"}, {\"Rank\": 25, \"NumPatients\": 19, \"Percent_Variants\": 45.23809523809524, \"Run_Type\": \"CH\"}, {\"Rank\": 26, \"NumPatients\": 19, \"Percent_Variants\": 45.23809523809524, \"Run_Type\": \"CH\"}, {\"Rank\": 27, \"NumPatients\": 19, \"Percent_Variants\": 45.23809523809524, \"Run_Type\": \"CH\"}, {\"Rank\": 28, \"NumPatients\": 19, \"Percent_Variants\": 45.23809523809524, \"Run_Type\": \"CH\"}, {\"Rank\": 29, \"NumPatients\": 19, \"Percent_Variants\": 45.23809523809524, \"Run_Type\": \"CH\"}, {\"Rank\": 30, \"NumPatients\": 19, \"Percent_Variants\": 45.23809523809524, \"Run_Type\": \"CH\"}], \"data-193104f5bd93d697b22bf2a5f65853fa\": [{\"Rank\": 1, \"NumPatients\": 92, \"Percent_Variants\": 60.130718954248366, \"Run_Type\": \"All\"}, {\"Rank\": 2, \"NumPatients\": 113, \"Percent_Variants\": 73.8562091503268, \"Run_Type\": \"All\"}, {\"Rank\": 3, \"NumPatients\": 124, \"Percent_Variants\": 81.04575163398692, \"Run_Type\": \"All\"}, {\"Rank\": 4, \"NumPatients\": 127, \"Percent_Variants\": 83.00653594771242, \"Run_Type\": \"All\"}, {\"Rank\": 5, \"NumPatients\": 130, \"Percent_Variants\": 84.9673202614379, \"Run_Type\": \"All\"}, {\"Rank\": 6, \"NumPatients\": 132, \"Percent_Variants\": 86.27450980392157, \"Run_Type\": \"All\"}, {\"Rank\": 7, \"NumPatients\": 134, \"Percent_Variants\": 87.58169934640523, \"Run_Type\": \"All\"}, {\"Rank\": 8, \"NumPatients\": 134, \"Percent_Variants\": 87.58169934640523, \"Run_Type\": \"All\"}, {\"Rank\": 9, \"NumPatients\": 135, \"Percent_Variants\": 88.23529411764706, \"Run_Type\": \"All\"}, {\"Rank\": 10, \"NumPatients\": 135, \"Percent_Variants\": 88.23529411764706, \"Run_Type\": \"All\"}, {\"Rank\": 11, \"NumPatients\": 135, \"Percent_Variants\": 88.23529411764706, \"Run_Type\": \"All\"}, {\"Rank\": 12, \"NumPatients\": 135, \"Percent_Variants\": 88.23529411764706, \"Run_Type\": \"All\"}, {\"Rank\": 13, \"NumPatients\": 135, \"Percent_Variants\": 88.23529411764706, \"Run_Type\": \"All\"}, {\"Rank\": 14, \"NumPatients\": 137, \"Percent_Variants\": 89.54248366013073, \"Run_Type\": \"All\"}, {\"Rank\": 15, \"NumPatients\": 137, \"Percent_Variants\": 89.54248366013073, \"Run_Type\": \"All\"}, {\"Rank\": 16, \"NumPatients\": 138, \"Percent_Variants\": 90.19607843137256, \"Run_Type\": \"All\"}, {\"Rank\": 17, \"NumPatients\": 138, \"Percent_Variants\": 90.19607843137256, \"Run_Type\": \"All\"}, {\"Rank\": 18, \"NumPatients\": 139, \"Percent_Variants\": 90.84967320261438, \"Run_Type\": \"All\"}, {\"Rank\": 19, \"NumPatients\": 139, \"Percent_Variants\": 90.84967320261438, \"Run_Type\": \"All\"}, {\"Rank\": 20, \"NumPatients\": 140, \"Percent_Variants\": 91.50326797385621, \"Run_Type\": \"All\"}, {\"Rank\": 21, \"NumPatients\": 141, \"Percent_Variants\": 92.15686274509804, \"Run_Type\": \"All\"}, {\"Rank\": 22, \"NumPatients\": 141, \"Percent_Variants\": 92.15686274509804, \"Run_Type\": \"All\"}, {\"Rank\": 23, \"NumPatients\": 141, \"Percent_Variants\": 92.15686274509804, \"Run_Type\": \"All\"}, {\"Rank\": 24, \"NumPatients\": 141, \"Percent_Variants\": 92.15686274509804, \"Run_Type\": \"All\"}, {\"Rank\": 25, \"NumPatients\": 143, \"Percent_Variants\": 93.4640522875817, \"Run_Type\": \"All\"}, {\"Rank\": 26, \"NumPatients\": 143, \"Percent_Variants\": 93.4640522875817, \"Run_Type\": \"All\"}, {\"Rank\": 27, \"NumPatients\": 143, \"Percent_Variants\": 93.4640522875817, \"Run_Type\": \"All\"}, {\"Rank\": 28, \"NumPatients\": 143, \"Percent_Variants\": 93.4640522875817, \"Run_Type\": \"All\"}, {\"Rank\": 29, \"NumPatients\": 143, \"Percent_Variants\": 93.4640522875817, \"Run_Type\": \"All\"}, {\"Rank\": 30, \"NumPatients\": 143, \"Percent_Variants\": 93.4640522875817, \"Run_Type\": \"All\"}], \"data-cbc0b2d6e3b85af87891510c3bf750a7\": [{\"Rank\": 1, \"NumPatients\": 57, \"Percent_Variants\": 63.33333333333333, \"Run_Type\": \"AD\"}, {\"Rank\": 2, \"NumPatients\": 72, \"Percent_Variants\": 80.0, \"Run_Type\": \"AD\"}, {\"Rank\": 3, \"NumPatients\": 75, \"Percent_Variants\": 83.33333333333334, \"Run_Type\": \"AD\"}, {\"Rank\": 4, \"NumPatients\": 77, \"Percent_Variants\": 85.55555555555556, \"Run_Type\": \"AD\"}, {\"Rank\": 5, \"NumPatients\": 78, \"Percent_Variants\": 86.66666666666667, \"Run_Type\": \"AD\"}, {\"Rank\": 6, \"NumPatients\": 80, \"Percent_Variants\": 88.88888888888889, \"Run_Type\": \"AD\"}, {\"Rank\": 7, \"NumPatients\": 81, \"Percent_Variants\": 90.0, \"Run_Type\": \"AD\"}, {\"Rank\": 8, \"NumPatients\": 81, \"Percent_Variants\": 90.0, \"Run_Type\": \"AD\"}, {\"Rank\": 9, \"NumPatients\": 81, \"Percent_Variants\": 90.0, \"Run_Type\": \"AD\"}, {\"Rank\": 10, \"NumPatients\": 81, \"Percent_Variants\": 90.0, \"Run_Type\": \"AD\"}, {\"Rank\": 11, \"NumPatients\": 81, \"Percent_Variants\": 90.0, \"Run_Type\": \"AD\"}, {\"Rank\": 12, \"NumPatients\": 81, \"Percent_Variants\": 90.0, \"Run_Type\": \"AD\"}, {\"Rank\": 13, \"NumPatients\": 81, \"Percent_Variants\": 90.0, \"Run_Type\": \"AD\"}, {\"Rank\": 14, \"NumPatients\": 83, \"Percent_Variants\": 92.22222222222223, \"Run_Type\": \"AD\"}, {\"Rank\": 15, \"NumPatients\": 83, \"Percent_Variants\": 92.22222222222223, \"Run_Type\": \"AD\"}, {\"Rank\": 16, \"NumPatients\": 84, \"Percent_Variants\": 93.33333333333333, \"Run_Type\": \"AD\"}, {\"Rank\": 17, \"NumPatients\": 84, \"Percent_Variants\": 93.33333333333333, \"Run_Type\": \"AD\"}, {\"Rank\": 18, \"NumPatients\": 84, \"Percent_Variants\": 93.33333333333333, \"Run_Type\": \"AD\"}, {\"Rank\": 19, \"NumPatients\": 84, \"Percent_Variants\": 93.33333333333333, \"Run_Type\": \"AD\"}, {\"Rank\": 20, \"NumPatients\": 84, \"Percent_Variants\": 93.33333333333333, \"Run_Type\": \"AD\"}, {\"Rank\": 21, \"NumPatients\": 85, \"Percent_Variants\": 94.44444444444444, \"Run_Type\": \"AD\"}, {\"Rank\": 22, \"NumPatients\": 85, \"Percent_Variants\": 94.44444444444444, \"Run_Type\": \"AD\"}, {\"Rank\": 23, \"NumPatients\": 85, \"Percent_Variants\": 94.44444444444444, \"Run_Type\": \"AD\"}, {\"Rank\": 24, \"NumPatients\": 85, \"Percent_Variants\": 94.44444444444444, \"Run_Type\": \"AD\"}, {\"Rank\": 25, \"NumPatients\": 85, \"Percent_Variants\": 94.44444444444444, \"Run_Type\": \"AD\"}, {\"Rank\": 26, \"NumPatients\": 85, \"Percent_Variants\": 94.44444444444444, \"Run_Type\": \"AD\"}, {\"Rank\": 27, \"NumPatients\": 85, \"Percent_Variants\": 94.44444444444444, \"Run_Type\": \"AD\"}, {\"Rank\": 28, \"NumPatients\": 85, \"Percent_Variants\": 94.44444444444444, \"Run_Type\": \"AD\"}, {\"Rank\": 29, \"NumPatients\": 85, \"Percent_Variants\": 94.44444444444444, \"Run_Type\": \"AD\"}, {\"Rank\": 30, \"NumPatients\": 85, \"Percent_Variants\": 94.44444444444444, \"Run_Type\": \"AD\"}], \"data-6a09b213e454e8d544a4846281811b8f\": [{\"Rank\": 1, \"NumPatients\": 7, \"Percent_Variants\": 77.77777777777779, \"Run_Type\": \"AR\"}, {\"Rank\": 2, \"NumPatients\": 7, \"Percent_Variants\": 77.77777777777779, \"Run_Type\": \"AR\"}, {\"Rank\": 3, \"NumPatients\": 7, \"Percent_Variants\": 77.77777777777779, \"Run_Type\": \"AR\"}, {\"Rank\": 4, \"NumPatients\": 7, \"Percent_Variants\": 77.77777777777779, \"Run_Type\": \"AR\"}, {\"Rank\": 5, \"NumPatients\": 7, \"Percent_Variants\": 77.77777777777779, \"Run_Type\": \"AR\"}, {\"Rank\": 6, \"NumPatients\": 7, \"Percent_Variants\": 77.77777777777779, \"Run_Type\": \"AR\"}, {\"Rank\": 7, \"NumPatients\": 8, \"Percent_Variants\": 88.88888888888889, \"Run_Type\": \"AR\"}, {\"Rank\": 8, \"NumPatients\": 8, \"Percent_Variants\": 88.88888888888889, \"Run_Type\": \"AR\"}, {\"Rank\": 9, \"NumPatients\": 9, \"Percent_Variants\": 100.0, \"Run_Type\": \"AR\"}, {\"Rank\": 10, \"NumPatients\": 9, \"Percent_Variants\": 100.0, \"Run_Type\": \"AR\"}, {\"Rank\": 11, \"NumPatients\": 9, \"Percent_Variants\": 100.0, \"Run_Type\": \"AR\"}, {\"Rank\": 12, \"NumPatients\": 9, \"Percent_Variants\": 100.0, \"Run_Type\": \"AR\"}, {\"Rank\": 13, \"NumPatients\": 9, \"Percent_Variants\": 100.0, \"Run_Type\": \"AR\"}, {\"Rank\": 14, \"NumPatients\": 9, \"Percent_Variants\": 100.0, \"Run_Type\": \"AR\"}, {\"Rank\": 15, \"NumPatients\": 9, \"Percent_Variants\": 100.0, \"Run_Type\": \"AR\"}, {\"Rank\": 16, \"NumPatients\": 9, \"Percent_Variants\": 100.0, \"Run_Type\": \"AR\"}, {\"Rank\": 17, \"NumPatients\": 9, \"Percent_Variants\": 100.0, \"Run_Type\": \"AR\"}, {\"Rank\": 18, \"NumPatients\": 9, \"Percent_Variants\": 100.0, \"Run_Type\": \"AR\"}, {\"Rank\": 19, \"NumPatients\": 9, \"Percent_Variants\": 100.0, \"Run_Type\": \"AR\"}, {\"Rank\": 20, \"NumPatients\": 9, \"Percent_Variants\": 100.0, \"Run_Type\": \"AR\"}, {\"Rank\": 21, \"NumPatients\": 9, \"Percent_Variants\": 100.0, \"Run_Type\": \"AR\"}, {\"Rank\": 22, \"NumPatients\": 9, \"Percent_Variants\": 100.0, \"Run_Type\": \"AR\"}, {\"Rank\": 23, \"NumPatients\": 9, \"Percent_Variants\": 100.0, \"Run_Type\": \"AR\"}, {\"Rank\": 24, \"NumPatients\": 9, \"Percent_Variants\": 100.0, \"Run_Type\": \"AR\"}, {\"Rank\": 25, \"NumPatients\": 9, \"Percent_Variants\": 100.0, \"Run_Type\": \"AR\"}, {\"Rank\": 26, \"NumPatients\": 9, \"Percent_Variants\": 100.0, \"Run_Type\": \"AR\"}, {\"Rank\": 27, \"NumPatients\": 9, \"Percent_Variants\": 100.0, \"Run_Type\": \"AR\"}, {\"Rank\": 28, \"NumPatients\": 9, \"Percent_Variants\": 100.0, \"Run_Type\": \"AR\"}, {\"Rank\": 29, \"NumPatients\": 9, \"Percent_Variants\": 100.0, \"Run_Type\": \"AR\"}, {\"Rank\": 30, \"NumPatients\": 9, \"Percent_Variants\": 100.0, \"Run_Type\": \"AR\"}], \"data-86bcca13e2cf2e633350cd2490b0ba31\": [{\"Rank\": 1, \"NumPatients\": 23, \"Percent_Variants\": 51.11111111111111, \"Run_Type\": \"CH\"}, {\"Rank\": 2, \"NumPatients\": 27, \"Percent_Variants\": 60.0, \"Run_Type\": \"CH\"}, {\"Rank\": 3, \"NumPatients\": 35, \"Percent_Variants\": 77.77777777777779, \"Run_Type\": \"CH\"}, {\"Rank\": 4, \"NumPatients\": 35, \"Percent_Variants\": 77.77777777777779, \"Run_Type\": \"CH\"}, {\"Rank\": 5, \"NumPatients\": 37, \"Percent_Variants\": 82.22222222222221, \"Run_Type\": \"CH\"}, {\"Rank\": 6, \"NumPatients\": 37, \"Percent_Variants\": 82.22222222222221, \"Run_Type\": \"CH\"}, {\"Rank\": 7, \"NumPatients\": 37, \"Percent_Variants\": 82.22222222222221, \"Run_Type\": \"CH\"}, {\"Rank\": 8, \"NumPatients\": 37, \"Percent_Variants\": 82.22222222222221, \"Run_Type\": \"CH\"}, {\"Rank\": 9, \"NumPatients\": 37, \"Percent_Variants\": 82.22222222222221, \"Run_Type\": \"CH\"}, {\"Rank\": 10, \"NumPatients\": 37, \"Percent_Variants\": 82.22222222222221, \"Run_Type\": \"CH\"}, {\"Rank\": 11, \"NumPatients\": 37, \"Percent_Variants\": 82.22222222222221, \"Run_Type\": \"CH\"}, {\"Rank\": 12, \"NumPatients\": 37, \"Percent_Variants\": 82.22222222222221, \"Run_Type\": \"CH\"}, {\"Rank\": 13, \"NumPatients\": 37, \"Percent_Variants\": 82.22222222222221, \"Run_Type\": \"CH\"}, {\"Rank\": 14, \"NumPatients\": 37, \"Percent_Variants\": 82.22222222222221, \"Run_Type\": \"CH\"}, {\"Rank\": 15, \"NumPatients\": 37, \"Percent_Variants\": 82.22222222222221, \"Run_Type\": \"CH\"}, {\"Rank\": 16, \"NumPatients\": 37, \"Percent_Variants\": 82.22222222222221, \"Run_Type\": \"CH\"}, {\"Rank\": 17, \"NumPatients\": 37, \"Percent_Variants\": 82.22222222222221, \"Run_Type\": \"CH\"}, {\"Rank\": 18, \"NumPatients\": 38, \"Percent_Variants\": 84.44444444444444, \"Run_Type\": \"CH\"}, {\"Rank\": 19, \"NumPatients\": 38, \"Percent_Variants\": 84.44444444444444, \"Run_Type\": \"CH\"}, {\"Rank\": 20, \"NumPatients\": 38, \"Percent_Variants\": 84.44444444444444, \"Run_Type\": \"CH\"}, {\"Rank\": 21, \"NumPatients\": 38, \"Percent_Variants\": 84.44444444444444, \"Run_Type\": \"CH\"}, {\"Rank\": 22, \"NumPatients\": 38, \"Percent_Variants\": 84.44444444444444, \"Run_Type\": \"CH\"}, {\"Rank\": 23, \"NumPatients\": 38, \"Percent_Variants\": 84.44444444444444, \"Run_Type\": \"CH\"}, {\"Rank\": 24, \"NumPatients\": 38, \"Percent_Variants\": 84.44444444444444, \"Run_Type\": \"CH\"}, {\"Rank\": 25, \"NumPatients\": 40, \"Percent_Variants\": 88.88888888888889, \"Run_Type\": \"CH\"}, {\"Rank\": 26, \"NumPatients\": 40, \"Percent_Variants\": 88.88888888888889, \"Run_Type\": \"CH\"}, {\"Rank\": 27, \"NumPatients\": 40, \"Percent_Variants\": 88.88888888888889, \"Run_Type\": \"CH\"}, {\"Rank\": 28, \"NumPatients\": 40, \"Percent_Variants\": 88.88888888888889, \"Run_Type\": \"CH\"}, {\"Rank\": 29, \"NumPatients\": 40, \"Percent_Variants\": 88.88888888888889, \"Run_Type\": \"CH\"}, {\"Rank\": 30, \"NumPatients\": 40, \"Percent_Variants\": 88.88888888888889, \"Run_Type\": \"CH\"}]}}, {\"mode\": \"vega-lite\"});\n",
       "</script>"
      ],
      "text/plain": [
       "alt.VConcatChart(...)"
      ]
     },
     "execution_count": 61,
     "metadata": {},
     "output_type": "execute_result"
    }
   ],
   "source": [
    "alt.vconcat(gs_exomiser_allplots, gs_genomiser_allplots, es_exomiser_allplots).resolve_scale(color='shared').configure_axis(grid=True,\n",
    "    labelPadding= 5,\n",
    "    labelLimit=0,\n",
    "    labelFontSize=13, \n",
    "    titleFontSize=15, labelFont='arial', tickSize=8).configure_legend(\n",
    "        labelLimit=0,labelFontSize=15, titleFontSize=15, labelFont='arial')"
   ]
  },
  {
   "cell_type": "code",
   "execution_count": null,
   "metadata": {},
   "outputs": [],
   "source": []
  }
 ],
 "metadata": {
  "kernelspec": {
   "display_name": "base",
   "language": "python",
   "name": "python3"
  },
  "language_info": {
   "codemirror_mode": {
    "name": "ipython",
    "version": 3
   },
   "file_extension": ".py",
   "mimetype": "text/x-python",
   "name": "python",
   "nbconvert_exporter": "python",
   "pygments_lexer": "ipython3",
   "version": "3.12.2"
  }
 },
 "nbformat": 4,
 "nbformat_minor": 2
}
