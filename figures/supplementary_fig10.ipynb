{
 "cells": [
  {
   "cell_type": "code",
   "execution_count": null,
   "metadata": {},
   "outputs": [],
   "source": [
    "import pandas as pd \n",
    "import altair as alt\n",
    "import sys\n",
    "sys.path.append('figure_scripts/')\n",
    "\n",
    "import plot_scripts as ps"
   ]
  },
  {
   "cell_type": "code",
   "execution_count": null,
   "metadata": {},
   "outputs": [],
   "source": [
    "success_table = pd.read_csv('supp_fig_10_input.tsv', sep='\\t')\n",
    "success_table['UDN_ID'] =[x.split('_')[0] for x in success_table['ID']]\n",
    "print(len(set(success_table['ID'])),'genes')\n",
    "print(len(success_table), 'variants')\n",
    "print(len(set(success_table['UDN_ID'])), 'patients')"
   ]
  },
  {
   "cell_type": "code",
   "execution_count": null,
   "metadata": {},
   "outputs": [],
   "source": [
    "mapping = pd.read_csv('GS_ID_mapping.csv')\n",
    "mapped= []\n",
    "for i, row in success_table.iterrows():\n",
    "    ID = row['ID']\n",
    "    mapped_id = mapping[mapping['ID']==ID]['Dumb_ID'].item()\n",
    "    mapped.append(mapped_id)\n",
    "success_table['Dumb_ID'] = mapped"
   ]
  },
  {
   "cell_type": "code",
   "execution_count": null,
   "metadata": {},
   "outputs": [],
   "source": [
    "domain = [\n",
    "                'noN_filtered_15_85_human_revel_mvp_alphaM_spliceAI_noinheritance_noWL',\n",
    "                'noN_filtered_15_85_human_revel_mvp_alphaM_spliceAI_singleton_noWL',\n",
    "                'noN_filtered_15_85_human_revel_mvp_alphaM_spliceAI_noterms_noWL',\n",
    "                'noN_filtered_15_85_human_revel_mvp_alphaM_spliceAI_random_fromHPO_noWL',\n",
    "                'noN_filtered_15_85_human_revel_mvp_alphaM_spliceAI_noWL',\n",
    "                'noN_filtered_15_85_human_revel_mvp_alphaM_spliceAI_singleton_noinheritance_noWL',\n",
    "                'curated_noN_filtered_15_85_human_revel_mvp_alphaM_spliceAI_noWL', \n",
    "                'noN_filtered_15_85_human_revel_mvp_alphaM_spliceAI_random_fromUDN_add5noWL', \n",
    "                'noN_filtered_15_85_human_revel_mvp_alphaM_spliceAI_random_fromUDN_add10noWL',\n",
    "                'noN_filtered_15_85_human_revel_mvp_alphaM_spliceAI_random_fromUDN_add20noWL']\n"
   ]
  },
  {
   "cell_type": "markdown",
   "metadata": {},
   "source": [
    "## A: Affect of randomly sampled phenotypes or no phenotypes"
   ]
  },
  {
   "cell_type": "code",
   "execution_count": null,
   "metadata": {},
   "outputs": [],
   "source": [
    "runtypes  = ['noN_filtered_15_85_human_revel_mvp_alphaM_spliceAI_noWL', 'noN_filtered_15_85_human_revel_mvp_alphaM_spliceAI_random_fromHPO_noWL','noN_filtered_15_85_human_revel_mvp_alphaM_spliceAI_noterms_noWL',\n",
    " 'noN_filtered_15_85_human_revel_mvp_alphaM_spliceAI_random_fromUDN_add5noWL', 'noN_filtered_15_85_human_revel_mvp_alphaM_spliceAI_random_fromUDN_add10noWL','noN_filtered_15_85_human_revel_mvp_alphaM_spliceAI_random_fromUDN_add20noWL']\n",
    "\n",
    "df,denom = ps.create_df(300, runtypes, success_table)\n",
    "plot_A = ps.create_plot(denom, df, domain, 'category20', False, domain).properties(height=350, width=400)\n",
    "\n",
    "plot_A.configure_axis(\n",
    "    labelFontSize=15,\n",
    "    labelPadding= 5,\n",
    "    tickSize=8,\n",
    "    titleFontSize=15,\n",
    "    labelFont='arial',\n",
    "    titleFont='arial',\n",
    "    labelLimit=0\n",
    "    ).configure_legend(\n",
    "        labelLimit=0,labelFontSize=13, titleFontSize=15, labelFont='arial', titleFont='arial')\n"
   ]
  },
  {
   "cell_type": "markdown",
   "metadata": {},
   "source": [
    "## Pruning"
   ]
  },
  {
   "cell_type": "code",
   "execution_count": null,
   "metadata": {},
   "outputs": [],
   "source": [
    "phenotype_data = pd.read_csv('udn_phenotype_data.csv') ##from \"prune_term_lists.py\"\n",
    "changed = list(phenotype_data[phenotype_data['Curated_Changed']=='Changed']['ID'])\n",
    "print(len(changed))\n",
    "changed.remove('UDN195171')\n",
    "print(len(changed))\n",
    "\n",
    "success_table['UDN_ID'] =[x.split('_')[0] for x in success_table['ID']]\n",
    "trimmed_success_table =  success_table[success_table['UDN_ID'].isin(changed)]\n",
    "print(len(set(trimmed_success_table['ID'])),'genes')\n",
    "print(len(trimmed_success_table), 'variants')\n",
    "print(len(set(trimmed_success_table['UDN_ID'])), 'patients')\n",
    "ids = list(set(trimmed_success_table['UDN_ID']))"
   ]
  },
  {
   "cell_type": "code",
   "execution_count": null,
   "metadata": {},
   "outputs": [],
   "source": [
    "\n",
    "domain = ['Comprehensive', 'Curated', 'Variant']\n",
    "_range = ['#28993C','lightgrey','#e38cbb']"
   ]
  },
  {
   "cell_type": "code",
   "execution_count": null,
   "metadata": {},
   "outputs": [],
   "source": [
    "data = []\n",
    "removed = []\n",
    "added = []\n",
    "for id in set(ids):\n",
    "    old_terms = set(phenotype_data[phenotype_data['ID']==id]['Terms'].item().split('; '))\n",
    "    curated_terms = set(phenotype_data[phenotype_data['ID']==id]['Curated_Terms'].item().split('; '))\n",
    "    \n",
    "    difference = len(old_terms) - len(curated_terms)\n",
    "    \n",
    "    removed_terms = set(old_terms) - set(curated_terms)\n",
    "\n",
    "    added_terms = set(curated_terms) - set(old_terms)\n",
    "    added += list(added_terms)\n",
    "    removed += list(removed_terms)\n",
    "    data.append([id, len(old_terms), 'Comprehensive', difference, len(removed_terms), len(added_terms)])\n",
    "    data.append([id, len(curated_terms), 'Curated', difference,len(removed_terms), len(added_terms)])\n",
    "df_summary = pd.DataFrame(data, columns= ['ID', 'Num_Terms', 'Class', 'Diff', 'Removed', 'Added'])\n",
    "df_summary"
   ]
  },
  {
   "cell_type": "code",
   "execution_count": null,
   "metadata": {},
   "outputs": [],
   "source": [
    "from pyhpo import Ontology, HPOSet\n",
    "_=Ontology()\n",
    "print(HPOSet.from_queries(removed))"
   ]
  },
  {
   "cell_type": "markdown",
   "metadata": {},
   "source": [
    "## B"
   ]
  },
  {
   "cell_type": "code",
   "execution_count": null,
   "metadata": {},
   "outputs": [],
   "source": [
    "data2 = []\n",
    "for term in set(removed):\n",
    "    try:\n",
    "       # data2.append([term, removed.count(term), Ontology.get_hpo_object(term).name])\n",
    "        data2.append([term, removed.count(term), round(((removed.count(term)/len(ids))*100),1), Ontology.get_hpo_object(term).name])\n",
    "    except:\n",
    "       # data2.append([term, removed.count(term), 'Unknown_Term'])\n",
    "        data2.append([term, removed.count(term),round((removed.count(term)/len(ids))*100,2), 'Unknown_Term'])\n",
    "\n",
    "df2 = pd.DataFrame(data2, columns=['Term', 'numPatients' ,'Percent_Patients','TermName'])\n",
    "\n",
    "print(len(removed), 'HPO terms used')\n",
    "print(len(set(removed)), 'unique HPO terms used')"
   ]
  },
  {
   "cell_type": "code",
   "execution_count": null,
   "metadata": {},
   "outputs": [],
   "source": [
    "source = df2.sort_values(by='Percent_Patients').sort_values(by='Percent_Patients', ascending=False).reset_index(drop=True)#.head(24)\n",
    "\n",
    "base = alt.Chart(source, title=str(len(ids)) + ' UDN Individuals ~ Removed HPO Terms')\n",
    "\n",
    "bars=base.mark_bar().encode(\n",
    "    y=alt.Y('TermName:N', sort='-x', title=None).axis(offset=5, domainOpacity=0),\n",
    "    x=alt.X('numPatients', title='Number of Benchmarking Patients with HPO Term Removed'), \n",
    "    tooltip = ['numPatients','PhenoCat_IC:N'],\n",
    ")\n",
    "\n",
    "text = base.mark_text(\n",
    "    align='left',\n",
    "    baseline='middle',\n",
    "    dx=3,\n",
    "    color='black',\n",
    "    size=14\n",
    ").encode(\n",
    "    y=alt.Y('TermName:N', sort='-x', title=None).axis(offset=5, domainOpacity=0),\n",
    "    x=alt.X('numPatients'), \n",
    "    text='numPatients:Q'\n",
    ")\n",
    "removed_terms_plot = alt.layer(bars).resolve_scale(color='independent').properties(height=350, width=250)\n",
    "\n",
    "removed_terms_plot"
   ]
  },
  {
   "cell_type": "markdown",
   "metadata": {},
   "source": [
    "## C"
   ]
  },
  {
   "cell_type": "code",
   "execution_count": null,
   "metadata": {},
   "outputs": [],
   "source": [
    "base = alt.Chart(df_summary)\n",
    "box = base.mark_boxplot().encode(\n",
    "    alt.Y(\"Num_Terms:Q\", title='Number of HPO terms assigned to proband').scale(zero=False),\n",
    "    alt.X('Class:N', title=None),\n",
    "    color=alt.Color('Class:N', scale=alt.Scale(domain=domain, range=_range))\n",
    ")\n",
    "\n",
    "rule = base.mark_rule(color='black', strokeWidth=2, strokeDash=[2,2]).encode(\n",
    "    x='median(Num_Terms):Q',\n",
    "    tooltip=['median(Num_Terms):Q']\n",
    ")\n",
    "\n",
    "text = base.mark_text(\n",
    "    align='left',\n",
    "    baseline='middle',\n",
    "    dx=-5,\n",
    "    dy=-12,\n",
    "    color='black',\n",
    "    size=10\n",
    ").encode(\n",
    "    x='Class:N',\n",
    "    y=alt.Y('median(Num_Terms):Q'), \n",
    "    #color='Class:N',\n",
    "    text='median(Num_Terms):Q'\n",
    ")\n",
    "term_boxplot = alt.layer(box, text).properties(height=300, width=100)#.configure_axis(grid=False,\n",
    "    # labelPadding= 5,\n",
    "    # labelLimit=0,\n",
    "    # labelFontSize=12, \n",
    "    # titleFontSize=15, labelFont='arial', tickSize=8).configure_legend(\n",
    "    #     labelLimit=0,labelFontSize=15, titleFontSize=15, labelFont='arial')\n",
    "\n",
    "term_boxplot"
   ]
  },
  {
   "cell_type": "markdown",
   "metadata": {},
   "source": [
    "## D"
   ]
  },
  {
   "cell_type": "code",
   "execution_count": null,
   "metadata": {},
   "outputs": [],
   "source": [
    "data = []\n",
    "to_plot = []\n",
    "to_plot_large = []\n",
    "to_plot_worse = []\n",
    "\n",
    "unfiltered_run_type = 'noN_filtered_15_85_human_revel_mvp_alphaM_spliceAI_noWL'\n",
    "filtered_run_type = 'curated_noN_filtered_15_85_human_revel_mvp_alphaM_spliceAI_noWL'\n",
    "successes = trimmed_success_table[trimmed_success_table['Variant_Level_noMOI_noN_filtered_15_85_human_revel_mvp_alphaM_spliceAI_noWL'] == 'Variant_Present_noMOI']\n",
    "\n",
    "for i, patient_row in successes.iterrows():\n",
    "    ID = patient_row['Dumb_ID']\n",
    "    unfiltered_rank = patient_row['Variant_Level_noMOI_rank_' + unfiltered_run_type]\n",
    "    filtered_rank = patient_row['Variant_Level_noMOI_rank_' + filtered_run_type]\n",
    "    if filtered_rank == 'N/A':\n",
    "        filtered_rank = 0\n",
    "        print(ID, unfiltered_rank)\n",
    "    difference = unfiltered_rank - filtered_rank\n",
    "    data.append([ID, unfiltered_rank, difference, 'Comprehensive'])\n",
    "    data.append([ID, filtered_rank, difference, 'Curated'])\n",
    "\n",
    "    if unfiltered_rank != filtered_rank:\n",
    "        if unfiltered_rank > filtered_rank:\n",
    "            if unfiltered_rank > 20:\n",
    "                to_plot_large.append(ID)\n",
    "            else:\n",
    "                 to_plot.append(ID)\n",
    "        else:\n",
    "            to_plot_worse.append(ID)\n",
    "\n",
    "df = pd.DataFrame(data, columns=['ID', 'Rank', 'Diff', 'RunType'])\n",
    "print(len(to_plot))\n",
    "\n"
   ]
  },
  {
   "cell_type": "code",
   "execution_count": null,
   "metadata": {},
   "outputs": [],
   "source": [
    "\n",
    "\n",
    "source = df[df['ID'].isin(to_plot)].sort_values(by='Rank', ascending=False)\n",
    "order = list(source['ID']) + ['UDN197_DENND5B']\n",
    "print(len(source)/2)\n",
    "rank_change1 = alt.Chart(source).mark_circle(size=100, filled=True, stroke='black',strokeWidth=1,opacity=1).encode(\n",
    "    x=alt.X('ID', axis=alt.Axis(labelAngle=-60)).scale(domain=order),\n",
    "    y=alt.Y('Rank', title='Exomiser Rank of Causative Variant'),#, scale=alt.Scale(domain=[0,29.1])),\n",
    "    color=alt.Color('RunType', sort=['Unfiltered', 'Filtered'], scale=alt.Scale(domain = domain, range=_range), legend=alt.Legend(\n",
    "        orient='top',\n",
    "        direction='horizontal',\n",
    "        titleAnchor='middle')),\n",
    "    tooltip = ['RunType', 'ID', 'Rank', 'Diff']\n",
    ").properties(\n",
    "    height=200,\n",
    "    width=400)\n",
    "source = df[df['ID'].isin(to_plot_large)].sort_values(by='Rank', ascending=False)\n",
    "print(order)\n",
    "order = list(source['ID'])\n",
    "print(len(source)/2)\n",
    "rank_change2 = alt.Chart(source).mark_circle(size=100, filled=True, stroke='black', strokeWidth=1, opacity=1).encode(\n",
    "    x=alt.X('ID',  axis=None).scale(domain=order),\n",
    "    y=alt.Y('Rank', title=None, scale=alt.Scale(domain=[70,73])),\n",
    "    #size = 'Term_Diff',\n",
    "    color=alt.Color('RunType', sort=['Curated', 'Comprehensive'], scale=alt.Scale(domain = domain, range=_range), legend=alt.Legend(\n",
    "        orient='top',\n",
    "        direction='horizontal',\n",
    "        titleAnchor='middle')),\n",
    "    tooltip = ['RunType', 'ID', 'Rank', 'Diff']\n",
    ").properties(\n",
    "    height=40, width=400)\n",
    "\n",
    "rank_improvements = alt.vconcat(rank_change2, rank_change1, spacing=5).resolve_scale(x=\"shared\")\n",
    "rank_improvements"
   ]
  },
  {
   "cell_type": "markdown",
   "metadata": {},
   "source": [
    "## E"
   ]
  },
  {
   "cell_type": "code",
   "execution_count": null,
   "metadata": {},
   "outputs": [],
   "source": [
    "source = df[df['ID'].isin(to_plot_worse)].sort_values(by='Rank', ascending=False)\n",
    "order = list(source['ID'])\n",
    "print(len(source)/2)\n",
    "rank_worsen1 = alt.Chart(source[source['ID']!= 'UDN57_SPEN']).mark_circle(size=100, filled=True, stroke='black',strokeWidth=1, opacity=1).encode(\n",
    "    x=alt.X('ID',  axis=alt.Axis(labelAngle=-60)).scale(domain=['UDN26_PIGN','UDN105_SNUPN', 'UDN57_SPEN']),\n",
    "    y=alt.Y('Rank', title='Exomiser Rank of Causative Variant'),#, scale=alt.Scale(domain=[0,29.1])),\n",
    "    #size = 'Term_Diff',\n",
    "    color=alt.Color('RunType', sort=['Curated', 'Comprehensive'], scale=alt.Scale(domain = domain, range=_range), legend=alt.Legend(\n",
    "        orient='top',\n",
    "        direction='horizontal',\n",
    "        titleAnchor='middle')),\n",
    "    tooltip = ['RunType', 'ID', 'Rank', 'Diff']\n",
    ").properties(\n",
    "    height=200,\n",
    "    width=100\n",
    ")\n",
    "rank_worsen2 = alt.Chart(source[source['ID']== 'UDN57_SPEN']).mark_circle(size=100, filled=True, stroke='black', strokeWidth=1, opacity=1).encode(\n",
    "    x=alt.X('ID', axis=None).scale(domain=['UDN26_PIGN','UDN105_SNUPN', 'UDN57_SPEN']),\n",
    "    y=alt.Y('Rank', title=None, scale=alt.Scale(domain=[65,69])),\n",
    "    #size = 'Term_Diff',\n",
    "    color=alt.Color('RunType', sort=['Curated', 'Comprehensive'], scale=alt.Scale(domain = domain, range=_range), legend=alt.Legend(\n",
    "        orient='top',\n",
    "        direction='horizontal',\n",
    "        titleAnchor='middle')),\n",
    "    tooltip = ['RunType', 'ID', 'Rank', 'Diff']\n",
    ").properties(\n",
    "    height=40, width=100)\n",
    "\n",
    "rank_worsen = alt.vconcat(rank_worsen2,rank_worsen1, spacing=5).resolve_scale(x=\"shared\")\n",
    "rank_worsen"
   ]
  },
  {
   "cell_type": "markdown",
   "metadata": {},
   "source": [
    "## F"
   ]
  },
  {
   "cell_type": "code",
   "execution_count": null,
   "metadata": {},
   "outputs": [],
   "source": [
    "scores=[]\n",
    "trimmed_success_table=trimmed_success_table[trimmed_success_table['Dumb_ID'].isin(to_plot+to_plot_large + to_plot_worse)]\n",
    "for i, patient_row in trimmed_success_table.iterrows():\n",
    "    ID = patient_row['Dumb_ID']\n",
    "\n",
    "    trimmed_score =list(trimmed_success_table[trimmed_success_table['Dumb_ID']==ID]['Variant_Level_noMOI_pheno_curated_noN_filtered_15_85_human_revel_mvp_alphaM_spliceAI_noWL'])[0]\n",
    "    gateway_score= list(trimmed_success_table[trimmed_success_table['Dumb_ID']==ID]['Variant_Level_noMOI_pheno_noN_filtered_15_85_human_revel_mvp_alphaM_spliceAI_noWL'])[0]\n",
    "    variant_score =list(trimmed_success_table[trimmed_success_table['Dumb_ID']==ID]['Variant_Level_noMOI_variant_curated_noN_filtered_15_85_human_revel_mvp_alphaM_spliceAI_noWL'])[0]\n",
    "    trimmed_rank =list(trimmed_success_table[trimmed_success_table['Dumb_ID']==ID]['Variant_Level_noMOI_rank_curated_noN_filtered_15_85_human_revel_mvp_alphaM_spliceAI_noWL'])[0]\n",
    "    gateway_rank= list(trimmed_success_table[trimmed_success_table['Dumb_ID']==ID]['Variant_Level_noMOI_rank_noN_filtered_15_85_human_revel_mvp_alphaM_spliceAI_noWL'])[0]\n",
    "\n",
    "    old_terms = df_summary[(df_summary['ID'] == patient_row['ID'].split('_')[0]) & (df_summary['Class']=='Comprehensive')]['Num_Terms'].item()\n",
    "    new_terms = df_summary[(df_summary['ID'] == patient_row['ID'].split('_')[0]) & (df_summary['Class']=='Curated')]['Num_Terms'].item()\n",
    "\n",
    "    diff = trimmed_score - gateway_score\n",
    "    scores.append([ID, trimmed_score,'Curated', diff,trimmed_rank, new_terms])\n",
    "    scores.append([ID, gateway_score,'Comprehensive', diff,gateway_rank, old_terms])\n",
    "    scores.append([ID, variant_score,'Variant', diff, trimmed_rank,''])\n",
    "\n",
    "scores_df = pd.DataFrame(scores, columns = ['ID', 'Score', 'Class', 'Diff', 'Rank', 'Terms'])"
   ]
  },
  {
   "cell_type": "code",
   "execution_count": null,
   "metadata": {},
   "outputs": [],
   "source": [
    "base = alt.Chart(scores_df)\n",
    "# order = list(scores_df[scores_df['Class']=='Variant'].sort_values(by='Score')['ID'])\n",
    "box = base.mark_circle(size=80, filled=True, stroke='black', strokeWidth=1, opacity=1).encode(\n",
    "    alt.Y(\"Score:Q\", title='Gene Phenotype or Variant Score').scale(zero=False),\n",
    "    x=alt.X('ID', title='',sort=order, axis=alt.Axis(labelAngle=-60)),\n",
    "    color=alt.Color('Class:N', scale=alt.Scale(domain=domain, range=_range)),\n",
    "    tooltip=['Class', 'Rank', 'Score']\n",
    ")\n",
    "\n",
    "text = base.mark_text(\n",
    "    align='left',\n",
    "    baseline='middle',\n",
    "    color='black',\n",
    "    size=10\n",
    ").encode(\n",
    "    x='ID:N',\n",
    "    y=alt.Y('Score:Q'), \n",
    "    #color='Class:N',\n",
    "    text='Rank:Q'\n",
    ")\n",
    "phenotype_score_boxplot = alt.layer(box).properties(height=250, width=350)#.configure_axis(grid=False,\n",
    "    # labelPadding= 5,\n",
    "    # labelLimit=0,\n",
    "    # labelFontSize=12, \n",
    "    # titleFontSize=15, labelFont='arial', tickSize=8).configure_legend(\n",
    "    #     labelLimit=0,labelFontSize=15, titleFontSize=15, labelFont='arial')\n",
    "phenotype_score_boxplot"
   ]
  },
  {
   "cell_type": "markdown",
   "metadata": {},
   "source": [
    "## G"
   ]
  },
  {
   "cell_type": "code",
   "execution_count": null,
   "metadata": {},
   "outputs": [],
   "source": [
    "g_df = scores_df[scores_df['Class']!='Variant']"
   ]
  },
  {
   "cell_type": "code",
   "execution_count": null,
   "metadata": {},
   "outputs": [],
   "source": [
    "base = alt.Chart(g_df)\n",
    "# order = list(scores_df[scores_df['Class']=='Variant'].sort_values(by='Score')['ID'])\n",
    "box = base.mark_circle(size=80, filled=True, stroke='black', strokeWidth=1, opacity=1).encode(\n",
    "    alt.Y(\"Terms:Q\", title='Number of HPO Terms').scale(zero=False),\n",
    "    x=alt.X('ID', title='',sort=order, axis=alt.Axis(labelAngle=-60)),\n",
    "    color=alt.Color('Class:N', scale=alt.Scale(domain=domain, range=_range)),\n",
    "    tooltip=['Class', 'Rank', 'Score']\n",
    ")\n",
    "\n",
    "text = base.mark_text(\n",
    "    align='left',\n",
    "    baseline='middle',\n",
    "    dx=8,\n",
    "    color='black',\n",
    "    size=10\n",
    ").encode(\n",
    "    x=alt.X('ID', title='',sort=order, axis=alt.Axis(labelAngle=-60)),\n",
    "    y=alt.Y('Terms:Q'), \n",
    "    #color='Class:N',\n",
    "    text='Terms:Q'\n",
    ")\n",
    "phenotype_term_counts = alt.layer(box,text).properties(height=300, width=500)#.configure_axis(grid=False,\n",
    "    # labelPadding= 5,\n",
    "    # labelLimit=0,\n",
    "    # labelFontSize=12, \n",
    "    # titleFontSize=15, labelFont='arial', tickSize=8).configure_legend(\n",
    "    #     labelLimit=0,labelFontSize=15, titleFontSize=15, labelFont='arial')\n",
    "phenotype_term_counts"
   ]
  },
  {
   "cell_type": "code",
   "execution_count": 52,
   "metadata": {},
   "outputs": [
    {
     "data": {
      "text/html": [
       "\n",
       "<style>\n",
       "  #altair-viz-1d5fce2155074640a9f4e8f913b7e0ce.vega-embed {\n",
       "    width: 100%;\n",
       "    display: flex;\n",
       "  }\n",
       "\n",
       "  #altair-viz-1d5fce2155074640a9f4e8f913b7e0ce.vega-embed details,\n",
       "  #altair-viz-1d5fce2155074640a9f4e8f913b7e0ce.vega-embed details summary {\n",
       "    position: relative;\n",
       "  }\n",
       "</style>\n",
       "<div id=\"altair-viz-1d5fce2155074640a9f4e8f913b7e0ce\"></div>\n",
       "<script type=\"text/javascript\">\n",
       "  var VEGA_DEBUG = (typeof VEGA_DEBUG == \"undefined\") ? {} : VEGA_DEBUG;\n",
       "  (function(spec, embedOpt){\n",
       "    let outputDiv = document.currentScript.previousElementSibling;\n",
       "    if (outputDiv.id !== \"altair-viz-1d5fce2155074640a9f4e8f913b7e0ce\") {\n",
       "      outputDiv = document.getElementById(\"altair-viz-1d5fce2155074640a9f4e8f913b7e0ce\");\n",
       "    }\n",
       "    const paths = {\n",
       "      \"vega\": \"https://cdn.jsdelivr.net/npm/vega@5?noext\",\n",
       "      \"vega-lib\": \"https://cdn.jsdelivr.net/npm/vega-lib?noext\",\n",
       "      \"vega-lite\": \"https://cdn.jsdelivr.net/npm/vega-lite@5.17.0?noext\",\n",
       "      \"vega-embed\": \"https://cdn.jsdelivr.net/npm/vega-embed@6?noext\",\n",
       "    };\n",
       "\n",
       "    function maybeLoadScript(lib, version) {\n",
       "      var key = `${lib.replace(\"-\", \"\")}_version`;\n",
       "      return (VEGA_DEBUG[key] == version) ?\n",
       "        Promise.resolve(paths[lib]) :\n",
       "        new Promise(function(resolve, reject) {\n",
       "          var s = document.createElement('script');\n",
       "          document.getElementsByTagName(\"head\")[0].appendChild(s);\n",
       "          s.async = true;\n",
       "          s.onload = () => {\n",
       "            VEGA_DEBUG[key] = version;\n",
       "            return resolve(paths[lib]);\n",
       "          };\n",
       "          s.onerror = () => reject(`Error loading script: ${paths[lib]}`);\n",
       "          s.src = paths[lib];\n",
       "        });\n",
       "    }\n",
       "\n",
       "    function showError(err) {\n",
       "      outputDiv.innerHTML = `<div class=\"error\" style=\"color:red;\">${err}</div>`;\n",
       "      throw err;\n",
       "    }\n",
       "\n",
       "    function displayChart(vegaEmbed) {\n",
       "      vegaEmbed(outputDiv, spec, embedOpt)\n",
       "        .catch(err => showError(`Javascript Error: ${err.message}<br>This usually means there's a typo in your chart specification. See the javascript console for the full traceback.`));\n",
       "    }\n",
       "\n",
       "    if(typeof define === \"function\" && define.amd) {\n",
       "      requirejs.config({paths});\n",
       "      require([\"vega-embed\"], displayChart, err => showError(`Error loading script: ${err.message}`));\n",
       "    } else {\n",
       "      maybeLoadScript(\"vega\", \"5\")\n",
       "        .then(() => maybeLoadScript(\"vega-lite\", \"5.17.0\"))\n",
       "        .then(() => maybeLoadScript(\"vega-embed\", \"6\"))\n",
       "        .catch(showError)\n",
       "        .then(() => displayChart(vegaEmbed));\n",
       "    }\n",
       "  })({\"config\": {\"view\": {\"continuousWidth\": 300, \"continuousHeight\": 300}, \"axis\": {\"labelFont\": \"arial\", \"labelFontSize\": 15, \"labelLimit\": 0, \"labelPadding\": 5, \"tickSize\": 8, \"titleFont\": \"arial\", \"titleFontSize\": 15}, \"legend\": {\"labelFont\": \"arial\", \"labelFontSize\": 13, \"labelLimit\": 0, \"titleFont\": \"arial\", \"titleFontSize\": 15}}, \"vconcat\": [{\"hconcat\": [{\"data\": {\"name\": \"data-a87647cefc4d5e07dc22e48c7fc30678\"}, \"mark\": {\"type\": \"line\", \"point\": {\"size\": 50}}, \"encoding\": {\"color\": {\"field\": \"Run_Type\", \"scale\": {\"domain\": [\"noN_filtered_15_85_human_revel_mvp_alphaM_spliceAI_noinheritance_noWL\", \"noN_filtered_15_85_human_revel_mvp_alphaM_spliceAI_singleton_noWL\", \"noN_filtered_15_85_human_revel_mvp_alphaM_spliceAI_noterms_noWL\", \"noN_filtered_15_85_human_revel_mvp_alphaM_spliceAI_random_fromHPO_noWL\", \"noN_filtered_15_85_human_revel_mvp_alphaM_spliceAI_noWL\", \"noN_filtered_15_85_human_revel_mvp_alphaM_spliceAI_singleton_noinheritance_noWL\", \"curated_noN_filtered_15_85_human_revel_mvp_alphaM_spliceAI_noWL\", \"noN_filtered_15_85_human_revel_mvp_alphaM_spliceAI_random_fromUDN_add5noWL\", \"noN_filtered_15_85_human_revel_mvp_alphaM_spliceAI_random_fromUDN_add10noWL\", \"noN_filtered_15_85_human_revel_mvp_alphaM_spliceAI_random_fromUDN_add20noWL\"], \"scheme\": \"category20\"}, \"sort\": [\"noN_filtered_15_85_human_revel_mvp_alphaM_spliceAI_noinheritance_noWL\", \"noN_filtered_15_85_human_revel_mvp_alphaM_spliceAI_singleton_noWL\", \"noN_filtered_15_85_human_revel_mvp_alphaM_spliceAI_noterms_noWL\", \"noN_filtered_15_85_human_revel_mvp_alphaM_spliceAI_random_fromHPO_noWL\", \"noN_filtered_15_85_human_revel_mvp_alphaM_spliceAI_noWL\", \"noN_filtered_15_85_human_revel_mvp_alphaM_spliceAI_singleton_noinheritance_noWL\", \"curated_noN_filtered_15_85_human_revel_mvp_alphaM_spliceAI_noWL\", \"noN_filtered_15_85_human_revel_mvp_alphaM_spliceAI_random_fromUDN_add5noWL\", \"noN_filtered_15_85_human_revel_mvp_alphaM_spliceAI_random_fromUDN_add10noWL\", \"noN_filtered_15_85_human_revel_mvp_alphaM_spliceAI_random_fromUDN_add20noWL\"], \"type\": \"nominal\"}, \"tooltip\": [{\"field\": \"Rank\", \"type\": \"quantitative\"}, {\"field\": \"Percent_Variants\", \"type\": \"quantitative\"}, {\"field\": \"Run_Type\", \"type\": \"nominal\"}], \"x\": {\"field\": \"Rank\", \"title\": \"Exomiser Rank of Causal Variant\", \"type\": \"quantitative\"}, \"y\": {\"field\": \"Percent_Variants\", \"scale\": {\"domain\": [0, 100]}, \"title\": \"Percent of Causal Variants within Exomiser Rank\", \"type\": \"quantitative\"}}, \"height\": 350, \"title\": \"296Diagnostic Variants (Variant Level - no MOI requirement)\", \"width\": 400}, {\"layer\": [{\"mark\": {\"type\": \"bar\"}, \"encoding\": {\"tooltip\": [{\"field\": \"numPatients\", \"type\": \"quantitative\"}, {\"field\": \"PhenoCat_IC\", \"type\": \"nominal\"}], \"x\": {\"field\": \"numPatients\", \"title\": \"Number of Benchmarking Patients with HPO Term Removed\", \"type\": \"quantitative\"}, \"y\": {\"axis\": {\"offset\": 5, \"domainOpacity\": 0}, \"field\": \"TermName\", \"sort\": \"-x\", \"title\": null, \"type\": \"nominal\"}}, \"title\": \"108 UDN Individuals ~ Removed HPO Terms\"}], \"data\": {\"name\": \"data-69d007fc6878341c3dc39f53a7d18f57\"}, \"height\": 350, \"resolve\": {\"scale\": {\"color\": \"independent\"}}, \"width\": 250}, {\"layer\": [{\"mark\": {\"type\": \"boxplot\"}, \"encoding\": {\"color\": {\"field\": \"Class\", \"scale\": {\"domain\": [\"Comprehensive\", \"Curated\", \"Variant\"], \"range\": [\"#28993C\", \"lightgrey\", \"#e38cbb\"]}, \"type\": \"nominal\"}, \"x\": {\"field\": \"Class\", \"title\": null, \"type\": \"nominal\"}, \"y\": {\"field\": \"Num_Terms\", \"scale\": {\"zero\": false}, \"title\": \"Number of HPO terms assigned to proband\", \"type\": \"quantitative\"}}}, {\"mark\": {\"type\": \"text\", \"align\": \"left\", \"baseline\": \"middle\", \"color\": \"black\", \"dx\": -5, \"dy\": -12, \"size\": 10}, \"encoding\": {\"text\": {\"aggregate\": \"median\", \"field\": \"Num_Terms\", \"type\": \"quantitative\"}, \"x\": {\"field\": \"Class\", \"type\": \"nominal\"}, \"y\": {\"aggregate\": \"median\", \"field\": \"Num_Terms\", \"type\": \"quantitative\"}}}], \"data\": {\"name\": \"data-959cbe53c7538ce36694c216da3c0a8f\"}, \"height\": 300, \"width\": 100}], \"resolve\": {\"scale\": {\"color\": \"independent\"}}}, {\"hconcat\": [{\"vconcat\": [{\"data\": {\"name\": \"data-2d41e5cb9d289e59a7756195c3613a56\"}, \"mark\": {\"type\": \"circle\", \"filled\": true, \"opacity\": 1, \"size\": 100, \"stroke\": \"black\", \"strokeWidth\": 1}, \"encoding\": {\"color\": {\"field\": \"RunType\", \"legend\": {\"direction\": \"horizontal\", \"orient\": \"top\", \"titleAnchor\": \"middle\"}, \"scale\": {\"domain\": [\"Comprehensive\", \"Curated\", \"Variant\"], \"range\": [\"#28993C\", \"lightgrey\", \"#e38cbb\"]}, \"sort\": [\"Curated\", \"Comprehensive\"], \"type\": \"nominal\"}, \"tooltip\": [{\"field\": \"RunType\", \"type\": \"nominal\"}, {\"field\": \"ID\", \"type\": \"nominal\"}, {\"field\": \"Rank\", \"type\": \"quantitative\"}, {\"field\": \"Diff\", \"type\": \"quantitative\"}], \"x\": {\"axis\": null, \"field\": \"ID\", \"scale\": {\"domain\": [\"UDN197_DENND5B\", \"UDN197_DENND5B\"]}, \"type\": \"nominal\"}, \"y\": {\"field\": \"Rank\", \"scale\": {\"domain\": [70, 73]}, \"title\": null, \"type\": \"quantitative\"}}, \"height\": 40, \"width\": 400}, {\"data\": {\"name\": \"data-8c8cb4c20b96a4e18f35a734b9a1657c\"}, \"mark\": {\"type\": \"circle\", \"filled\": true, \"opacity\": 1, \"size\": 100, \"stroke\": \"black\", \"strokeWidth\": 1}, \"encoding\": {\"color\": {\"field\": \"RunType\", \"legend\": {\"direction\": \"horizontal\", \"orient\": \"top\", \"titleAnchor\": \"middle\"}, \"scale\": {\"domain\": [\"Comprehensive\", \"Curated\", \"Variant\"], \"range\": [\"#28993C\", \"lightgrey\", \"#e38cbb\"]}, \"sort\": [\"Unfiltered\", \"Filtered\"], \"type\": \"nominal\"}, \"tooltip\": [{\"field\": \"RunType\", \"type\": \"nominal\"}, {\"field\": \"ID\", \"type\": \"nominal\"}, {\"field\": \"Rank\", \"type\": \"quantitative\"}, {\"field\": \"Diff\", \"type\": \"quantitative\"}], \"x\": {\"axis\": {\"labelAngle\": -60}, \"field\": \"ID\", \"scale\": {\"domain\": [\"UDN146_DHX9\", \"UDN146_DHX9\", \"UDN83_PAPSS1\", \"UDN83_PAPSS1\", \"UDN83_PAPSS1\", \"UDN83_PAPSS1\", \"UDN288_KPNA4\", \"UDN47_TBCD\", \"UDN288_KPNA4\", \"UDN47_TBCD\", \"UDN170_WARS2\", \"UDN170_WARS2\", \"UDN117_ZNF865\", \"UDN47_TBCD\", \"UDN47_TBCD\", \"UDN117_ZNF865\", \"UDN170_WARS2\", \"UDN170_WARS2\", \"UDN168_PRDM16\", \"UDN49_ANK3\", \"UDN49_ANK3\", \"UDN168_PRDM16\", \"UDN49_ANK3\", \"UDN49_ANK3\", \"UDN232_CAMK2B\", \"UDN60_COG4\", \"UDN232_CAMK2B\", \"UDN152_CACNA1C\", \"UDN200_KCNC2\", \"UDN60_COG4\", \"UDN152_CACNA1C\", \"UDN200_KCNC2\", \"UDN197_DENND5B\"]}, \"type\": \"nominal\"}, \"y\": {\"field\": \"Rank\", \"title\": \"Exomiser Rank of Causative Variant\", \"type\": \"quantitative\"}}, \"height\": 200, \"width\": 400}], \"resolve\": {\"scale\": {\"x\": \"shared\"}}, \"spacing\": 5}, {\"vconcat\": [{\"data\": {\"name\": \"data-8419a946f38307f993178fbf45d7d05c\"}, \"mark\": {\"type\": \"circle\", \"filled\": true, \"opacity\": 1, \"size\": 100, \"stroke\": \"black\", \"strokeWidth\": 1}, \"encoding\": {\"color\": {\"field\": \"RunType\", \"legend\": {\"direction\": \"horizontal\", \"orient\": \"top\", \"titleAnchor\": \"middle\"}, \"scale\": {\"domain\": [\"Comprehensive\", \"Curated\", \"Variant\"], \"range\": [\"#28993C\", \"lightgrey\", \"#e38cbb\"]}, \"sort\": [\"Curated\", \"Comprehensive\"], \"type\": \"nominal\"}, \"tooltip\": [{\"field\": \"RunType\", \"type\": \"nominal\"}, {\"field\": \"ID\", \"type\": \"nominal\"}, {\"field\": \"Rank\", \"type\": \"quantitative\"}, {\"field\": \"Diff\", \"type\": \"quantitative\"}], \"x\": {\"axis\": null, \"field\": \"ID\", \"scale\": {\"domain\": [\"UDN26_PIGN\", \"UDN105_SNUPN\", \"UDN57_SPEN\"]}, \"type\": \"nominal\"}, \"y\": {\"field\": \"Rank\", \"scale\": {\"domain\": [65, 69]}, \"title\": null, \"type\": \"quantitative\"}}, \"height\": 40, \"width\": 100}, {\"data\": {\"name\": \"data-01ac6742b128781986dd60976726c963\"}, \"mark\": {\"type\": \"circle\", \"filled\": true, \"opacity\": 1, \"size\": 100, \"stroke\": \"black\", \"strokeWidth\": 1}, \"encoding\": {\"color\": {\"field\": \"RunType\", \"legend\": {\"direction\": \"horizontal\", \"orient\": \"top\", \"titleAnchor\": \"middle\"}, \"scale\": {\"domain\": [\"Comprehensive\", \"Curated\", \"Variant\"], \"range\": [\"#28993C\", \"lightgrey\", \"#e38cbb\"]}, \"sort\": [\"Curated\", \"Comprehensive\"], \"type\": \"nominal\"}, \"tooltip\": [{\"field\": \"RunType\", \"type\": \"nominal\"}, {\"field\": \"ID\", \"type\": \"nominal\"}, {\"field\": \"Rank\", \"type\": \"quantitative\"}, {\"field\": \"Diff\", \"type\": \"quantitative\"}], \"x\": {\"axis\": {\"labelAngle\": -60}, \"field\": \"ID\", \"scale\": {\"domain\": [\"UDN26_PIGN\", \"UDN105_SNUPN\", \"UDN57_SPEN\"]}, \"type\": \"nominal\"}, \"y\": {\"field\": \"Rank\", \"title\": \"Exomiser Rank of Causative Variant\", \"type\": \"quantitative\"}}, \"height\": 200, \"width\": 100}], \"resolve\": {\"scale\": {\"x\": \"shared\"}}, \"spacing\": 5}, {\"layer\": [{\"mark\": {\"type\": \"circle\", \"filled\": true, \"opacity\": 1, \"size\": 80, \"stroke\": \"black\", \"strokeWidth\": 1}, \"encoding\": {\"color\": {\"field\": \"Class\", \"scale\": {\"domain\": [\"Comprehensive\", \"Curated\", \"Variant\"], \"range\": [\"#28993C\", \"lightgrey\", \"#e38cbb\"]}, \"type\": \"nominal\"}, \"tooltip\": [{\"field\": \"Class\", \"type\": \"nominal\"}, {\"field\": \"Rank\", \"type\": \"quantitative\"}, {\"field\": \"Score\", \"type\": \"quantitative\"}], \"x\": {\"axis\": {\"labelAngle\": -60}, \"field\": \"ID\", \"sort\": [\"UDN57_SPEN\", \"UDN57_SPEN\", \"UDN105_SNUPN\", \"UDN105_SNUPN\", \"UDN26_PIGN\", \"UDN26_PIGN\", \"UDN26_PIGN\", \"UDN26_PIGN\"], \"title\": \"\", \"type\": \"nominal\"}, \"y\": {\"field\": \"Score\", \"scale\": {\"zero\": false}, \"title\": \"Gene Phenotype or Variant Score\", \"type\": \"quantitative\"}}}], \"data\": {\"name\": \"data-307d2df2fd5d01db09fcba27cb2518a2\"}, \"height\": 250, \"width\": 350}], \"resolve\": {\"scale\": {\"color\": \"independent\"}}}, {\"layer\": [{\"mark\": {\"type\": \"circle\", \"filled\": true, \"opacity\": 1, \"size\": 80, \"stroke\": \"black\", \"strokeWidth\": 1}, \"encoding\": {\"color\": {\"field\": \"Class\", \"scale\": {\"domain\": [\"Comprehensive\", \"Curated\", \"Variant\"], \"range\": [\"#28993C\", \"lightgrey\", \"#e38cbb\"]}, \"type\": \"nominal\"}, \"tooltip\": [{\"field\": \"Class\", \"type\": \"nominal\"}, {\"field\": \"Rank\", \"type\": \"quantitative\"}, {\"field\": \"Score\", \"type\": \"quantitative\"}], \"x\": {\"axis\": {\"labelAngle\": -60}, \"field\": \"ID\", \"sort\": [\"UDN57_SPEN\", \"UDN57_SPEN\", \"UDN105_SNUPN\", \"UDN105_SNUPN\", \"UDN26_PIGN\", \"UDN26_PIGN\", \"UDN26_PIGN\", \"UDN26_PIGN\"], \"title\": \"\", \"type\": \"nominal\"}, \"y\": {\"field\": \"Terms\", \"scale\": {\"zero\": false}, \"title\": \"Number of HPO Terms\", \"type\": \"quantitative\"}}}, {\"mark\": {\"type\": \"text\", \"align\": \"left\", \"baseline\": \"middle\", \"color\": \"black\", \"dx\": 8, \"size\": 10}, \"encoding\": {\"text\": {\"field\": \"Terms\", \"type\": \"quantitative\"}, \"x\": {\"axis\": {\"labelAngle\": -60}, \"field\": \"ID\", \"sort\": [\"UDN57_SPEN\", \"UDN57_SPEN\", \"UDN105_SNUPN\", \"UDN105_SNUPN\", \"UDN26_PIGN\", \"UDN26_PIGN\", \"UDN26_PIGN\", \"UDN26_PIGN\"], \"title\": \"\", \"type\": \"nominal\"}, \"y\": {\"field\": \"Terms\", \"type\": \"quantitative\"}}}], \"data\": {\"name\": \"data-8f6450c8110f3dfdcb44b73d8f0c511e\"}, \"height\": 300, \"width\": 500}], \"$schema\": \"https://vega.github.io/schema/vega-lite/v5.17.0.json\", \"datasets\": {\"data-a87647cefc4d5e07dc22e48c7fc30678\": [{\"Rank\": 1, \"NumPatients\": 158, \"Percent_Variants\": 53.37837837837838, \"Run_Type\": \"noN_filtered_15_85_human_revel_mvp_alphaM_spliceAI_noWL\"}, {\"Rank\": 2, \"NumPatients\": 200, \"Percent_Variants\": 67.56756756756756, \"Run_Type\": \"noN_filtered_15_85_human_revel_mvp_alphaM_spliceAI_noWL\"}, {\"Rank\": 3, \"NumPatients\": 212, \"Percent_Variants\": 71.62162162162163, \"Run_Type\": \"noN_filtered_15_85_human_revel_mvp_alphaM_spliceAI_noWL\"}, {\"Rank\": 4, \"NumPatients\": 216, \"Percent_Variants\": 72.97297297297297, \"Run_Type\": \"noN_filtered_15_85_human_revel_mvp_alphaM_spliceAI_noWL\"}, {\"Rank\": 5, \"NumPatients\": 228, \"Percent_Variants\": 77.02702702702703, \"Run_Type\": \"noN_filtered_15_85_human_revel_mvp_alphaM_spliceAI_noWL\"}, {\"Rank\": 6, \"NumPatients\": 235, \"Percent_Variants\": 79.3918918918919, \"Run_Type\": \"noN_filtered_15_85_human_revel_mvp_alphaM_spliceAI_noWL\"}, {\"Rank\": 7, \"NumPatients\": 240, \"Percent_Variants\": 81.08108108108108, \"Run_Type\": \"noN_filtered_15_85_human_revel_mvp_alphaM_spliceAI_noWL\"}, {\"Rank\": 8, \"NumPatients\": 248, \"Percent_Variants\": 83.78378378378379, \"Run_Type\": \"noN_filtered_15_85_human_revel_mvp_alphaM_spliceAI_noWL\"}, {\"Rank\": 9, \"NumPatients\": 252, \"Percent_Variants\": 85.13513513513513, \"Run_Type\": \"noN_filtered_15_85_human_revel_mvp_alphaM_spliceAI_noWL\"}, {\"Rank\": 10, \"NumPatients\": 253, \"Percent_Variants\": 85.47297297297297, \"Run_Type\": \"noN_filtered_15_85_human_revel_mvp_alphaM_spliceAI_noWL\"}, {\"Rank\": 11, \"NumPatients\": 259, \"Percent_Variants\": 87.5, \"Run_Type\": \"noN_filtered_15_85_human_revel_mvp_alphaM_spliceAI_noWL\"}, {\"Rank\": 12, \"NumPatients\": 262, \"Percent_Variants\": 88.51351351351352, \"Run_Type\": \"noN_filtered_15_85_human_revel_mvp_alphaM_spliceAI_noWL\"}, {\"Rank\": 13, \"NumPatients\": 264, \"Percent_Variants\": 89.1891891891892, \"Run_Type\": \"noN_filtered_15_85_human_revel_mvp_alphaM_spliceAI_noWL\"}, {\"Rank\": 14, \"NumPatients\": 267, \"Percent_Variants\": 90.2027027027027, \"Run_Type\": \"noN_filtered_15_85_human_revel_mvp_alphaM_spliceAI_noWL\"}, {\"Rank\": 15, \"NumPatients\": 272, \"Percent_Variants\": 91.8918918918919, \"Run_Type\": \"noN_filtered_15_85_human_revel_mvp_alphaM_spliceAI_noWL\"}, {\"Rank\": 16, \"NumPatients\": 275, \"Percent_Variants\": 92.9054054054054, \"Run_Type\": \"noN_filtered_15_85_human_revel_mvp_alphaM_spliceAI_noWL\"}, {\"Rank\": 17, \"NumPatients\": 278, \"Percent_Variants\": 93.91891891891892, \"Run_Type\": \"noN_filtered_15_85_human_revel_mvp_alphaM_spliceAI_noWL\"}, {\"Rank\": 18, \"NumPatients\": 278, \"Percent_Variants\": 93.91891891891892, \"Run_Type\": \"noN_filtered_15_85_human_revel_mvp_alphaM_spliceAI_noWL\"}, {\"Rank\": 19, \"NumPatients\": 279, \"Percent_Variants\": 94.25675675675676, \"Run_Type\": \"noN_filtered_15_85_human_revel_mvp_alphaM_spliceAI_noWL\"}, {\"Rank\": 20, \"NumPatients\": 279, \"Percent_Variants\": 94.25675675675676, \"Run_Type\": \"noN_filtered_15_85_human_revel_mvp_alphaM_spliceAI_noWL\"}, {\"Rank\": 21, \"NumPatients\": 280, \"Percent_Variants\": 94.5945945945946, \"Run_Type\": \"noN_filtered_15_85_human_revel_mvp_alphaM_spliceAI_noWL\"}, {\"Rank\": 22, \"NumPatients\": 280, \"Percent_Variants\": 94.5945945945946, \"Run_Type\": \"noN_filtered_15_85_human_revel_mvp_alphaM_spliceAI_noWL\"}, {\"Rank\": 23, \"NumPatients\": 280, \"Percent_Variants\": 94.5945945945946, \"Run_Type\": \"noN_filtered_15_85_human_revel_mvp_alphaM_spliceAI_noWL\"}, {\"Rank\": 24, \"NumPatients\": 280, \"Percent_Variants\": 94.5945945945946, \"Run_Type\": \"noN_filtered_15_85_human_revel_mvp_alphaM_spliceAI_noWL\"}, {\"Rank\": 25, \"NumPatients\": 280, \"Percent_Variants\": 94.5945945945946, \"Run_Type\": \"noN_filtered_15_85_human_revel_mvp_alphaM_spliceAI_noWL\"}, {\"Rank\": 26, \"NumPatients\": 280, \"Percent_Variants\": 94.5945945945946, \"Run_Type\": \"noN_filtered_15_85_human_revel_mvp_alphaM_spliceAI_noWL\"}, {\"Rank\": 27, \"NumPatients\": 280, \"Percent_Variants\": 94.5945945945946, \"Run_Type\": \"noN_filtered_15_85_human_revel_mvp_alphaM_spliceAI_noWL\"}, {\"Rank\": 28, \"NumPatients\": 280, \"Percent_Variants\": 94.5945945945946, \"Run_Type\": \"noN_filtered_15_85_human_revel_mvp_alphaM_spliceAI_noWL\"}, {\"Rank\": 29, \"NumPatients\": 280, \"Percent_Variants\": 94.5945945945946, \"Run_Type\": \"noN_filtered_15_85_human_revel_mvp_alphaM_spliceAI_noWL\"}, {\"Rank\": 30, \"NumPatients\": 282, \"Percent_Variants\": 95.27027027027027, \"Run_Type\": \"noN_filtered_15_85_human_revel_mvp_alphaM_spliceAI_noWL\"}, {\"Rank\": 1, \"NumPatients\": 83, \"Percent_Variants\": 28.040540540540544, \"Run_Type\": \"noN_filtered_15_85_human_revel_mvp_alphaM_spliceAI_random_fromHPO_noWL\"}, {\"Rank\": 2, \"NumPatients\": 129, \"Percent_Variants\": 43.58108108108108, \"Run_Type\": \"noN_filtered_15_85_human_revel_mvp_alphaM_spliceAI_random_fromHPO_noWL\"}, {\"Rank\": 3, \"NumPatients\": 154, \"Percent_Variants\": 52.02702702702703, \"Run_Type\": \"noN_filtered_15_85_human_revel_mvp_alphaM_spliceAI_random_fromHPO_noWL\"}, {\"Rank\": 4, \"NumPatients\": 175, \"Percent_Variants\": 59.12162162162162, \"Run_Type\": \"noN_filtered_15_85_human_revel_mvp_alphaM_spliceAI_random_fromHPO_noWL\"}, {\"Rank\": 5, \"NumPatients\": 195, \"Percent_Variants\": 65.87837837837837, \"Run_Type\": \"noN_filtered_15_85_human_revel_mvp_alphaM_spliceAI_random_fromHPO_noWL\"}, {\"Rank\": 6, \"NumPatients\": 199, \"Percent_Variants\": 67.22972972972973, \"Run_Type\": \"noN_filtered_15_85_human_revel_mvp_alphaM_spliceAI_random_fromHPO_noWL\"}, {\"Rank\": 7, \"NumPatients\": 209, \"Percent_Variants\": 70.6081081081081, \"Run_Type\": \"noN_filtered_15_85_human_revel_mvp_alphaM_spliceAI_random_fromHPO_noWL\"}, {\"Rank\": 8, \"NumPatients\": 218, \"Percent_Variants\": 73.64864864864865, \"Run_Type\": \"noN_filtered_15_85_human_revel_mvp_alphaM_spliceAI_random_fromHPO_noWL\"}, {\"Rank\": 9, \"NumPatients\": 223, \"Percent_Variants\": 75.33783783783784, \"Run_Type\": \"noN_filtered_15_85_human_revel_mvp_alphaM_spliceAI_random_fromHPO_noWL\"}, {\"Rank\": 10, \"NumPatients\": 231, \"Percent_Variants\": 78.04054054054053, \"Run_Type\": \"noN_filtered_15_85_human_revel_mvp_alphaM_spliceAI_random_fromHPO_noWL\"}, {\"Rank\": 11, \"NumPatients\": 237, \"Percent_Variants\": 80.06756756756756, \"Run_Type\": \"noN_filtered_15_85_human_revel_mvp_alphaM_spliceAI_random_fromHPO_noWL\"}, {\"Rank\": 12, \"NumPatients\": 243, \"Percent_Variants\": 82.0945945945946, \"Run_Type\": \"noN_filtered_15_85_human_revel_mvp_alphaM_spliceAI_random_fromHPO_noWL\"}, {\"Rank\": 13, \"NumPatients\": 244, \"Percent_Variants\": 82.43243243243244, \"Run_Type\": \"noN_filtered_15_85_human_revel_mvp_alphaM_spliceAI_random_fromHPO_noWL\"}, {\"Rank\": 14, \"NumPatients\": 248, \"Percent_Variants\": 83.78378378378379, \"Run_Type\": \"noN_filtered_15_85_human_revel_mvp_alphaM_spliceAI_random_fromHPO_noWL\"}, {\"Rank\": 15, \"NumPatients\": 253, \"Percent_Variants\": 85.47297297297297, \"Run_Type\": \"noN_filtered_15_85_human_revel_mvp_alphaM_spliceAI_random_fromHPO_noWL\"}, {\"Rank\": 16, \"NumPatients\": 256, \"Percent_Variants\": 86.48648648648648, \"Run_Type\": \"noN_filtered_15_85_human_revel_mvp_alphaM_spliceAI_random_fromHPO_noWL\"}, {\"Rank\": 17, \"NumPatients\": 260, \"Percent_Variants\": 87.83783783783784, \"Run_Type\": \"noN_filtered_15_85_human_revel_mvp_alphaM_spliceAI_random_fromHPO_noWL\"}, {\"Rank\": 18, \"NumPatients\": 260, \"Percent_Variants\": 87.83783783783784, \"Run_Type\": \"noN_filtered_15_85_human_revel_mvp_alphaM_spliceAI_random_fromHPO_noWL\"}, {\"Rank\": 19, \"NumPatients\": 266, \"Percent_Variants\": 89.86486486486487, \"Run_Type\": \"noN_filtered_15_85_human_revel_mvp_alphaM_spliceAI_random_fromHPO_noWL\"}, {\"Rank\": 20, \"NumPatients\": 267, \"Percent_Variants\": 90.2027027027027, \"Run_Type\": \"noN_filtered_15_85_human_revel_mvp_alphaM_spliceAI_random_fromHPO_noWL\"}, {\"Rank\": 21, \"NumPatients\": 267, \"Percent_Variants\": 90.2027027027027, \"Run_Type\": \"noN_filtered_15_85_human_revel_mvp_alphaM_spliceAI_random_fromHPO_noWL\"}, {\"Rank\": 22, \"NumPatients\": 269, \"Percent_Variants\": 90.87837837837837, \"Run_Type\": \"noN_filtered_15_85_human_revel_mvp_alphaM_spliceAI_random_fromHPO_noWL\"}, {\"Rank\": 23, \"NumPatients\": 270, \"Percent_Variants\": 91.21621621621621, \"Run_Type\": \"noN_filtered_15_85_human_revel_mvp_alphaM_spliceAI_random_fromHPO_noWL\"}, {\"Rank\": 24, \"NumPatients\": 271, \"Percent_Variants\": 91.55405405405406, \"Run_Type\": \"noN_filtered_15_85_human_revel_mvp_alphaM_spliceAI_random_fromHPO_noWL\"}, {\"Rank\": 25, \"NumPatients\": 272, \"Percent_Variants\": 91.8918918918919, \"Run_Type\": \"noN_filtered_15_85_human_revel_mvp_alphaM_spliceAI_random_fromHPO_noWL\"}, {\"Rank\": 26, \"NumPatients\": 272, \"Percent_Variants\": 91.8918918918919, \"Run_Type\": \"noN_filtered_15_85_human_revel_mvp_alphaM_spliceAI_random_fromHPO_noWL\"}, {\"Rank\": 27, \"NumPatients\": 272, \"Percent_Variants\": 91.8918918918919, \"Run_Type\": \"noN_filtered_15_85_human_revel_mvp_alphaM_spliceAI_random_fromHPO_noWL\"}, {\"Rank\": 28, \"NumPatients\": 274, \"Percent_Variants\": 92.56756756756756, \"Run_Type\": \"noN_filtered_15_85_human_revel_mvp_alphaM_spliceAI_random_fromHPO_noWL\"}, {\"Rank\": 29, \"NumPatients\": 274, \"Percent_Variants\": 92.56756756756756, \"Run_Type\": \"noN_filtered_15_85_human_revel_mvp_alphaM_spliceAI_random_fromHPO_noWL\"}, {\"Rank\": 30, \"NumPatients\": 274, \"Percent_Variants\": 92.56756756756756, \"Run_Type\": \"noN_filtered_15_85_human_revel_mvp_alphaM_spliceAI_random_fromHPO_noWL\"}, {\"Rank\": 1, \"NumPatients\": 54, \"Percent_Variants\": 18.243243243243242, \"Run_Type\": \"noN_filtered_15_85_human_revel_mvp_alphaM_spliceAI_noterms_noWL\"}, {\"Rank\": 2, \"NumPatients\": 58, \"Percent_Variants\": 19.594594594594593, \"Run_Type\": \"noN_filtered_15_85_human_revel_mvp_alphaM_spliceAI_noterms_noWL\"}, {\"Rank\": 3, \"NumPatients\": 66, \"Percent_Variants\": 22.2972972972973, \"Run_Type\": \"noN_filtered_15_85_human_revel_mvp_alphaM_spliceAI_noterms_noWL\"}, {\"Rank\": 4, \"NumPatients\": 73, \"Percent_Variants\": 24.66216216216216, \"Run_Type\": \"noN_filtered_15_85_human_revel_mvp_alphaM_spliceAI_noterms_noWL\"}, {\"Rank\": 5, \"NumPatients\": 87, \"Percent_Variants\": 29.39189189189189, \"Run_Type\": \"noN_filtered_15_85_human_revel_mvp_alphaM_spliceAI_noterms_noWL\"}, {\"Rank\": 6, \"NumPatients\": 103, \"Percent_Variants\": 34.7972972972973, \"Run_Type\": \"noN_filtered_15_85_human_revel_mvp_alphaM_spliceAI_noterms_noWL\"}, {\"Rank\": 7, \"NumPatients\": 112, \"Percent_Variants\": 37.83783783783784, \"Run_Type\": \"noN_filtered_15_85_human_revel_mvp_alphaM_spliceAI_noterms_noWL\"}, {\"Rank\": 8, \"NumPatients\": 119, \"Percent_Variants\": 40.2027027027027, \"Run_Type\": \"noN_filtered_15_85_human_revel_mvp_alphaM_spliceAI_noterms_noWL\"}, {\"Rank\": 9, \"NumPatients\": 125, \"Percent_Variants\": 42.22972972972973, \"Run_Type\": \"noN_filtered_15_85_human_revel_mvp_alphaM_spliceAI_noterms_noWL\"}, {\"Rank\": 10, \"NumPatients\": 133, \"Percent_Variants\": 44.932432432432435, \"Run_Type\": \"noN_filtered_15_85_human_revel_mvp_alphaM_spliceAI_noterms_noWL\"}, {\"Rank\": 11, \"NumPatients\": 150, \"Percent_Variants\": 50.67567567567568, \"Run_Type\": \"noN_filtered_15_85_human_revel_mvp_alphaM_spliceAI_noterms_noWL\"}, {\"Rank\": 12, \"NumPatients\": 159, \"Percent_Variants\": 53.71621621621622, \"Run_Type\": \"noN_filtered_15_85_human_revel_mvp_alphaM_spliceAI_noterms_noWL\"}, {\"Rank\": 13, \"NumPatients\": 163, \"Percent_Variants\": 55.067567567567565, \"Run_Type\": \"noN_filtered_15_85_human_revel_mvp_alphaM_spliceAI_noterms_noWL\"}, {\"Rank\": 14, \"NumPatients\": 179, \"Percent_Variants\": 60.47297297297297, \"Run_Type\": \"noN_filtered_15_85_human_revel_mvp_alphaM_spliceAI_noterms_noWL\"}, {\"Rank\": 15, \"NumPatients\": 188, \"Percent_Variants\": 63.51351351351351, \"Run_Type\": \"noN_filtered_15_85_human_revel_mvp_alphaM_spliceAI_noterms_noWL\"}, {\"Rank\": 16, \"NumPatients\": 188, \"Percent_Variants\": 63.51351351351351, \"Run_Type\": \"noN_filtered_15_85_human_revel_mvp_alphaM_spliceAI_noterms_noWL\"}, {\"Rank\": 17, \"NumPatients\": 194, \"Percent_Variants\": 65.54054054054053, \"Run_Type\": \"noN_filtered_15_85_human_revel_mvp_alphaM_spliceAI_noterms_noWL\"}, {\"Rank\": 18, \"NumPatients\": 197, \"Percent_Variants\": 66.55405405405406, \"Run_Type\": \"noN_filtered_15_85_human_revel_mvp_alphaM_spliceAI_noterms_noWL\"}, {\"Rank\": 19, \"NumPatients\": 200, \"Percent_Variants\": 67.56756756756756, \"Run_Type\": \"noN_filtered_15_85_human_revel_mvp_alphaM_spliceAI_noterms_noWL\"}, {\"Rank\": 20, \"NumPatients\": 207, \"Percent_Variants\": 69.93243243243244, \"Run_Type\": \"noN_filtered_15_85_human_revel_mvp_alphaM_spliceAI_noterms_noWL\"}, {\"Rank\": 21, \"NumPatients\": 213, \"Percent_Variants\": 71.95945945945947, \"Run_Type\": \"noN_filtered_15_85_human_revel_mvp_alphaM_spliceAI_noterms_noWL\"}, {\"Rank\": 22, \"NumPatients\": 213, \"Percent_Variants\": 71.95945945945947, \"Run_Type\": \"noN_filtered_15_85_human_revel_mvp_alphaM_spliceAI_noterms_noWL\"}, {\"Rank\": 23, \"NumPatients\": 214, \"Percent_Variants\": 72.2972972972973, \"Run_Type\": \"noN_filtered_15_85_human_revel_mvp_alphaM_spliceAI_noterms_noWL\"}, {\"Rank\": 24, \"NumPatients\": 220, \"Percent_Variants\": 74.32432432432432, \"Run_Type\": \"noN_filtered_15_85_human_revel_mvp_alphaM_spliceAI_noterms_noWL\"}, {\"Rank\": 25, \"NumPatients\": 222, \"Percent_Variants\": 75.0, \"Run_Type\": \"noN_filtered_15_85_human_revel_mvp_alphaM_spliceAI_noterms_noWL\"}, {\"Rank\": 26, \"NumPatients\": 224, \"Percent_Variants\": 75.67567567567568, \"Run_Type\": \"noN_filtered_15_85_human_revel_mvp_alphaM_spliceAI_noterms_noWL\"}, {\"Rank\": 27, \"NumPatients\": 226, \"Percent_Variants\": 76.35135135135135, \"Run_Type\": \"noN_filtered_15_85_human_revel_mvp_alphaM_spliceAI_noterms_noWL\"}, {\"Rank\": 28, \"NumPatients\": 230, \"Percent_Variants\": 77.7027027027027, \"Run_Type\": \"noN_filtered_15_85_human_revel_mvp_alphaM_spliceAI_noterms_noWL\"}, {\"Rank\": 29, \"NumPatients\": 232, \"Percent_Variants\": 78.37837837837837, \"Run_Type\": \"noN_filtered_15_85_human_revel_mvp_alphaM_spliceAI_noterms_noWL\"}, {\"Rank\": 30, \"NumPatients\": 237, \"Percent_Variants\": 80.06756756756756, \"Run_Type\": \"noN_filtered_15_85_human_revel_mvp_alphaM_spliceAI_noterms_noWL\"}, {\"Rank\": 1, \"NumPatients\": 148, \"Percent_Variants\": 50.0, \"Run_Type\": \"noN_filtered_15_85_human_revel_mvp_alphaM_spliceAI_random_fromUDN_add5noWL\"}, {\"Rank\": 2, \"NumPatients\": 191, \"Percent_Variants\": 64.52702702702703, \"Run_Type\": \"noN_filtered_15_85_human_revel_mvp_alphaM_spliceAI_random_fromUDN_add5noWL\"}, {\"Rank\": 3, \"NumPatients\": 205, \"Percent_Variants\": 69.25675675675676, \"Run_Type\": \"noN_filtered_15_85_human_revel_mvp_alphaM_spliceAI_random_fromUDN_add5noWL\"}, {\"Rank\": 4, \"NumPatients\": 219, \"Percent_Variants\": 73.98648648648648, \"Run_Type\": \"noN_filtered_15_85_human_revel_mvp_alphaM_spliceAI_random_fromUDN_add5noWL\"}, {\"Rank\": 5, \"NumPatients\": 223, \"Percent_Variants\": 75.33783783783784, \"Run_Type\": \"noN_filtered_15_85_human_revel_mvp_alphaM_spliceAI_random_fromUDN_add5noWL\"}, {\"Rank\": 6, \"NumPatients\": 235, \"Percent_Variants\": 79.3918918918919, \"Run_Type\": \"noN_filtered_15_85_human_revel_mvp_alphaM_spliceAI_random_fromUDN_add5noWL\"}, {\"Rank\": 7, \"NumPatients\": 240, \"Percent_Variants\": 81.08108108108108, \"Run_Type\": \"noN_filtered_15_85_human_revel_mvp_alphaM_spliceAI_random_fromUDN_add5noWL\"}, {\"Rank\": 8, \"NumPatients\": 246, \"Percent_Variants\": 83.1081081081081, \"Run_Type\": \"noN_filtered_15_85_human_revel_mvp_alphaM_spliceAI_random_fromUDN_add5noWL\"}, {\"Rank\": 9, \"NumPatients\": 251, \"Percent_Variants\": 84.7972972972973, \"Run_Type\": \"noN_filtered_15_85_human_revel_mvp_alphaM_spliceAI_random_fromUDN_add5noWL\"}, {\"Rank\": 10, \"NumPatients\": 251, \"Percent_Variants\": 84.7972972972973, \"Run_Type\": \"noN_filtered_15_85_human_revel_mvp_alphaM_spliceAI_random_fromUDN_add5noWL\"}, {\"Rank\": 11, \"NumPatients\": 258, \"Percent_Variants\": 87.16216216216216, \"Run_Type\": \"noN_filtered_15_85_human_revel_mvp_alphaM_spliceAI_random_fromUDN_add5noWL\"}, {\"Rank\": 12, \"NumPatients\": 260, \"Percent_Variants\": 87.83783783783784, \"Run_Type\": \"noN_filtered_15_85_human_revel_mvp_alphaM_spliceAI_random_fromUDN_add5noWL\"}, {\"Rank\": 13, \"NumPatients\": 264, \"Percent_Variants\": 89.1891891891892, \"Run_Type\": \"noN_filtered_15_85_human_revel_mvp_alphaM_spliceAI_random_fromUDN_add5noWL\"}, {\"Rank\": 14, \"NumPatients\": 266, \"Percent_Variants\": 89.86486486486487, \"Run_Type\": \"noN_filtered_15_85_human_revel_mvp_alphaM_spliceAI_random_fromUDN_add5noWL\"}, {\"Rank\": 15, \"NumPatients\": 271, \"Percent_Variants\": 91.55405405405406, \"Run_Type\": \"noN_filtered_15_85_human_revel_mvp_alphaM_spliceAI_random_fromUDN_add5noWL\"}, {\"Rank\": 16, \"NumPatients\": 273, \"Percent_Variants\": 92.22972972972973, \"Run_Type\": \"noN_filtered_15_85_human_revel_mvp_alphaM_spliceAI_random_fromUDN_add5noWL\"}, {\"Rank\": 17, \"NumPatients\": 275, \"Percent_Variants\": 92.9054054054054, \"Run_Type\": \"noN_filtered_15_85_human_revel_mvp_alphaM_spliceAI_random_fromUDN_add5noWL\"}, {\"Rank\": 18, \"NumPatients\": 276, \"Percent_Variants\": 93.24324324324324, \"Run_Type\": \"noN_filtered_15_85_human_revel_mvp_alphaM_spliceAI_random_fromUDN_add5noWL\"}, {\"Rank\": 19, \"NumPatients\": 276, \"Percent_Variants\": 93.24324324324324, \"Run_Type\": \"noN_filtered_15_85_human_revel_mvp_alphaM_spliceAI_random_fromUDN_add5noWL\"}, {\"Rank\": 20, \"NumPatients\": 277, \"Percent_Variants\": 93.58108108108108, \"Run_Type\": \"noN_filtered_15_85_human_revel_mvp_alphaM_spliceAI_random_fromUDN_add5noWL\"}, {\"Rank\": 21, \"NumPatients\": 277, \"Percent_Variants\": 93.58108108108108, \"Run_Type\": \"noN_filtered_15_85_human_revel_mvp_alphaM_spliceAI_random_fromUDN_add5noWL\"}, {\"Rank\": 22, \"NumPatients\": 277, \"Percent_Variants\": 93.58108108108108, \"Run_Type\": \"noN_filtered_15_85_human_revel_mvp_alphaM_spliceAI_random_fromUDN_add5noWL\"}, {\"Rank\": 23, \"NumPatients\": 279, \"Percent_Variants\": 94.25675675675676, \"Run_Type\": \"noN_filtered_15_85_human_revel_mvp_alphaM_spliceAI_random_fromUDN_add5noWL\"}, {\"Rank\": 24, \"NumPatients\": 279, \"Percent_Variants\": 94.25675675675676, \"Run_Type\": \"noN_filtered_15_85_human_revel_mvp_alphaM_spliceAI_random_fromUDN_add5noWL\"}, {\"Rank\": 25, \"NumPatients\": 279, \"Percent_Variants\": 94.25675675675676, \"Run_Type\": \"noN_filtered_15_85_human_revel_mvp_alphaM_spliceAI_random_fromUDN_add5noWL\"}, {\"Rank\": 26, \"NumPatients\": 279, \"Percent_Variants\": 94.25675675675676, \"Run_Type\": \"noN_filtered_15_85_human_revel_mvp_alphaM_spliceAI_random_fromUDN_add5noWL\"}, {\"Rank\": 27, \"NumPatients\": 279, \"Percent_Variants\": 94.25675675675676, \"Run_Type\": \"noN_filtered_15_85_human_revel_mvp_alphaM_spliceAI_random_fromUDN_add5noWL\"}, {\"Rank\": 28, \"NumPatients\": 280, \"Percent_Variants\": 94.5945945945946, \"Run_Type\": \"noN_filtered_15_85_human_revel_mvp_alphaM_spliceAI_random_fromUDN_add5noWL\"}, {\"Rank\": 29, \"NumPatients\": 282, \"Percent_Variants\": 95.27027027027027, \"Run_Type\": \"noN_filtered_15_85_human_revel_mvp_alphaM_spliceAI_random_fromUDN_add5noWL\"}, {\"Rank\": 30, \"NumPatients\": 282, \"Percent_Variants\": 95.27027027027027, \"Run_Type\": \"noN_filtered_15_85_human_revel_mvp_alphaM_spliceAI_random_fromUDN_add5noWL\"}, {\"Rank\": 1, \"NumPatients\": 144, \"Percent_Variants\": 48.64864864864865, \"Run_Type\": \"noN_filtered_15_85_human_revel_mvp_alphaM_spliceAI_random_fromUDN_add10noWL\"}, {\"Rank\": 2, \"NumPatients\": 183, \"Percent_Variants\": 61.82432432432432, \"Run_Type\": \"noN_filtered_15_85_human_revel_mvp_alphaM_spliceAI_random_fromUDN_add10noWL\"}, {\"Rank\": 3, \"NumPatients\": 205, \"Percent_Variants\": 69.25675675675676, \"Run_Type\": \"noN_filtered_15_85_human_revel_mvp_alphaM_spliceAI_random_fromUDN_add10noWL\"}, {\"Rank\": 4, \"NumPatients\": 216, \"Percent_Variants\": 72.97297297297297, \"Run_Type\": \"noN_filtered_15_85_human_revel_mvp_alphaM_spliceAI_random_fromUDN_add10noWL\"}, {\"Rank\": 5, \"NumPatients\": 224, \"Percent_Variants\": 75.67567567567568, \"Run_Type\": \"noN_filtered_15_85_human_revel_mvp_alphaM_spliceAI_random_fromUDN_add10noWL\"}, {\"Rank\": 6, \"NumPatients\": 236, \"Percent_Variants\": 79.72972972972973, \"Run_Type\": \"noN_filtered_15_85_human_revel_mvp_alphaM_spliceAI_random_fromUDN_add10noWL\"}, {\"Rank\": 7, \"NumPatients\": 239, \"Percent_Variants\": 80.74324324324324, \"Run_Type\": \"noN_filtered_15_85_human_revel_mvp_alphaM_spliceAI_random_fromUDN_add10noWL\"}, {\"Rank\": 8, \"NumPatients\": 244, \"Percent_Variants\": 82.43243243243244, \"Run_Type\": \"noN_filtered_15_85_human_revel_mvp_alphaM_spliceAI_random_fromUDN_add10noWL\"}, {\"Rank\": 9, \"NumPatients\": 245, \"Percent_Variants\": 82.77027027027027, \"Run_Type\": \"noN_filtered_15_85_human_revel_mvp_alphaM_spliceAI_random_fromUDN_add10noWL\"}, {\"Rank\": 10, \"NumPatients\": 251, \"Percent_Variants\": 84.7972972972973, \"Run_Type\": \"noN_filtered_15_85_human_revel_mvp_alphaM_spliceAI_random_fromUDN_add10noWL\"}, {\"Rank\": 11, \"NumPatients\": 257, \"Percent_Variants\": 86.82432432432432, \"Run_Type\": \"noN_filtered_15_85_human_revel_mvp_alphaM_spliceAI_random_fromUDN_add10noWL\"}, {\"Rank\": 12, \"NumPatients\": 259, \"Percent_Variants\": 87.5, \"Run_Type\": \"noN_filtered_15_85_human_revel_mvp_alphaM_spliceAI_random_fromUDN_add10noWL\"}, {\"Rank\": 13, \"NumPatients\": 264, \"Percent_Variants\": 89.1891891891892, \"Run_Type\": \"noN_filtered_15_85_human_revel_mvp_alphaM_spliceAI_random_fromUDN_add10noWL\"}, {\"Rank\": 14, \"NumPatients\": 267, \"Percent_Variants\": 90.2027027027027, \"Run_Type\": \"noN_filtered_15_85_human_revel_mvp_alphaM_spliceAI_random_fromUDN_add10noWL\"}, {\"Rank\": 15, \"NumPatients\": 267, \"Percent_Variants\": 90.2027027027027, \"Run_Type\": \"noN_filtered_15_85_human_revel_mvp_alphaM_spliceAI_random_fromUDN_add10noWL\"}, {\"Rank\": 16, \"NumPatients\": 272, \"Percent_Variants\": 91.8918918918919, \"Run_Type\": \"noN_filtered_15_85_human_revel_mvp_alphaM_spliceAI_random_fromUDN_add10noWL\"}, {\"Rank\": 17, \"NumPatients\": 275, \"Percent_Variants\": 92.9054054054054, \"Run_Type\": \"noN_filtered_15_85_human_revel_mvp_alphaM_spliceAI_random_fromUDN_add10noWL\"}, {\"Rank\": 18, \"NumPatients\": 275, \"Percent_Variants\": 92.9054054054054, \"Run_Type\": \"noN_filtered_15_85_human_revel_mvp_alphaM_spliceAI_random_fromUDN_add10noWL\"}, {\"Rank\": 19, \"NumPatients\": 276, \"Percent_Variants\": 93.24324324324324, \"Run_Type\": \"noN_filtered_15_85_human_revel_mvp_alphaM_spliceAI_random_fromUDN_add10noWL\"}, {\"Rank\": 20, \"NumPatients\": 277, \"Percent_Variants\": 93.58108108108108, \"Run_Type\": \"noN_filtered_15_85_human_revel_mvp_alphaM_spliceAI_random_fromUDN_add10noWL\"}, {\"Rank\": 21, \"NumPatients\": 277, \"Percent_Variants\": 93.58108108108108, \"Run_Type\": \"noN_filtered_15_85_human_revel_mvp_alphaM_spliceAI_random_fromUDN_add10noWL\"}, {\"Rank\": 22, \"NumPatients\": 279, \"Percent_Variants\": 94.25675675675676, \"Run_Type\": \"noN_filtered_15_85_human_revel_mvp_alphaM_spliceAI_random_fromUDN_add10noWL\"}, {\"Rank\": 23, \"NumPatients\": 279, \"Percent_Variants\": 94.25675675675676, \"Run_Type\": \"noN_filtered_15_85_human_revel_mvp_alphaM_spliceAI_random_fromUDN_add10noWL\"}, {\"Rank\": 24, \"NumPatients\": 279, \"Percent_Variants\": 94.25675675675676, \"Run_Type\": \"noN_filtered_15_85_human_revel_mvp_alphaM_spliceAI_random_fromUDN_add10noWL\"}, {\"Rank\": 25, \"NumPatients\": 279, \"Percent_Variants\": 94.25675675675676, \"Run_Type\": \"noN_filtered_15_85_human_revel_mvp_alphaM_spliceAI_random_fromUDN_add10noWL\"}, {\"Rank\": 26, \"NumPatients\": 279, \"Percent_Variants\": 94.25675675675676, \"Run_Type\": \"noN_filtered_15_85_human_revel_mvp_alphaM_spliceAI_random_fromUDN_add10noWL\"}, {\"Rank\": 27, \"NumPatients\": 279, \"Percent_Variants\": 94.25675675675676, \"Run_Type\": \"noN_filtered_15_85_human_revel_mvp_alphaM_spliceAI_random_fromUDN_add10noWL\"}, {\"Rank\": 28, \"NumPatients\": 279, \"Percent_Variants\": 94.25675675675676, \"Run_Type\": \"noN_filtered_15_85_human_revel_mvp_alphaM_spliceAI_random_fromUDN_add10noWL\"}, {\"Rank\": 29, \"NumPatients\": 279, \"Percent_Variants\": 94.25675675675676, \"Run_Type\": \"noN_filtered_15_85_human_revel_mvp_alphaM_spliceAI_random_fromUDN_add10noWL\"}, {\"Rank\": 30, \"NumPatients\": 281, \"Percent_Variants\": 94.93243243243244, \"Run_Type\": \"noN_filtered_15_85_human_revel_mvp_alphaM_spliceAI_random_fromUDN_add10noWL\"}, {\"Rank\": 1, \"NumPatients\": 129, \"Percent_Variants\": 43.58108108108108, \"Run_Type\": \"noN_filtered_15_85_human_revel_mvp_alphaM_spliceAI_random_fromUDN_add20noWL\"}, {\"Rank\": 2, \"NumPatients\": 176, \"Percent_Variants\": 59.45945945945946, \"Run_Type\": \"noN_filtered_15_85_human_revel_mvp_alphaM_spliceAI_random_fromUDN_add20noWL\"}, {\"Rank\": 3, \"NumPatients\": 203, \"Percent_Variants\": 68.58108108108108, \"Run_Type\": \"noN_filtered_15_85_human_revel_mvp_alphaM_spliceAI_random_fromUDN_add20noWL\"}, {\"Rank\": 4, \"NumPatients\": 209, \"Percent_Variants\": 70.6081081081081, \"Run_Type\": \"noN_filtered_15_85_human_revel_mvp_alphaM_spliceAI_random_fromUDN_add20noWL\"}, {\"Rank\": 5, \"NumPatients\": 222, \"Percent_Variants\": 75.0, \"Run_Type\": \"noN_filtered_15_85_human_revel_mvp_alphaM_spliceAI_random_fromUDN_add20noWL\"}, {\"Rank\": 6, \"NumPatients\": 229, \"Percent_Variants\": 77.36486486486487, \"Run_Type\": \"noN_filtered_15_85_human_revel_mvp_alphaM_spliceAI_random_fromUDN_add20noWL\"}, {\"Rank\": 7, \"NumPatients\": 235, \"Percent_Variants\": 79.3918918918919, \"Run_Type\": \"noN_filtered_15_85_human_revel_mvp_alphaM_spliceAI_random_fromUDN_add20noWL\"}, {\"Rank\": 8, \"NumPatients\": 242, \"Percent_Variants\": 81.75675675675676, \"Run_Type\": \"noN_filtered_15_85_human_revel_mvp_alphaM_spliceAI_random_fromUDN_add20noWL\"}, {\"Rank\": 9, \"NumPatients\": 243, \"Percent_Variants\": 82.0945945945946, \"Run_Type\": \"noN_filtered_15_85_human_revel_mvp_alphaM_spliceAI_random_fromUDN_add20noWL\"}, {\"Rank\": 10, \"NumPatients\": 251, \"Percent_Variants\": 84.7972972972973, \"Run_Type\": \"noN_filtered_15_85_human_revel_mvp_alphaM_spliceAI_random_fromUDN_add20noWL\"}, {\"Rank\": 11, \"NumPatients\": 253, \"Percent_Variants\": 85.47297297297297, \"Run_Type\": \"noN_filtered_15_85_human_revel_mvp_alphaM_spliceAI_random_fromUDN_add20noWL\"}, {\"Rank\": 12, \"NumPatients\": 258, \"Percent_Variants\": 87.16216216216216, \"Run_Type\": \"noN_filtered_15_85_human_revel_mvp_alphaM_spliceAI_random_fromUDN_add20noWL\"}, {\"Rank\": 13, \"NumPatients\": 261, \"Percent_Variants\": 88.17567567567568, \"Run_Type\": \"noN_filtered_15_85_human_revel_mvp_alphaM_spliceAI_random_fromUDN_add20noWL\"}, {\"Rank\": 14, \"NumPatients\": 263, \"Percent_Variants\": 88.85135135135135, \"Run_Type\": \"noN_filtered_15_85_human_revel_mvp_alphaM_spliceAI_random_fromUDN_add20noWL\"}, {\"Rank\": 15, \"NumPatients\": 267, \"Percent_Variants\": 90.2027027027027, \"Run_Type\": \"noN_filtered_15_85_human_revel_mvp_alphaM_spliceAI_random_fromUDN_add20noWL\"}, {\"Rank\": 16, \"NumPatients\": 274, \"Percent_Variants\": 92.56756756756756, \"Run_Type\": \"noN_filtered_15_85_human_revel_mvp_alphaM_spliceAI_random_fromUDN_add20noWL\"}, {\"Rank\": 17, \"NumPatients\": 276, \"Percent_Variants\": 93.24324324324324, \"Run_Type\": \"noN_filtered_15_85_human_revel_mvp_alphaM_spliceAI_random_fromUDN_add20noWL\"}, {\"Rank\": 18, \"NumPatients\": 276, \"Percent_Variants\": 93.24324324324324, \"Run_Type\": \"noN_filtered_15_85_human_revel_mvp_alphaM_spliceAI_random_fromUDN_add20noWL\"}, {\"Rank\": 19, \"NumPatients\": 276, \"Percent_Variants\": 93.24324324324324, \"Run_Type\": \"noN_filtered_15_85_human_revel_mvp_alphaM_spliceAI_random_fromUDN_add20noWL\"}, {\"Rank\": 20, \"NumPatients\": 277, \"Percent_Variants\": 93.58108108108108, \"Run_Type\": \"noN_filtered_15_85_human_revel_mvp_alphaM_spliceAI_random_fromUDN_add20noWL\"}, {\"Rank\": 21, \"NumPatients\": 277, \"Percent_Variants\": 93.58108108108108, \"Run_Type\": \"noN_filtered_15_85_human_revel_mvp_alphaM_spliceAI_random_fromUDN_add20noWL\"}, {\"Rank\": 22, \"NumPatients\": 277, \"Percent_Variants\": 93.58108108108108, \"Run_Type\": \"noN_filtered_15_85_human_revel_mvp_alphaM_spliceAI_random_fromUDN_add20noWL\"}, {\"Rank\": 23, \"NumPatients\": 277, \"Percent_Variants\": 93.58108108108108, \"Run_Type\": \"noN_filtered_15_85_human_revel_mvp_alphaM_spliceAI_random_fromUDN_add20noWL\"}, {\"Rank\": 24, \"NumPatients\": 277, \"Percent_Variants\": 93.58108108108108, \"Run_Type\": \"noN_filtered_15_85_human_revel_mvp_alphaM_spliceAI_random_fromUDN_add20noWL\"}, {\"Rank\": 25, \"NumPatients\": 279, \"Percent_Variants\": 94.25675675675676, \"Run_Type\": \"noN_filtered_15_85_human_revel_mvp_alphaM_spliceAI_random_fromUDN_add20noWL\"}, {\"Rank\": 26, \"NumPatients\": 279, \"Percent_Variants\": 94.25675675675676, \"Run_Type\": \"noN_filtered_15_85_human_revel_mvp_alphaM_spliceAI_random_fromUDN_add20noWL\"}, {\"Rank\": 27, \"NumPatients\": 279, \"Percent_Variants\": 94.25675675675676, \"Run_Type\": \"noN_filtered_15_85_human_revel_mvp_alphaM_spliceAI_random_fromUDN_add20noWL\"}, {\"Rank\": 28, \"NumPatients\": 279, \"Percent_Variants\": 94.25675675675676, \"Run_Type\": \"noN_filtered_15_85_human_revel_mvp_alphaM_spliceAI_random_fromUDN_add20noWL\"}, {\"Rank\": 29, \"NumPatients\": 281, \"Percent_Variants\": 94.93243243243244, \"Run_Type\": \"noN_filtered_15_85_human_revel_mvp_alphaM_spliceAI_random_fromUDN_add20noWL\"}, {\"Rank\": 30, \"NumPatients\": 281, \"Percent_Variants\": 94.93243243243244, \"Run_Type\": \"noN_filtered_15_85_human_revel_mvp_alphaM_spliceAI_random_fromUDN_add20noWL\"}], \"data-69d007fc6878341c3dc39f53a7d18f57\": [{\"Term\": \"HP:0011410\", \"numPatients\": 37, \"Percent_Patients\": 34.3, \"TermName\": \"Caesarian section\"}, {\"Term\": \"HP:0001787\", \"numPatients\": 36, \"Percent_Patients\": 33.3, \"TermName\": \"Abnormal delivery\"}, {\"Term\": \"HP:0001622\", \"numPatients\": 30, \"Percent_Patients\": 27.8, \"TermName\": \"Premature birth\"}, {\"Term\": \"HP:0002033\", \"numPatients\": 25, \"Percent_Patients\": 23.1, \"TermName\": \"Poor suck\"}, {\"Term\": \"HP:0002643\", \"numPatients\": 21, \"Percent_Patients\": 19.4, \"TermName\": \"Neonatal respiratory distress\"}, {\"Term\": \"HP:0001518\", \"numPatients\": 20, \"Percent_Patients\": 18.5, \"TermName\": \"Small for gestational age\"}, {\"Term\": \"HP:0001511\", \"numPatients\": 16, \"Percent_Patients\": 14.8, \"TermName\": \"Intrauterine growth retardation\"}, {\"Term\": \"HP:0001558\", \"numPatients\": 15, \"Percent_Patients\": 13.9, \"TermName\": \"Decreased fetal movement\"}, {\"Term\": \"HP:0009800\", \"numPatients\": 13, \"Percent_Patients\": 12.0, \"TermName\": \"Maternal diabetes\"}, {\"Term\": \"HP:0030364\", \"numPatients\": 13, \"Percent_Patients\": 12.0, \"TermName\": \"Secondary Caesarian section\"}, {\"Term\": \"HP:0001561\", \"numPatients\": 12, \"Percent_Patients\": 11.1, \"TermName\": \"Polyhydramnios\"}, {\"Term\": \"HP:0012188\", \"numPatients\": 9, \"Percent_Patients\": 8.3, \"TermName\": \"Hyperemesis gravidarum\"}, {\"Term\": \"HP:0001998\", \"numPatients\": 9, \"Percent_Patients\": 8.3, \"TermName\": \"Neonatal hypoglycemia\"}, {\"Term\": \"HP:0011451\", \"numPatients\": 8, \"Percent_Patients\": 7.4, \"TermName\": \"Primary microcephaly\"}, {\"Term\": \"HP:0006579\", \"numPatients\": 8, \"Percent_Patients\": 7.4, \"TermName\": \"Prolonged neonatal jaundice\"}, {\"Term\": \"HP:0003561\", \"numPatients\": 8, \"Percent_Patients\": 7.4, \"TermName\": \"Birth length less than 3rd percentile\"}, {\"Term\": \"HP:0008071\", \"numPatients\": 7, \"Percent_Patients\": 6.5, \"TermName\": \"Maternal hypertension\"}, {\"Term\": \"HP:0001562\", \"numPatients\": 7, \"Percent_Patients\": 6.5, \"TermName\": \"Oligohydramnios\"}, {\"Term\": \"HP:0030369\", \"numPatients\": 7, \"Percent_Patients\": 6.5, \"TermName\": \"Induced vaginal delivery\"}, {\"Term\": \"HP:0030244\", \"numPatients\": 3, \"Percent_Patients\": 2.8, \"TermName\": \"Maternal fever in pregnancy\"}, {\"Term\": \"HP:0011438\", \"numPatients\": 3, \"Percent_Patients\": 2.8, \"TermName\": \"Maternal teratogenic exposure\"}, {\"Term\": \"HP:0011436\", \"numPatients\": 3, \"Percent_Patients\": 2.8, \"TermName\": \"Abnormal maternal serum screening\"}, {\"Term\": \"HP:0001520\", \"numPatients\": 2, \"Percent_Patients\": 1.9, \"TermName\": \"Large for gestational age\"}, {\"Term\": \"HP:0100622\", \"numPatients\": 2, \"Percent_Patients\": 1.9, \"TermName\": \"Maternal seizure\"}, {\"Term\": \"HP:0004488\", \"numPatients\": 1, \"Percent_Patients\": 0.9, \"TermName\": \"Macrocephaly at birth\"}, {\"Term\": \"HP:0100603\", \"numPatients\": 1, \"Percent_Patients\": 0.9, \"TermName\": \"Toxemia of pregnancy\"}, {\"Term\": \"HP:0003517\", \"numPatients\": 1, \"Percent_Patients\": 0.9, \"TermName\": \"Birth length greater than 97th percentile\"}], \"data-959cbe53c7538ce36694c216da3c0a8f\": [{\"ID\": \"UDN622466\", \"Num_Terms\": 20, \"Class\": \"Comprehensive\", \"Diff\": 1, \"Removed\": 1, \"Added\": 0}, {\"ID\": \"UDN622466\", \"Num_Terms\": 19, \"Class\": \"Curated\", \"Diff\": 1, \"Removed\": 1, \"Added\": 0}, {\"ID\": \"UDN565610\", \"Num_Terms\": 30, \"Class\": \"Comprehensive\", \"Diff\": 1, \"Removed\": 1, \"Added\": 0}, {\"ID\": \"UDN565610\", \"Num_Terms\": 29, \"Class\": \"Curated\", \"Diff\": 1, \"Removed\": 1, \"Added\": 0}, {\"ID\": \"UDN011317\", \"Num_Terms\": 7, \"Class\": \"Comprehensive\", \"Diff\": 1, \"Removed\": 1, \"Added\": 0}, {\"ID\": \"UDN011317\", \"Num_Terms\": 6, \"Class\": \"Curated\", \"Diff\": 1, \"Removed\": 1, \"Added\": 0}, {\"ID\": \"UDN528471\", \"Num_Terms\": 110, \"Class\": \"Comprehensive\", \"Diff\": 1, \"Removed\": 1, \"Added\": 0}, {\"ID\": \"UDN528471\", \"Num_Terms\": 109, \"Class\": \"Curated\", \"Diff\": 1, \"Removed\": 1, \"Added\": 0}, {\"ID\": \"UDN052633\", \"Num_Terms\": 34, \"Class\": \"Comprehensive\", \"Diff\": 4, \"Removed\": 4, \"Added\": 0}, {\"ID\": \"UDN052633\", \"Num_Terms\": 30, \"Class\": \"Curated\", \"Diff\": 4, \"Removed\": 4, \"Added\": 0}, {\"ID\": \"UDN851961\", \"Num_Terms\": 36, \"Class\": \"Comprehensive\", \"Diff\": 4, \"Removed\": 4, \"Added\": 0}, {\"ID\": \"UDN851961\", \"Num_Terms\": 32, \"Class\": \"Curated\", \"Diff\": 4, \"Removed\": 4, \"Added\": 0}, {\"ID\": \"UDN462897\", \"Num_Terms\": 43, \"Class\": \"Comprehensive\", \"Diff\": 9, \"Removed\": 9, \"Added\": 0}, {\"ID\": \"UDN462897\", \"Num_Terms\": 34, \"Class\": \"Curated\", \"Diff\": 9, \"Removed\": 9, \"Added\": 0}, {\"ID\": \"UDN106466\", \"Num_Terms\": 25, \"Class\": \"Comprehensive\", \"Diff\": 2, \"Removed\": 2, \"Added\": 0}, {\"ID\": \"UDN106466\", \"Num_Terms\": 23, \"Class\": \"Curated\", \"Diff\": 2, \"Removed\": 2, \"Added\": 0}, {\"ID\": \"UDN559180\", \"Num_Terms\": 14, \"Class\": \"Comprehensive\", \"Diff\": 1, \"Removed\": 1, \"Added\": 0}, {\"ID\": \"UDN559180\", \"Num_Terms\": 13, \"Class\": \"Curated\", \"Diff\": 1, \"Removed\": 1, \"Added\": 0}, {\"ID\": \"UDN112958\", \"Num_Terms\": 20, \"Class\": \"Comprehensive\", \"Diff\": 7, \"Removed\": 7, \"Added\": 0}, {\"ID\": \"UDN112958\", \"Num_Terms\": 13, \"Class\": \"Curated\", \"Diff\": 7, \"Removed\": 7, \"Added\": 0}, {\"ID\": \"UDN418801\", \"Num_Terms\": 65, \"Class\": \"Comprehensive\", \"Diff\": 1, \"Removed\": 1, \"Added\": 0}, {\"ID\": \"UDN418801\", \"Num_Terms\": 64, \"Class\": \"Curated\", \"Diff\": 1, \"Removed\": 1, \"Added\": 0}, {\"ID\": \"UDN849344\", \"Num_Terms\": 44, \"Class\": \"Comprehensive\", \"Diff\": 1, \"Removed\": 1, \"Added\": 0}, {\"ID\": \"UDN849344\", \"Num_Terms\": 43, \"Class\": \"Curated\", \"Diff\": 1, \"Removed\": 1, \"Added\": 0}, {\"ID\": \"UDN915573\", \"Num_Terms\": 21, \"Class\": \"Comprehensive\", \"Diff\": 1, \"Removed\": 1, \"Added\": 0}, {\"ID\": \"UDN915573\", \"Num_Terms\": 20, \"Class\": \"Curated\", \"Diff\": 1, \"Removed\": 1, \"Added\": 0}, {\"ID\": \"UDN321647\", \"Num_Terms\": 23, \"Class\": \"Comprehensive\", \"Diff\": 4, \"Removed\": 4, \"Added\": 0}, {\"ID\": \"UDN321647\", \"Num_Terms\": 19, \"Class\": \"Curated\", \"Diff\": 4, \"Removed\": 4, \"Added\": 0}, {\"ID\": \"UDN527443\", \"Num_Terms\": 10, \"Class\": \"Comprehensive\", \"Diff\": 5, \"Removed\": 5, \"Added\": 0}, {\"ID\": \"UDN527443\", \"Num_Terms\": 5, \"Class\": \"Curated\", \"Diff\": 5, \"Removed\": 5, \"Added\": 0}, {\"ID\": \"UDN490807\", \"Num_Terms\": 23, \"Class\": \"Comprehensive\", \"Diff\": 4, \"Removed\": 4, \"Added\": 0}, {\"ID\": \"UDN490807\", \"Num_Terms\": 19, \"Class\": \"Curated\", \"Diff\": 4, \"Removed\": 4, \"Added\": 0}, {\"ID\": \"UDN101955\", \"Num_Terms\": 59, \"Class\": \"Comprehensive\", \"Diff\": 3, \"Removed\": 3, \"Added\": 0}, {\"ID\": \"UDN101955\", \"Num_Terms\": 56, \"Class\": \"Curated\", \"Diff\": 3, \"Removed\": 3, \"Added\": 0}, {\"ID\": \"UDN348954\", \"Num_Terms\": 47, \"Class\": \"Comprehensive\", \"Diff\": 2, \"Removed\": 2, \"Added\": 0}, {\"ID\": \"UDN348954\", \"Num_Terms\": 45, \"Class\": \"Curated\", \"Diff\": 2, \"Removed\": 2, \"Added\": 0}, {\"ID\": \"UDN119193\", \"Num_Terms\": 20, \"Class\": \"Comprehensive\", \"Diff\": 5, \"Removed\": 5, \"Added\": 0}, {\"ID\": \"UDN119193\", \"Num_Terms\": 15, \"Class\": \"Curated\", \"Diff\": 5, \"Removed\": 5, \"Added\": 0}, {\"ID\": \"UDN438933\", \"Num_Terms\": 24, \"Class\": \"Comprehensive\", \"Diff\": 2, \"Removed\": 2, \"Added\": 0}, {\"ID\": \"UDN438933\", \"Num_Terms\": 22, \"Class\": \"Curated\", \"Diff\": 2, \"Removed\": 2, \"Added\": 0}, {\"ID\": \"UDN532183\", \"Num_Terms\": 21, \"Class\": \"Comprehensive\", \"Diff\": 2, \"Removed\": 2, \"Added\": 0}, {\"ID\": \"UDN532183\", \"Num_Terms\": 19, \"Class\": \"Curated\", \"Diff\": 2, \"Removed\": 2, \"Added\": 0}, {\"ID\": \"UDN318113\", \"Num_Terms\": 41, \"Class\": \"Comprehensive\", \"Diff\": 6, \"Removed\": 6, \"Added\": 0}, {\"ID\": \"UDN318113\", \"Num_Terms\": 35, \"Class\": \"Curated\", \"Diff\": 6, \"Removed\": 6, \"Added\": 0}, {\"ID\": \"UDN109083\", \"Num_Terms\": 15, \"Class\": \"Comprehensive\", \"Diff\": 2, \"Removed\": 2, \"Added\": 0}, {\"ID\": \"UDN109083\", \"Num_Terms\": 13, \"Class\": \"Curated\", \"Diff\": 2, \"Removed\": 2, \"Added\": 0}, {\"ID\": \"UDN734696\", \"Num_Terms\": 15, \"Class\": \"Comprehensive\", \"Diff\": 1, \"Removed\": 1, \"Added\": 0}, {\"ID\": \"UDN734696\", \"Num_Terms\": 14, \"Class\": \"Curated\", \"Diff\": 1, \"Removed\": 1, \"Added\": 0}, {\"ID\": \"UDN809320\", \"Num_Terms\": 30, \"Class\": \"Comprehensive\", \"Diff\": 4, \"Removed\": 4, \"Added\": 0}, {\"ID\": \"UDN809320\", \"Num_Terms\": 26, \"Class\": \"Curated\", \"Diff\": 4, \"Removed\": 4, \"Added\": 0}, {\"ID\": \"UDN046920\", \"Num_Terms\": 43, \"Class\": \"Comprehensive\", \"Diff\": 2, \"Removed\": 2, \"Added\": 0}, {\"ID\": \"UDN046920\", \"Num_Terms\": 41, \"Class\": \"Curated\", \"Diff\": 2, \"Removed\": 2, \"Added\": 0}, {\"ID\": \"UDN560937\", \"Num_Terms\": 42, \"Class\": \"Comprehensive\", \"Diff\": 1, \"Removed\": 1, \"Added\": 0}, {\"ID\": \"UDN560937\", \"Num_Terms\": 41, \"Class\": \"Curated\", \"Diff\": 1, \"Removed\": 1, \"Added\": 0}, {\"ID\": \"UDN272935\", \"Num_Terms\": 59, \"Class\": \"Comprehensive\", \"Diff\": 8, \"Removed\": 8, \"Added\": 0}, {\"ID\": \"UDN272935\", \"Num_Terms\": 51, \"Class\": \"Curated\", \"Diff\": 8, \"Removed\": 8, \"Added\": 0}, {\"ID\": \"UDN634500\", \"Num_Terms\": 18, \"Class\": \"Comprehensive\", \"Diff\": 2, \"Removed\": 2, \"Added\": 0}, {\"ID\": \"UDN634500\", \"Num_Terms\": 16, \"Class\": \"Curated\", \"Diff\": 2, \"Removed\": 2, \"Added\": 0}, {\"ID\": \"UDN979361\", \"Num_Terms\": 17, \"Class\": \"Comprehensive\", \"Diff\": 2, \"Removed\": 2, \"Added\": 0}, {\"ID\": \"UDN979361\", \"Num_Terms\": 15, \"Class\": \"Curated\", \"Diff\": 2, \"Removed\": 2, \"Added\": 0}, {\"ID\": \"UDN338723\", \"Num_Terms\": 35, \"Class\": \"Comprehensive\", \"Diff\": 7, \"Removed\": 7, \"Added\": 0}, {\"ID\": \"UDN338723\", \"Num_Terms\": 28, \"Class\": \"Curated\", \"Diff\": 7, \"Removed\": 7, \"Added\": 0}, {\"ID\": \"UDN282655\", \"Num_Terms\": 21, \"Class\": \"Comprehensive\", \"Diff\": 1, \"Removed\": 1, \"Added\": 0}, {\"ID\": \"UDN282655\", \"Num_Terms\": 20, \"Class\": \"Curated\", \"Diff\": 1, \"Removed\": 1, \"Added\": 0}, {\"ID\": \"UDN706715\", \"Num_Terms\": 12, \"Class\": \"Comprehensive\", \"Diff\": 1, \"Removed\": 1, \"Added\": 0}, {\"ID\": \"UDN706715\", \"Num_Terms\": 11, \"Class\": \"Curated\", \"Diff\": 1, \"Removed\": 1, \"Added\": 0}, {\"ID\": \"UDN492496\", \"Num_Terms\": 111, \"Class\": \"Comprehensive\", \"Diff\": 3, \"Removed\": 3, \"Added\": 0}, {\"ID\": \"UDN492496\", \"Num_Terms\": 108, \"Class\": \"Curated\", \"Diff\": 3, \"Removed\": 3, \"Added\": 0}, {\"ID\": \"UDN817437\", \"Num_Terms\": 37, \"Class\": \"Comprehensive\", \"Diff\": 1, \"Removed\": 1, \"Added\": 0}, {\"ID\": \"UDN817437\", \"Num_Terms\": 36, \"Class\": \"Curated\", \"Diff\": 1, \"Removed\": 1, \"Added\": 0}, {\"ID\": \"UDN748321\", \"Num_Terms\": 23, \"Class\": \"Comprehensive\", \"Diff\": 5, \"Removed\": 5, \"Added\": 0}, {\"ID\": \"UDN748321\", \"Num_Terms\": 18, \"Class\": \"Curated\", \"Diff\": 5, \"Removed\": 5, \"Added\": 0}, {\"ID\": \"UDN849959\", \"Num_Terms\": 31, \"Class\": \"Comprehensive\", \"Diff\": 2, \"Removed\": 2, \"Added\": 0}, {\"ID\": \"UDN849959\", \"Num_Terms\": 29, \"Class\": \"Curated\", \"Diff\": 2, \"Removed\": 2, \"Added\": 0}, {\"ID\": \"UDN411022\", \"Num_Terms\": 16, \"Class\": \"Comprehensive\", \"Diff\": 4, \"Removed\": 4, \"Added\": 0}, {\"ID\": \"UDN411022\", \"Num_Terms\": 12, \"Class\": \"Curated\", \"Diff\": 4, \"Removed\": 4, \"Added\": 0}, {\"ID\": \"UDN553376\", \"Num_Terms\": 53, \"Class\": \"Comprehensive\", \"Diff\": 1, \"Removed\": 1, \"Added\": 0}, {\"ID\": \"UDN553376\", \"Num_Terms\": 52, \"Class\": \"Curated\", \"Diff\": 1, \"Removed\": 1, \"Added\": 0}, {\"ID\": \"UDN067966\", \"Num_Terms\": 26, \"Class\": \"Comprehensive\", \"Diff\": 2, \"Removed\": 2, \"Added\": 0}, {\"ID\": \"UDN067966\", \"Num_Terms\": 24, \"Class\": \"Curated\", \"Diff\": 2, \"Removed\": 2, \"Added\": 0}, {\"ID\": \"UDN008634\", \"Num_Terms\": 35, \"Class\": \"Comprehensive\", \"Diff\": 4, \"Removed\": 4, \"Added\": 0}, {\"ID\": \"UDN008634\", \"Num_Terms\": 31, \"Class\": \"Curated\", \"Diff\": 4, \"Removed\": 4, \"Added\": 0}, {\"ID\": \"UDN941156\", \"Num_Terms\": 14, \"Class\": \"Comprehensive\", \"Diff\": 5, \"Removed\": 5, \"Added\": 0}, {\"ID\": \"UDN941156\", \"Num_Terms\": 9, \"Class\": \"Curated\", \"Diff\": 5, \"Removed\": 5, \"Added\": 0}, {\"ID\": \"UDN864401\", \"Num_Terms\": 78, \"Class\": \"Comprehensive\", \"Diff\": 4, \"Removed\": 4, \"Added\": 0}, {\"ID\": \"UDN864401\", \"Num_Terms\": 74, \"Class\": \"Curated\", \"Diff\": 4, \"Removed\": 4, \"Added\": 0}, {\"ID\": \"UDN011535\", \"Num_Terms\": 10, \"Class\": \"Comprehensive\", \"Diff\": 1, \"Removed\": 1, \"Added\": 0}, {\"ID\": \"UDN011535\", \"Num_Terms\": 9, \"Class\": \"Curated\", \"Diff\": 1, \"Removed\": 1, \"Added\": 0}, {\"ID\": \"UDN401148\", \"Num_Terms\": 30, \"Class\": \"Comprehensive\", \"Diff\": 1, \"Removed\": 1, \"Added\": 0}, {\"ID\": \"UDN401148\", \"Num_Terms\": 29, \"Class\": \"Curated\", \"Diff\": 1, \"Removed\": 1, \"Added\": 0}, {\"ID\": \"UDN829699\", \"Num_Terms\": 22, \"Class\": \"Comprehensive\", \"Diff\": 2, \"Removed\": 2, \"Added\": 0}, {\"ID\": \"UDN829699\", \"Num_Terms\": 20, \"Class\": \"Curated\", \"Diff\": 2, \"Removed\": 2, \"Added\": 0}, {\"ID\": \"UDN849776\", \"Num_Terms\": 29, \"Class\": \"Comprehensive\", \"Diff\": 5, \"Removed\": 5, \"Added\": 0}, {\"ID\": \"UDN849776\", \"Num_Terms\": 24, \"Class\": \"Curated\", \"Diff\": 5, \"Removed\": 5, \"Added\": 0}, {\"ID\": \"UDN058032\", \"Num_Terms\": 16, \"Class\": \"Comprehensive\", \"Diff\": 1, \"Removed\": 1, \"Added\": 0}, {\"ID\": \"UDN058032\", \"Num_Terms\": 15, \"Class\": \"Curated\", \"Diff\": 1, \"Removed\": 1, \"Added\": 0}, {\"ID\": \"UDN948153\", \"Num_Terms\": 13, \"Class\": \"Comprehensive\", \"Diff\": 3, \"Removed\": 3, \"Added\": 0}, {\"ID\": \"UDN948153\", \"Num_Terms\": 10, \"Class\": \"Curated\", \"Diff\": 3, \"Removed\": 3, \"Added\": 0}, {\"ID\": \"UDN443731\", \"Num_Terms\": 14, \"Class\": \"Comprehensive\", \"Diff\": 1, \"Removed\": 1, \"Added\": 0}, {\"ID\": \"UDN443731\", \"Num_Terms\": 13, \"Class\": \"Curated\", \"Diff\": 1, \"Removed\": 1, \"Added\": 0}, {\"ID\": \"UDN131465\", \"Num_Terms\": 36, \"Class\": \"Comprehensive\", \"Diff\": 3, \"Removed\": 3, \"Added\": 0}, {\"ID\": \"UDN131465\", \"Num_Terms\": 33, \"Class\": \"Curated\", \"Diff\": 3, \"Removed\": 3, \"Added\": 0}, {\"ID\": \"UDN147107\", \"Num_Terms\": 35, \"Class\": \"Comprehensive\", \"Diff\": 6, \"Removed\": 6, \"Added\": 0}, {\"ID\": \"UDN147107\", \"Num_Terms\": 29, \"Class\": \"Curated\", \"Diff\": 6, \"Removed\": 6, \"Added\": 0}, {\"ID\": \"UDN699340\", \"Num_Terms\": 12, \"Class\": \"Comprehensive\", \"Diff\": 1, \"Removed\": 1, \"Added\": 0}, {\"ID\": \"UDN699340\", \"Num_Terms\": 11, \"Class\": \"Curated\", \"Diff\": 1, \"Removed\": 1, \"Added\": 0}, {\"ID\": \"UDN131350\", \"Num_Terms\": 19, \"Class\": \"Comprehensive\", \"Diff\": 6, \"Removed\": 6, \"Added\": 0}, {\"ID\": \"UDN131350\", \"Num_Terms\": 13, \"Class\": \"Curated\", \"Diff\": 6, \"Removed\": 6, \"Added\": 0}, {\"ID\": \"UDN975564\", \"Num_Terms\": 27, \"Class\": \"Comprehensive\", \"Diff\": 5, \"Removed\": 5, \"Added\": 0}, {\"ID\": \"UDN975564\", \"Num_Terms\": 22, \"Class\": \"Curated\", \"Diff\": 5, \"Removed\": 5, \"Added\": 0}, {\"ID\": \"UDN594825\", \"Num_Terms\": 29, \"Class\": \"Comprehensive\", \"Diff\": 3, \"Removed\": 3, \"Added\": 0}, {\"ID\": \"UDN594825\", \"Num_Terms\": 26, \"Class\": \"Curated\", \"Diff\": 3, \"Removed\": 3, \"Added\": 0}, {\"ID\": \"UDN517748\", \"Num_Terms\": 25, \"Class\": \"Comprehensive\", \"Diff\": 2, \"Removed\": 2, \"Added\": 0}, {\"ID\": \"UDN517748\", \"Num_Terms\": 23, \"Class\": \"Curated\", \"Diff\": 2, \"Removed\": 2, \"Added\": 0}, {\"ID\": \"UDN289350\", \"Num_Terms\": 16, \"Class\": \"Comprehensive\", \"Diff\": 3, \"Removed\": 3, \"Added\": 0}, {\"ID\": \"UDN289350\", \"Num_Terms\": 13, \"Class\": \"Curated\", \"Diff\": 3, \"Removed\": 3, \"Added\": 0}, {\"ID\": \"UDN879471\", \"Num_Terms\": 6, \"Class\": \"Comprehensive\", \"Diff\": 1, \"Removed\": 1, \"Added\": 0}, {\"ID\": \"UDN879471\", \"Num_Terms\": 5, \"Class\": \"Curated\", \"Diff\": 1, \"Removed\": 1, \"Added\": 0}, {\"ID\": \"UDN837747\", \"Num_Terms\": 50, \"Class\": \"Comprehensive\", \"Diff\": 1, \"Removed\": 1, \"Added\": 0}, {\"ID\": \"UDN837747\", \"Num_Terms\": 49, \"Class\": \"Curated\", \"Diff\": 1, \"Removed\": 1, \"Added\": 0}, {\"ID\": \"UDN066723\", \"Num_Terms\": 15, \"Class\": \"Comprehensive\", \"Diff\": 1, \"Removed\": 1, \"Added\": 0}, {\"ID\": \"UDN066723\", \"Num_Terms\": 14, \"Class\": \"Curated\", \"Diff\": 1, \"Removed\": 1, \"Added\": 0}, {\"ID\": \"UDN891779\", \"Num_Terms\": 23, \"Class\": \"Comprehensive\", \"Diff\": 2, \"Removed\": 2, \"Added\": 0}, {\"ID\": \"UDN891779\", \"Num_Terms\": 21, \"Class\": \"Curated\", \"Diff\": 2, \"Removed\": 2, \"Added\": 0}, {\"ID\": \"UDN032739\", \"Num_Terms\": 68, \"Class\": \"Comprehensive\", \"Diff\": 3, \"Removed\": 3, \"Added\": 0}, {\"ID\": \"UDN032739\", \"Num_Terms\": 65, \"Class\": \"Curated\", \"Diff\": 3, \"Removed\": 3, \"Added\": 0}, {\"ID\": \"UDN201597\", \"Num_Terms\": 54, \"Class\": \"Comprehensive\", \"Diff\": 1, \"Removed\": 1, \"Added\": 0}, {\"ID\": \"UDN201597\", \"Num_Terms\": 53, \"Class\": \"Curated\", \"Diff\": 1, \"Removed\": 1, \"Added\": 0}, {\"ID\": \"UDN546686\", \"Num_Terms\": 57, \"Class\": \"Comprehensive\", \"Diff\": 4, \"Removed\": 4, \"Added\": 0}, {\"ID\": \"UDN546686\", \"Num_Terms\": 53, \"Class\": \"Curated\", \"Diff\": 4, \"Removed\": 4, \"Added\": 0}, {\"ID\": \"UDN612958\", \"Num_Terms\": 23, \"Class\": \"Comprehensive\", \"Diff\": 3, \"Removed\": 3, \"Added\": 0}, {\"ID\": \"UDN612958\", \"Num_Terms\": 20, \"Class\": \"Curated\", \"Diff\": 3, \"Removed\": 3, \"Added\": 0}, {\"ID\": \"UDN723708\", \"Num_Terms\": 13, \"Class\": \"Comprehensive\", \"Diff\": 1, \"Removed\": 1, \"Added\": 0}, {\"ID\": \"UDN723708\", \"Num_Terms\": 12, \"Class\": \"Curated\", \"Diff\": 1, \"Removed\": 1, \"Added\": 0}, {\"ID\": \"UDN234212\", \"Num_Terms\": 28, \"Class\": \"Comprehensive\", \"Diff\": 4, \"Removed\": 4, \"Added\": 0}, {\"ID\": \"UDN234212\", \"Num_Terms\": 24, \"Class\": \"Curated\", \"Diff\": 4, \"Removed\": 4, \"Added\": 0}, {\"ID\": \"UDN051661\", \"Num_Terms\": 18, \"Class\": \"Comprehensive\", \"Diff\": 2, \"Removed\": 2, \"Added\": 0}, {\"ID\": \"UDN051661\", \"Num_Terms\": 16, \"Class\": \"Curated\", \"Diff\": 2, \"Removed\": 2, \"Added\": 0}, {\"ID\": \"UDN541836\", \"Num_Terms\": 88, \"Class\": \"Comprehensive\", \"Diff\": 8, \"Removed\": 8, \"Added\": 0}, {\"ID\": \"UDN541836\", \"Num_Terms\": 80, \"Class\": \"Curated\", \"Diff\": 8, \"Removed\": 8, \"Added\": 0}, {\"ID\": \"UDN107968\", \"Num_Terms\": 69, \"Class\": \"Comprehensive\", \"Diff\": 3, \"Removed\": 3, \"Added\": 0}, {\"ID\": \"UDN107968\", \"Num_Terms\": 66, \"Class\": \"Curated\", \"Diff\": 3, \"Removed\": 3, \"Added\": 0}, {\"ID\": \"UDN867018\", \"Num_Terms\": 19, \"Class\": \"Comprehensive\", \"Diff\": 1, \"Removed\": 1, \"Added\": 0}, {\"ID\": \"UDN867018\", \"Num_Terms\": 18, \"Class\": \"Curated\", \"Diff\": 1, \"Removed\": 1, \"Added\": 0}, {\"ID\": \"UDN744429\", \"Num_Terms\": 8, \"Class\": \"Comprehensive\", \"Diff\": 2, \"Removed\": 2, \"Added\": 0}, {\"ID\": \"UDN744429\", \"Num_Terms\": 6, \"Class\": \"Curated\", \"Diff\": 2, \"Removed\": 2, \"Added\": 0}, {\"ID\": \"UDN864399\", \"Num_Terms\": 27, \"Class\": \"Comprehensive\", \"Diff\": 4, \"Removed\": 4, \"Added\": 0}, {\"ID\": \"UDN864399\", \"Num_Terms\": 23, \"Class\": \"Curated\", \"Diff\": 4, \"Removed\": 4, \"Added\": 0}, {\"ID\": \"UDN552884\", \"Num_Terms\": 60, \"Class\": \"Comprehensive\", \"Diff\": 1, \"Removed\": 1, \"Added\": 0}, {\"ID\": \"UDN552884\", \"Num_Terms\": 59, \"Class\": \"Curated\", \"Diff\": 1, \"Removed\": 1, \"Added\": 0}, {\"ID\": \"UDN308376\", \"Num_Terms\": 56, \"Class\": \"Comprehensive\", \"Diff\": 2, \"Removed\": 2, \"Added\": 0}, {\"ID\": \"UDN308376\", \"Num_Terms\": 54, \"Class\": \"Curated\", \"Diff\": 2, \"Removed\": 2, \"Added\": 0}, {\"ID\": \"UDN881997\", \"Num_Terms\": 21, \"Class\": \"Comprehensive\", \"Diff\": 1, \"Removed\": 1, \"Added\": 0}, {\"ID\": \"UDN881997\", \"Num_Terms\": 20, \"Class\": \"Curated\", \"Diff\": 1, \"Removed\": 1, \"Added\": 0}, {\"ID\": \"UDN388557\", \"Num_Terms\": 32, \"Class\": \"Comprehensive\", \"Diff\": 7, \"Removed\": 7, \"Added\": 0}, {\"ID\": \"UDN388557\", \"Num_Terms\": 25, \"Class\": \"Curated\", \"Diff\": 7, \"Removed\": 7, \"Added\": 0}, {\"ID\": \"UDN622150\", \"Num_Terms\": 36, \"Class\": \"Comprehensive\", \"Diff\": 1, \"Removed\": 1, \"Added\": 0}, {\"ID\": \"UDN622150\", \"Num_Terms\": 35, \"Class\": \"Curated\", \"Diff\": 1, \"Removed\": 1, \"Added\": 0}, {\"ID\": \"UDN813208\", \"Num_Terms\": 18, \"Class\": \"Comprehensive\", \"Diff\": 2, \"Removed\": 2, \"Added\": 0}, {\"ID\": \"UDN813208\", \"Num_Terms\": 16, \"Class\": \"Curated\", \"Diff\": 2, \"Removed\": 2, \"Added\": 0}, {\"ID\": \"UDN908013\", \"Num_Terms\": 23, \"Class\": \"Comprehensive\", \"Diff\": 1, \"Removed\": 1, \"Added\": 0}, {\"ID\": \"UDN908013\", \"Num_Terms\": 22, \"Class\": \"Curated\", \"Diff\": 1, \"Removed\": 1, \"Added\": 0}, {\"ID\": \"UDN519175\", \"Num_Terms\": 60, \"Class\": \"Comprehensive\", \"Diff\": 2, \"Removed\": 2, \"Added\": 0}, {\"ID\": \"UDN519175\", \"Num_Terms\": 58, \"Class\": \"Curated\", \"Diff\": 2, \"Removed\": 2, \"Added\": 0}, {\"ID\": \"UDN457849\", \"Num_Terms\": 32, \"Class\": \"Comprehensive\", \"Diff\": 3, \"Removed\": 3, \"Added\": 0}, {\"ID\": \"UDN457849\", \"Num_Terms\": 29, \"Class\": \"Curated\", \"Diff\": 3, \"Removed\": 3, \"Added\": 0}, {\"ID\": \"UDN724040\", \"Num_Terms\": 42, \"Class\": \"Comprehensive\", \"Diff\": 6, \"Removed\": 6, \"Added\": 0}, {\"ID\": \"UDN724040\", \"Num_Terms\": 36, \"Class\": \"Curated\", \"Diff\": 6, \"Removed\": 6, \"Added\": 0}, {\"ID\": \"UDN995589\", \"Num_Terms\": 22, \"Class\": \"Comprehensive\", \"Diff\": 5, \"Removed\": 5, \"Added\": 0}, {\"ID\": \"UDN995589\", \"Num_Terms\": 17, \"Class\": \"Curated\", \"Diff\": 5, \"Removed\": 5, \"Added\": 0}, {\"ID\": \"UDN865728\", \"Num_Terms\": 57, \"Class\": \"Comprehensive\", \"Diff\": 2, \"Removed\": 2, \"Added\": 0}, {\"ID\": \"UDN865728\", \"Num_Terms\": 55, \"Class\": \"Curated\", \"Diff\": 2, \"Removed\": 2, \"Added\": 0}, {\"ID\": \"UDN865642\", \"Num_Terms\": 35, \"Class\": \"Comprehensive\", \"Diff\": 8, \"Removed\": 8, \"Added\": 0}, {\"ID\": \"UDN865642\", \"Num_Terms\": 27, \"Class\": \"Curated\", \"Diff\": 8, \"Removed\": 8, \"Added\": 0}, {\"ID\": \"UDN406184\", \"Num_Terms\": 27, \"Class\": \"Comprehensive\", \"Diff\": 3, \"Removed\": 3, \"Added\": 0}, {\"ID\": \"UDN406184\", \"Num_Terms\": 24, \"Class\": \"Curated\", \"Diff\": 3, \"Removed\": 3, \"Added\": 0}, {\"ID\": \"UDN240087\", \"Num_Terms\": 26, \"Class\": \"Comprehensive\", \"Diff\": 1, \"Removed\": 1, \"Added\": 0}, {\"ID\": \"UDN240087\", \"Num_Terms\": 25, \"Class\": \"Curated\", \"Diff\": 1, \"Removed\": 1, \"Added\": 0}, {\"ID\": \"UDN662823\", \"Num_Terms\": 27, \"Class\": \"Comprehensive\", \"Diff\": 1, \"Removed\": 1, \"Added\": 0}, {\"ID\": \"UDN662823\", \"Num_Terms\": 26, \"Class\": \"Curated\", \"Diff\": 1, \"Removed\": 1, \"Added\": 0}, {\"ID\": \"UDN674180\", \"Num_Terms\": 32, \"Class\": \"Comprehensive\", \"Diff\": 1, \"Removed\": 1, \"Added\": 0}, {\"ID\": \"UDN674180\", \"Num_Terms\": 31, \"Class\": \"Curated\", \"Diff\": 1, \"Removed\": 1, \"Added\": 0}, {\"ID\": \"UDN618070\", \"Num_Terms\": 73, \"Class\": \"Comprehensive\", \"Diff\": 1, \"Removed\": 1, \"Added\": 0}, {\"ID\": \"UDN618070\", \"Num_Terms\": 72, \"Class\": \"Curated\", \"Diff\": 1, \"Removed\": 1, \"Added\": 0}, {\"ID\": \"UDN825513\", \"Num_Terms\": 38, \"Class\": \"Comprehensive\", \"Diff\": 4, \"Removed\": 4, \"Added\": 0}, {\"ID\": \"UDN825513\", \"Num_Terms\": 34, \"Class\": \"Curated\", \"Diff\": 4, \"Removed\": 4, \"Added\": 0}, {\"ID\": \"UDN525217\", \"Num_Terms\": 17, \"Class\": \"Comprehensive\", \"Diff\": 1, \"Removed\": 1, \"Added\": 0}, {\"ID\": \"UDN525217\", \"Num_Terms\": 16, \"Class\": \"Curated\", \"Diff\": 1, \"Removed\": 1, \"Added\": 0}, {\"ID\": \"UDN351598\", \"Num_Terms\": 7, \"Class\": \"Comprehensive\", \"Diff\": 1, \"Removed\": 1, \"Added\": 0}, {\"ID\": \"UDN351598\", \"Num_Terms\": 6, \"Class\": \"Curated\", \"Diff\": 1, \"Removed\": 1, \"Added\": 0}, {\"ID\": \"UDN369359\", \"Num_Terms\": 82, \"Class\": \"Comprehensive\", \"Diff\": 7, \"Removed\": 7, \"Added\": 0}, {\"ID\": \"UDN369359\", \"Num_Terms\": 75, \"Class\": \"Curated\", \"Diff\": 7, \"Removed\": 7, \"Added\": 0}, {\"ID\": \"UDN809795\", \"Num_Terms\": 55, \"Class\": \"Comprehensive\", \"Diff\": 2, \"Removed\": 2, \"Added\": 0}, {\"ID\": \"UDN809795\", \"Num_Terms\": 53, \"Class\": \"Curated\", \"Diff\": 2, \"Removed\": 2, \"Added\": 0}, {\"ID\": \"UDN177234\", \"Num_Terms\": 33, \"Class\": \"Comprehensive\", \"Diff\": 1, \"Removed\": 1, \"Added\": 0}, {\"ID\": \"UDN177234\", \"Num_Terms\": 32, \"Class\": \"Curated\", \"Diff\": 1, \"Removed\": 1, \"Added\": 0}, {\"ID\": \"UDN539503\", \"Num_Terms\": 17, \"Class\": \"Comprehensive\", \"Diff\": 4, \"Removed\": 4, \"Added\": 0}, {\"ID\": \"UDN539503\", \"Num_Terms\": 13, \"Class\": \"Curated\", \"Diff\": 4, \"Removed\": 4, \"Added\": 0}, {\"ID\": \"UDN378138\", \"Num_Terms\": 23, \"Class\": \"Comprehensive\", \"Diff\": 8, \"Removed\": 8, \"Added\": 0}, {\"ID\": \"UDN378138\", \"Num_Terms\": 15, \"Class\": \"Curated\", \"Diff\": 8, \"Removed\": 8, \"Added\": 0}, {\"ID\": \"UDN652623\", \"Num_Terms\": 11, \"Class\": \"Comprehensive\", \"Diff\": 3, \"Removed\": 3, \"Added\": 0}, {\"ID\": \"UDN652623\", \"Num_Terms\": 8, \"Class\": \"Curated\", \"Diff\": 3, \"Removed\": 3, \"Added\": 0}, {\"ID\": \"UDN925430\", \"Num_Terms\": 26, \"Class\": \"Comprehensive\", \"Diff\": 1, \"Removed\": 1, \"Added\": 0}, {\"ID\": \"UDN925430\", \"Num_Terms\": 25, \"Class\": \"Curated\", \"Diff\": 1, \"Removed\": 1, \"Added\": 0}, {\"ID\": \"UDN132664\", \"Num_Terms\": 36, \"Class\": \"Comprehensive\", \"Diff\": 3, \"Removed\": 3, \"Added\": 0}, {\"ID\": \"UDN132664\", \"Num_Terms\": 33, \"Class\": \"Curated\", \"Diff\": 3, \"Removed\": 3, \"Added\": 0}, {\"ID\": \"UDN090223\", \"Num_Terms\": 28, \"Class\": \"Comprehensive\", \"Diff\": 7, \"Removed\": 7, \"Added\": 0}, {\"ID\": \"UDN090223\", \"Num_Terms\": 21, \"Class\": \"Curated\", \"Diff\": 7, \"Removed\": 7, \"Added\": 0}, {\"ID\": \"UDN898187\", \"Num_Terms\": 18, \"Class\": \"Comprehensive\", \"Diff\": 1, \"Removed\": 1, \"Added\": 0}, {\"ID\": \"UDN898187\", \"Num_Terms\": 17, \"Class\": \"Curated\", \"Diff\": 1, \"Removed\": 1, \"Added\": 0}, {\"ID\": \"UDN021466\", \"Num_Terms\": 47, \"Class\": \"Comprehensive\", \"Diff\": 2, \"Removed\": 2, \"Added\": 0}, {\"ID\": \"UDN021466\", \"Num_Terms\": 45, \"Class\": \"Curated\", \"Diff\": 2, \"Removed\": 2, \"Added\": 0}, {\"ID\": \"UDN875397\", \"Num_Terms\": 46, \"Class\": \"Comprehensive\", \"Diff\": 4, \"Removed\": 4, \"Added\": 0}, {\"ID\": \"UDN875397\", \"Num_Terms\": 42, \"Class\": \"Curated\", \"Diff\": 4, \"Removed\": 4, \"Added\": 0}, {\"ID\": \"UDN388987\", \"Num_Terms\": 58, \"Class\": \"Comprehensive\", \"Diff\": 7, \"Removed\": 7, \"Added\": 0}, {\"ID\": \"UDN388987\", \"Num_Terms\": 51, \"Class\": \"Curated\", \"Diff\": 7, \"Removed\": 7, \"Added\": 0}], \"data-2d41e5cb9d289e59a7756195c3613a56\": [{\"ID\": \"UDN197_DENND5B\", \"Rank\": 72.0, \"Diff\": 1.0, \"RunType\": \"Comprehensive\"}, {\"ID\": \"UDN197_DENND5B\", \"Rank\": 71.0, \"Diff\": 1.0, \"RunType\": \"Curated\"}], \"data-8c8cb4c20b96a4e18f35a734b9a1657c\": [{\"ID\": \"UDN146_DHX9\", \"Rank\": 15.0, \"Diff\": 1.0, \"RunType\": \"Comprehensive\"}, {\"ID\": \"UDN146_DHX9\", \"Rank\": 14.0, \"Diff\": 1.0, \"RunType\": \"Curated\"}, {\"ID\": \"UDN83_PAPSS1\", \"Rank\": 11.0, \"Diff\": 1.0, \"RunType\": \"Comprehensive\"}, {\"ID\": \"UDN83_PAPSS1\", \"Rank\": 11.0, \"Diff\": 1.0, \"RunType\": \"Comprehensive\"}, {\"ID\": \"UDN83_PAPSS1\", \"Rank\": 10.0, \"Diff\": 1.0, \"RunType\": \"Curated\"}, {\"ID\": \"UDN83_PAPSS1\", \"Rank\": 10.0, \"Diff\": 1.0, \"RunType\": \"Curated\"}, {\"ID\": \"UDN288_KPNA4\", \"Rank\": 9.0, \"Diff\": 1.0, \"RunType\": \"Comprehensive\"}, {\"ID\": \"UDN47_TBCD\", \"Rank\": 8.0, \"Diff\": 1.0, \"RunType\": \"Comprehensive\"}, {\"ID\": \"UDN288_KPNA4\", \"Rank\": 8.0, \"Diff\": 1.0, \"RunType\": \"Curated\"}, {\"ID\": \"UDN47_TBCD\", \"Rank\": 8.0, \"Diff\": 1.0, \"RunType\": \"Comprehensive\"}, {\"ID\": \"UDN170_WARS2\", \"Rank\": 7.0, \"Diff\": 1.0, \"RunType\": \"Comprehensive\"}, {\"ID\": \"UDN170_WARS2\", \"Rank\": 7.0, \"Diff\": 1.0, \"RunType\": \"Comprehensive\"}, {\"ID\": \"UDN117_ZNF865\", \"Rank\": 7.0, \"Diff\": 1.0, \"RunType\": \"Comprehensive\"}, {\"ID\": \"UDN47_TBCD\", \"Rank\": 7.0, \"Diff\": 1.0, \"RunType\": \"Curated\"}, {\"ID\": \"UDN47_TBCD\", \"Rank\": 7.0, \"Diff\": 1.0, \"RunType\": \"Curated\"}, {\"ID\": \"UDN117_ZNF865\", \"Rank\": 6.0, \"Diff\": 1.0, \"RunType\": \"Curated\"}, {\"ID\": \"UDN170_WARS2\", \"Rank\": 6.0, \"Diff\": 1.0, \"RunType\": \"Curated\"}, {\"ID\": \"UDN170_WARS2\", \"Rank\": 6.0, \"Diff\": 1.0, \"RunType\": \"Curated\"}, {\"ID\": \"UDN168_PRDM16\", \"Rank\": 5.0, \"Diff\": 1.0, \"RunType\": \"Comprehensive\"}, {\"ID\": \"UDN49_ANK3\", \"Rank\": 5.0, \"Diff\": 1.0, \"RunType\": \"Comprehensive\"}, {\"ID\": \"UDN49_ANK3\", \"Rank\": 5.0, \"Diff\": 1.0, \"RunType\": \"Comprehensive\"}, {\"ID\": \"UDN168_PRDM16\", \"Rank\": 4.0, \"Diff\": 1.0, \"RunType\": \"Curated\"}, {\"ID\": \"UDN49_ANK3\", \"Rank\": 4.0, \"Diff\": 1.0, \"RunType\": \"Curated\"}, {\"ID\": \"UDN49_ANK3\", \"Rank\": 4.0, \"Diff\": 1.0, \"RunType\": \"Curated\"}, {\"ID\": \"UDN232_CAMK2B\", \"Rank\": 3.0, \"Diff\": 1.0, \"RunType\": \"Comprehensive\"}, {\"ID\": \"UDN60_COG4\", \"Rank\": 2.0, \"Diff\": 1.0, \"RunType\": \"Comprehensive\"}, {\"ID\": \"UDN232_CAMK2B\", \"Rank\": 2.0, \"Diff\": 1.0, \"RunType\": \"Curated\"}, {\"ID\": \"UDN152_CACNA1C\", \"Rank\": 2.0, \"Diff\": 1.0, \"RunType\": \"Comprehensive\"}, {\"ID\": \"UDN200_KCNC2\", \"Rank\": 2.0, \"Diff\": 1.0, \"RunType\": \"Comprehensive\"}, {\"ID\": \"UDN60_COG4\", \"Rank\": 1.0, \"Diff\": 1.0, \"RunType\": \"Curated\"}, {\"ID\": \"UDN152_CACNA1C\", \"Rank\": 1.0, \"Diff\": 1.0, \"RunType\": \"Curated\"}, {\"ID\": \"UDN200_KCNC2\", \"Rank\": 1.0, \"Diff\": 1.0, \"RunType\": \"Curated\"}], \"data-8419a946f38307f993178fbf45d7d05c\": [{\"ID\": \"UDN57_SPEN\", \"Rank\": 67.0, \"Diff\": -1.0, \"RunType\": \"Curated\"}, {\"ID\": \"UDN57_SPEN\", \"Rank\": 66.0, \"Diff\": -1.0, \"RunType\": \"Comprehensive\"}], \"data-01ac6742b128781986dd60976726c963\": [{\"ID\": \"UDN105_SNUPN\", \"Rank\": 17.0, \"Diff\": -1.0, \"RunType\": \"Curated\"}, {\"ID\": \"UDN105_SNUPN\", \"Rank\": 16.0, \"Diff\": -1.0, \"RunType\": \"Comprehensive\"}, {\"ID\": \"UDN26_PIGN\", \"Rank\": 3.0, \"Diff\": -1.0, \"RunType\": \"Curated\"}, {\"ID\": \"UDN26_PIGN\", \"Rank\": 3.0, \"Diff\": -1.0, \"RunType\": \"Curated\"}, {\"ID\": \"UDN26_PIGN\", \"Rank\": 2.0, \"Diff\": -1.0, \"RunType\": \"Comprehensive\"}, {\"ID\": \"UDN26_PIGN\", \"Rank\": 2.0, \"Diff\": -1.0, \"RunType\": \"Comprehensive\"}], \"data-307d2df2fd5d01db09fcba27cb2518a2\": [{\"ID\": \"UDN26_PIGN\", \"Score\": 0.5209, \"Class\": \"Curated\", \"Diff\": -0.10749999999999993, \"Rank\": 3.0, \"Terms\": 14}, {\"ID\": \"UDN26_PIGN\", \"Score\": 0.6284, \"Class\": \"Comprehensive\", \"Diff\": -0.10749999999999993, \"Rank\": 2.0, \"Terms\": 15}, {\"ID\": \"UDN26_PIGN\", \"Score\": 0.9992, \"Class\": \"Variant\", \"Diff\": -0.10749999999999993, \"Rank\": 3.0, \"Terms\": \"\"}, {\"ID\": \"UDN26_PIGN\", \"Score\": 0.5209, \"Class\": \"Curated\", \"Diff\": -0.10749999999999993, \"Rank\": 3.0, \"Terms\": 14}, {\"ID\": \"UDN26_PIGN\", \"Score\": 0.6284, \"Class\": \"Comprehensive\", \"Diff\": -0.10749999999999993, \"Rank\": 2.0, \"Terms\": 15}, {\"ID\": \"UDN26_PIGN\", \"Score\": 0.9992, \"Class\": \"Variant\", \"Diff\": -0.10749999999999993, \"Rank\": 3.0, \"Terms\": \"\"}, {\"ID\": \"UDN47_TBCD\", \"Score\": 0.6309, \"Class\": \"Curated\", \"Diff\": 0.009099999999999997, \"Rank\": 7.0, \"Terms\": 13}, {\"ID\": \"UDN47_TBCD\", \"Score\": 0.6218, \"Class\": \"Comprehensive\", \"Diff\": 0.009099999999999997, \"Rank\": 8.0, \"Terms\": 15}, {\"ID\": \"UDN47_TBCD\", \"Score\": 0.5252, \"Class\": \"Variant\", \"Diff\": 0.009099999999999997, \"Rank\": 7.0, \"Terms\": \"\"}, {\"ID\": \"UDN47_TBCD\", \"Score\": 0.6309, \"Class\": \"Curated\", \"Diff\": 0.009099999999999997, \"Rank\": 7.0, \"Terms\": 13}, {\"ID\": \"UDN47_TBCD\", \"Score\": 0.6218, \"Class\": \"Comprehensive\", \"Diff\": 0.009099999999999997, \"Rank\": 8.0, \"Terms\": 15}, {\"ID\": \"UDN47_TBCD\", \"Score\": 0.5252, \"Class\": \"Variant\", \"Diff\": 0.009099999999999997, \"Rank\": 7.0, \"Terms\": \"\"}, {\"ID\": \"UDN49_ANK3\", \"Score\": 0.4281, \"Class\": \"Curated\", \"Diff\": 0.031700000000000006, \"Rank\": 4.0, \"Terms\": 13}, {\"ID\": \"UDN49_ANK3\", \"Score\": 0.3964, \"Class\": \"Comprehensive\", \"Diff\": 0.031700000000000006, \"Rank\": 5.0, \"Terms\": 20}, {\"ID\": \"UDN49_ANK3\", \"Score\": 0.6626, \"Class\": \"Variant\", \"Diff\": 0.031700000000000006, \"Rank\": 4.0, \"Terms\": \"\"}, {\"ID\": \"UDN49_ANK3\", \"Score\": 0.4281, \"Class\": \"Curated\", \"Diff\": 0.031700000000000006, \"Rank\": 4.0, \"Terms\": 13}, {\"ID\": \"UDN49_ANK3\", \"Score\": 0.3964, \"Class\": \"Comprehensive\", \"Diff\": 0.031700000000000006, \"Rank\": 5.0, \"Terms\": 20}, {\"ID\": \"UDN49_ANK3\", \"Score\": 0.6626, \"Class\": \"Variant\", \"Diff\": 0.031700000000000006, \"Rank\": 4.0, \"Terms\": \"\"}, {\"ID\": \"UDN57_SPEN\", \"Score\": 0.5613, \"Class\": \"Curated\", \"Diff\": -0.0022999999999999687, \"Rank\": 67.0, \"Terms\": 33}, {\"ID\": \"UDN57_SPEN\", \"Score\": 0.5636, \"Class\": \"Comprehensive\", \"Diff\": -0.0022999999999999687, \"Rank\": 66.0, \"Terms\": 36}, {\"ID\": \"UDN57_SPEN\", \"Score\": 0.1939, \"Class\": \"Variant\", \"Diff\": -0.0022999999999999687, \"Rank\": 67.0, \"Terms\": \"\"}, {\"ID\": \"UDN60_COG4\", \"Score\": 0.6298, \"Class\": \"Curated\", \"Diff\": 0.012800000000000034, \"Rank\": 1.0, \"Terms\": 29}, {\"ID\": \"UDN60_COG4\", \"Score\": 0.617, \"Class\": \"Comprehensive\", \"Diff\": 0.012800000000000034, \"Rank\": 2.0, \"Terms\": 35}, {\"ID\": \"UDN60_COG4\", \"Score\": 0.956, \"Class\": \"Variant\", \"Diff\": 0.012800000000000034, \"Rank\": 1.0, \"Terms\": \"\"}, {\"ID\": \"UDN83_PAPSS1\", \"Score\": 0.0, \"Class\": \"Curated\", \"Diff\": 0.0, \"Rank\": 10.0, \"Terms\": 53}, {\"ID\": \"UDN83_PAPSS1\", \"Score\": 0.0, \"Class\": \"Comprehensive\", \"Diff\": 0.0, \"Rank\": 11.0, \"Terms\": 54}, {\"ID\": \"UDN83_PAPSS1\", \"Score\": 0.9972, \"Class\": \"Variant\", \"Diff\": 0.0, \"Rank\": 10.0, \"Terms\": \"\"}, {\"ID\": \"UDN83_PAPSS1\", \"Score\": 0.0, \"Class\": \"Curated\", \"Diff\": 0.0, \"Rank\": 10.0, \"Terms\": 53}, {\"ID\": \"UDN83_PAPSS1\", \"Score\": 0.0, \"Class\": \"Comprehensive\", \"Diff\": 0.0, \"Rank\": 11.0, \"Terms\": 54}, {\"ID\": \"UDN83_PAPSS1\", \"Score\": 0.9972, \"Class\": \"Variant\", \"Diff\": 0.0, \"Rank\": 10.0, \"Terms\": \"\"}, {\"ID\": \"UDN105_SNUPN\", \"Score\": 0.0, \"Class\": \"Curated\", \"Diff\": 0.0, \"Rank\": 17.0, \"Terms\": 20}, {\"ID\": \"UDN105_SNUPN\", \"Score\": 0.0, \"Class\": \"Comprehensive\", \"Diff\": 0.0, \"Rank\": 16.0, \"Terms\": 21}, {\"ID\": \"UDN105_SNUPN\", \"Score\": 0.8873, \"Class\": \"Variant\", \"Diff\": 0.0, \"Rank\": 17.0, \"Terms\": \"\"}, {\"ID\": \"UDN117_ZNF865\", \"Score\": 0.0, \"Class\": \"Curated\", \"Diff\": 0.0, \"Rank\": 6.0, \"Terms\": 19}, {\"ID\": \"UDN117_ZNF865\", \"Score\": 0.0, \"Class\": \"Comprehensive\", \"Diff\": 0.0, \"Rank\": 7.0, \"Terms\": 23}, {\"ID\": \"UDN117_ZNF865\", \"Score\": 1.0, \"Class\": \"Variant\", \"Diff\": 0.0, \"Rank\": 6.0, \"Terms\": \"\"}, {\"ID\": \"UDN146_DHX9\", \"Score\": 0.0, \"Class\": \"Curated\", \"Diff\": 0.0, \"Rank\": 14.0, \"Terms\": 51}, {\"ID\": \"UDN146_DHX9\", \"Score\": 0.0, \"Class\": \"Comprehensive\", \"Diff\": 0.0, \"Rank\": 15.0, \"Terms\": 58}, {\"ID\": \"UDN146_DHX9\", \"Score\": 0.8553, \"Class\": \"Variant\", \"Diff\": 0.0, \"Rank\": 14.0, \"Terms\": \"\"}, {\"ID\": \"UDN152_CACNA1C\", \"Score\": 0.5363, \"Class\": \"Curated\", \"Diff\": 0.0040000000000000036, \"Rank\": 1.0, \"Terms\": 24}, {\"ID\": \"UDN152_CACNA1C\", \"Score\": 0.5323, \"Class\": \"Comprehensive\", \"Diff\": 0.0040000000000000036, \"Rank\": 2.0, \"Terms\": 27}, {\"ID\": \"UDN152_CACNA1C\", \"Score\": 0.9657, \"Class\": \"Variant\", \"Diff\": 0.0040000000000000036, \"Rank\": 1.0, \"Terms\": \"\"}, {\"ID\": \"UDN168_PRDM16\", \"Score\": 0.3639, \"Class\": \"Curated\", \"Diff\": -0.0024000000000000132, \"Rank\": 4.0, \"Terms\": 13}, {\"ID\": \"UDN168_PRDM16\", \"Score\": 0.3663, \"Class\": \"Comprehensive\", \"Diff\": -0.0024000000000000132, \"Rank\": 5.0, \"Terms\": 14}, {\"ID\": \"UDN168_PRDM16\", \"Score\": 1.0, \"Class\": \"Variant\", \"Diff\": -0.0024000000000000132, \"Rank\": 4.0, \"Terms\": \"\"}, {\"ID\": \"UDN170_WARS2\", \"Score\": 0.6186, \"Class\": \"Curated\", \"Diff\": 0.006500000000000061, \"Rank\": 6.0, \"Terms\": 29}, {\"ID\": \"UDN170_WARS2\", \"Score\": 0.6121, \"Class\": \"Comprehensive\", \"Diff\": 0.006500000000000061, \"Rank\": 7.0, \"Terms\": 32}, {\"ID\": \"UDN170_WARS2\", \"Score\": 0.9477, \"Class\": \"Variant\", \"Diff\": 0.006500000000000061, \"Rank\": 6.0, \"Terms\": \"\"}, {\"ID\": \"UDN170_WARS2\", \"Score\": 0.6186, \"Class\": \"Curated\", \"Diff\": 0.006500000000000061, \"Rank\": 6.0, \"Terms\": 29}, {\"ID\": \"UDN170_WARS2\", \"Score\": 0.6121, \"Class\": \"Comprehensive\", \"Diff\": 0.006500000000000061, \"Rank\": 7.0, \"Terms\": 32}, {\"ID\": \"UDN170_WARS2\", \"Score\": 0.9477, \"Class\": \"Variant\", \"Diff\": 0.006500000000000061, \"Rank\": 6.0, \"Terms\": \"\"}, {\"ID\": \"UDN197_DENND5B\", \"Score\": 0.0, \"Class\": \"Curated\", \"Diff\": 0.0, \"Rank\": 71.0, \"Terms\": 16}, {\"ID\": \"UDN197_DENND5B\", \"Score\": 0.0, \"Class\": \"Comprehensive\", \"Diff\": 0.0, \"Rank\": 72.0, \"Terms\": 17}, {\"ID\": \"UDN197_DENND5B\", \"Score\": 0.9597, \"Class\": \"Variant\", \"Diff\": 0.0, \"Rank\": 71.0, \"Terms\": \"\"}, {\"ID\": \"UDN200_KCNC2\", \"Score\": 0.8555, \"Class\": \"Curated\", \"Diff\": 0.2632, \"Rank\": 1.0, \"Terms\": 5}, {\"ID\": \"UDN200_KCNC2\", \"Score\": 0.5923, \"Class\": \"Comprehensive\", \"Diff\": 0.2632, \"Rank\": 2.0, \"Terms\": 10}, {\"ID\": \"UDN200_KCNC2\", \"Score\": 0.9914, \"Class\": \"Variant\", \"Diff\": 0.2632, \"Rank\": 1.0, \"Terms\": \"\"}, {\"ID\": \"UDN232_CAMK2B\", \"Score\": 0.7003, \"Class\": \"Curated\", \"Diff\": 0.021600000000000064, \"Rank\": 2.0, \"Terms\": 26}, {\"ID\": \"UDN232_CAMK2B\", \"Score\": 0.6787, \"Class\": \"Comprehensive\", \"Diff\": 0.021600000000000064, \"Rank\": 3.0, \"Terms\": 29}, {\"ID\": \"UDN232_CAMK2B\", \"Score\": 0.8, \"Class\": \"Variant\", \"Diff\": 0.021600000000000064, \"Rank\": 2.0, \"Terms\": \"\"}, {\"ID\": \"UDN288_KPNA4\", \"Score\": 0.0, \"Class\": \"Curated\", \"Diff\": 0.0, \"Rank\": 8.0, \"Terms\": 12}, {\"ID\": \"UDN288_KPNA4\", \"Score\": 0.0, \"Class\": \"Comprehensive\", \"Diff\": 0.0, \"Rank\": 9.0, \"Terms\": 13}, {\"ID\": \"UDN288_KPNA4\", \"Score\": 0.9997, \"Class\": \"Variant\", \"Diff\": 0.0, \"Rank\": 8.0, \"Terms\": \"\"}], \"data-8f6450c8110f3dfdcb44b73d8f0c511e\": [{\"ID\": \"UDN26_PIGN\", \"Score\": 0.5209, \"Class\": \"Curated\", \"Diff\": -0.10749999999999993, \"Rank\": 3.0, \"Terms\": 14}, {\"ID\": \"UDN26_PIGN\", \"Score\": 0.6284, \"Class\": \"Comprehensive\", \"Diff\": -0.10749999999999993, \"Rank\": 2.0, \"Terms\": 15}, {\"ID\": \"UDN26_PIGN\", \"Score\": 0.5209, \"Class\": \"Curated\", \"Diff\": -0.10749999999999993, \"Rank\": 3.0, \"Terms\": 14}, {\"ID\": \"UDN26_PIGN\", \"Score\": 0.6284, \"Class\": \"Comprehensive\", \"Diff\": -0.10749999999999993, \"Rank\": 2.0, \"Terms\": 15}, {\"ID\": \"UDN47_TBCD\", \"Score\": 0.6309, \"Class\": \"Curated\", \"Diff\": 0.009099999999999997, \"Rank\": 7.0, \"Terms\": 13}, {\"ID\": \"UDN47_TBCD\", \"Score\": 0.6218, \"Class\": \"Comprehensive\", \"Diff\": 0.009099999999999997, \"Rank\": 8.0, \"Terms\": 15}, {\"ID\": \"UDN47_TBCD\", \"Score\": 0.6309, \"Class\": \"Curated\", \"Diff\": 0.009099999999999997, \"Rank\": 7.0, \"Terms\": 13}, {\"ID\": \"UDN47_TBCD\", \"Score\": 0.6218, \"Class\": \"Comprehensive\", \"Diff\": 0.009099999999999997, \"Rank\": 8.0, \"Terms\": 15}, {\"ID\": \"UDN49_ANK3\", \"Score\": 0.4281, \"Class\": \"Curated\", \"Diff\": 0.031700000000000006, \"Rank\": 4.0, \"Terms\": 13}, {\"ID\": \"UDN49_ANK3\", \"Score\": 0.3964, \"Class\": \"Comprehensive\", \"Diff\": 0.031700000000000006, \"Rank\": 5.0, \"Terms\": 20}, {\"ID\": \"UDN49_ANK3\", \"Score\": 0.4281, \"Class\": \"Curated\", \"Diff\": 0.031700000000000006, \"Rank\": 4.0, \"Terms\": 13}, {\"ID\": \"UDN49_ANK3\", \"Score\": 0.3964, \"Class\": \"Comprehensive\", \"Diff\": 0.031700000000000006, \"Rank\": 5.0, \"Terms\": 20}, {\"ID\": \"UDN57_SPEN\", \"Score\": 0.5613, \"Class\": \"Curated\", \"Diff\": -0.0022999999999999687, \"Rank\": 67.0, \"Terms\": 33}, {\"ID\": \"UDN57_SPEN\", \"Score\": 0.5636, \"Class\": \"Comprehensive\", \"Diff\": -0.0022999999999999687, \"Rank\": 66.0, \"Terms\": 36}, {\"ID\": \"UDN60_COG4\", \"Score\": 0.6298, \"Class\": \"Curated\", \"Diff\": 0.012800000000000034, \"Rank\": 1.0, \"Terms\": 29}, {\"ID\": \"UDN60_COG4\", \"Score\": 0.617, \"Class\": \"Comprehensive\", \"Diff\": 0.012800000000000034, \"Rank\": 2.0, \"Terms\": 35}, {\"ID\": \"UDN83_PAPSS1\", \"Score\": 0.0, \"Class\": \"Curated\", \"Diff\": 0.0, \"Rank\": 10.0, \"Terms\": 53}, {\"ID\": \"UDN83_PAPSS1\", \"Score\": 0.0, \"Class\": \"Comprehensive\", \"Diff\": 0.0, \"Rank\": 11.0, \"Terms\": 54}, {\"ID\": \"UDN83_PAPSS1\", \"Score\": 0.0, \"Class\": \"Curated\", \"Diff\": 0.0, \"Rank\": 10.0, \"Terms\": 53}, {\"ID\": \"UDN83_PAPSS1\", \"Score\": 0.0, \"Class\": \"Comprehensive\", \"Diff\": 0.0, \"Rank\": 11.0, \"Terms\": 54}, {\"ID\": \"UDN105_SNUPN\", \"Score\": 0.0, \"Class\": \"Curated\", \"Diff\": 0.0, \"Rank\": 17.0, \"Terms\": 20}, {\"ID\": \"UDN105_SNUPN\", \"Score\": 0.0, \"Class\": \"Comprehensive\", \"Diff\": 0.0, \"Rank\": 16.0, \"Terms\": 21}, {\"ID\": \"UDN117_ZNF865\", \"Score\": 0.0, \"Class\": \"Curated\", \"Diff\": 0.0, \"Rank\": 6.0, \"Terms\": 19}, {\"ID\": \"UDN117_ZNF865\", \"Score\": 0.0, \"Class\": \"Comprehensive\", \"Diff\": 0.0, \"Rank\": 7.0, \"Terms\": 23}, {\"ID\": \"UDN146_DHX9\", \"Score\": 0.0, \"Class\": \"Curated\", \"Diff\": 0.0, \"Rank\": 14.0, \"Terms\": 51}, {\"ID\": \"UDN146_DHX9\", \"Score\": 0.0, \"Class\": \"Comprehensive\", \"Diff\": 0.0, \"Rank\": 15.0, \"Terms\": 58}, {\"ID\": \"UDN152_CACNA1C\", \"Score\": 0.5363, \"Class\": \"Curated\", \"Diff\": 0.0040000000000000036, \"Rank\": 1.0, \"Terms\": 24}, {\"ID\": \"UDN152_CACNA1C\", \"Score\": 0.5323, \"Class\": \"Comprehensive\", \"Diff\": 0.0040000000000000036, \"Rank\": 2.0, \"Terms\": 27}, {\"ID\": \"UDN168_PRDM16\", \"Score\": 0.3639, \"Class\": \"Curated\", \"Diff\": -0.0024000000000000132, \"Rank\": 4.0, \"Terms\": 13}, {\"ID\": \"UDN168_PRDM16\", \"Score\": 0.3663, \"Class\": \"Comprehensive\", \"Diff\": -0.0024000000000000132, \"Rank\": 5.0, \"Terms\": 14}, {\"ID\": \"UDN170_WARS2\", \"Score\": 0.6186, \"Class\": \"Curated\", \"Diff\": 0.006500000000000061, \"Rank\": 6.0, \"Terms\": 29}, {\"ID\": \"UDN170_WARS2\", \"Score\": 0.6121, \"Class\": \"Comprehensive\", \"Diff\": 0.006500000000000061, \"Rank\": 7.0, \"Terms\": 32}, {\"ID\": \"UDN170_WARS2\", \"Score\": 0.6186, \"Class\": \"Curated\", \"Diff\": 0.006500000000000061, \"Rank\": 6.0, \"Terms\": 29}, {\"ID\": \"UDN170_WARS2\", \"Score\": 0.6121, \"Class\": \"Comprehensive\", \"Diff\": 0.006500000000000061, \"Rank\": 7.0, \"Terms\": 32}, {\"ID\": \"UDN197_DENND5B\", \"Score\": 0.0, \"Class\": \"Curated\", \"Diff\": 0.0, \"Rank\": 71.0, \"Terms\": 16}, {\"ID\": \"UDN197_DENND5B\", \"Score\": 0.0, \"Class\": \"Comprehensive\", \"Diff\": 0.0, \"Rank\": 72.0, \"Terms\": 17}, {\"ID\": \"UDN200_KCNC2\", \"Score\": 0.8555, \"Class\": \"Curated\", \"Diff\": 0.2632, \"Rank\": 1.0, \"Terms\": 5}, {\"ID\": \"UDN200_KCNC2\", \"Score\": 0.5923, \"Class\": \"Comprehensive\", \"Diff\": 0.2632, \"Rank\": 2.0, \"Terms\": 10}, {\"ID\": \"UDN232_CAMK2B\", \"Score\": 0.7003, \"Class\": \"Curated\", \"Diff\": 0.021600000000000064, \"Rank\": 2.0, \"Terms\": 26}, {\"ID\": \"UDN232_CAMK2B\", \"Score\": 0.6787, \"Class\": \"Comprehensive\", \"Diff\": 0.021600000000000064, \"Rank\": 3.0, \"Terms\": 29}, {\"ID\": \"UDN288_KPNA4\", \"Score\": 0.0, \"Class\": \"Curated\", \"Diff\": 0.0, \"Rank\": 8.0, \"Terms\": 12}, {\"ID\": \"UDN288_KPNA4\", \"Score\": 0.0, \"Class\": \"Comprehensive\", \"Diff\": 0.0, \"Rank\": 9.0, \"Terms\": 13}]}}, {\"mode\": \"vega-lite\"});\n",
       "</script>"
      ],
      "text/plain": [
       "alt.VConcatChart(...)"
      ]
     },
     "execution_count": 52,
     "metadata": {},
     "output_type": "execute_result"
    }
   ],
   "source": [
    "# top = alt.hconcat(plot_4F,plot_4D ).resolve_scale(color='independent')\n",
    "top = alt.hconcat(plot_A,removed_terms_plot,term_boxplot ).resolve_scale(color='independent')\n",
    "bottom = alt.hconcat(rank_improvements,rank_worsen,phenotype_score_boxplot).resolve_scale(color='independent')\n",
    "\n",
    "alt.vconcat(top, bottom,phenotype_term_counts).configure_axis(\n",
    "    labelFontSize=15,\n",
    "    labelPadding= 5,\n",
    "    tickSize=8,\n",
    "    titleFontSize=15,\n",
    "    labelFont='arial',\n",
    "    titleFont='arial',\n",
    "    labelLimit=0\n",
    "    ).configure_legend(\n",
    "        labelLimit=0,labelFontSize=13, titleFontSize=15, labelFont='arial', titleFont='arial')"
   ]
  },
  {
   "cell_type": "code",
   "execution_count": null,
   "metadata": {},
   "outputs": [],
   "source": []
  }
 ],
 "metadata": {
  "kernelspec": {
   "display_name": "base",
   "language": "python",
   "name": "python3"
  },
  "language_info": {
   "codemirror_mode": {
    "name": "ipython",
    "version": 3
   },
   "file_extension": ".py",
   "mimetype": "text/x-python",
   "name": "python",
   "nbconvert_exporter": "python",
   "pygments_lexer": "ipython3",
   "version": "3.12.2"
  }
 },
 "nbformat": 4,
 "nbformat_minor": 2
}
