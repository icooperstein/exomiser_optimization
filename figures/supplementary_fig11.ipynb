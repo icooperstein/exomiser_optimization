{
 "cells": [
  {
   "cell_type": "code",
   "execution_count": null,
   "metadata": {},
   "outputs": [],
   "source": [
    "import pandas as pd\n",
    "import altair as alt\n",
    "import sys\n",
    "sys.path.append('figure_scripts/')\n",
    "\n",
    "import plot_scripts as ps"
   ]
  },
  {
   "cell_type": "code",
   "execution_count": 22,
   "metadata": {},
   "outputs": [
    {
     "name": "stdout",
     "output_type": "stream",
     "text": [
      "22 families\n",
      "23 genes\n",
      "24 variants\n",
      "Exomiser: Present_unaffected_indiv\n",
      "15 families\n",
      "16 genes\n",
      "16 variants\n",
      "\n",
      "Exomiser: Absent_affected_indiv\n",
      "7 families\n",
      "7 genes\n",
      "8 variants\n"
     ]
    },
    {
     "data": {
      "text/plain": [
       "23"
      ]
     },
     "execution_count": 22,
     "metadata": {},
     "output_type": "execute_result"
    }
   ],
   "source": [
    "variant_table = pd.read_csv('fig_06_variant_table.txt', sep='\\t')\n",
    "pedigree_excluded = variant_table[variant_table['Structure'].notna()]\n",
    "print(len(set(pedigree_excluded['UDN_ID'])), 'families')\n",
    "print(len(set(pedigree_excluded['ID'])),'genes')\n",
    "print(len(pedigree_excluded), 'variants')\n",
    "present_unaffected_parent_subset = variant_table[variant_table['Structure'].isin(['Present_unaffected_parent', 'Present_unaffected_relative'])]\n",
    "print('Exomiser: Present_unaffected_indiv')\n",
    "print(len(set(present_unaffected_parent_subset['UDN_ID'])), 'families')\n",
    "print(len(set(present_unaffected_parent_subset['ID'])),'genes')\n",
    "print(len(present_unaffected_parent_subset), 'variants')\n",
    "\n",
    "print()\n",
    "absent_affected_parent_subset = variant_table[variant_table['Structure'].isin(['Absent_affected_parent','Absent_affected_relative'])]\n",
    "print('Exomiser: Absent_affected_indiv')\n",
    "print(len(set(absent_affected_parent_subset['UDN_ID'])), 'families')\n",
    "print(len(set(absent_affected_parent_subset['ID'])),'genes')\n",
    "print(len(absent_affected_parent_subset), 'variants')\n",
    "\n",
    "parent_issue_ids = list(set(absent_affected_parent_subset['ID'])) + list(set(present_unaffected_parent_subset['ID']))\n",
    "len(parent_issue_ids)"
   ]
  },
  {
   "cell_type": "code",
   "execution_count": null,
   "metadata": {},
   "outputs": [],
   "source": [
    "\n",
    "success_table = pd.read_csv('supp_fig11_input.tsv', sep='\\t')\n",
    "\n",
    "success_table = success_table[success_table['ID'].isin(parent_issue_ids)]\n",
    "success_table['UDN_ID'] = [x.split('_')[0] for x in success_table['ID']]\n",
    "print(len(set(success_table['UDN_ID'])), 'families')\n",
    "print(len(set(success_table['ID'])),'genes')\n",
    "print(len(success_table), 'variants')"
   ]
  },
  {
   "cell_type": "code",
   "execution_count": null,
   "metadata": {},
   "outputs": [],
   "source": [
    "mapping = pd.read_csv('GS_ID_mapping.csv')\n",
    "mapped= []\n",
    "for i, row in success_table.iterrows():\n",
    "    ID = row['ID']\n",
    "    try:\n",
    "        mapped_id = mapping[mapping['ID']==ID]['Dumb_ID'].item()\n",
    "    except:\n",
    "        print(ID)\n",
    "    mapped.append(mapped_id)\n",
    "success_table['Dumb_ID'] = mapped"
   ]
  },
  {
   "cell_type": "markdown",
   "metadata": {},
   "source": [
    "## A"
   ]
  },
  {
   "cell_type": "code",
   "execution_count": null,
   "metadata": {},
   "outputs": [],
   "source": [
    "exomiser_genes = pedigree_excluded[['UDN_ID', 'gene_name', 'pedigree_exclusion','for_figure', 'Exclude_Reason', 'Structure']]\n",
    "\n",
    "base = alt.Chart(exomiser_genes, title=str(len(exomiser_genes))+' Variants from ' +str(len(set(pedigree_excluded['UDN_ID'])))+ ' UDN Individuals')\n",
    "bars=base.mark_bar().encode(\n",
    "    y=alt.Y('Structure:N', sort=['Absent_affected_parent', 'Absent_affected_relative', 'Present_unaffected_parent', 'Present_unaffected_relative'], title=None).axis(offset=5, domainOpacity=0),\n",
    "    x=alt.X('count()', title='Number of Diagnostic Variants'), \n",
    "    color=alt.Color('for_figure', scale=alt.Scale(scheme='tableau20', domain=['single heterozygous', 'compound heterozygous', 'homozygous'])),\n",
    "    tooltip = ['count()','Exclude_Reason:N', 'for_figure'],\n",
    ")\n",
    "\n",
    "text = base.mark_text(\n",
    "    align='left',\n",
    "    baseline='middle',\n",
    "    dx=3,\n",
    "    color='black',\n",
    "    size=14\n",
    ").encode(\n",
    "    y=alt.Y('Structure:N',sort=['Absent_affected_parent', 'Absent_affected_relative', 'Present_unaffected_parent', 'Present_unaffected_relative'] , title=None).axis(offset=5, domainOpacity=0),\n",
    "    x=alt.X('count()'), \n",
    "    text='count():Q'\n",
    ")\n",
    "data_set = alt.layer(bars, text).resolve_scale(color='independent').properties(height=200, width=300)#.configure_axis(grid=False,\n",
    "    # labelPadding= 5,\n",
    "    # labelLimit=0,\n",
    "    # labelFontSize=15, \n",
    "    # titleFontSize=15, labelFont='arial', tickSize=8).configure_legend(\n",
    "    #     labelLimit=0,labelFontSize=15, titleFontSize=15, labelFont='arial')\n",
    "data_set\n"
   ]
  },
  {
   "cell_type": "markdown",
   "metadata": {},
   "source": [
    "## B"
   ]
  },
  {
   "cell_type": "code",
   "execution_count": null,
   "metadata": {},
   "outputs": [],
   "source": [
    "\n",
    "RUN_TYPES = ['noN_filtered_15_85_human_revel_mvp_alphaM_spliceAI_noWL', 'noN_filtered_15_85_human_revel_mvp_alphaM_spliceAI_singleton_noWL','noN_filtered_15_85_human_revel_mvp_alphaM_spliceAI_altered_ped_noWL']\n",
    "df, denom =ps.create_df(30, RUN_TYPES, success_table)\n",
    "\n",
    "plot_4c = ps.create_plot(denom, df, RUN_TYPES, 'set2',False,RUN_TYPES)\n",
    "\n",
    "plot_4c.properties(width=400, height=250)"
   ]
  },
  {
   "cell_type": "markdown",
   "metadata": {},
   "source": [
    "## C"
   ]
  },
  {
   "cell_type": "code",
   "execution_count": null,
   "metadata": {},
   "outputs": [],
   "source": [
    "normal_run_type = 'noN_filtered_15_85_human_revel_mvp_alphaM_spliceAI_noWL'\n",
    "singleton_run_type = 'noN_filtered_15_85_human_revel_mvp_alphaM_spliceAI_singleton_noWL'\n",
    "# no_inheritance_run_type = 'noN_filtered_15_85_human_revel_mvp_alphaM_spliceAI_noinheritance_noWL'\n",
    "altered_ped_run_type = 'noN_filtered_15_85_human_revel_mvp_alphaM_spliceAI_altered_ped_noWL'\n",
    "data = []\n",
    "to_plot = []\n",
    "large=[]\n",
    "\n",
    "for i, patient_row in success_table.iterrows():\n",
    "    ID = patient_row['ID']\n",
    "    dumb_ID = patient_row['Dumb_ID']\n",
    "    OG_rank = patient_row['Variant_Level_noMOI_rank_' + normal_run_type]\n",
    "    singleton_rank = patient_row['Variant_Level_noMOI_rank_' + singleton_run_type]\n",
    "   # no_inheritance_rank = patient_row['Variant_Level_noMOI_rank_' + no_inheritance_run_type]\n",
    "    alt_rank = patient_row['Variant_Level_noMOI_rank_' + altered_ped_run_type]\n",
    "    structure = list(variant_table[variant_table['ID']==ID]['Structure'])[0]\n",
    "    difference = abs(singleton_rank - alt_rank)\n",
    "    data.append([ID, OG_rank, difference, 'OG'])\n",
    "    data.append([dumb_ID, singleton_rank, difference, 'Singleton', structure])\n",
    "  #  data.append([dumb_ID, no_inheritance_rank, difference, 'No_Inheritance', structure])\n",
    "    data.append([dumb_ID, alt_rank, difference, 'Altered_Ped', structure])\n",
    "\n",
    "\n",
    "    #if OG_rank != singleton_rank:\n",
    "    if 'EVI5' not in ID:\n",
    "        to_plot.append(dumb_ID)\n",
    "    else:\n",
    "        large.append(dumb_ID)\n",
    "\n",
    "\n",
    "df = pd.DataFrame(data, columns=['ID', 'Rank', 'Diff', 'RunType', 'Structure'])\n",
    "len(to_plot)"
   ]
  },
  {
   "cell_type": "code",
   "execution_count": null,
   "metadata": {},
   "outputs": [],
   "source": [
    "df =df.fillna(-10)\n",
    "\n",
    "order =list(df[df['RunType']=='Singleton'].sort_values(by='Rank')['ID'])\n",
    "structures=['Absent_affected_parent', 'Absent_affected_relative', 'Present_unaffected_parent', 'Present_unaffected_relative']\n",
    "order =list(df[df['RunType']=='Singleton'].sort_values(by=['Structure','Rank'])['ID'])\n",
    "source = df[df['ID'].isin(to_plot)].sort_values(by='Structure', ascending=True)"
   ]
  },
  {
   "cell_type": "code",
   "execution_count": null,
   "metadata": {},
   "outputs": [],
   "source": [
    "source = df[df['ID'].isin(to_plot+large)].sort_values(by='Structure', ascending=True)\n",
    "#order = list(source['ID'])\n",
    "order=['UDN240_KCNA2', 'UDN141_CFTR', 'UDN141_CFTR', 'UDN120_PPP2R1A', 'UDN264_RPL13', 'UDN327_TEK', 'UDN371_CDK13', 'UDN400_MVK', 'UDN196_NHERF1', 'UDN324_WNT10A', 'UDN395_F5', 'UDN33_PSTPIP1', 'UDN258_CDH1', 'UDN363_RTN2', 'UDN384_PDGFB', 'UDN403_CTNNA1', 'UDN39_ATP1A1', 'UDN395_MME', 'UDN247_TNXB', 'UDN187_FLG', 'UDN321_MCCC2', 'UDN382_DEGS1', 'UDN256_LOX', 'UDN353_EVI5']\n",
    "\n",
    "print(len(source)/2)\n",
    "all_types = alt.Chart(source, title=str(len(success_table))+ 'variants run as singletons').mark_point(size=100, filled=True, stroke='black',strokeWidth=1, opacity=1).encode(\n",
    "    x=alt.X('ID', sort=order, axis=alt.Axis(labelAngle=-60)),\n",
    "    y=alt.Y('Rank', title='Rank of Diagnostic Variant'),\n",
    "    #size = 'Term_Diff',\n",
    "    color=alt.Color('Structure', sort=structures , scale=alt.Scale(scheme='category10', domain=structures)),\n",
    "    shape = alt.Shape('RunType', sort=['Singleton', 'Altered_Ped', 'No_Inheritance'], scale=alt.Scale(range=['circle', 'triangle'])),\n",
    "    tooltip = ['RunType', 'ID', 'Rank', 'Diff'],\n",
    "    \n",
    ").properties(\n",
    "    height=250,\n",
    "    width=500\n",
    ")#.configure_legend(labelLimit=0).configure_axis(\n",
    "    # labelFontSize=14,\n",
    "    # titleFontSize=15).configure_scale(\n",
    "    # bandPaddingInner=0.9)\n",
    "\n",
    "all_types"
   ]
  },
  {
   "cell_type": "code",
   "execution_count": null,
   "metadata": {},
   "outputs": [],
   "source": [
    "top = alt.hconcat(data_set,plot_4c.properties(width=400, height=250), all_types,).resolve_scale(color='independent')\n",
    "alt.vconcat(top).configure_legend(labelLimit=0).resolve_scale(color='independent').configure_axis(\n",
    "    labelPadding= 5,\n",
    "    labelLimit=0,\n",
    "    labelFontSize=15, \n",
    "    titleFontSize=15, labelFont='arial', tickSize=8).configure_legend(\n",
    "        labelLimit=0,labelFontSize=15, titleFontSize=15, labelFont='arial')"
   ]
  }
 ],
 "metadata": {
  "kernelspec": {
   "display_name": "base",
   "language": "python",
   "name": "python3"
  },
  "language_info": {
   "codemirror_mode": {
    "name": "ipython",
    "version": 3
   },
   "file_extension": ".py",
   "mimetype": "text/x-python",
   "name": "python",
   "nbconvert_exporter": "python",
   "pygments_lexer": "ipython3",
   "version": "3.12.2"
  }
 },
 "nbformat": 4,
 "nbformat_minor": 2
}
