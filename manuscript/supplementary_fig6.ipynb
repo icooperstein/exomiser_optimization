{
 "cells": [
  {
   "cell_type": "code",
   "execution_count": null,
   "metadata": {},
   "outputs": [],
   "source": [
    "import altair as alt\n",
    "import pandas as pd\n",
    "# success_table = pd.read_csv('../fig_02/figure2_input.tsv', sep='\\t')\n",
    "# success_table = pd.read_csv('figure3_not_prior.tsv', sep='\\t')\n",
    "success_table = pd.read_csv('GS_exomiser_fig3_input_12.15.24.tsv', sep='\\t')"
   ]
  },
  {
   "cell_type": "markdown",
   "metadata": {},
   "source": [
    "### WGS Exomiser diagnostic variants' maximum pathogenicity score source broken down by variant class"
   ]
  },
  {
   "cell_type": "code",
   "execution_count": null,
   "metadata": {},
   "outputs": [],
   "source": [
    "order=['NONE', 'ALPHA_MISSENSE', 'MVP', 'REVEL', 'SPLICE_AI', 'CADD','MUTATION_TASTER', 'POLYPHEN', 'SIFT','REMM', 'Not_Prioritized']\n",
    "def create_score_plot(run_type, table, order):\n",
    "    base = alt.Chart(table, title=str(len(table))+' Variants from UDN Individuals(' + str(run_type)+')')\n",
    "    bars=base.mark_bar().encode(\n",
    "        y=alt.Y('variant_type:N', sort='-x', title=None).axis(offset=5, domainOpacity=0),\n",
    "        x=alt.X('count()', title='Number of Diagnostic Variants'), \n",
    "        color=alt.Color('Variant_Level_noMOI_maxPathSource_' + str(run_type), sort=order,scale=alt.Scale(domain=order,scheme='tableau20')),\n",
    "        tooltip = ['count()','variant_type:N','Variant_Level_noMOI_maxPathSource_' + str(run_type),],\n",
    "    )\n",
    "\n",
    "    text = base.mark_text(\n",
    "        align='left',\n",
    "        baseline='middle',\n",
    "        dx=3,\n",
    "        color='black',\n",
    "        size=14\n",
    "    ).encode(\n",
    "        y=alt.Y('variant_type:N', sort='-x', title=None).axis(offset=5, domainOpacity=0),\n",
    "        x=alt.X('count()'), \n",
    "        text='count():Q'\n",
    "    )\n",
    "    plot = alt.layer(bars, text).resolve_scale(color='independent').properties(height=250, width=400)\n",
    "    return plot"
   ]
  },
  {
   "cell_type": "code",
   "execution_count": null,
   "metadata": {},
   "outputs": [],
   "source": [
    "best_params = create_score_plot('noN_filtered_15_85_human_revel_mvp_alphaM_spliceAI_noWL', success_table, order)\n",
    "old_tools = create_score_plot('noN_filtered_15_85_human_revel_mvp_alphaM_spliceAI_polyphen_mutTaster_sift_noWL', success_table, order)\n",
    "with_cadd = create_score_plot('noN_filtered_15_85_human_cadd_revel_mvp_alphaM_spliceAI_noWL', success_table, order)\n",
    "default = create_score_plot('noN_filtered_15_85_human_revel_mvp_noWL', success_table, order)"
   ]
  },
  {
   "cell_type": "code",
   "execution_count": null,
   "metadata": {},
   "outputs": [],
   "source": [
    "panel = alt.vconcat(default,best_params, old_tools, with_cadd).configure_axis(grid=False,\n",
    "    labelPadding= 5,\n",
    "    labelLimit=0,\n",
    "    labelFontSize=15, \n",
    "    titleFontSize=15, labelFont='arial', tickSize=8).configure_legend(\n",
    "        labelLimit=0,labelFontSize=13, titleFontSize=15, labelFont='arial')\n",
    "\n",
    "panel"
   ]
  }
 ],
 "metadata": {
  "language_info": {
   "name": "python"
  }
 },
 "nbformat": 4,
 "nbformat_minor": 2
}
