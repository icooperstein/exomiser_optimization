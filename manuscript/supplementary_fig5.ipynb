{
 "cells": [
  {
   "cell_type": "code",
   "execution_count": null,
   "metadata": {},
   "outputs": [],
   "source": [
    "import altair as alt\n",
    "import pandas as pd\n",
    "import sys\n",
    "sys.path.append('figure_scripts/')\n",
    "\n",
    "import plot_scripts as ps\n",
    "success_table = pd.read_csv('GS_exomiser_fig4_input', sep='\\t')"
   ]
  },
  {
   "cell_type": "markdown",
   "metadata": {},
   "source": [
    "### Evaluation of individual variant pathogenicity prediction score sources in WGS Exomiser cohort"
   ]
  },
  {
   "cell_type": "code",
   "execution_count": null,
   "metadata": {},
   "outputs": [],
   "source": [
    "fig_A =['noN_filtered_15_85_human_alphaM_noWL','noN_filtered_15_85_human_mvp_noWL', 'noN_filtered_15_85_human_revel_noWL', 'noN_filtered_15_85_human_spliceAI_noWL','noN_filtered_15_85_human_cadd_noWL','noN_filtered_15_85_human_mutTaster_noWL', 'noN_filtered_15_85_human_polyphen_noWL',  'noN_filtered_15_85_human_sift_noWL']\n",
    "domain =['None','noN_filtered_15_85_human_alphaM_noWL','noN_filtered_15_85_human_mvp_noWL', 'noN_filtered_15_85_human_revel_noWL', 'noN_filtered_15_85_human_spliceAI_noWL','noN_filtered_15_85_human_cadd_noWL','noN_filtered_15_85_human_mutTaster_noWL', 'noN_filtered_15_85_human_polyphen_noWL',  'noN_filtered_15_85_human_sift_noWL']\n",
    "A_df,denom = ps.create_df(750, fig_A, success_table)\n",
    "plot_A=ps.create_plot(denom, A_df, fig_A, 'tableau20', False,domain)\n",
    "\n",
    "plot_A.configure_legend(labelLimit=0).configure_axis(\n",
    "        labelFontSize=15,\n",
    "        titleFontSize=15).configure_legend(labelLimit=0,labelFontSize=15, titleFontSize=15)"
   ]
  }
 ],
 "metadata": {
  "kernelspec": {
   "display_name": "base",
   "language": "python",
   "name": "python3"
  },
  "language_info": {
   "codemirror_mode": {
    "name": "ipython",
    "version": 3
   },
   "file_extension": ".py",
   "mimetype": "text/x-python",
   "name": "python",
   "nbconvert_exporter": "python",
   "pygments_lexer": "ipython3",
   "version": "3.12.2"
  }
 },
 "nbformat": 4,
 "nbformat_minor": 2
}
