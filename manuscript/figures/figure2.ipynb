{
 "cells": [
  {
   "cell_type": "code",
   "execution_count": null,
   "metadata": {},
   "outputs": [],
   "source": [
    "import pandas as pd\n",
    "import altair as alt\n",
    "alt.data_transformers.disable_max_rows()\n",
    "\n",
    "variant_table = pd.read_csv('input.txt', sep='\\t')\n",
    "variant_table\n",
    "included = variant_table[(variant_table['Exclude?']=='No') | (variant_table['Exclude?']=='NO_NEW')][['ID', 'Exclude?', 'Exclude_Reason', 'narrative']].drop_duplicates()\n",
    "print(len(included), 'included')\n",
    "success_table = variant_table[(variant_table['Exclude?']=='No') | (variant_table['Exclude?']=='NO_NEW')][['ID', 'Exclude?', 'Exclude_Reason', 'issues/notes','narrative', 'unfiltered_result', 'filtered_result', 'genomic_coordinates_hg38', 'effect', 'MOI', 'zygosity', 'inheritance', 'Family_Type', 'variant_type']]\n",
    "print(len(set(success_table['ID'])),'genes')\n",
    "print(len(success_table), 'variants')"
   ]
  },
  {
   "cell_type": "code",
   "execution_count": null,
   "metadata": {},
   "outputs": [],
   "source": [
    "success_table = pd.read_csv('fig2_input.tsv', sep='\\t')"
   ]
  },
  {
   "cell_type": "code",
   "execution_count": null,
   "metadata": {},
   "outputs": [],
   "source": [
    "def create_df(highest_rank, compare, successTable):\n",
    "    x = range(1,highest_rank)\n",
    "    denom = len(successTable)\n",
    "    data=[]\n",
    "    for runtype in compare:\n",
    "        success = successTable.loc[(successTable['Variant_Level_noMOI_'+str(runtype)]=='Variant_Present_noMOI') | (successTable['Variant_Level_noMOI_'+str(runtype)]=='Variant_Present_noMOI')]\n",
    "        for i in x:\n",
    "            num = len(success.loc[success['Variant_Level_noMOI_rank_'+str(runtype)] <= i])\n",
    "            data.append([i,num, (num/denom)*100, runtype])\n",
    "        print('highest rank:', max(success['Variant_Level_noMOI_rank_'+str(runtype)]), 'max%:', (num/denom)*100, num)\n",
    "\n",
    "    df = pd.DataFrame(data, columns=['Rank', 'NumPatients', 'Percent_Variants', 'Run_Type'])\n",
    "    return df, denom"
   ]
  },
  {
   "cell_type": "code",
   "execution_count": null,
   "metadata": {},
   "outputs": [],
   "source": [
    "def create_plot(denom, source, compare, color_scheme, domain):\n",
    "    title=str(denom) +'Diagnostic Variants (Variant Level - no MOI requirement)'\n",
    "    bigChart = alt.Chart(source, title=title).mark_line().encode(\n",
    "        x=alt.X('Rank', title='Exomiser Rank of Causal Variant'),\n",
    "        y=alt.Y('Percent_Variants', title='Percent of Causal Variants within Exomiser Rank', scale=alt.Scale(domain=[0,100])),\n",
    "        color=alt.Color('Run_Type:N',legend=None,sort=compare,scale=alt.Scale(domain=domain,scheme=color_scheme)),\n",
    "        tooltip=['Rank', 'Percent_Variants', 'Run_Type']\n",
    "    ).properties(\n",
    "        width=600,\n",
    "        height=500)\n",
    "    \n",
    "    zoom_source = source.loc[source['Rank'] <=30]\n",
    "\n",
    "    zoomChart = alt.Chart(zoom_source, title=title).mark_line(point=alt.OverlayMarkDef(size=50)).encode(\n",
    "        x=alt.X('Rank', title='Exomiser Rank of Causal Variant'),\n",
    "        y=alt.Y('Percent_Variants', title='Percent of Causal Variants within Exomiser Rank', scale=alt.Scale(domain=[0,100])),\n",
    "        color=alt.Color('Run_Type:N', sort=domain, scale=alt.Scale(domain=domain,scheme=color_scheme)),\n",
    "        tooltip=['Rank', 'Percent_Variants', 'Run_Type']\n",
    "    ).properties(\n",
    "        width=500,\n",
    "        height=400)\n",
    "    plot=alt.vconcat(bigChart, zoomChart)#.configure_legend(labelLimit=0).configure_axis(\n",
    "        # labelFontSize=15,\n",
    "        # titleFontSize=15).configure_legend(labelLimit=0,labelFontSize=15, titleFontSize=15)#.configure_axis(grid=False)\n",
    "    plot=alt.vconcat(zoomChart)\n",
    "    return plot\n"
   ]
  },
  {
   "cell_type": "markdown",
   "metadata": {},
   "source": [
    "## A. Algorithms for phenotypic similarity"
   ]
  },
  {
   "cell_type": "code",
   "execution_count": null,
   "metadata": {},
   "outputs": [],
   "source": [
    "domain= ['noN_filtered_15_85_all_models_revel_mvp_noWL','noN_filtered_15_85_mouse_revel_mvp_alphaM_noWL','noN_filtered_15_85_phenixPrioritiser_revel_mvp_noWL','noN_filtered_15_85_noPhenoPrior_revel_mvp_noWL','', 'noN_filtered_15_85_human_ppi_revel_mvp_noWL','b','c', 'noN_filtered_15_85_human_revel_mvp_noWL']#'noN_filtered_15_85_human_REMM_revel_mvp_PSF0.501_noWL_genomiser','noN_filtered_15_85_all_models_REMM_revel_mvp_PSF0.501_noWL_genomiser']\n",
    "run_types = ['noN_filtered_15_85_mouse_revel_mvp_alphaM_noWL','noN_filtered_15_85_all_models_revel_mvp_noWL', 'noN_filtered_15_85_phenixPrioritiser_revel_mvp_noWL','noN_filtered_15_85_noPhenoPrior_revel_mvp_noWL' ]\n",
    "##PHIVE, hiPHIVE, PhenIX, no prioritization\n",
    "run_types = ['noN_filtered_15_85_mouse_revel_mvp_alphaM_noWL','noN_filtered_15_85_all_models_revel_mvp_noWL', 'noN_filtered_15_85_phenixPrioritiser_revel_mvp_noWL','noN_filtered_15_85_noPhenoPrior_revel_mvp_noWL','noN_filtered_15_85_human_revel_mvp_noWL','noN_filtered_15_85_human_ppi_revel_mvp_noWL','noN_filtered_15_85_human_ppi_mouse_revel_mvp_noWL']\n",
    "\n",
    "a_df,denom = create_df(300, run_types, success_table)\n",
    "plot_1a = create_plot(denom, a_df, run_types, 'category20', domain)\n",
    "\n",
    "# plot_1a.configure_legend(labelLimit=0).configure_axis(\n",
    "#         labelFontSize=15,\n",
    "#         titleFontSize=15).configure_legend(labelLimit=0,labelFontSize=15, titleFontSize=15)"
   ]
  },
  {
   "cell_type": "code",
   "execution_count": null,
   "metadata": {},
   "outputs": [],
   "source": [
    "plot_1a.configure_axis(grid=True,\n",
    "    labelPadding= 5,\n",
    "    labelLimit=0,\n",
    "    labelFontSize=15, \n",
    "    titleFontSize=15, labelFont='arial', tickSize=8).configure_legend(\n",
    "        labelLimit=0,labelFontSize=15, titleFontSize=15, labelFont='arial')\n"
   ]
  }
 ],
 "metadata": {
  "kernelspec": {
   "display_name": "base",
   "language": "python",
   "name": "python3"
  },
  "language_info": {
   "codemirror_mode": {
    "name": "ipython",
    "version": 3
   },
   "file_extension": ".py",
   "mimetype": "text/x-python",
   "name": "python",
   "nbconvert_exporter": "python",
   "pygments_lexer": "ipython3",
   "version": "3.12.2"
  }
 },
 "nbformat": 4,
 "nbformat_minor": 2
}
