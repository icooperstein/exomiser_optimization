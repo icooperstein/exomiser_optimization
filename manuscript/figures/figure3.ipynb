{
 "cells": [
  {
   "cell_type": "code",
   "execution_count": null,
   "metadata": {},
   "outputs": [],
   "source": [
    "import altair as alt\n",
    "import pandas as pd"
   ]
  },
  {
   "cell_type": "code",
   "execution_count": null,
   "metadata": {},
   "outputs": [],
   "source": [
    "import sys\n",
    "sys.path.append('figure_scripts/')\n",
    "\n",
    "import plot_scripts as ps\n",
    "import pandas as pd\n",
    "\n",
    "import altair as alt"
   ]
  },
  {
   "cell_type": "markdown",
   "metadata": {},
   "source": [
    "## GS Exomiser"
   ]
  },
  {
   "cell_type": "code",
   "execution_count": null,
   "metadata": {},
   "outputs": [],
   "source": [
    "gs_exomiser_success_table = pd.read_csv('GS_exomiser_fig5_input_12.19.24.tsv', sep='\\t')\n",
    "domain = ['exomiser_default', 'filtered_exomiser_default','noN_filtered_15_85_human_revel_mvp_alphaM_spliceAI_noWL','noN_filtered_15_85_human_revel_mvp_noWL' ,'']\n",
    "\n",
    "RUN_TYPES = ['exomiser_default', 'filtered_exomiser_default','noN_filtered_15_85_human_revel_mvp_noWL', 'noN_filtered_15_85_human_revel_mvp_alphaM_spliceAI_noWL' ]\n",
    "\n",
    "d_df,denom = ps.create_df(300, RUN_TYPES, gs_exomiser_success_table)\n",
    "gs_exomiser = ps.create_plot(denom, d_df, RUN_TYPES, 'set1', False, domain).properties(height=300, width=400)\n",
    "\n",
    "# plot_3d.configure_legend(labelLimit=0).configure_axis(\n",
    "#         labelFontSize=15,\n",
    "#         titleFontSize=15).configure_legend(labelLimit=0,labelFontSize=15, titleFontSize=15)\n",
    "gs_exomiser"
   ]
  },
  {
   "cell_type": "markdown",
   "metadata": {},
   "source": [
    "## GS Genomiser"
   ]
  },
  {
   "cell_type": "code",
   "execution_count": null,
   "metadata": {},
   "outputs": [],
   "source": [
    "gs_genomiser_success_table = pd.read_csv('GS_genomiser_fig5_input_12.19.24.tsv', sep='\\t')\n",
    "domain= ['default_genomiser_genomiser', 'filtered_default_genomiser_genomiser','noN_filtered_15_18_human_REMM_revel_mvp_alphaM_spliceAI_PSF_501_reg_filter_noWL_genomiser','noN_filtered_15_85_human_REMM_revel_mvp_PSF0_501_noWL_genomiser'  ,'noN_filtered_15_85_all_models_REMM_revel_mvp_alphaM_spliceAI_PSF0_501_noWL_genomiser']\n",
    "\n",
    "RUN_TYPES= ['default_genomiser_genomiser', 'filtered_default_genomiser_genomiser','noN_filtered_15_85_human_REMM_revel_mvp_PSF0_501_noWL_genomiser','noN_filtered_15_18_human_REMM_revel_mvp_alphaM_spliceAI_PSF_501_reg_filter_noWL_genomiser' ]\n",
    "\n",
    "d_df,denom = ps.create_df(300, RUN_TYPES, gs_genomiser_success_table)\n",
    "gs_genomiser = ps.create_plot(denom, d_df, RUN_TYPES, 'set1', False, domain).properties(height=300, width=400)\n",
    "\n",
    "# plot_3d.configure_legend(labelLimit=0).configure_axis(\n",
    "#         labelFontSize=15,\n",
    "#         titleFontSize=15).configure_legend(labelLimit=0,labelFontSize=15, titleFontSize=15)\n",
    "gs_genomiser"
   ]
  },
  {
   "cell_type": "markdown",
   "metadata": {},
   "source": [
    "## ES Exomiser"
   ]
  },
  {
   "cell_type": "code",
   "execution_count": null,
   "metadata": {},
   "outputs": [],
   "source": [
    "# es_exomiser_success_table = pd.read_csv('ES_genomiser_fig5_input_12.19.24.tsv', sep='\\t')\n",
    "es_exomiser_success_table = pd.read_csv('ES_genomiser_fig3_input_1.13.25.tsv', sep='\\t')\n",
    "domain = ['exomiser_default','filtered_exomiser_default','noN_filtered_15_85_human_revel_mvp_alphaM_spliceAI_noWL', 'noN_filtered_15_85_human_revel_mvp_noWL',]\n",
    "\n",
    "RUN_TYPES = ['exomiser_default','filtered_exomiser_default', 'noN_filtered_15_85_human_revel_mvp_noWL','noN_filtered_15_85_human_revel_mvp_alphaM_spliceAI_noWL']\n",
    "\n",
    "d_df,denom = ps.create_df(300, RUN_TYPES, es_exomiser_success_table)\n",
    "es_exomiser = ps.create_plot(denom, d_df, RUN_TYPES, 'set1', False, domain).properties(height=300, width=400)\n",
    "\n",
    "es_exomiser"
   ]
  },
  {
   "cell_type": "code",
   "execution_count": null,
   "metadata": {},
   "outputs": [],
   "source": [
    "alt.hconcat(gs_exomiser, es_exomiser,gs_genomiser).resolve_scale(color='independent').configure_axis(grid=True,\n",
    "    labelPadding= 5,\n",
    "    labelLimit=0,\n",
    "    labelFontSize=13, \n",
    "    titleFontSize=15, labelFont='arial', tickSize=8).configure_legend(\n",
    "        labelLimit=0,labelFontSize=15, titleFontSize=15, labelFont='arial')"
   ]
  }
 ],
 "metadata": {
  "kernelspec": {
   "display_name": "base",
   "language": "python",
   "name": "python3"
  },
  "language_info": {
   "codemirror_mode": {
    "name": "ipython",
    "version": 3
   },
   "file_extension": ".py",
   "mimetype": "text/x-python",
   "name": "python",
   "nbconvert_exporter": "python",
   "pygments_lexer": "ipython3",
   "version": "3.12.2"
  }
 },
 "nbformat": 4,
 "nbformat_minor": 2
}
