{
 "cells": [
  {
   "cell_type": "code",
   "execution_count": 1,
   "metadata": {},
   "outputs": [],
   "source": [
    "import pandas as pd \n",
    "import altair as alt"
   ]
  },
  {
   "cell_type": "code",
   "execution_count": null,
   "metadata": {},
   "outputs": [],
   "source": [
    "success_table = pd.read_csv(\"GS_exomiser_fig5_input.tsv\", sep='\\t')\n",
    "mapping = pd.read_csv('../GS_ID_mapping.csv')\n"
   ]
  },
  {
   "cell_type": "code",
   "execution_count": null,
   "metadata": {},
   "outputs": [],
   "source": [
    "all_results =pd.read_csv('../new_new_supp_fig_14/GS_exomiser_all_results_optimized.tsv', sep='\\t')\n",
    "filtered_results = all_results[(all_results['P-VALUE'] <= 0.3) & (all_results['#RANK'] <= 30)]\n",
    "ids = [x.split('_')[0] for x in set(filtered_results['Patient_ID'])]\n",
    "print(len(ids))\n",
    "\n",
    "all_genes = []\n",
    "all_genes_ranks=[]\n",
    "for ID in set(filtered_results['Patient_ID']):\n",
    "    patient_results = filtered_results[filtered_results['Patient_ID']==ID]\n",
    "    unique_genes = list(set(patient_results['GENE_SYMBOL']))\n",
    "    all_genes += unique_genes\n",
    "    all_genes_ranks.append(pd.DataFrame(list(zip(list(patient_results['GENE_SYMBOL']), list(patient_results['#RANK'])))).drop_duplicates())\n",
    "all_genes_ranks_df= pd.concat(all_genes_ranks)\n",
    "all_genes_ranks_df.columns=['Gene', 'Rank']"
   ]
  },
  {
   "cell_type": "code",
   "execution_count": null,
   "metadata": {},
   "outputs": [],
   "source": [
    "udn_diagnoses = pd.read_csv('../../UDN_2024/5.3.24_update/753_UDNDx_Patients_8.26.24.csv')\n",
    "udn_diagnoses['Genes'] = udn_diagnoses['Genes'].str.split('; ')\n",
    "udn_diagnoses = udn_diagnoses.explode('Genes')\n",
    "all_udn_diagnostic_genes = list(udn_diagnoses['Genes'])"
   ]
  },
  {
   "cell_type": "code",
   "execution_count": null,
   "metadata": {},
   "outputs": [],
   "source": [
    "omim_genes = pd.read_csv('omim_3_genes.tsv')\n",
    "omim_gene_list = list(omim_genes['0'])"
   ]
  },
  {
   "cell_type": "code",
   "execution_count": null,
   "metadata": {},
   "outputs": [],
   "source": [
    "avg_ranks = []\n",
    "print(len(all_genes))\n",
    "print(len(set(all_genes)))\n",
    "from statistics import mean\n",
    "import numpy as np\n",
    "data = []\n",
    "diagnostic_genes = [x.split('_')[1] for x in list(success_table['ID'])]\n",
    "\n",
    "for gene in set(all_genes):\n",
    "    if gene in omim_gene_list:\n",
    "        gene_2 = '*'+str(gene) \n",
    "    else:\n",
    "        gene_2 = gene\n",
    "    if gene in diagnostic_genes:\n",
    "        avg_rank = mean(all_genes_ranks_df[all_genes_ranks_df['Gene']==gene]['Rank'])\n",
    "        data.append([gene_2, all_genes.count(gene), int(avg_rank), 'benchmarking_diagnostic'])\n",
    "    elif gene in all_udn_diagnostic_genes:\n",
    "        avg_rank = mean(all_genes_ranks_df[all_genes_ranks_df['Gene']==gene]['Rank'])\n",
    "        data.append([gene_2, all_genes.count(gene), int(avg_rank), 'udn_diagnostic'])\n",
    "    else:\n",
    "        avg_rank = mean(all_genes_ranks_df[all_genes_ranks_df['Gene']==gene]['Rank'])\n",
    "        data.append([gene_2, all_genes.count(gene), int(avg_rank), 'not diagnostic'])\n",
    "df = pd.DataFrame(data, columns=['Gene', 'Count', 'Avg_Rank','Diagnostic'])\n",
    "df['percent'] = np.array((df['Count']/len(set(ids))) * 100)\n",
    "print(len(set(ids)))\n",
    "df =df.sort_values(by='percent', ascending=False)"
   ]
  },
  {
   "cell_type": "code",
   "execution_count": null,
   "metadata": {},
   "outputs": [],
   "source": [
    "plot = df[df['percent']>5]\n",
    "#plot = plot[plot['percent'] > 5]\n",
    "print(len(plot))\n",
    "plot=plot.sort_values(by=['percent', 'Avg_Rank'], ascending=[False,True])\n",
    "order = list(plot['Gene'])\n",
    "# plot = df.head(36)\n",
    "base = alt.Chart(plot)\n",
    "dots = base.mark_point().mark_point(filled=True, stroke='black',opacity=1).encode(\n",
    "    x=alt.X('Gene:N', sort=order,axis=alt.Axis(labelAngle=-60)),\n",
    "    y=alt.Y('percent:Q', title='Percent of Individuals'),\n",
    "    tooltip =['Gene:N', 'Count:Q', 'Avg_Rank:Q', 'percent'],\n",
    "    shape=alt.Shape('Diagnostic:N',scale=alt.Scale(range=['square', 'circle', 'diamond']), title='Diagnostic in truth set',legend=alt.Legend(\n",
    "       orient='top',\n",
    "       direction='horizontal',\n",
    "       titleAnchor='middle')),\n",
    "    color=alt.Color('Avg_Rank:Q', bin=alt.Bin(nice=True, step=5,anchor=30),scale=alt.Scale(scheme='category10'),legend=alt.Legend(\n",
    "       orient='top',\n",
    "       direction='horizontal',\n",
    "       titleAnchor='middle')),\n",
    "        size = alt.value(80),\n",
    ")\n",
    "\n",
    "text = base.mark_text(\n",
    "    align='right',\n",
    "    baseline='line-bottom',\n",
    "    dx=5,\n",
    "    dy=-5,\n",
    "    color='black',\n",
    "    size=11\n",
    ").encode(\n",
    "    y=alt.Y('percent', title=None).axis(offset=5, domainOpacity=0),\n",
    "    x=alt.X('Gene:N', sort=order), \n",
    "    text='Avg_Rank:Q'\n",
    ")\n",
    "\n",
    "figure_5 = alt.layer(dots).resolve_scale(color='independent').properties(height=150, width=1100)\n",
    "   "
   ]
  },
  {
   "cell_type": "code",
   "execution_count": null,
   "metadata": {},
   "outputs": [],
   "source": [
    "figure_5.configure_legend(labelLimit=0, labelFontSize=15, labelFont='arial').configure_axis(\n",
    "    labelFontSize=13,\n",
    "    titleFontSize=15,\n",
    "    labelFont='arial').configure_scale(\n",
    "    bandPaddingInner=0.9\n",
    "\n",
    ")\n"
   ]
  }
 ],
 "metadata": {
  "kernelspec": {
   "display_name": "base",
   "language": "python",
   "name": "python3"
  },
  "language_info": {
   "codemirror_mode": {
    "name": "ipython",
    "version": 3
   },
   "file_extension": ".py",
   "mimetype": "text/x-python",
   "name": "python",
   "nbconvert_exporter": "python",
   "pygments_lexer": "ipython3",
   "version": "3.12.2"
  }
 },
 "nbformat": 4,
 "nbformat_minor": 2
}
